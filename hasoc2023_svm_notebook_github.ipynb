{
  "metadata": {
    "kernelspec": {
      "language": "python",
      "display_name": "Python 3",
      "name": "python3"
    },
    "language_info": {
      "name": "python",
      "version": "3.10.12",
      "mimetype": "text/x-python",
      "codemirror_mode": {
        "name": "ipython",
        "version": 3
      },
      "pygments_lexer": "ipython3",
      "nbconvert_exporter": "python",
      "file_extension": ".py"
    },
    "colab": {
      "provenance": []
    }
  },
  "nbformat_minor": 0,
  "nbformat": 4,
  "cells": [
    {
      "cell_type": "markdown",
      "source": [
        "**Team name: UINSUSKA-Mandiri**\n",
        "\n",
        "Task 1A and 1B : Hate Speech classification in Sinhala and Gujarati"
      ],
      "metadata": {
        "id": "AJCXmY0GvRvh"
      }
    },
    {
      "cell_type": "code",
      "source": [
        "# read data from folder\n",
        "\n",
        "import numpy as np\n",
        "import os\n",
        "import pandas as pd\n",
        "\n",
        "path_data = 'hasoc2023-uin/'      # adjust the path to your data sources\n",
        "train_setA = \"train_sinhala.csv\"  # file name was changed to our standard convention name:\n",
        "test_setA = \"test_sinhala.csv\"    # train_<language>.csv and test_<language>.csv\n",
        "train_setB = \"train_gujarati.csv\"\n",
        "test_setB = \"test_gujarati.csv\"\n",
        "\n",
        "df_train = pd.read_csv(path_data+train_setA, sep='\\t')   #check the separator of csv file,\n",
        "df_test = pd.read_csv(path_data+test_setA, sep=',')      #there are differences among all files\n",
        "df_train"
      ],
      "metadata": {
        "execution": {
          "iopub.status.busy": "2023-10-26T01:00:22.532890Z",
          "iopub.execute_input": "2023-10-26T01:00:22.533374Z",
          "iopub.status.idle": "2023-10-26T01:00:22.727326Z",
          "shell.execute_reply.started": "2023-10-26T01:00:22.533338Z",
          "shell.execute_reply": "2023-10-26T01:00:22.724613Z"
        },
        "trusted": true,
        "id": "keQaZVixuNM7",
        "outputId": "5b42665b-f010-4ecc-93fc-4ea295a14221"
      },
      "execution_count": null,
      "outputs": [
        {
          "execution_count": 4,
          "output_type": "execute_result",
          "data": {
            "text/plain": "                  post_id                                               text  \\\n0      726758237668659201                         @USER @USER  පට්ට පට පට...   \n1      915618589855617026  පරණ කෑල්ල අද වෙනකම් හිටියනම් අදට අවුරුදු 4යි. ...   \n2      925001070430040065  යාළුවා කියලා හිතන් සර් ගේ ඔලුවට රෙද්ද දාලා නෙල...   \n3     1397219745707986955  හොඳ මිතුරියක් කතා කලා. විස්තර කතාකරමින් ඉදලා ම...   \n4      950376113150222336              ඔය බනින්නෙ.. හරකා, මී හරකා කිය කිය...   \n...                   ...                                                ...   \n7495   930270216612872193                    අද උදේ දැක්කා පට්ට ලස්සන හීනයක්   \n7496  1159471424613969921  @USER කසල වෙන් කරලා දෙන්න පුරුදු වුනොත්  වැඩේ ...   \n7497  1073271775583100928  ඒත් පබාගේ පස්ස නම්... ඉස්සෝ කොටුවක් උනත් දාන්න...   \n7498  1131018244733657088  සුදුවෑන්වලට මාරම මාර බයක් තියෙන ඈයෝ  අන්තවාදයට...   \n7499  1386977011198046209  1 වෙනි පෝස්ටුවෙන් පසු... මොකක්ද යකෝ ඔය දාල තිය...   \n\n     label  \n0      NOT  \n1      HOF  \n2      NOT  \n3      HOF  \n4      HOF  \n...    ...  \n7495   NOT  \n7496   NOT  \n7497   HOF  \n7498   HOF  \n7499   HOF  \n\n[7500 rows x 3 columns]",
            "text/html": "<div>\n<style scoped>\n    .dataframe tbody tr th:only-of-type {\n        vertical-align: middle;\n    }\n\n    .dataframe tbody tr th {\n        vertical-align: top;\n    }\n\n    .dataframe thead th {\n        text-align: right;\n    }\n</style>\n<table border=\"1\" class=\"dataframe\">\n  <thead>\n    <tr style=\"text-align: right;\">\n      <th></th>\n      <th>post_id</th>\n      <th>text</th>\n      <th>label</th>\n    </tr>\n  </thead>\n  <tbody>\n    <tr>\n      <th>0</th>\n      <td>726758237668659201</td>\n      <td>@USER @USER  පට්ට පට පට...</td>\n      <td>NOT</td>\n    </tr>\n    <tr>\n      <th>1</th>\n      <td>915618589855617026</td>\n      <td>පරණ කෑල්ල අද වෙනකම් හිටියනම් අදට අවුරුදු 4යි. ...</td>\n      <td>HOF</td>\n    </tr>\n    <tr>\n      <th>2</th>\n      <td>925001070430040065</td>\n      <td>යාළුවා කියලා හිතන් සර් ගේ ඔලුවට රෙද්ද දාලා නෙල...</td>\n      <td>NOT</td>\n    </tr>\n    <tr>\n      <th>3</th>\n      <td>1397219745707986955</td>\n      <td>හොඳ මිතුරියක් කතා කලා. විස්තර කතාකරමින් ඉදලා ම...</td>\n      <td>HOF</td>\n    </tr>\n    <tr>\n      <th>4</th>\n      <td>950376113150222336</td>\n      <td>ඔය බනින්නෙ.. හරකා, මී හරකා කිය කිය...</td>\n      <td>HOF</td>\n    </tr>\n    <tr>\n      <th>...</th>\n      <td>...</td>\n      <td>...</td>\n      <td>...</td>\n    </tr>\n    <tr>\n      <th>7495</th>\n      <td>930270216612872193</td>\n      <td>අද උදේ දැක්කා පට්ට ලස්සන හීනයක්</td>\n      <td>NOT</td>\n    </tr>\n    <tr>\n      <th>7496</th>\n      <td>1159471424613969921</td>\n      <td>@USER කසල වෙන් කරලා දෙන්න පුරුදු වුනොත්  වැඩේ ...</td>\n      <td>NOT</td>\n    </tr>\n    <tr>\n      <th>7497</th>\n      <td>1073271775583100928</td>\n      <td>ඒත් පබාගේ පස්ස නම්... ඉස්සෝ කොටුවක් උනත් දාන්න...</td>\n      <td>HOF</td>\n    </tr>\n    <tr>\n      <th>7498</th>\n      <td>1131018244733657088</td>\n      <td>සුදුවෑන්වලට මාරම මාර බයක් තියෙන ඈයෝ  අන්තවාදයට...</td>\n      <td>HOF</td>\n    </tr>\n    <tr>\n      <th>7499</th>\n      <td>1386977011198046209</td>\n      <td>1 වෙනි පෝස්ටුවෙන් පසු... මොකක්ද යකෝ ඔය දාල තිය...</td>\n      <td>HOF</td>\n    </tr>\n  </tbody>\n</table>\n<p>7500 rows × 3 columns</p>\n</div>"
          },
          "metadata": {}
        }
      ]
    },
    {
      "cell_type": "code",
      "source": [
        "# rename column, display data-test\n",
        "\n",
        "df_test = df_test.set_axis(['tweet_id', 'tweet'], axis='columns', copy=False)\n",
        "df_test"
      ],
      "metadata": {
        "execution": {
          "iopub.status.busy": "2023-10-26T01:00:43.106767Z",
          "iopub.execute_input": "2023-10-26T01:00:43.107287Z",
          "iopub.status.idle": "2023-10-26T01:00:43.125035Z",
          "shell.execute_reply.started": "2023-10-26T01:00:43.107242Z",
          "shell.execute_reply": "2023-10-26T01:00:43.123842Z"
        },
        "trusted": true,
        "id": "6zRxIrwBuNM8",
        "outputId": "2612dc22-0d1b-494e-eb73-b131f3d666fd"
      },
      "execution_count": null,
      "outputs": [
        {
          "execution_count": 5,
          "output_type": "execute_result",
          "data": {
            "text/plain": "              tweet_id                                              tweet\n0        task1a_test_1  ඔව් ඔව්.. තොපි ආදරේට කලොත් කරන්නෙ ඔහොම වැඩක් ත...\n1        task1a_test_2               ඇයි උඹ අලි පු*න්ද? #SriLankanThreats\n2        task1a_test_3                     @USER  @USER පක ටෝක් දෙන්න එපා\n3        task1a_test_4  මම නවය වසරේදී,පංති නායකයා කාලේ පංතියේ කොස්ස නැ...\n4        task1a_test_5  මේ ආන්ඩුවටනම් හෙන 7ම ගහන්න ඔනේ මුන්ට පේන්නෙ නැ...\n...                ...                                                ...\n2495  task1a_test_2496  රටක ආර්ථිකය කෙලෙසපු මොළකරු පට්ට හොරෙක් ! #SriL...\n2496  task1a_test_2497               @USER හරකා මොකා උනත් අවසානෙ මසට යාලු\n2497  task1a_test_2498  @USER තොපි වගේ කාළකන්නි මාධ්‍ය ආයතන තහනම් කරන ...\n2498  task1a_test_2499  රියැදුරු බලපත්‍ර නිකුත් කිරීම ඇතුළු සියලු කටයු...\n2499  task1a_test_2500  නොදකින් අම්මගෙන් බැනුම් අහගෙන පාඩම් නොකර මැච් ...\n\n[2500 rows x 2 columns]",
            "text/html": "<div>\n<style scoped>\n    .dataframe tbody tr th:only-of-type {\n        vertical-align: middle;\n    }\n\n    .dataframe tbody tr th {\n        vertical-align: top;\n    }\n\n    .dataframe thead th {\n        text-align: right;\n    }\n</style>\n<table border=\"1\" class=\"dataframe\">\n  <thead>\n    <tr style=\"text-align: right;\">\n      <th></th>\n      <th>tweet_id</th>\n      <th>tweet</th>\n    </tr>\n  </thead>\n  <tbody>\n    <tr>\n      <th>0</th>\n      <td>task1a_test_1</td>\n      <td>ඔව් ඔව්.. තොපි ආදරේට කලොත් කරන්නෙ ඔහොම වැඩක් ත...</td>\n    </tr>\n    <tr>\n      <th>1</th>\n      <td>task1a_test_2</td>\n      <td>ඇයි උඹ අලි පු*න්ද? #SriLankanThreats</td>\n    </tr>\n    <tr>\n      <th>2</th>\n      <td>task1a_test_3</td>\n      <td>@USER  @USER පක ටෝක් දෙන්න එපා</td>\n    </tr>\n    <tr>\n      <th>3</th>\n      <td>task1a_test_4</td>\n      <td>මම නවය වසරේදී,පංති නායකයා කාලේ පංතියේ කොස්ස නැ...</td>\n    </tr>\n    <tr>\n      <th>4</th>\n      <td>task1a_test_5</td>\n      <td>මේ ආන්ඩුවටනම් හෙන 7ම ගහන්න ඔනේ මුන්ට පේන්නෙ නැ...</td>\n    </tr>\n    <tr>\n      <th>...</th>\n      <td>...</td>\n      <td>...</td>\n    </tr>\n    <tr>\n      <th>2495</th>\n      <td>task1a_test_2496</td>\n      <td>රටක ආර්ථිකය කෙලෙසපු මොළකරු පට්ට හොරෙක් ! #SriL...</td>\n    </tr>\n    <tr>\n      <th>2496</th>\n      <td>task1a_test_2497</td>\n      <td>@USER හරකා මොකා උනත් අවසානෙ මසට යාලු</td>\n    </tr>\n    <tr>\n      <th>2497</th>\n      <td>task1a_test_2498</td>\n      <td>@USER තොපි වගේ කාළකන්නි මාධ්‍ය ආයතන තහනම් කරන ...</td>\n    </tr>\n    <tr>\n      <th>2498</th>\n      <td>task1a_test_2499</td>\n      <td>රියැදුරු බලපත්‍ර නිකුත් කිරීම ඇතුළු සියලු කටයු...</td>\n    </tr>\n    <tr>\n      <th>2499</th>\n      <td>task1a_test_2500</td>\n      <td>නොදකින් අම්මගෙන් බැනුම් අහගෙන පාඩම් නොකර මැච් ...</td>\n    </tr>\n  </tbody>\n</table>\n<p>2500 rows × 2 columns</p>\n</div>"
          },
          "metadata": {}
        }
      ]
    },
    {
      "cell_type": "code",
      "source": [
        "# display data-train\n",
        "\n",
        "df_train['label'].value_counts(normalize=False)\n"
      ],
      "metadata": {
        "execution": {
          "iopub.status.busy": "2023-10-26T01:01:32.153524Z",
          "iopub.execute_input": "2023-10-26T01:01:32.154000Z",
          "iopub.status.idle": "2023-10-26T01:01:32.166492Z",
          "shell.execute_reply.started": "2023-10-26T01:01:32.153964Z",
          "shell.execute_reply": "2023-10-26T01:01:32.164123Z"
        },
        "trusted": true,
        "id": "J_ggDBdauNM9",
        "outputId": "9f2a8e49-bd87-447a-fd33-18b850e060bf"
      },
      "execution_count": null,
      "outputs": [
        {
          "execution_count": 8,
          "output_type": "execute_result",
          "data": {
            "text/plain": "NOT    4324\nHOF    3176\nName: label, dtype: int64"
          },
          "metadata": {}
        }
      ]
    },
    {
      "cell_type": "code",
      "source": [
        "from sklearn.model_selection import train_test_split\n",
        "\n",
        "df_train = df_train.set_axis(['tweet_id', 'tweet', 'label'], axis='columns', copy=False)   #standardize column name\n",
        "df_train"
      ],
      "metadata": {
        "execution": {
          "iopub.status.busy": "2023-10-26T01:01:36.991594Z",
          "iopub.execute_input": "2023-10-26T01:01:36.992097Z",
          "iopub.status.idle": "2023-10-26T01:01:37.015650Z",
          "shell.execute_reply.started": "2023-10-26T01:01:36.992057Z",
          "shell.execute_reply": "2023-10-26T01:01:37.013288Z"
        },
        "trusted": true,
        "id": "ksOUn-SjuNM9",
        "outputId": "09b67fd3-bef9-44f8-9905-5f3920a7f256"
      },
      "execution_count": null,
      "outputs": [
        {
          "execution_count": 9,
          "output_type": "execute_result",
          "data": {
            "text/plain": "                 tweet_id                                              tweet  \\\n0      726758237668659201                         @USER @USER  පට්ට පට පට...   \n1      915618589855617026  පරණ කෑල්ල අද වෙනකම් හිටියනම් අදට අවුරුදු 4යි. ...   \n2      925001070430040065  යාළුවා කියලා හිතන් සර් ගේ ඔලුවට රෙද්ද දාලා නෙල...   \n3     1397219745707986955  හොඳ මිතුරියක් කතා කලා. විස්තර කතාකරමින් ඉදලා ම...   \n4      950376113150222336              ඔය බනින්නෙ.. හරකා, මී හරකා කිය කිය...   \n...                   ...                                                ...   \n7495   930270216612872193                    අද උදේ දැක්කා පට්ට ලස්සන හීනයක්   \n7496  1159471424613969921  @USER කසල වෙන් කරලා දෙන්න පුරුදු වුනොත්  වැඩේ ...   \n7497  1073271775583100928  ඒත් පබාගේ පස්ස නම්... ඉස්සෝ කොටුවක් උනත් දාන්න...   \n7498  1131018244733657088  සුදුවෑන්වලට මාරම මාර බයක් තියෙන ඈයෝ  අන්තවාදයට...   \n7499  1386977011198046209  1 වෙනි පෝස්ටුවෙන් පසු... මොකක්ද යකෝ ඔය දාල තිය...   \n\n     label  \n0      NOT  \n1      HOF  \n2      NOT  \n3      HOF  \n4      HOF  \n...    ...  \n7495   NOT  \n7496   NOT  \n7497   HOF  \n7498   HOF  \n7499   HOF  \n\n[7500 rows x 3 columns]",
            "text/html": "<div>\n<style scoped>\n    .dataframe tbody tr th:only-of-type {\n        vertical-align: middle;\n    }\n\n    .dataframe tbody tr th {\n        vertical-align: top;\n    }\n\n    .dataframe thead th {\n        text-align: right;\n    }\n</style>\n<table border=\"1\" class=\"dataframe\">\n  <thead>\n    <tr style=\"text-align: right;\">\n      <th></th>\n      <th>tweet_id</th>\n      <th>tweet</th>\n      <th>label</th>\n    </tr>\n  </thead>\n  <tbody>\n    <tr>\n      <th>0</th>\n      <td>726758237668659201</td>\n      <td>@USER @USER  පට්ට පට පට...</td>\n      <td>NOT</td>\n    </tr>\n    <tr>\n      <th>1</th>\n      <td>915618589855617026</td>\n      <td>පරණ කෑල්ල අද වෙනකම් හිටියනම් අදට අවුරුදු 4යි. ...</td>\n      <td>HOF</td>\n    </tr>\n    <tr>\n      <th>2</th>\n      <td>925001070430040065</td>\n      <td>යාළුවා කියලා හිතන් සර් ගේ ඔලුවට රෙද්ද දාලා නෙල...</td>\n      <td>NOT</td>\n    </tr>\n    <tr>\n      <th>3</th>\n      <td>1397219745707986955</td>\n      <td>හොඳ මිතුරියක් කතා කලා. විස්තර කතාකරමින් ඉදලා ම...</td>\n      <td>HOF</td>\n    </tr>\n    <tr>\n      <th>4</th>\n      <td>950376113150222336</td>\n      <td>ඔය බනින්නෙ.. හරකා, මී හරකා කිය කිය...</td>\n      <td>HOF</td>\n    </tr>\n    <tr>\n      <th>...</th>\n      <td>...</td>\n      <td>...</td>\n      <td>...</td>\n    </tr>\n    <tr>\n      <th>7495</th>\n      <td>930270216612872193</td>\n      <td>අද උදේ දැක්කා පට්ට ලස්සන හීනයක්</td>\n      <td>NOT</td>\n    </tr>\n    <tr>\n      <th>7496</th>\n      <td>1159471424613969921</td>\n      <td>@USER කසල වෙන් කරලා දෙන්න පුරුදු වුනොත්  වැඩේ ...</td>\n      <td>NOT</td>\n    </tr>\n    <tr>\n      <th>7497</th>\n      <td>1073271775583100928</td>\n      <td>ඒත් පබාගේ පස්ස නම්... ඉස්සෝ කොටුවක් උනත් දාන්න...</td>\n      <td>HOF</td>\n    </tr>\n    <tr>\n      <th>7498</th>\n      <td>1131018244733657088</td>\n      <td>සුදුවෑන්වලට මාරම මාර බයක් තියෙන ඈයෝ  අන්තවාදයට...</td>\n      <td>HOF</td>\n    </tr>\n    <tr>\n      <th>7499</th>\n      <td>1386977011198046209</td>\n      <td>1 වෙනි පෝස්ටුවෙන් පසු... මොකක්ද යකෝ ඔය දාල තිය...</td>\n      <td>HOF</td>\n    </tr>\n  </tbody>\n</table>\n<p>7500 rows × 3 columns</p>\n</div>"
          },
          "metadata": {}
        }
      ]
    },
    {
      "cell_type": "code",
      "source": [
        "# creating data-dev for validation\n",
        "\n",
        "shuffled_train = df_train.sample(frac=1, random_state=23).reset_index()\n",
        "df_train1, df_dev1 = train_test_split(shuffled_train, test_size=0.1)\n",
        "df_train1"
      ],
      "metadata": {
        "execution": {
          "iopub.status.busy": "2023-10-26T01:03:19.323524Z",
          "iopub.execute_input": "2023-10-26T01:03:19.324618Z",
          "iopub.status.idle": "2023-10-26T01:03:19.341728Z",
          "shell.execute_reply.started": "2023-10-26T01:03:19.324580Z",
          "shell.execute_reply": "2023-10-26T01:03:19.340510Z"
        },
        "trusted": true,
        "id": "wZIgRqatuNM-",
        "outputId": "1190cce7-9a91-40a1-bd81-958ed9652906"
      },
      "execution_count": null,
      "outputs": [
        {
          "execution_count": 14,
          "output_type": "execute_result",
          "data": {
            "text/plain": "      index             tweet_id  \\\n6626   7327  1276189330923335681   \n1357   1790   778300947567026176   \n819    6050  1481279802829320198   \n6217    502   618419188156137472   \n1105   2974  1186283920842584064   \n...     ...                  ...   \n5958   1477   627511530980966400   \n3271   5403  1383455672403054594   \n6305   4779   693998649282576384   \n2344    275   798790313066102784   \n5919   4285   717334380784533504   \n\n                                                  tweet label  \n6626  අපි පොඩි කාලෙ අහපු \"ඇම්ඩගෙ කතා\" ඇත්තද එතකොට.? ...   NOT  \n1357  @USER  @USER ටහුඩු, හැපි බර්ත්ඩේ ටෝකා පුතේ. සො...   NOT  \n819                         @USER ඩ්‍රාමා එච්චර අමාරු ද   NOT  \n6217  හැමෝම තමුන්ගේ පාසලේ හිටපු පට්ට ඩෑල් ගැන වර්ණා ...   NOT  \n1105               @USER පහුගිය අවුරැදු හතර හමාරේ වගේ ,   NOT  \n...                                                 ...   ...  \n5958  මේ Max Dura මගුලක් නිසා හෙන වදේ බන්. ඇයි අර මු...   NOT  \n3271  අමුතුවෙන් හිතන්නත් දෙයක් මෙතන නැහැ... මේක තමයි...   HOF  \n6305  තම දියණියට ලිපියක් දුන් සිසුවා පැහැරගත් පියා ස...   NOT  \n2344  @USER හම්බන්තොටයි, මත්තලයි ගැන කතා කරන්න පුලුව...   NOT  \n5919  Wrestlemania එක කොච්චර චාටර් උනත් මේක ආයෙත් බල...   NOT  \n\n[6750 rows x 4 columns]",
            "text/html": "<div>\n<style scoped>\n    .dataframe tbody tr th:only-of-type {\n        vertical-align: middle;\n    }\n\n    .dataframe tbody tr th {\n        vertical-align: top;\n    }\n\n    .dataframe thead th {\n        text-align: right;\n    }\n</style>\n<table border=\"1\" class=\"dataframe\">\n  <thead>\n    <tr style=\"text-align: right;\">\n      <th></th>\n      <th>index</th>\n      <th>tweet_id</th>\n      <th>tweet</th>\n      <th>label</th>\n    </tr>\n  </thead>\n  <tbody>\n    <tr>\n      <th>6626</th>\n      <td>7327</td>\n      <td>1276189330923335681</td>\n      <td>අපි පොඩි කාලෙ අහපු \"ඇම්ඩගෙ කතා\" ඇත්තද එතකොට.? ...</td>\n      <td>NOT</td>\n    </tr>\n    <tr>\n      <th>1357</th>\n      <td>1790</td>\n      <td>778300947567026176</td>\n      <td>@USER  @USER ටහුඩු, හැපි බර්ත්ඩේ ටෝකා පුතේ. සො...</td>\n      <td>NOT</td>\n    </tr>\n    <tr>\n      <th>819</th>\n      <td>6050</td>\n      <td>1481279802829320198</td>\n      <td>@USER ඩ්‍රාමා එච්චර අමාරු ද</td>\n      <td>NOT</td>\n    </tr>\n    <tr>\n      <th>6217</th>\n      <td>502</td>\n      <td>618419188156137472</td>\n      <td>හැමෝම තමුන්ගේ පාසලේ හිටපු පට්ට ඩෑල් ගැන වර්ණා ...</td>\n      <td>NOT</td>\n    </tr>\n    <tr>\n      <th>1105</th>\n      <td>2974</td>\n      <td>1186283920842584064</td>\n      <td>@USER පහුගිය අවුරැදු හතර හමාරේ වගේ ,</td>\n      <td>NOT</td>\n    </tr>\n    <tr>\n      <th>...</th>\n      <td>...</td>\n      <td>...</td>\n      <td>...</td>\n      <td>...</td>\n    </tr>\n    <tr>\n      <th>5958</th>\n      <td>1477</td>\n      <td>627511530980966400</td>\n      <td>මේ Max Dura මගුලක් නිසා හෙන වදේ බන්. ඇයි අර මු...</td>\n      <td>NOT</td>\n    </tr>\n    <tr>\n      <th>3271</th>\n      <td>5403</td>\n      <td>1383455672403054594</td>\n      <td>අමුතුවෙන් හිතන්නත් දෙයක් මෙතන නැහැ... මේක තමයි...</td>\n      <td>HOF</td>\n    </tr>\n    <tr>\n      <th>6305</th>\n      <td>4779</td>\n      <td>693998649282576384</td>\n      <td>තම දියණියට ලිපියක් දුන් සිසුවා පැහැරගත් පියා ස...</td>\n      <td>NOT</td>\n    </tr>\n    <tr>\n      <th>2344</th>\n      <td>275</td>\n      <td>798790313066102784</td>\n      <td>@USER හම්බන්තොටයි, මත්තලයි ගැන කතා කරන්න පුලුව...</td>\n      <td>NOT</td>\n    </tr>\n    <tr>\n      <th>5919</th>\n      <td>4285</td>\n      <td>717334380784533504</td>\n      <td>Wrestlemania එක කොච්චර චාටර් උනත් මේක ආයෙත් බල...</td>\n      <td>NOT</td>\n    </tr>\n  </tbody>\n</table>\n<p>6750 rows × 4 columns</p>\n</div>"
          },
          "metadata": {}
        }
      ]
    },
    {
      "cell_type": "markdown",
      "source": [
        "**List of Stopword**"
      ],
      "metadata": {
        "id": "8lVzDgqFuNM-"
      }
    },
    {
      "cell_type": "code",
      "source": [
        "# Stopwords in Sinhala\n",
        "# Stopwords only used in balancing the data_train\n",
        "# For Gujarati we don't remove stopwords\n",
        "\n",
        "stp=['සහ',\n",
        "'සමග',\n",
        "'සමඟ',\n",
        "'අහා',\n",
        "'ආහ්',\n",
        "'ආ',\n",
        "'ඕහෝ',\n",
        "'අනේ',\n",
        "'අඳෝ',\n",
        "'අපොයි',\n",
        "'අපෝ',\n",
        "'අයියෝ',\n",
        "'ආයි',\n",
        "'ඌයි',\n",
        "'චී',\n",
        "'චිහ්',\n",
        "'චික්',\n",
        "'හෝ‍',\n",
        "'දෝ',\n",
        "'දෝහෝ',\n",
        "'මෙන්',\n",
        "'සේ',\n",
        "'වැනි',\n",
        "'බඳු',\n",
        "'වන්',\n",
        "'අයුරු',\n",
        "'අයුරින්',\n",
        "'ලෙස',\n",
        "'වැඩි',\n",
        "'ශ්‍රී',\n",
        "'හා',\n",
        "'ය',\n",
        "'නිසා',\n",
        "'නිසාවෙන්',\n",
        "'බවට',\n",
        "'බව',\n",
        "'බවෙන්',\n",
        "'නම්',\n",
        "'වැඩි',\n",
        "'සිට',\n",
        "'දී',\n",
        "'මහා',\n",
        "'මහ',\n",
        "'පමණ',\n",
        "'පමණින්',\n",
        "'පමන',\n",
        "'වන',\n",
        "'විට',\n",
        "'විටින්',\n",
        "'මේ',\n",
        "'මෙලෙස',\n",
        "'මෙයින්',\n",
        "'ඇති',\n",
        "'ලෙස',\n",
        "'සිදු',\n",
        "'වශයෙන්',\n",
        "'යන',\n",
        "'සඳහා',\n",
        "'මගින්',\n",
        "'හෝ‍',\n",
        "'ඉතා',\n",
        "'ඒ',\n",
        "'එම',\n",
        "'ද',\n",
        "'අතර',\n",
        "'විසින්',\n",
        "'සමග',\n",
        "'පිළිබඳව',\n",
        "'පිළිබඳ',\n",
        "'තුළ',\n",
        "'බව',\n",
        "'වැනි',\n",
        "'මහ',\n",
        "'මෙම',\n",
        "'මෙහි',\n",
        "'මේ',\n",
        "'වෙත',\n",
        "'වෙතින්',\n",
        "'වෙතට',\n",
        "'වෙනුවෙන්',\n",
        "'වෙනුවට',\n",
        "'වෙන',\n",
        "'ගැන',\n",
        "'නෑ',\n",
        "'අනුව',\n",
        "'නව',\n",
        "'පිළිබඳ',\n",
        "'විශේෂ',\n",
        "'දැනට',\n",
        "'එහෙන්',\n",
        "'මෙහෙන්',\n",
        "'එහේ',\n",
        "'මෙහේ',\n",
        "'ම',\n",
        "'තවත්',\n",
        "'තව ',\n",
        "'සහ',\n",
        "'දක්වා',\n",
        "'ට',\n",
        "'ගේ',\n",
        "'එ',\n",
        "'ක',\n",
        "'ක්',\n",
        "'බවත්',\n",
        "'බවද',\n",
        "'මත',\n",
        "'ඇතුලු',\n",
        "'ඇතුළු',\n",
        "'මෙසේ',\n",
        "'වඩා',\n",
        "'වඩාත්ම',\n",
        "'නිති',\n",
        "'නිතිත්',\n",
        "'නිතොර',\n",
        "'නිතර',\n",
        "'ඉක්බිති',\n",
        "'දැන්',\n",
        "'යලි',\n",
        "'පුන',\n",
        "'ඉතින්',\n",
        "'සිට',\n",
        "'සිටන්',\n",
        "'පටන්',\n",
        "'තෙක්',\n",
        "'දක්වා',\n",
        "'සා',\n",
        "'තාක්',\n",
        "'තුවක්',\n",
        "'පවා',\n",
        "'ද',\n",
        "'හෝ‍',\n",
        "'වත්',\n",
        "'විනා',\n",
        "'හැර',\n",
        "'මිස',\n",
        "'මුත්',\n",
        "'කිම',\n",
        "'කිම්',\n",
        "'ඇයි',\n",
        "'මන්ද',\n",
        "'හෙවත්',\n",
        "'නොහොත්',\n",
        "'පතා',\n",
        "'පාසා',\n",
        "'ගානෙ',\n",
        "'තව',\n",
        "'ඉතා',\n",
        "'බොහෝ',\n",
        "'වහා',\n",
        "'සෙද',\n",
        "'සැනින්',\n",
        "'හනික',\n",
        "'එම්බා',\n",
        "'එම්බල',\n",
        "'බොල',\n",
        "'නම්',\n",
        "'වනාහි',\n",
        "'කලී',\n",
        "'ඉඳුරා',\n",
        "'අන්න',\n",
        "'ඔන්න',\n",
        "'මෙන්න',\n",
        "'උදෙසා',\n",
        "'පිණිස',\n",
        "'සඳහා',\n",
        "'අරබයා',\n",
        "'නිසා',\n",
        "'එනිසා',\n",
        "'එබැවින්',\n",
        "'බැවින්',\n",
        "'හෙයින්',\n",
        "'සේක්',\n",
        "'සේක',\n",
        "'ගැන',\n",
        "'අනුව',\n",
        "'පරිදි',\n",
        "'විට',\n",
        "'තෙක්',\n",
        "'මෙතෙක්',\n",
        "'මේතාක්',\n",
        "'තුරු',\n",
        "'තුරා',\n",
        "'තුරාවට',\n",
        "'තුලින්',\n",
        "'නමුත්',\n",
        "'එනමුත්',\n",
        "'වස්',\n",
        "'මෙන්',\n",
        "'ලෙස',\n",
        "'පරිදි',\n",
        "'එහෙත්',\n",
        "]"
      ],
      "metadata": {
        "execution": {
          "iopub.status.busy": "2023-10-26T01:04:58.269444Z",
          "iopub.execute_input": "2023-10-26T01:04:58.270944Z",
          "iopub.status.idle": "2023-10-26T01:04:58.284599Z",
          "shell.execute_reply.started": "2023-10-26T01:04:58.270894Z",
          "shell.execute_reply": "2023-10-26T01:04:58.282981Z"
        },
        "trusted": true,
        "id": "DR08vdULuNNB"
      },
      "execution_count": null,
      "outputs": []
    },
    {
      "cell_type": "code",
      "source": [
        "#BALANCING DATASET\n",
        "\n",
        "#Step 1 data train\n",
        "dnot = df_train1[df_train1.label == 'NOT']\n",
        "dhof = df_train1[df_train1.label == 'HOF']\n",
        "dhof\n"
      ],
      "metadata": {
        "execution": {
          "iopub.status.busy": "2023-10-26T01:05:16.028882Z",
          "iopub.execute_input": "2023-10-26T01:05:16.029428Z",
          "iopub.status.idle": "2023-10-26T01:05:16.053493Z",
          "shell.execute_reply.started": "2023-10-26T01:05:16.029381Z",
          "shell.execute_reply": "2023-10-26T01:05:16.052395Z"
        },
        "trusted": true,
        "id": "qIrJCwahuNND",
        "outputId": "616170dc-9cfe-4e59-9c38-482b2e6b613e"
      },
      "execution_count": null,
      "outputs": [
        {
          "execution_count": 16,
          "output_type": "execute_result",
          "data": {
            "text/plain": "      index             tweet_id  \\\n5197   1132  1285483222550237184   \n1508   2519   743994404269096960   \n3750   4936  1442016935642902528   \n2805   4859  1197761471851245573   \n4174   2816  1249750123548213248   \n...     ...                  ...   \n5969   7240  1101352281155559427   \n3164   2624  1068011964788559872   \n5657   3910   981194683228471297   \n2013   2029  1250450251317522432   \n3271   5403  1383455672403054594   \n\n                                                  tweet label  \n5197  @USER  තමුසෙ NSBM ගිහින් ඩිග්‍රියක් කරනවා කියල...   HOF  \n1508  අඩෝ පපුව පිච්චුනා වගේ. අැස් දෙකට කදුලු ඉනුවා ඔ...   HOF  \n3750      @USER  @USER    තෝ  පලකෝ  සයිබීරියන් කෑහුට්ටී   HOF  \n2805  ඉස්සෙල්ලාම දුන්න පෙම්හසුනට ලැබුන ප්‍රතිචාරය තම...   HOF  \n4174  ටීවි එකේ නිව්ස් වල යනවා දැක්කා. Police officer...   HOF  \n...                                                 ...   ...  \n5969  බලහල්ල රජයේ කැම්පස්  වලට බැනපු උන් මොනවගෙද ඉන්...   HOF  \n3164  @USER  @USER කොහෙන් ගියත් මූ යන්නෙ ගල විදපු තැ...   HOF  \n5657  @USER පිස්සා කිව්වට පිස්සු පාටක් නම් පේන්නෙම නැ..   HOF  \n2013  මොනවද තිරිසනෝ මේ දෙරණේ පෙන්වන ටෙලි නාට්‍ය?  පා...   HOF  \n3271  අමුතුවෙන් හිතන්නත් දෙයක් මෙතන නැහැ... මේක තමයි...   HOF  \n\n[2857 rows x 4 columns]",
            "text/html": "<div>\n<style scoped>\n    .dataframe tbody tr th:only-of-type {\n        vertical-align: middle;\n    }\n\n    .dataframe tbody tr th {\n        vertical-align: top;\n    }\n\n    .dataframe thead th {\n        text-align: right;\n    }\n</style>\n<table border=\"1\" class=\"dataframe\">\n  <thead>\n    <tr style=\"text-align: right;\">\n      <th></th>\n      <th>index</th>\n      <th>tweet_id</th>\n      <th>tweet</th>\n      <th>label</th>\n    </tr>\n  </thead>\n  <tbody>\n    <tr>\n      <th>5197</th>\n      <td>1132</td>\n      <td>1285483222550237184</td>\n      <td>@USER  තමුසෙ NSBM ගිහින් ඩිග්‍රියක් කරනවා කියල...</td>\n      <td>HOF</td>\n    </tr>\n    <tr>\n      <th>1508</th>\n      <td>2519</td>\n      <td>743994404269096960</td>\n      <td>අඩෝ පපුව පිච්චුනා වගේ. අැස් දෙකට කදුලු ඉනුවා ඔ...</td>\n      <td>HOF</td>\n    </tr>\n    <tr>\n      <th>3750</th>\n      <td>4936</td>\n      <td>1442016935642902528</td>\n      <td>@USER  @USER    තෝ  පලකෝ  සයිබීරියන් කෑහුට්ටී</td>\n      <td>HOF</td>\n    </tr>\n    <tr>\n      <th>2805</th>\n      <td>4859</td>\n      <td>1197761471851245573</td>\n      <td>ඉස්සෙල්ලාම දුන්න පෙම්හසුනට ලැබුන ප්‍රතිචාරය තම...</td>\n      <td>HOF</td>\n    </tr>\n    <tr>\n      <th>4174</th>\n      <td>2816</td>\n      <td>1249750123548213248</td>\n      <td>ටීවි එකේ නිව්ස් වල යනවා දැක්කා. Police officer...</td>\n      <td>HOF</td>\n    </tr>\n    <tr>\n      <th>...</th>\n      <td>...</td>\n      <td>...</td>\n      <td>...</td>\n      <td>...</td>\n    </tr>\n    <tr>\n      <th>5969</th>\n      <td>7240</td>\n      <td>1101352281155559427</td>\n      <td>බලහල්ල රජයේ කැම්පස්  වලට බැනපු උන් මොනවගෙද ඉන්...</td>\n      <td>HOF</td>\n    </tr>\n    <tr>\n      <th>3164</th>\n      <td>2624</td>\n      <td>1068011964788559872</td>\n      <td>@USER  @USER කොහෙන් ගියත් මූ යන්නෙ ගල විදපු තැ...</td>\n      <td>HOF</td>\n    </tr>\n    <tr>\n      <th>5657</th>\n      <td>3910</td>\n      <td>981194683228471297</td>\n      <td>@USER පිස්සා කිව්වට පිස්සු පාටක් නම් පේන්නෙම නැ..</td>\n      <td>HOF</td>\n    </tr>\n    <tr>\n      <th>2013</th>\n      <td>2029</td>\n      <td>1250450251317522432</td>\n      <td>මොනවද තිරිසනෝ මේ දෙරණේ පෙන්වන ටෙලි නාට්‍ය?  පා...</td>\n      <td>HOF</td>\n    </tr>\n    <tr>\n      <th>3271</th>\n      <td>5403</td>\n      <td>1383455672403054594</td>\n      <td>අමුතුවෙන් හිතන්නත් දෙයක් මෙතන නැහැ... මේක තමයි...</td>\n      <td>HOF</td>\n    </tr>\n  </tbody>\n</table>\n<p>2857 rows × 4 columns</p>\n</div>"
          },
          "metadata": {}
        }
      ]
    },
    {
      "cell_type": "code",
      "source": [
        "# step 2: oversampling the HOF class\n",
        "\n",
        "# select tweets which have more than 18 words, not include stop words\n",
        "new_HOF= []\n",
        "\n",
        "i = 0\n",
        "for txt in dhof['tweet'] :\n",
        "    a= txt.split(' ')\n",
        "    if len(a) > 18:\n",
        "        baru = [x for x in a if x not in stp]\n",
        "        new_HOF.append([i+7500,' '.join(baru),'HOF'])\n",
        "        i += 1\n",
        "new_HOF\n"
      ],
      "metadata": {
        "execution": {
          "iopub.status.busy": "2023-10-26T01:05:21.227390Z",
          "iopub.execute_input": "2023-10-26T01:05:21.227805Z",
          "iopub.status.idle": "2023-10-26T01:05:21.491641Z",
          "shell.execute_reply.started": "2023-10-26T01:05:21.227773Z",
          "shell.execute_reply": "2023-10-26T01:05:21.490791Z"
        },
        "collapsed": true,
        "jupyter": {
          "outputs_hidden": true
        },
        "trusted": true,
        "id": "SeqdgpdnuNND",
        "outputId": "9826ef2e-4a9e-44ae-9aba-02cf255df13c"
      },
      "execution_count": null,
      "outputs": [
        {
          "execution_count": 17,
          "output_type": "execute_result",
          "data": {
            "text/plain": "[[7500,\n  '@USER  තමුසෙ NSBM ගිහින් ඩිග්\\u200dරියක් කරනවා කියලා බොරුවක් නේ කරේ? කොහෙ හරි කෙලවරකට ගිහින් පාරක් ගහන් හිටියා නේ. මූ  @USER කියන කිසි දෙයක් උඹ දන්නෙ නේ.',\n  'HOF'],\n [7501,\n  'අඩෝ පපුව පිච්චුනා වගේ. අැස් දෙකට කදුලු ඉනුවා ඔ්යි. ඉදකින් කැ* වේසි ලග හිටියනම් බස්සනවා හු*තට කඩුවක්.පව් බන්... URL',\n  'HOF'],\n [7502,\n  'ඉදගන්න යනකොට ඒකි මොනාදෝ කියනවලු.කඩ්ඩ බැරිඋනත් දනිපනි ගාල කිව්ව බෑග්එක ගනිං කියල.ඒකි ඔරවල බෑග්එක ගත්ත.කොනේ හිටපු අයියකාරයව මැදට තල්ලුකරල කිටිකිටියේ වාඩි උනා.දැම් අපි ප්\\u200dරාර්ථනා කරකර යන්නෙ හොද තුවාලකාරයෙක් නැගහං කියල අපි එකෙක් නැගිටල ඌව මැදින් වාඩිකරවගන්න.  #ආත්මාර්ථකාමී_හැත්ත',\n  'HOF'],\n [7503,\n  'ලබ්බ බහින සංගමය කියලා වගේ එකක් හැදුවා හරි. Amila Chathuranga @USER  · 17 Nov 2020 මටත් මොනාහරි බලපුලුවංකාර කමක් තිබ්බ යටට අදින් නැති අයගේ ජාතික එකමුතුව කියලා සංවිධානයක් පිහිටුවා ගන්නවා. යට අදින් නැති අපිට තියෙන ප්\\u200dරශ්ණ හරහා ජාතික තලයට ගෙනියනවා.',\n  'HOF'],\n [7504,\n  '@USER  @USER බෝතල් ගොඩක් කුඩුකරලා දැනුත් පේමන්ට් වල කොටුවේ..කබ්බ දාල හුජ්ජ කරලා ගන්න දෙයක් පේමන්\\u200dට් එක..',\n  'HOF'],\n [7505,\n  'Facebook කියන්නෙ තනිකරම බොරැවක් මේකෙ ඇත්ත යුක්තිය කතාකරන්න බැහැ  block කරලා  දානවා. මාර්ක්.කාරයගෙ අම්මට හුකන්න ආයෙ හදන්නෙ නැහැ facebook.මේකෙ ඇත්ත යුක්තිය කතාකරන්න බැහැ මොන හුත්තක්ද අපි කන්නෙ බොන්නෙ කිම්බ නිසාද.block කරන එවුන්ගෙ.අම්මලට හුකලා තියෙන්නෙ නරි.',\n  'HOF'],\n [7506,\n  '@USER යකෝ 2009 වල i had to put up to a struggle to stop him.මගේ සීයා හිටියා 90ක්..ඒ මනුස්සයා පිස්සා එක්ක වැඩ කරන්නේ ..',\n  'HOF'],\n [7507,\n  '@USER  @USER    ඔවු බන් මමත් බැලුව ගෝතය මොකාද කියල බැලින්නම් යුනේස් සොලි ඩාලින් යුනේ',\n  'HOF'],\n [7508,\n  '@USER ,  @USER  @USER තෝ වගේ හරක් පකයෙක් චන්දේ දෙන්නේ කඩේ යන්නේ අංගවිකල පොන්නයෝ .මාතර හදන Unp කියලා පක්ෂ කාර්යාලයේ ලොකුවට ගහලා තියන්නේ නුපේ.මාතරට කෙලවන්නේ තෝ තමයි .අංගවිකල පොන්නයා.තෝට මාතරින් පාර චන්දේ දෙන්නේ කොටුව ඇතුලේ උබේ ගෙදරට රැට රිංගන උන් තමයි',\n  'HOF'],\n [7509,\n  '“ඈත ගම් වලින් ආව අය අපි ගෙදර යනවට කැමති නෑ.. හදිස්සියක් උනත් සමහරු නෝට් එකක් දෙන්නෙ නෑ. කොමන් එක කියල, හැමෝම එක පන්තියේ කියල මෝඩ ආතල් ගත්තට හෙන කුහකයො ඉන්නෙ මේකේ..” කාගෙවත් නෙවෙයි, මගේම ලේ නෑයෙක් කියපු කතාවක් මේ.  තොපෙ රෙද්දස්සෙ අරගලේ',\n  'HOF'],\n [7510,\n  'කොහෙද වේ** පුතාලා හින්දා ගමේ එවුන් දෙන්නෙක් වලියක්. එකෙක් අරූගේ නායකයා හොරා කියනවා අනිත් එකා අනිත් එකාගේ නායකයා හොරා කියනවා.ගොන් හැත්ත උබලට මොකක් හරි උනාම එයි උබලගේ නායකයෝ.ලබ්බ',\n  'HOF'],\n [7511,\n  'ටෞඩු. අර බස් එකේ යනකොට ගෑණුංගෙ හැට්ටෙ අස්සට අත දාන්නෙ ගෑණිගෙ වලත්ත කමට කිව්ව එකා අද රෙද්ද අස්සට සරුපයෙක් දාගෙන නේද. හරි ආතල් යකෝ ඌ නම්.',\n  'HOF'],\n [7512,\n  \"ඊබේ එකේ අන්පේඩ් අයිටම් වැඩී කියලා මාව බොක් කල්ලා.  :'( කවුද පකෝ ඩොලර් එක ඉහල දාපු එකා.. >:( ඒකෙන් කෙලවෙන්නෙ අපි... URL\",\n  'HOF'],\n [7513,\n  '@USER ලස්සන දකින විදිහෙයි බං වැරැද්ද  සමහර බැදපු මිනිස්සුන්ගේ ගෑණු ඉන්නවා කොණ්ඩයක් පීරන්නෙ නැහැ ..නාන්නෙ නැහැ ලස්සනට අදින්නෙ නැහැ .තන් දෙක වනා නයිටිය පිටින් ඉන්නවා ..ගිලලා හෙණ සයිස් ගෑණු..ඔහොම ගෑණුන්ගේ මිනිස්සුන්ට ගෑණියෙක් හෝ කෙල්ලෙක් ලස්සනට ඉන්නවා කතා හදනවා වේසකමේ යනවා කියලා',\n  'HOF'],\n [7514,\n  '25+. . . . . .  . . . . . . . . . . . . . . . . . . . . . . . . . . . . . . . . . හුකපං හුත්තී URL',\n  'HOF'],\n [7515,\n  'උනුත් එකයි තොපි රෙදි නැතුව කඩේ මුනුත් එකයි. උන් රුපියල් මිළියන 661. හම්බන්තොට වරායේ ගල අයින්කරන්න $ මිළියන 40 වියදම්කරා මහින්ද. #සෆේල් චීන ගූනැවට $ මිළියන 7 ගෙවනවා. ඔක්කොම රු. මිලියන 9,400. බැලුවම උන් හොඳයිනේ මුන්ට වඩා. මොන හිඟන ජීවිතද #ගොන්බයියෝ  @USER  @USER Charith @USER  · 25 Nov 2021 යහපාලනය මුල් සැලසුමේ වහලයේ නෙළුම් මල හැඩය ශාක පත්\\u200dරයක හැඩයට වෙනස් කරන්න රුපියල් මිලියන 661ක් වියදම් කළා - @USER   මොන හිඟන ජීවිතද @USER @USER  twitter.com/KamilaWDias/st… Show this thread',\n  'HOF'],\n [7516,\n  '\"ස්වාධීන\" මැතිවරණ කොමිසමේ සාමාජිකයක රත්නජීවන් හූල් මැතිවරණය එරෙහිව උසාවි යාමෙන්ම  කොමිසමේ \"ස්වාධීන\" රෙද්ද ගැලවේ! #lka #Hope4SL',\n  'HOF'],\n [7517,\n  'කවුරු පළාත් වලට පුක දීගෙන නැටුවත්, ලංකා ප්\\u200dරීමිය ලීග් එකෙදී මුලින්ම කප් එක ගත්තේ තිළිණ කණ්ඩම්බිගේ නායකත්වයෙන් ක්\\u200dරීඩා කරපු \"ඌව යුනයිටට්\" කණ්ඩායම...',\n  'HOF'],\n [7518,\n  'අර මෝඩ ජෙරියා මට එව්ව සින්දු දෙක විතරයි ප්ලේලිස්ට් එකෙ...ඒකම අහලා අහලා ගෙදර උනුත් බයින සීන් එකේ...ඇයි සින්දුම විතරක් ලස්ස්න අනික්වට ව්ඩා..',\n  'HOF'],\n [7519,\n  'හැමදාම ගංවතුරයි, අරකයි, මේකයි වගේ ලෝකේ නැති ප්\\u200dරශ්න..  Cricket කියලා කොණ පණ නැති වේසිගේ පුතාලට මොකට බාල්දු වෙනවද මන්දා අපේ රටවල හැත්ත..  ඔන්නොහේ ඉන්න කියහල්ලා බං. හිඟන්නෝ ආවා කියලා රටට සෙතකුත් නෑනේ Island Cricket @USER  · 29 Jun 2019 Bangladesh are reportedly waiting for security clearance before they decide on their tour of #SriLanka after the conclusion of the World Cup.  URL',\n  'HOF'],\n [7520,\n  'ඊයෙර හුජ්ජ කරන්න නැගිටලා බිජ්ජ එලියට දාල උඩබැලින්නම් ගස් කැරකෙනවා හුලගට සැරට. බෝඩිම තියෙන්නෙ තඩි බෝ ගහක් යට.. මගෙ කාමරේට කලිං අත්තක් වැටිලා.. ආයෙ එකක් වැටෙන එකක් නෑ.. වරක් අත්තක් වැටුන කාමරේට නැවත අත්තක් වැටීමෙ සම්භාවිතාව අඩුයිනෙ.',\n  'HOF'],\n [7521,\n  'හොරු, ජනතා මුදල් කාබාසිනියා කරන අය අල්ලලා එලියට දාන්න. විමලවීර, ලන්සා අරුන්දික (තවත්) වගේ උදච්ච මෝඩ ඇමතියෝ එලවල දාන්න. කැලෑ කැපීම නවත්වන්න. පළාත්සභා තවත්වන්න.  රජය මොන වරද කලත් පක්ෂ වහල්ලු නැති වෙන්නෙ නැහැ. ඒත් පාවෙන චන්ද සියල්ල නැති කරගෙන ඉවරයි. ජනාධිපති 100% වගකිව යුතුයි. Emanisa.lk - එමනිසා @USER  · 29 Mar 2021 ආණ්ඩුව අප්\\u200dරසාදයට ලක් වෙලා...! ආණ්ඩුවේ අය වියත්මග බනිනවා....! සමගියෙන් වැඩ නොකළොත් ඊළඟ ඡන්දේ ලේසි නෑ.....! - ගොඩහේවා... URL',\n  'HOF'],\n [7522,\n  'හු#තෝ ගෑවා  ⍣༗Baby Koala ♡✿࿐⍤⍤ \\uea00 @USER  · 23 Jun 2020 මගෙ පොඩි තාරා Show this thread',\n  'HOF'],\n [7523,\n  '@USER අහිංසක දරුවෙක්ගෙ දුක මාකට් කරන් ප්\\u200dරමෝට් ලංකාවේ Tv චැනල් ! හරිම දුකයි ..   ප්\\u200dරසිද්ධියේ පෙන්වන්න ඕන පාතාලකාරයෝ , හොරු, මංකොල්ලකාරයො, මත්ද්\\u200dරව්\\u200dය ජාවාරම්කාරයන්ගෙ මූණු වහනවා.  මාධ්\\u200dය හරහා සමාජයට දිය යුත්ත නොදිය යුත්ත හඳුනන්නේ නෑ.  මාධ්\\u200dය බල්ලට ගියාම ඔහොම තමයි !  @USER',\n  'HOF'],\n [7524,\n  '@USER \" වේසි \" ඔයා වේසි කියල හඟවන්නේ කා හටද? ඒසේ කීම සදාචාරාත්මක නැති වැටහෙන්නෙ නැතිද.මේ ඔයාටත්.නංගියෙක් අක්කේ්ක් නැද්ද?ඇයි වගේ ඒවා දාන්නෙ ? අනික කාන්තාවකට මුලින්ම ගරුකරන්න ඉගෙනගන්න.   නේද..අහල අහල එපාවෙලා තියෙන්නෙ',\n  'HOF'],\n [7525,\n  '@USER  @USER පින් බත් කාරයෝ යැපෙන්නේ ඔකුන්ගේ සල්ලි වලින්නේ කොහොමත්, එකනේ ඔකුන් 225ටම ආගමක් නෑ, ජාතියක් නෑ, රටක් නෑ, සල්ලි ඔනිම පර බල්ලෙක් කියන ඔනීම දෙකට බුරනවා...තූ... සක්කිලි.. ඔකුන් එනකොට හැප්පිලාවත් මැරෙන්නේ නෑනේ රටට පව් දෙන්නේ නැතුව...',\n  'HOF'],\n [7526,\n  '@USER ,  @USER  @USER පල පල හිකනලා යන්ඩ..හොස්පිටල් ඉදල ආපු මූ යකෝ වීරයා වෙලානෙ දැං.. පොලේ ඔලුවෙ වැදිල පොල් ගෙඩිය පැලුනනම් කීවය්හ් කමන්නෑ..',\n  'HOF'],\n [7527,\n  '@USER  @USER මුන් සාප. මිකී ආතර් ග්ලවුස් අතේ තියාගෙන දුවන උන්ට ආස නැති උනාට සිගරැට් එකක් ගහගෙන සැපේ දුවන උන්ට ලවු එතකොට',\n  'HOF'],\n [7528,\n  '@USER ඕක කියපන් ගිහින් හම්බයන්ට, සින්හල උන් කවද්ද යකෝ හම්බයින්ට කිව්වෙ අපිට ඕනි විදිහට ඉන්න කියල. උම්බලගෙ පොන්න ආන්ඩුවනේ මෙකෙ අරාබි නීති දාල ඉස්කෝල දාල රගන්න් දුන්නේ. මේක බෞද්ධ රටක්, සින්හලය බහුතරය. මුස්ලිම් හින්දු කතෝලික හෙමෝටම නිදහසේ ඉන්න පුලුවන් වෙන්නේ උම්බල වගේ පොන්නයෝ මරුන දවසට.',\n  'HOF'],\n [7529,\n  '@USER මීට අවුරුද්දකට කලින් ලොක්ඩවුන් හෑල්ලු කරන උන් #ලිංගෙම්බෝ #lka (ප.ලි. පෝස්ට් වල අයිතිකරුවන් පුද්ගලික ප්\\u200dරශ්න නැත. අවශ්\\u200dයනම් ඔබගේ ට්විට් එකද සොයා දීමට හැකිය.)',\n  'HOF'],\n [7530,\n  'බල්ලෝ බලල්ලු හදන හැත්ත දැනගන්න ඕනේ උන් හදන සත්තු උන්ගේ වතුවල විතරක් මළපහ කරන විදිහට  හදාගන්න. පාරේ, අනික් මිනිස්සුන්ගේ වතුවල මළපහ කරන්න ඉඩ දීලා ඔහේ බලං ඉන්න උන් බඩ ගිහිල්ලා මැරෙන්න ඕනේ   #සාප',\n  'HOF'],\n [7531,\n  'කාලකණ්ණි ගේම් එක අන්තිමේට අතින් කයිට් ඇත්ත පූල් බෝඩ් එක්කින් අපිව නතර කරේ VK @USER  · 13 Sep 2020  Ball Pool ප්ලේ කරන්න කවුරුත් නැද්ද',\n  'HOF'],\n [7532,\n  '@USER පව් ඕවා කියන්න අර ජනාධිපති කියලා ඉන්න පඹයටයි අගමැති කියලා ඉන්න පඹයටයි උන් දෙන්නා ඕවා විශ්වාස කරනවා',\n  'HOF'],\n [7533,\n  '@USER මෙ එන්නත් හොඳටම දන්නෙ ජෙප්පො යි පුතානො ගෙ set එකයි එයාල කියනදෙයක් තමයි..බලන් ඉඳල ඉඳල දෙන්නත් ගහ ගත්තා..අවුලක් නැ කියල..',\n  'HOF'],\n [7534,\n  'ඇත්ත කීවනම් මන් මොනාත් කියන් නේ..ඇයි බොරැ කීවේ මට වෙලේ ...   ඇත්ත කීවා කියහන්කෝ...  තමුසෙ බූරුවෙක් වංචාකාරයෙක් තක්කඩියෙක් ..... පලප් මගෙ දෑහට නොපෙනි ..  #bestexcuseslka',\n  'HOF'],\n [7535,\n  '@USER  @USER අර කිවුවත් වගේ පුලුවන් නං තම්බි හරක් මරන එකටත් බැනලා ඔහොම ලියපංකෝ.. ඔලුව නමං ඉන්න එකාලට හැමදාම ගහන්න යන්න එපා.. තොපිට විකණං කන්න රටක් ජාතියක් ඉතුරු වෙලා තියෙන්නේ උන් ඒක රැක්ක නිසා.. බලු හැත්ත..',\n  'HOF'],\n [7536,\n  'එකී එක්ටැම් ගේක දාගෙන හිටියත් යනවා !!  මගෙ කෑල්ල බඩුවක් නෙමෙ හුත්තො ඒකී ආවෙ ඇත්තටම ආදරෙ කරපු මා එක්ක මිසක් එකෙක්ව අත ඇරලා මා එක්ක ආවා නෙමෙයි   තෝ කවුද කවුද තොට කිවිවෙ  මන් දීඝගාමිණි එක්ටැම් ගෙදර හිටියේ මගෙ එකී !!',\n  'HOF'],\n [7537,\n  '@USER උඹේ මිනිහට කියපන් හරියට කතාකරන්න කියල පයිය ගැනයි පොන්නද නැද්ස කියල බලන එකද උගේ ගේම හුකන කතා නැතුව පාඩුවෙ හිටපන් හුත්ති',\n  'HOF'],\n [7538,\n  \"It's time to RT this again. වගේ මෝඩ ගොන් වැඩ කරන ආණ්ඩු නම්...හතුරෙකුටවත් දකින්න ලැබෙන්න එපා!  ආණ්ඩුව ඇතුලේ එකපාර සාකච්චා කර තීරණයක් ගන්න බැරි එවුන් රට තීරණ කොහොමට ගනීවිද?? Budu℠ @USER  · 6 Jul 2018 Fuel prices (CPC) UP Petrol-92 by Rs.8, Petrol-95 by Rs.7, Diesel by Rs.9 Super Diesel by Rs.10  #SriLanka\",\n  'HOF'],\n [7539,\n  '#ලොකුහීනනෑ අර  @USER  ගෙ හොම්බට දෙකක් ඇනල  කටට මුකවාඩමක් දාල ඉබ්බෙක් දාන්න අද හෙටම වයිෆිගෙන් පර්මිශන් ගන්න පුලුවන් උනානම් ඇති.',\n  'HOF'],\n [7540,\n  '@USER  @USER ඔව් මචං ශාන් කියන එකෙකුයි උගේ සෙට් එකයි එක පුද්ගලයෙකුට අවජාතක පිම්පි විදිහට reply කරලා තියෙනවා වරුවක් විතර, ප්\\u200dරශ්නෙ ගිම්සි කියන බඩුවකගේ් tweet එකට joke reply කලා කියලා',\n  'HOF'],\n [7541,\n  'කෙල්ලෙක්ගෙ FB massenger එකට log උනා.. සසර කළකිරෙනව ඕයි.. ලංකාවෙ කොල්ලො මෙච්චරටම අසහන කාරයින්ඳ කියල.. අත්තටම සමහර messages දකල කොල්ලෙක් වීම ලැජ්ජත් හිතුන.. මුං වගේ අපතයින්ගෙ බිජ්ජ කපල නයි කූඹි දාල පෑන්ටියක් අන්ඳන්න ඕනෙ..',\n  'HOF'],\n [7542,\n  'හුත්ත හෙණ අවුලක් වගේ දොඩං ගෙඩි පහහයක්කුස පොඩි හුකමො ටික දෙනෙක් රසිකයගේ tweet එකක් අල්ලං කිංඩියට QT කරල දාලා මාරුවෙන්නේ නිකං හර්කියුලීස් මහාමේරු පර්වතේ දෙබෑවෙන්න පයියෙං ගැහුවා වගේ ගැම්මක් පුකෙං හදාගෙන. ඔය සූට්බූට්පකයි මගෙං හැවුවා ලස්සනට කියලා දෙනවා ගොං බිජ්ජන්ට.',\n  'HOF'],\n [7543,\n  '@USER  @USER පැය 24ම තෝ කෙල්ල අල්ලන් දෙන දුකක්, මෙන්ශන් කලත් කතාකරන්නවත් වෙලාවක් දෙන්නෙ නෑනෙ ඇබලයෝ.. කෙල්ලටත් නිදහසක් දියන්... උබෙ ගෑනි.. මගෙ නංගී..',\n  'HOF'],\n [7544,\n  'සොන්ගුල් මෙරාල්ගේ කනට ගහපු එක හොදයි.  මෙරාල් කලේ අහස පොළව නුහුලන අපරාදයක්..පරට්ට බැල්ලි..   ලැජ්ජ නැතිකම තමා  ඉතින්...ගෑනුනේ',\n  'HOF'],\n [7545,\n  'සිගරට්,ගංජා,අරක්කු,කුඩු ගහන ගොබිලන්ට තේරෙන්නේ ගූ වලේ බැහැලා අතින් නහය වහගන්නවා වගේ වැඩක් ආතල් එකට කෙටි උත්තේජ හොයන එක කියලා. අමනයෝ සෙට් එකක් ඉන්නවා \"මම ගංජා කාරයෙක්\"කියලා සමාජෙට පෙන්නන දගලන.උන්ට හිතන්න මොලයක් මේක ගෙදර දොරේ \"අම්මා බඩුව\" කියලා පෝස්ටරයක් ගහනවා වගේ කියලා.',\n  'HOF'],\n [7546,\n  '@USER ඔය ඇදුමෙ උඩ කෑල්ල කපන්න අමතක වුණාද .නෑ මම කිව්වෙ වෙනදාට පෙන්නලා දාන තන් දෙක පෙනෙන්න නැති නිසා.',\n  'HOF'],\n [7547,\n  'මේක ගිහින් බැලුවා!  කොල්ලො ප්\\u200dරසිද්දියේම හුත්තී කියල බයිනවනේ කෙලින්ම දාර කුණුහරප කියන්නේ.. මන්දා කියලා.. ඊටත් එහා සමහරු \"අපේ කියන්නෙ නෑනේ\" බබාහ් කියල කමෙන්ට් කරල! ස\" ජනාධිපති උන එක අහන්නත් දෙයක්\\u200dද   #මාරවැඩේලංකාවටඋනේ BinethTtalks @USER  · 9 May 2021 අපේ රටේ අනාගතේ පුන්චි අපි තමා! තොපි හැදෙනවා  රට නැසෙනවා ඒක ඇත්තමයි',\n  'HOF'],\n [7548,\n  '@USER මහින්දානන්ද අලුත්ගමගේ යනූ හොරෙක්, බොරු කාරයෙක්, පිස්සෙක්, වාචාලයෙක්, ගොන් මොඩයෙක්, ගෝඨාභය රාජපක්\\u200dෂ ඔයත් ඉන්නේ පිළේ නේද.. මුන් වගේ අවජාතක සක්කිලි හැත්ත කඩේ යන්නේ.. කොහොමද රට පාලනය කරන්නේ.. මහින්දානන්ද නීතියක් නැද්ද? අපි මෙවරත් වරද්ද ගත්තා',\n  'HOF'],\n [7549,\n  '@USER නේපාල් යනවා ඉන්දියන් වීසා? ඌ ඉන්දියාවේ transit තිබුණට airport එකෙන් එලියට යන්නේ නැත්නම් visa ඕනේ නෑනේ   ඔය ඉන්දියන් පකෙන්තුවන්ට ඕනේ නැති ලබ්බක් නෑ. අනික දිල්ලි, මුම්බායි වගේ උඩ ඒවා දාන්නේ නැතුව තමිල්නාඩු දාන්නේ ඇයි. පට්ට කචල්',\n  'HOF'],\n [7550,\n  '@USER  තොට පිස්සුද ගස්බල්ලෝ පොඩි එකෙක්ගේ රස්සාවකට කෙලවන්න හදන්නේ  නොදකින් බං උඹ දාර පොන්නයෙක්. @USER  අයියා කියපු කතාව ඇත්ත.උඹ බල්ලෙක්ට ජාතක වෙච්ච පරයෙක්.',\n  'HOF'],\n [7551,\n  'බයෝ කරන් උන් ගොන් යක්කු .. ඔය සත්තු ගැනයි ගස් ගල් ගැනයි ඉගෙන ගෙන මොනව කරන්නද .. ශරීරෙ ඉගෙන ගන්නෙ මොකටද.තියෙන එකනෙ.පිස්සු මෝඩයෝ -මැත් සර්',\n  'HOF'],\n [7552,\n  'අර SL Diaries කරපු වීඩියෝ එකේ වයසක අයට බනින එක වැරදී කියලා ඌට බනින උන්මයි උන් කෑල්ල එක්ක යද්දි එකෙක් බැලුවම මොනාද හුත්තෝ බලන්නේ අහන්නේ  වයසක උන් තමා ගොඩක් වලත්ත. සැකනම් බලපන් බස් එකක පොඩි කෙල්ලොන්ට ජැක ගහන්නේ මොක්කුද කියලා',\n  'HOF'],\n [7553,\n  'කරන්න තියෙන ඔක්කොම බලු වැඩ කරලා අහිංසක ජීවිත ගොඩ නොඑන අගාද වලටම ඇදලා දාලා තමන් හොද වෙන්න අර අගාදේ ඉන්න උන්ටම  වරද පටවන සක්කිලි එවුන් ලෝකේ ඉන්නවා.',\n  'HOF'],\n [7554,\n  '@USER ඩයලොග් ලබ්බ චුත වෙලා යන්න ඕන. හරිම අසාධාරණ අයකිරීම් කරන්නේ. හැමතැනම වංචාව, ගන්න ගානට customer service එකක් නැති.',\n  'HOF'],\n [7555,\n  '@USER තමුසෙ අපිට වහල්ලු කිය කිය කඹුරන්නෙ කාටද කියනවකො?  තමුසෙ මේකෙ ලෙව ලෙව කැරකෙන්නෙ සුවාදීන පුරවැසියෙක් විධියටද? බන් නාකියෝ  තමුසෙ කාගෙවත් වහලෙක් නෙමෙයි මගේ සීනි කිරන්නෙ එන්නෙ නැතුව වැඩක් බලාගන්නවාකො.  පිස්සු නාකියට තියෙන ලොකුම අහවල් තැන කැක්කුම අපේ වහල් කම.',\n  'HOF'],\n [7556,\n  '@USER @USER  මොකා වුණත් සාප වේවා! උන්ගේ වෙලාව විතරද වටින්නේ? අනෙක මුන් මෙච්චර කලබලේ ගිහින් කොරන්නෙ මොනවද? #රටකන්නෝ! #අයියෝයහපාලනය #lka',\n  'HOF'],\n [7557,\n  'අර ජපානේ ණය වලට පස්සෙ එකක්, retweet කරපල්ලා උඩදාගෙන.  Economic reforms ලබ්බ තමයි #lka Sri Lanka Tweet @USER  · 4 Jun 2016 International Monetary Fund (IMF) approved 1.5 billion Dollar Loan to Sri Lanka as a support country’s Economic reforms #Lka #SriLanka #News',\n  'HOF'],\n [7558,\n  'අර ගිය අවුරුද්දේ හැමිනිච්ච පොඩි උන් දෙන්නගේ පොටෝ එකට හැෆි චිල් රන්ස් ඩේ කියලා දාපූ ට්වීට් එකේ ss වටේ යවපු තොපිට හෙන ගහනවා.   ආන්න තාත්තා දැකලා. සක්කිලි ෆලෝවර්ස්ලා.  ආයේ වෙස්මාරු කරගන්න වෙනවා',\n  'HOF'],\n [7559,\n  'යකෝ අර ඉස්පිරිතාලෙ ඉන්න දාස් ගාණ දවසට හුජ්ජ කරන්නෙ කෙළ ගහන්නැද්ද උදේ කට හෝදලා?? ඒවාත් පුච්චනවලුද? .                    #COVID19SL එතකොට ගූ කනවද?',\n  'HOF'],\n [7560,\n  '@USER  @USER    වැඩක් නැ කියලා.. අහක රෙද්දවල් වලට මානව හිමිකම් ඕනේ තරම් නාහෙන් අඩාගෙන රෙදි උස්සන් එන්නේ.. අවශය දේකට කවදාවත් නැ ලොන්ත කොමිසම.. අර නාකියත් එහෙමයි.. ඌටත් පේන්නේ ආර්මී එකේ ඒවා විතරයි ඒකත් තමන් උපන් රටේම ඒවා..තුක් නොදකින් කාලකණ්ණි..',\n  'HOF'],\n [7561,\n  'බස් ටීවී එකේ චාමර රණවක ස්ටේජ් එකේ shirt එකත් ගලවගෙන, අර තඩි බඩයි, අරවා දෙකයි පෙන්නගෙන, එයාගෙම English වලින් මොනවදෝ කියන ගමන් සින්දු කියනවා. නෙදකින් අප්පිරියයි',\n  'HOF'],\n [7562,\n  'ටීවී එක වහලා නිදාගනින් පකෝ. තෝ සපෝර්ට් කරන ටීම් එක කවදාවත් දිනන්නේ >:( කැරි වස්තියා ගොන් මූසලයා >_<  #WT20 — watching India vs Pakistan',\n  'HOF'],\n [7563,\n  'ටහුඩු  Wolvi® @USER  · 19 Apr 2017  @USER යකෝ තොට උදේ පාන්දර ඔච්චර කියලා රෙදි ඇදගෙනද අනුන්ගේ ලබ්බවල් හොයන්නේ. වැඩ නැත්තන් අතේ පාරක් ගහලා නිදාගනින්..',\n  'HOF'],\n [7564,\n  'වේස කොල්ලෝ ටිකක් ඊයේ පුක ඉරාගෙන නෙත් එකෙන් ගහපු නිව්ස් එකක් කියලා තිබුණා..කෝලි නාරාහෙන්පිට ක්\\u200dරිකට් ගහපු හැටි... URL',\n  'HOF'],\n [7565,\n  'නොදකින් වගේ අවජාතකයි.. ජාතියේ කරුමෙට උපන් වුන්.. තූ නොදකින් කාලකන්නියා Sri Lanka Tweet @USER  · 23 Mar 2020 Police filed a lawsuit against a person who refused 14 days self quarantine. Police to arrest the suspectproduce court once the quarantine process is over #LKA #SriLanka #CoronaVirus #Covid19',\n  'HOF'],\n [7566,\n  \"කාබනික ගොන් බයියෙක්ව අල්ලල නාවන්න ඕනෙ  Lakna Amandi @USER  · 12 Dec 2021 ''ජීවිතේට බල්ලො කාලා ගොයම්'' ''පොහොර ගඳට බල්ලොත් ගොයම් කනවා''\",\n  'HOF'],\n [7567,\n  'නොදකින්... මලීගෙඉස්කෝලෙ ටැග් එක කියවන්න ගිහින් බලනකොට මේකෙ උන් ටිකක් ඒක ගූ කරලා.   පැසිව් එන්ගේජ්මන්ට් ගන්න ටැග් එක පාවිච්චි කරන්න එපා යකුනෙ. ඒක ආසාවෙන් කියවන්න මං වගේ උන්ට තොපේ ලබ්බවල් කියවන්න ඕන්නෑ.  ඒකෙ ටීචර් දාන ට්වීට් වලට උන්ගෙ ට්වීට් නෙ තියෙන්නෙ.',\n  'HOF'],\n [7568,\n  '@USER  @USER තමුසෙගේ එකවුන්ට් එකට ගියාම බලාගන්න පුළුවන් තමුසේ මොන ලිංගේද කියලා..මට වේසි කියන්න තොට මොන හයියක්ද..මට වුන් මොනරෙද්දක් කර ගත්තත් කමක් නැ..මාගේ පොඩි එකා එක බලන් අහපු ඒවට මට උත්තර දෙන්න පුළුවන් ද..අනික මිනිස්සු දාහක්යන  බස් එකක උන් උන්ගේ හැඟමි එලි පිට දාන් ගියාම මිනිස්සු බලන් නැද්ද',\n  'HOF'],\n [7569,\n  'පියුමිලා සනසන්නේ කරන්නේ රටේ ඉහලම පිරිස්ගෙ ලිංගික ආශාවන්! සල්ලිභාගෙ තියන ප්\\u200dරසිද්ධියෙ ඉහලටම ගිය උන්ව සනසනව. අර පොල් කඩන එකාගෙ රජයෙ සේවකයගෙ කම්කරුවගේ ආතල් එක දන්න පාරෙ අයිනෙ හිටං ඉන්න ගෑනුන්ව පොලිසියෙන් \"පල වේසි අප්පට හුකන්ඩ කියල ගහල ජීප් එකට දාගන්නව. ප්\\u200dරසිද්ද වේසියන්ට මැඩම් කියනව',\n  'HOF'],\n [7570,\n  'සෑහෙන හැදිලා ඉන්නේ ගෙදරින් ආවට පස්සේ. ඒත් සමහර ගොන් පක්කු ආයේ මාව සතා කරගන්න දඟලනවා. හුත්ත පාඩුවේ ඉන්න දෙන්නෙ නෑනේ',\n  'HOF'],\n [7571,\n  '@USER ඔයාලට වැඩක් නැද්ද ඇත්තටම අපිවම කන්න බලන්නේ. මෙච්චර ප්\\u200dරශ්න තියෙන රටේ ප්\\u200dරශ්න හොයන්න බය උනාම තමයි අපිව මතක් වෙන්නේ රෙද්ද. වැඩක් නැත්තම් කලින් ගෙදර ගිහින අම්මට බත් ටිකක් උයන්න උදවු කරහල්ලකෝ',\n  'HOF'],\n [7572,\n  'ඉස්සර ලේලන්ඩ් තනි දොරේ බස් වල හිටගෙන යන්න බෑ ඔලුව වදිනවා, ඉදගෙන යන්න බෑ පුක රිදෙනවා..... හරි විනෝදයි..  #ඒ_කාලේ #ගමේ_බස්_එක M Ꮢ . j @USER  · 1 Mar 2021 වලවල් පිරී පාරක බස් එකේ අන්තිම සීට් එකේ ඉන්නේ.',\n  'HOF'],\n [7573,\n  '@USER අනෙ හුකේ.. ට්විටර් එකෙන් ප්\\u200dරශ්න විසන්දන එකා.. හොන්දම යාලුවා.. ලොල්.. තෝ අපේ හොන්දම යාලුවෝ නෙමෙයි.. තෝ හොන්දම යාලුවොන්ට කරන ඒවා ඓ දන්නවන්නේ.. කෙල තොල්ලා.. යකෝ හොන්දම යාලුවා කියන එකේ තේරුම හොයා ගනින්.. ටෙලිෆෝන් වයර් බඩු කාරයා.. සර්වර් ගෝතයා..',\n  'HOF'],\n [7574,\n  'අතීතෙට යන්න යන්න පේන්න ගන්නෙත් අශිෂ්ඨකම්..අර කියන 2500 මෙව්ව එක එදා තිබිලත් නෑ... වේසි කිව්වම ජුවල් එකීලා එකාල ඉන්නේ දැන්නේ..එදා මාධ්\\u200dය භාවිතය තුලත් වේසී අවුලක් නෑ... URL',\n  'HOF'],\n [7575,\n  'මීගමුව මාලු මාකට් එකේ කෙල පෙරාගෙන ඉන්න තමන්ගෙ අබ්බගාත පුතා එක්ක ඉන්නව අම්ම කෙනෙක්. කොල්ලො එහෙම ගියාම කොල්ලන්ට කෙලින්ම ලමයව පෙන්නල අම්මගෙන් සල්ලි ඉල්ලල දෙන්න වගේ ලයින් කරනව. මම කාලෙ දෙපාරක් වගේ දුන්න අම්ම එක්ක. පස්සෙ මාලු මාකට් එකට විදිහට සල්ලි.දෙන්න ගියානම් අපි ඉවරයි මාෂි @USER  · 31 Jul 2019 බස් එකට පොඩි කොල්ලෙක් වඩන් තාත්තෙක් නැග්ගා.දුක කියාගෙන සල්ලී ඉල්ලනවා.කොල්ලා බොලේ වගේ ඉන්නවා . මං සමෝස එකක් කකා දෙන්නා දිහා බැලුවා.මෙන්න මු මට ඇහැක් ගහලා.අර ඇගිල්ලෙන් ඇක්ශන් දලා ලගට කතා කරනවා වගේ සල්ලී ඉල්ලනවා. මුගේ අප්පට කියලා දෙකක් කියන්න හදද්දී.. තාත්තා ඌ අරන් බැස්සා',\n  'HOF'],\n [7576,\n  'වේස හුකන්නොන්ට ඔහොම වෙලා මදි.. සේවකයො කියන්නෙ තොපේ අත පල්ලෙන් වැටිච්ච උන් නෙමෙයි කියල දැන්වත් තේරුම් ගනිව්..... URL',\n  'HOF'],\n [7577,\n  '@USER කියන්න දන්නෙ නෑ. හැබැයි Fontera ලබ්බවල් (Anchor, Ratti) සෑහෙන ගේමක් දෙනව Higland, Pelwatte මාකට් බස්සන්න. අපේ අම්ම බෙහෙත් ගන්න ඩොක්ට ගෑණි නියමෙට මාකටින් කරනව. එන එන හැම එකාටම Anchor, Ratti ප්\\u200dරොමෝට් කරනවා. ඒකෙනුයි, මට ලිව්ව brands වලින් හිතාගන්න පුළුවන් වුණා ගෑණිගෙ තරම',\n  'HOF'],\n [7578,\n  'උඹේ මෝස්තර ගෘප් නෙමෙයි ඕවා ජව්සන්.. තොපි සිඟිති කොල්ලෝ, අම්මලා පව් බන්! \\U000fe334    උඹලට අපි වගේ වෙන්න බෑ නේ \\U000fe4f5',\n  'HOF'],\n [7579,\n  'හික්කි හුක්කි හු.......... #Muslims #tamils ඔබට සතුටුද ජාතිකයිනි  ඔබලාගේ සංස්කෘතිය විනාශ කර ගැනීමටද 62% වූ චන්ද පාවිච්චි කොරමින් මෙරටේ ජනපති කොරවුයේ. යේ පිස්සු සමලිංගික ආණ්ඩුවට කඩේ ගම වල හරකුනේ ඔබේ දරුවා ප්\\u200dරසිද්ධ සම ලින්ගිකයෙකු වෙනවාට ඔබ කැමතිද ?  @USER  @USER',\n  'HOF'],\n [7580,\n  '@USER  @USER මට උඹ වගේ සිඹින්නෙක් ඇසුරු කරන්න ඕනෙ බං . උඹලා රෑට ෆෝන් එකට වැඳලා නිදාගත්තට ඇපල් වල ලබ්බක් බං සෙකියුරිටි ඇරුනම. උඹගෙ ඔය ෆොටෝ ස්ට්\\u200dරීම් එක 5gb ඉවර උනාම මොකෝ කරන්න හිතං ඉන්නෙ',\n  'HOF'],\n [7581,\n  'පොන්නයෝ 3 දෙනාගේ පොන්න ජවනිකාව. චාමරට නෙවෙයි ළග පහතක හිටියනම් තොපි බලා ගන්න තිබ්බා ගොබ්බයෝ. තොපි පිරිමි... URL',\n  'HOF'],\n [7582,\n  '@USER බැල්ලිට බැල්ලි කියන්න ඕනේ මැනික බැල්ලි දන්නවා බැල්ලි කොහොමත් බැල්ලි කියලා. හැබැයි මට්ට පට්ට කෑල්ල කියන්න බැරි උනා',\n  'HOF'],\n [7583,\n  '@USER  මනෝගනේෂන්  කතා කරන හැටි   හරියට රටේ  ජනාධිපති   මෙයා වගේ කොටිත්  එක්ක   එකට  හිටපු  කොයි වෙලාවෙත්  කතා කරන්නේ  මෙයාගේ වාසියට මුන්ට තනතුරු දීපු  අගමැතිට  හෙන ගහන්න ඕන',\n  'HOF'],\n [7584,\n  '2. අස්සෙ දකුණෙ ඉන්න සින්හලයට අයිතිවාසිකම් කතා කරන්න විදියක් නෑ... සුද්දගෙ පුක ලෙව කන NGO කාරයො සුළු ජාතික අයිතිවාසිකම් කතා කර කර හැමිනෙන්න හදනව.... ඔව් සින්හලයො ජාතියක් විදියට පට්ටම අසරණයි... තමන්ගෙ රටේම ආගන්තුකයො වෙලා.....',\n  'HOF'],\n [7585,\n  'මූ මේකේ කියන්නේ පාට කරපු එක ගොන් ජෝක් එකෙක් කියලා නෙමෙයි. ලමයි ගිහින් පරිසරය සුද්ද කරල පාලම් යට පාටකරන එක දේශපාලන වාසි වලට පක්ශ යොදා ගන්න එකයි ගොන් ජෝක් එක කියලා ඌ කියන්නේ. මන් මූට ආස නෑ. හැබැයි මූ කොල්ලන්ට මුකුත් වීඩියො එකේ කියන්නේ නෑ. RISE_UP @USER  · 3 Dec 2019 හරින් ඔයා ඔච්චර කුහක වෙන්න එපා!   \"මේ වගේ මිනිස්සුන්ට නැවත බලයට පත් නොකරන්න \"',\n  'HOF'],\n [7586,\n  '@USER ,  @USER  @USER පල මෝඩ වෙසිගෙ පුතෝ. තෝ මෙච්චර කල් ගූ කෑවේ රට කාපු පොන්න රනිලගෙ පකෝ',\n  'HOF'],\n [7587,\n  'කව්ද යකෝ ගෑණිට ආචාර්ය පට්ටමක් දුන්නේ.පව් අර අහිංසක විද්\\u200dයා කෙල්ල.පේන්නේ ප්\\u200dරබාකරන් මේකට ෂුවර් එකටම ඩිජිටල් කරලා #lka #srilanka #NGOs #NGO',\n  'HOF'],\n [7588,\n  '@USER රාජ්\\u200dය සේවකයෝ විතරද රටේ ඉන්නේ පකෝ? වැඩක් කරන්නේ නැති රාජ්\\u200dය පකාල නිකන් ඉඳලා පඩි ගන්නෙත් අපි රට ඉඳලා එවන Dollar වලින්… සහනාදාර දීලා බංකොලොත් වෙයව්…ලකේ පංකාවේ රාජ පකාලා…',\n  'HOF'],\n [7589,\n  '@USER මට සැබෑ ජීවිතේ වැඩිය තරහාකාරයො නැ..ඇත්තටම බැලුවොත් ඇත්තෙම වගේ..තමුසෙ දන්නවනේ..ආයෙ SM කබ්බො ගනන් ගන්න්ව් කවුද අප්පා...ඊට සෙට් එකක් හම්බ උනා මට මේකෙන්..',\n  'HOF'],\n [7590,\n  'තමන්ගේ මිනිහා අතටම අහු වුණාම වෙලාවට අර ගෑණි බඩුවක් කියල තේරුම් ගන්න ඕන හැම කෙල්ලෙක්ම Suraj @USER  · 29 Jan වගේ ලස්සන කෙල්ලෙක් තියන් එකියක් එක්ක මෝඩ අපතයා කවුද බං  twitter.com/CharuRathnayak…',\n  'HOF'],\n [7591,\n  'ඔන්ලයින් ඉන්න කෙල්ලෙක් සෙට්කරගන්න විදිහ පාඩම් පොත් වලට ඇතුලත් කරන්නෝනි හයි  හලෝ  කොහොමද  ඔයා ඉන්නෝ තොගෙ ලොකු ලයින් වේසි උබ හිතං ඉන්නෙ',\n  'HOF'],\n [7592,\n  'කන කටක් ගානේ තොපි දෙන්නට බඩ පලයන්.. කල පවු හැම රෑකම හීනෙන් පෙනීයන්.. මිනිසුන්ගේ සැම සාප මුන් දෙන්නට වැදීයන් ලේ බඩ ගිහින් රට කන උන් මැරීයන්!!',\n  'HOF'],\n [7593,\n  'යන්නෙ ගෙදරක් තියද ඉන්න රටක් නැති කොට... නොදකින් පකිස් බූරුවා.. Ada Derana Sinhala @USER  · 1 Nov 2019 හැමදාම මට බැනලා ගෙදර යන්න පුළුවන් සමාජයක් අද තියෙනවා-අගමැති විස්තර - URL',\n  'HOF'],\n [7594,\n  'ළමා පරපුර හොද මගට හරවන්න හිතන්න හුගක් දේ ඇත දැන්.. පාසැල් නිල ඇදුම අධ්\\u200dයාපන ක්\\u200dරියාවලියේ විනයේ කොටසක්.. ඒක ඔය පොන්න වැඩ වලට යොදා ගන්න එපා   #lka #sriLanka #SriLankanPolitics #Colombo  @USER  @USER  @USER',\n  'HOF'],\n [7595,\n  'මාගේ සජබ/හූ ඇම් පී/3% සගයනි රාජපක්ෂලා හරියටම ලංකාව කාටද වික්කේ කියපියවු. චීනෙටද, ඇමරිකාවටද, ඉන්දියාවටද? කට්ටිය කථා වෙලා එකක් කියපියවු බං.. බොරුවක් උනත් හරියට කරන්න ඉගෙන ගනිවු.  අර පංචරයගේ ගොං සෙට් එක වගේ හැරෙන හැරෙන පැත්තට පච ගහන්න එපා.. මාට්ටු උනාම රෙද්ද කැඩෙනවා..',\n  'HOF'],\n [7596,\n  'මචං තත්වේ. ඕක තමා සහජීවනයට පුක දෙන්නේ නැත්තේ මං.  ඔය කටින් කිව්වා එකෙක් විතරයි. නොකියපු උන් ඕන තරම් ඉන්නවා. පිට රටවල් වලින් එන පූජක හැත්ත තමා ඔව්ව අපේ උන්ගේ ඔලු වලට දන්නේ.  මොහිදීන් බෙක්ගේ සිංදු අහන්න තහනම් මතක්කරන්න කැමතියි.',\n  'HOF'],\n [7597,\n  '@USER  @USER තෝ මගේ මූන බලලද වයස කියන්නෙ..අනේ මට හිතන දේ කමෙට් කරන්න පුලුවන් උනානම් උඹ පවු.',\n  'HOF'],\n [7598,\n  'කෘෂිකර්ම ඇමති කියනවා රසායනික පොහොර ගේන්න තිරණයක් කෘෂිකර්ම ලේකම් කියනවා යුරියා ඇගේ ගාන්නත් හොදයි ලු ගෙන්නනවා ලු. කෘෂි පෝෂක /  පොහොර  කෘෂි ආරක්ෂක /  කෘමි නාශක තනිකර කෙළින්නේ පිස්සු. පිස්සා  තනිකර කෙළින්නේ පිස්සු..',\n  'HOF'],\n [7599,\n  '#ගෙදර නංගී - පල බැල්ලි තෝ. :# කනවනම් කාපන් නැත්තම් නිකා හිටපන් රෙද්ද :3 :v (පයින් පාරක් දෙමින්)  #FB නංගී - කෑවද... URL',\n  'HOF'],\n [7600,\n  'වාහනේ යන්න එපා කියන එක අපිට තරහ දෙයක් උනාට ලිහිල් කරපු ගමන් රෙද්ද කරේ තියං එහෙ මෙහෙ යන්න බලං ඉන්න ගොං හැත්තක් ඉන්න රටකට ඔහොම එකක් තමා කරන්න ඕන.',\n  'HOF'],\n [7601,\n  'අඩො උඩෙ පාන්ඩර ලොල්ලො වගෙ මුසලෙ ඩන් ඉන්න එපා හු•තො අහෙම ඉන්න තොපිට කැඩත් න්හැ අහෙම ඉන්න තොපිව ඩකින අපිටත් කැඩත්... URL',\n  'HOF'],\n [7602,\n  'දාන් ඉන්න අමාරුයිලු.මුගේ ආච්චිට යකෝ වගේ ගල් බූතයො හින්දා අපි මුලු දවසම ඉටිකොල ගෝනියකුත් ඔලුවෙ ඉදන් පොරවන් මාස් දෙකක් දාගෙන වැඩ කරන්නෙ මේකට පැය ගාන මාස්ක් එක දාන් ඉන්න අමාරුව..මන් ටික කියන්න  කලින් කොල්ලා සාක්කුවෙන් ගත්ත මාස්ක් එක දාගෙන ශේප් වෙලා ගියා රජය වැරදීලු!',\n  'HOF'],\n [7603,\n  'Windscreen Cover Insurance...  A/C බස් එක අැතුලෙ වලියක්. ගෑනියෙක් මිනිහෙක්ට ගහන්න දඟනවා කුඩෙන්.  හේතුව මිනිහා ඇඟට හේත්තු වෙලා.  \"මගෙ තාත්තට වයසයි යකෝ තො\\u2063\\u2063\\u2063ට. දෙනවා බලපිය කුඩේ කැඩෙන්න\"  මිනිහා -\" ඇත්තට. කුඩේට පාරක් ගහගනින් ගෑණියෙ....\"  ගෑණි ගත්තා කුඩේ. දමලා ගැහුවා මිනිහට',\n  'HOF'],\n [7604,\n  'ලජ්ජා වෙයන් තොපි වගේ එවන් ජාතක උනාට. ලජ්ජා වෙයන් තොපි අහිංසක මිනිස්සු මරපු කොටියට උද ගෙඩි දෙන එකට. කාලකන්නින්ගෙන්... URL',\n  'HOF'],\n [7605,\n  'එක පාර \"The Da Vinci Code පොත කියවන්න එපා\" කිව්වොත් හරි නෙ ඉතිං ආගමක් ගාවගන්නැතුව ඕක පොතක් නෙමෙයි කවුරුත් කියවන්න ඕනෙ නැති අවජාතක ගූ රෙද්දක් Nu @USER  · 30 Aug 2019 ඔබ කිතුනුවෙක්ද? ඒසේ The Da Vinci Code පොත කියවන්න එපා!',\n  'HOF'],\n [7606,\n  'එකෙක් හිනාවක් දාල තියෙනවා දැක්ක මගේ පරණ කොමෙන්ට් එකකට. බන් ඔච්චර කල් හිනාව හිරකරන් ඉන්නේ? උඹ මටද හිනාවෙන්නේ උඹ උඹටමද හිනාවෙන්නේ? මට හිතෙන්නේ උඹ උඹටම හිනාවෙන්නේ කියල.පොන්නය පොන්නයමයි කොහේ ගියත් කොයි කාලෙදිත්.',\n  'HOF'],\n [7607,\n  'අර කිව්වත් වගේ තොපි වාහන වල කඩ වල ස්ටිකර් ගහනවා දහස් ගනන් අරහත් මාගේ දේශය තුල පහල වේවා කියලා!  ඒපාර උන් හෙන ගේමල් දීලා පහල වෙන්න ගත්තට පස්සේ ඒකටත් තොපි ඒකටත් උන්ට බනිනවා!',\n  'HOF'],\n [7608,\n  'අර රත්නප්\\u200dරිය කියන පරයා රස්සාව හරියට කරනවද කියලා හොයන්න එකෙක් නැද්ද.පඩි ගෙවන්නේ අපේ සල්ලි වලින් නේද? අපෙන් පඩි අරන් රට කනවා බල්ලා #සිතුවිලි',\n  'HOF'],\n [7609,\n  'පොලිසිය සිලින්ඩරේ උස්සලා බලලා පුකට පයින් ගහනවා මෙක කොහෙද හුත්තෝ ඉවර, තෝ එනවද අපිට බොරු කරන්න කියලා Dinal @USER  · 24 May 2021 යකෝ මුන් ඔක්කොගෙම ගෑස් ඉවර වෙලා තියෙන්නේ අද .?',\n  'HOF'],\n [7610,\n  'Sarah Andersen දකිනවා ඉන්න මොංගල් මල් පලතුරු කෙල්ලො ඒකිගේ comics පාවිච්චි කරලා හදන මොංගල් ඇඬියාවල්, ඒකි මෙච්චර කාලෙකට ඇන්ද comics ටිකත් ගුලි කරන් මහවැලියට පනිනවා සුවර්',\n  'HOF'],\n [7611,\n  'චීනෙට වෙලා පට්ට ගේමක් දීලා vpn දාගෙන මේකේ උඩට පල්ලහට යනකොට දකින ඒවට එන කලකිරීම ආවේ, අවුරුදු 10කට පස්සේ. යනකොට තිබුන රට නෙමෙයි ආයේ එනකොට තියෙන්නේ.   බලේට කෑදරකමේ රටේ මිනිස්සු බිල්ලට දෙන උන් පණපිටින් වලලන්න ඕන.',\n  'HOF'],\n [7612,\n  '@USER උන්ගේ කැමැත්ත නේ බං ඉතින්. අපිට කියන්න බෑනේ බං නියපොතු ඔක්කොම කපාපන් කියලා. ඕවා වෙනවා කියලා දැන දැනත් එකක් දැක්ක ගමන් මැජික් වගේ උඩ දාගෙන දාගලන මෝඩ පයියො තමයි අරුන් ඔක්කොම පිරිමින්ට අල්ලන් බනින්නේ',\n  'HOF'],\n [7613,\n  'ඔය මිනිස්සුන්ට ඉංගිරිසි සිංහල බැරුව නෙමෙයි ඇස් පේන්නෙ කං ඇහෙන්නෙ නැති කල්පනාව නැති බෙඩ් රෙස්ට් කරන්න ඕනෙ ලෙඩ්ඩු. තන්හාවට තමයි ඔය කරුම ගෙවන්නෙ.. එක්කො ඔය සල්ලි වලින් රට රටවල ඇවිදල සැපක් විදින්න ඕනෙ කරුම ගෙවනව ℐ𝓈𝒽𝒶𝓃𝓀𝒶 𝒥𝒶𝓎𝒶𝓈𝒾𝓃ℊ𝒽ℯ @USER  · 21 Nov 2021 ඔයාලා එක එක කතා කිව්ව ගම් බයියොන්ට මේව පට්ට කඩ්ඩ...  \"බැසිල් දෙයියෝ දෙරණට වැඩලා අර බාගෙට ඉංගිරිස් කතා කොරන ගෑණු ළමයට දෙසුවා දෙසිල්ලක් සුද්දගේ ඉංගිරීසි කැලේ මයෙ අප්පොච්චියේ\"   ඔහොමයි දෙරණ නාලිකාව බලන ගමේ #ඇටනමේ  බයියො කියන්නේ... twitter.com/ThilinaPrasang…',\n  'HOF'],\n [7614,\n  'හොරා- අඩො! නැවතියං මිනිහා- පලයං බං හො- කියනදේ අහපං මෙක පත්තු වෙනවා මී- පලයන් හු*%$ යන්න අපේ ගෑනි කෑ ගහනව ගෙදර... URL',\n  'HOF'],\n [7615,\n  'අර සෙලිබ්රිටි ඩීපී දාන් නමත් වෙනස් කරන් හිටපු උන් ටික දාපු ට්වීට් උන්ගෙ හරි නමත් එක්ක කියවන එක ඊට වැඩිය ආතල්.  රත්තා කියනව ඌ අලුත් පරපුරේලු. සුකිය කියනව ඌ බඩුව පත්තරේ ඉන්නවලු. තිලා කියනව ඌගෙ පුක ලොකු වැඩීලු කොමඩ් එකේ ඉදගන්න.',\n  'HOF'],\n [7616,\n  '@USER  @USER යකෝ. කෙල වෙලා තියෙන්නෙ කවිරුත් හින්ද නෙමෙයි තමුසෙලා වගේ ගොන්නු හින්දා. හැම ප්\\u200dරශ්නෙම අනුන්ගෙ පිට දාන්නැතුව තමුන් හැදෙන්න බලපන්. මෝඩ ගෙම්බා..',\n  'HOF'],\n [7617,\n  '@USER ඇම්ඩ පාරෙයද්දි කහ ඉර ගාව බල්ලෙක් බැල්ලියෙක් සෙල්ලමලු.. ඇම්ඩ මොකද්ද අහල.. ඇම්ඩව එක්කරං ගිය සීයා කියනවා.\" අර බැල්ලි බල්ලව කර තියාගෙන පාර මාරුකරනවා නෙ පුතා \" කියල. ඇම්ඩා ගත් කටටම..එහෙව් කරුණාවන්ත බැල්ලිට නේද වල් පර බල්ලා උකන්නේ..කියල රංජත් ඒම  උධව් කරන අය කියලා ඇරල නෑ.',\n  'HOF'],\n [7618,\n  'සමහර දේවල් SS වෙයි හිතන් කෝල් අරන් කියනවා නේ? පේනව නේ උඹලව අමාරුවෙ දාන්න මිනිස්සු පුක ඉරාගෙන call උනත් record කරන්න ලෑස්ති බව? රන්ජන්ම විතරක් නෙමේ.',\n  'HOF'],\n [7619,\n  '@USER ,  @USER  @USER මොකද උඹලට තියෙන අර්බුදේ  රටේ ඕනම තැනක පල්ලි හදනන පුලුවන් ,ජීවත් වෙන්ට පුලුවන් ,ව්\\u200dයාපාර කරන්න පුලුවන්  මොන රෙද්ද',\n  'HOF'],\n [7620,\n  '@USER අපෙන් ඈත් වෙලා ඈතට කෙනාව පස්ස පැත්තෙන් පඩයක් ගානට දාන්න මොකද පඩයක් ආයේ අපිව හොයාගෙන ආවත් අල්ලවත් ආයේ ඇතුලට දාගන්න බෑනේ..පඩයක් ගානට කෙනාව දැම්මාම ආයේ එන්න හැදුවත් ලගට ගන්න හිතෙන්නේ බබා..',\n  'HOF'],\n [7621,\n  '@USER අර පුක්වැල්ලයට මුණවිරයට චාන්ස් දිලා බලපව් මි හරක් තේ්රිම් කමිටුව. විලිිලැජ්ජයි යකෝ ලංකාවේ ක්\\u200dරිකට් වලට වෙච්ච දෙයක්',\n  'HOF'],\n [7622,\n  '@USER  තෝ ට්වීට් සුවිට්  කිව්වට මට මේකේ මෙලෝ ලබ්බක් තේරෙන්නේ බන්  මන් පොටො එකක් දැම්මා  මේකට උබේ දායක සබාවට කියලා අත ගස්සපන්',\n  'HOF'],\n [7623,\n  'මොකාද ග්\\u200dරැපික් චොර කියපු එකා? තොපි වගේ උන් ඉද්දි කොහොමද බන් රටක් විදිහට ඉස්සරහට යන්නෙ. රුපියල් 2850 කට Game... URL',\n  'HOF'],\n [7624,\n  'ඉන්ටනෙට් එකේ මොකක් හරි නිවුස් එකක් දැක්කම, හෙවිල්ලක් බැලිල්ලක් නැතුව මේකෙ දාන්න එපා පකෝ!  තොපිට හෙන ගහයි. Colombo Times @USER  · 27 Aug 2021 සතුන්ට දෙන බෙහෙතකින් කොවිඩ් අඩපණ කිරීමේ හැකියාවක්',\n  'HOF'],\n [7625,\n  '@USER  @USER සක්කිලි ටික යයි මිනිස්සු interview කරන්න.. ගිහින් ගොබිබ ප්\\u200dරශ්න අහයි උන්ට උන් වගේ පෙන්නන්න.',\n  'HOF'],\n [7626,\n  '@USER ඔව් ඕන අන්තවාදී මුස්ලිම් එකෙක්ට තොපි ඉන්නවා තමයි. අහිංසක මිනිස්සුන්ටයි කවුරුත් නැත්තේ. මහින්ද රනිල් සිරා අනුර තොපි ඔක්කොම එකයි. කාළකණ්නි.',\n  'HOF'],\n [7627,\n  'අවුරුදු 30ක් කියන්නේ උවමනාවටත් කාලයක් රට දියුනු කරන්න. රට කාබාසිනියා කරන කාලකණ්ණි මරි මෝඩ උන් නැත්තන් අපූරුවට රට හදන්න පුලුවන්. එකම සිද්ධිය රටේ දේවල් එක එකාට විකුණනකොට රටට ඕනම මර්මස්ථාන අපේම පාලනයේ තියේද කියන එක. Nandana නන්දන @USER  · 23 Oct 2021 අවංකවම කියන්න බලන්න   ඊළඟ අවුරුදු 30 ඇතුළත ලංකාව දියුණු / ශක්තිමත් ආර්ථිකයක් රටක් පත් වෙයිද? Show this poll',\n  'HOF'],\n [7628,\n  'දෙමළ බෙදුම්වාදීන්ගේ $ වලට රටපාවාදෙන මුසලයා ලියුදේ කවුරුත් දැනගත යුතුමයි URL  #lka  #sriLanka #Galle  @USER  @USER',\n  'HOF'],\n [7629,\n  '@USER හොඳටෝම රට කැපවුනා, නහින දෙහින කාලේ පිනක් දහමක් කරගෙන ගෙදරට කැප වෙයං....රට විනාශ කරන පර හැත්ත..',\n  'HOF'],\n [7630,\n  '@USER උඹලා වගේ සංකර බල්ලන්ට / බැල්ලියන්ට / නපුන්සකයින්ට  නිදහස් මන්දිරයේ පිරිත් කියන කොට අසහනේ අපි දන්නවා  ප්\\u200dරේතයින්ගෙ ආණ්ඩුව තියෙන කාලෙ දෙසැම්බර් 31 රෑ 10 වෙනකොට  කාළකණ්නි ලයිට් නිවනවා.   ජනවාරි පලවෙනිදා එලිවෙනකොට නිදහස් චතුරශ්\\u200dරෙ ඉන්න ආස මිනිස්සුන්ව පන්න ගන්න  මළ පෙරේත හැත්ත!',\n  'HOF'],\n [7631,\n  'මුන්ගේ බිජ්ජ කලිසමේ සිප් එකට අහුවුනාම කෑගහනව වගේ, මොනාද *න්න  රැලක් #චුන්කි චුන්කි ගගා ගන්න ආතල් එක. මේකේ මෝඩ ජෝක් කාරයෝ වැඩයිදැන්. මූ කොහොමත් අසහන කාරයෙක් (හිස්තැනක්) හම්බෝ බෙල්ල',\n  'HOF'],\n [7632,\n  'නීතිය සාමය රැකීමට යයි කියමින් රටටම  @USER  සමාජමාධ්\\u200dය ජාලා අවහිර කර තිබෙන කාලය තුළ, #lka ජනපති අගමැති තම FB ගිනුම් update කරන්නේ කෙසේද? රටටම බලපාන නීති මොවුන්ට නැද්ද? නැතහොත් ඔවුන්ගේ මාධ්\\u200dය කණ්ඩායම්ද #proxyserver හරහා මෝඩ තහනම ඉක්මවා ගොසින්ද? #lka #Kandy #AiyoLanka!',\n  'HOF'],\n [7633,\n  '@USER එකෙක් නෙවෙයි, ඔය බූරුවො සෙට්එකක්ම ඉන්නව මචං. දෙරණ කොහොමත් ඔය වගේ බූරුවො ගෙන්නලා, ගොන් ආතල් දෙනඑක #අලුතින්සිතන්න දෙයක් නෙවෙයි කියල උන්ටනම් හිතෙන්නෙ',\n  'HOF'],\n [7634,\n  'Saman Edirimunee wrote:  \"රාළහාමි - නවත්තපිය බයිසිකලේ පර බල්ලා  යතුරුපැදිකරු - රාළහාමි  රාළහාමි - තෝ බැංකුවක්... URL',\n  'HOF'],\n [7635,\n  '@USER ටහුකන්න උඹඳ යකෝ black bolt  මං ඒත් බැලුවා මොකාද යකෝ අපේ ඒරියල් එක කියවෙන සිංදු දාන එකා කියලා',\n  'HOF'],\n [7636,\n  'Duke : \"තොට පිස්සුද යකෝ මට සුදු මැණික කියන්න. තොට ඇස් පේන්නේ නැද්ද ගොන් හරකා. කාගෙද බං මූ? කවුද මූ?\" Duke The Dog @USER  · 23 Jan 2021 සුදුමැණික නෙවෙයි රත්තරනේ කිව්වත් තරහයි තරහයි.   #DukeTheDoggy',\n  'HOF'],\n [7637,\n  'හුට්ටප්පරී හුච්චී හුක්කුච්චි හුජ්ජි හුමාලි හුංගාරි හුයන්නී හුත්තී හුකන්නී යම රජතුමා @USER  · 22 Nov 2019 පුලුවන් \"හු\" අකුරෙන් ගන්න කෙල්ලෙක්ගෙ නමක් කියන්න.',\n  'HOF'],\n [7638,\n  'කොහෙන් ගියත් හිටං තමයි අසරණ වෙන්නේ    ලක්ශේ ඔයාලට සාප වෙනවා කරපු අපරාදෙට   #lka #PoliticalCrisisLK',\n  'HOF'],\n [7639,\n  'දෙයක් කෙලින් කියලා ඉට පස්සෙ වටෙ උන් වද්දාගෙන මෙකෙ සබ් ගහ ගහ  හැමිනෙන්නෙපා   #කාටහරිවැදිය   ගොන් හැත්ත',\n  'HOF'],\n [7640,\n  'රටේ දරුවො නොහිතන කාලකණ්ණි පාලකයෝ., පටු වාසි, කොමිස් රටේ ආර්ථිකය කාබාසිනිය කලා විතරක් නෙමෙයි මුළු ජනතාවම ලෙඩ ජනතාවක් කරා.පිටි කිරි නිපදවන්න අධික උෂ්ණත්වයක් පාවිච්චි කරනව. දියර කිරි අධික උෂ්ණත්ව කුටීර තුල ස්ප්\\u200dරේ කරනව.  අධික උෂ්ණත්වය දියර කිරි වල තියෙන ස්භාවික',\n  'HOF'],\n [7641,\n  'Australian PM, cricket team එකට වතුර ඇද්දෙ පකෙ සරල කමක් හින්දා නෙමෙයි ඔයි. That was a PR stunt. නොදකින් මෙ ලංකාවෙ ගොබ්බ හැත්ත. #lka',\n  'HOF'],\n [7642,\n  'කෝමද කියාන් රටක් විදියට පස්සෙන් පස්සට යන්නේ? දිනේශ් චන්දිමාල් නෙවෙයි යකෝ මොකෙක්ද එකෙක්.  #NextLevelPageAdmin කෙනෙක් පේනවා URL This Tweet is unavailable.',\n  'HOF'],\n [7643,\n  '@USER මුන් කැරලි මෙහෙයවන රට ජාතිය ආගම කාල විනාශ කරන්න ආපු පාපතර හැත්තක්. රටෙ අනාගතය රැකගන්න ඉන්න දරුවන් බිල්ලට තියාගෙන මුන්ගේ බඩගෝස්තර හොයාගන්න දගලන හිගන්නෝ දෙන්නෙක් .',\n  'HOF'],\n [7644,\n  'හුත්තෝ තෝ තෝ තෝ තෝ තෝ තෝ තෝ තෝ තෝ තෝ තෝ තෝ තෝ තෝ තෝ තෝ තෝ තෝ තෝ තෝ තෝ තෝ තෝ තෝ තෝ තෝ තෝ තෝ තෝ තෝ තෝ තෝ තෝ තෝ තෝ තෝ තෝ තෝ තෝ තෝ තෝ තෝ තෝ තෝ තෝ තෝ තෝ තෝ තෝ තෝ තෝ තෝ තෝ තෝ තෝ තෝ තෝ තෝ තෝ තෝ තෝ තෝ තෝ තෝ තෝ 280 ආවා',\n  'HOF'],\n [7645,\n  'කෝච්චිය එන්නකලිං නගින් ගිහින් තමා ගී සතියෙ අපේ ඔෆිස් බුවෙක්ට කකුලක් සදහට නැථි උනේ..මං කෝච්චිය සම්පූර්න නැවැත්තුවට පස්සෙ ගෑනි වගෙ ලතාවට ගිහින් නැගල හිටගෙන යනෝ.. කකුල් කැඩුනොත් පුක තියං පෑ බාගෙ වගෙ නෙවෙ නේ..',\n  'HOF'],\n [7646,\n  '@USER @USER  ඔබ කියන ‘අවජාතක‘ ඔබේ හැදින්වීමෙන්ම පේනවා! ඉස්සල්ලා ශිෂ්ඨ වෙන්න! පසුව සංවාද කරමු  @USER  #lka',\n  'HOF'],\n [7647,\n  '@USER හම්සා නැමති වල් බල්ලා! ඌ කිව්වා ඌව බෝඩිමෙන් එලියට දැම්මා කියලා 4/21 ප්\\u200dරහාරෙන් පස්සේ හෙන පචයක් මේකේ! ජාතිවාදීයා!',\n  'HOF'],\n [7648,\n  '@USER ඇමති කෙනෙක්ගෙ ගෙදරක් හරි හොටෙල් එකකට හරි තමයි උස්සන් යනවා ඇත්තෙ, සංස්ථාව ගාව ගත්තාම ලෙසිනේ, නිත්\\u200dයානුකූලයි.. තූ  කාලකණ්ණි',\n  'HOF'],\n [7649,\n  '@USER ඇදිරි නීතිය හදිසි නීතිය අතරේ ඊයෙ රාත්\\u200dරියෙ මුස්ලිම් ගෙවල් , පල්ලි , ව්යාපාරික ස්තාන ගිනි තබල කඩා දාල සින්හලබෞද්ද (තනිවචනයකි) ත්\\u200dරස්තවාදීන් මන්කොල්ල කාපු සිද්දිය එක නිවුස් එකක්වත් නැහැනෙ ..',\n  'HOF'],\n [7650,\n  '2/2  අනුන්ගෙ වැරැදි ගැනම හිත හිත ජීවත් වෙලා, අනුන්ගෙ වැරැදි ගැනම හිත හිත නාකි වෙලා, අනුන්ගෙ වැරැදි ගැනම හිත හිත මැරිලා යනවා...  අනුන් තරහෙන්ම ජීවත් වෙලා, අනුන් තරහෙන්ම නාකි වෙලා, අනුන් තරහෙන්ම මැරිලා යනවා...  කාලකණ්ණි ජීවිත!  මාත් එවැනිම එක කාලකණ්ණියෙක්...',\n  'HOF'],\n [7651,\n  'පකෝ මුන්ගේ කතා අහද්දී බෙල්ලේ වැල දාගන්න හිතෙනවා. මුන්ට මේක විහිලුවක් වේදනාව දන්නේ ඒකයි ඇත්ත. මුන් ගන්නේ ආතල් එකක්   හුත්ත sorry for my language',\n  'HOF'],\n [7652,\n  \"@USER  @USER පොහොට්ටු පාක්ෂිකයෙක්නම් මෝඩ කම ඉහින් කනින් බේරෙනවා. ඉස්සෙල්ලා කියලා තියෙන සිංහල තේරුම් අරන් හිටපං. නුගත් වහලා. වැඩිය ඕනේ නැහැ 'පොහොට්ටු මන්ත්\\u200dරී' කියලා ගූගල් සර්ච් එකක් දීලා බලපං හරකා.\",\n  'HOF'],\n [7653,\n  '@USER  @USER උබට සෙට් වෙලා ඉන්නෙ තඩි බඩුවක් නේ ඉතිං ආයේ මටමොකටද. උබ කිව්වෙ මටත් ප්\\u200dරයෝජයක් ගනිම් කියලා',\n  'HOF'],\n [7654,\n  'යුක්රේනයෙන් ආපු සංචාරකයින්ට නවකොවිඩ් ප්\\u200dරබේදය වැළදිලාද? නැද්ද? කියල දැනගන්න අයිතියක්/උන්ව නිරෝධායනය කරවන්න කියන්න අයිතියක් අපිට නැද්ද.මාස්ක් නැතුව තැන් ගොඩකට යනවා.උදයංග නිරෝධායනය වෙන්නේ නැද්ද?වෙනවනම් කොහොමද?කාලකණ්ණි බයියන්ටනම් රාජපක්ෂලා ගේන වෛරසේකින් මැරුණත් සැපයි.ඒත් අනෙක් උන්',\n  'HOF'],\n [7655,\n  'මේවනෙ යකෝ ජොබ් කිව්වට නිකමට හිතන්න ඔය ගහන කට්ටක් එහා මෙහා වෙලා චුලක්ශි පැජන්ඩ් එකක් මැද්දෙදි දෙනෝ දාහක් ඉස්සරහ ඔය රෙද්ද කඩන් වැටුන කියල. සංහරේම ඉවරනේ  පාල @USER  · 16 Oct 2020 සමහරුන්ට සමහරකගෙ රස්සාවත් විහිලුවක්.',\n  'HOF'],\n [7656,\n  'ගෝටාබයට බල්ලා කියලා බනින ස්වාමීන් වහන්සේ නමක්..අද රටේ සැබෑ තත්ත්වය ස්වාමීන් වහන්සේ කියන්නේ #lka #SriLanka #COVID19SL #COVID19LK youtube.com බල්ලා.. පරයා.. ජනපතිට, අගමැතිට බැන වදිමින් භික්ෂුන් වහන්සේ නමක්... බල්ලා.. පරයා.. ජනපතිට අගමැතිට බැන වදිමින් භික්ෂුන් වහන්සේ නමක් පිස්සු නටයි.',\n  'HOF'],\n [7657,\n  '@USER  @USER මේවාගේ මිනිහ හරියට කතාකරල තියෙනවා මම පොන්නයද කියල උඹ කිවුවද ඌට පුකේ අරින්න ගියේ නෑඔය කිවුව පයිය කටට අරන්ද දන්නෑ ගොන්ද නැද්ද බැලුවේ',\n  'HOF'],\n [7658,\n  '@USER තමුසෙ වනචරයෙක් මම ප්\\u200dරෙග්නන්ට්   කොහොමද මම ඔයාව ඇල්ලුවෙවත් නෑනෙ   බලනව මේකෙ මෙ තියෙන්නෙ රතු ඉරක්   ඔ.... ෆ්\\u200dරෙන් ඔය HCG strip එකක්නේ.. ඕකේ ඉරි දෙකක් එන්න ඕනේ...',\n  'HOF'],\n [7659,\n  'මේකේ ඉන්න අවජාතක බල්ලෝ ඔක්කොම කැම්පස් වලට බෙදීගෙන මරාගන්වා.  කොරෝනා ව්\\u200dයාප්ත වෙලා ඉස්කෝල වහල.   විස්තරයක් දැනගන්න විදිහක් නෑ. ටයිම් ලයින් එක මුන්ගේ පඩ ආතල් වලින් පිරිලා  නවත්තගනිල්ලා',\n  'HOF'],\n [7660,\n  '@USER  @USER  14 others මම කිව්වෙ මූට Inferiority Complex කියලා... සීයක් දීලා දාහක කියෝනවා.. දේශපාලන හාල්පාරුවො වගේමයි... අපි මොකටද බන් ලොක්ඩවුන් අස්සෙ උඹ වගේ හාල්පාරුවෙක් හොයන්න ග්\\u200dරාම සේවකයො හොයන්නෙ?  පිස්සො කියන ඒවයෙ ඇත්ත නැත්ත හොයන්න අපිටත් පිස්සු යැ.. බන් #බෙට්ටො',\n  'HOF'],\n [7661,\n  '@USER  @USER නාකියාට හොඳටම මොංගල් දැන්. ඡන්ද ගන්න අනවශ්\\u200dය ආගමික සංවේදී කමක් පෙන්නලා හරි ගොඩ යන්න හදන උම්මත්තකයෙක්මූ. රනිල් සජිත් වගේම තමයි මේකත්. මුස්ලිම් ඡන්ද ගන්න මුස්ලිම් එවුන් නොමිගේ මක්කම එක්කන් යන්නත් බැරි නෑ.අපේ දෙමව්පියෝ කොහොමත් අපිව දහම්පාසල් යැව්වා.මේක අනිවාර්ය කරන්නේ රට හදන්නද',\n  'HOF'],\n [7662,\n  '@USER  තොපි සේරම එකයි බලාන යනකොට  ( තමුසෙ කියන්නෙ මට හෙලුවෙන් පික් එකක් දාන්න කියකද උලමො ) මොන හුයන්නක්ද යකොව්',\n  'HOF'],\n [7663,\n  '@USER  @USER කියන්නෙ නං අඩෝ අපිට ගෑනු කරදර නෑනේ..කොල්ලො තමා ජීවිතේ කියල ..සක්කිලි වැඩ කරන්න එපා බන් කොල්ලන්ට  @USER',\n  'HOF'],\n [7664,\n  'මම සමන්.. ඊයෙ ඉඳන් මං කොළඹ .. සිරිපා අය පාර දෙපැත්තෙ රෙනවා  හුජ්ජ කරනවා මදිවට පොලිතීන්  ප්ලාස්ටික් බෝතල් හලනවා දෙයියෝ උනත් මටත් නාහයක් තියෙනවා.පිරිසිදුව ඉන්න මාත් ආසෛ',\n  'HOF'],\n [7665,\n  '\"IRaj පකයෝ (ගෙඩියෝ) තෝ කුණු රස ට්\\u200dරැක්ටර් පිටින් විකුණන මිහිපිටි අපායක් බං...\"   කමක් නෑනේ නේද මචංලා යුගයේ... URL',\n  'HOF'],\n [7666,\n  'චන්ද්\\u200dරික බයවිද ? බොරුවට ආයුෂ වැඩිකල් නැතිවා මෙන්ම මෝඩ චන්ද දායකයෝ සැමදාම සිටින්නේය #lka #srilanka  @USER  @USER  @USER',\n  'HOF'],\n [7667,\n  '@USER  @USER කියලා පෝලිම් දාගෙන වදාපු අවජාතක හැත්ත උඹලා. හම්බයන්ටද පෘතුගීසි කැරියන්ටද කියලා හරියටම හොයලා බලාගනින් උඹලගේ ජාතකේ. මේකෙ ඉන්න වේස බැල්ලියන්ගේ පැණි අම්බුඩ එකතු කරලා තම්බලා බීපල්ලා ඔය කැරිකම හරියනවද බලන්න',\n  'HOF'],\n [7668,\n  'අප කර යුත්තේ සුපරික්ෂාකාරීව අපගේ අතීත ප්\\u200dරවේණිය සොයා දැනගැනීමයි\\u200d. අපගේ දැයෙහි සැබෑ නැගිටීම ඇත්තේ එහි නිසාවෙනි...  කැරි පක පයියේ දමා ගෙන ගොස් වේසියෙකුට දීම...',\n  'HOF'],\n [7669,\n  '@USER  @USER    නැහැ. මෙතන අපේ උන්ගේ වැරැද්ද තියෙන්නේ. OLD TWEEP කිව්වහම හරිම නං join වුන date එකත් එක්ක බලන්න ඕන. මේකේ ගොඩක් අය OLD TWEEP කියන මිම්ම භාවිතා කරන්නේ පරිණතභාවය මනින්න. මිම්මෙන් බලද්දි උඹ කිව්වා හරි. SS එක හෙන ගොන්',\n  'HOF'],\n [7670,\n  '@USER හම්බයෝ ඔක්කොම වෙල් සෙඩ්ලු  පුකෙන් හින ඕයි  පොනගලයෝ මයිත්\\u200dරී කරන්නත් අපිට රටක් ඉතුරු වෙලා තියෙන්නෙ  එපැයි.බෙල්ල කපලා වද කරනකම් බලන් ඉන්න තෝ වගෙර් හැමෝම පොන්නයෝ නෙමෙයි',\n  'HOF'],\n [7671,\n  'ලෝකෙ කියන්නෙ දකුණු ආසියාවට නෙවෙයි.. අනික අපේ රටට වැදගත් කෙනෙකුත් නෙවෙයි..පෞර්ෂයක් තිබුනු පුද්ගලයෙතුත් නෙවෙයි..සාමාන්\\u200dය පුද්ගලයෙක් අසාමන්\\u200dය මරනයක් එච්චරයි..ඉන්දියන් එව්වො ගඳ සක්කිලි..ඉතිහාසෙ ඉඳන්ම අපේ රටට කොඩිවිනයක්..අපේ සිනමාව විනාශ කෙරුවෙත් ඕකුම්මයි.. මාෂි @USER  · 14 Jun 2020 ලෝකේම දන්න මනුස්සයෙක් මැරුනාම මනුස්සයා නොදන්නා උනත් RIP කියන අය අතරේ ..   මං විතරද එයාව දන්නේ නැත්තේ කියන ඒවාටත් කියනේ #සෝබනමානසිකත්වය තමයි ඉතිං',\n  'HOF'],\n [7672,\n  'මූ අමන පාදඩ තුප්පහි සක්කිලි අවජාතක තිරිසන් හොරෙන්.සේරම හොරකන් කරන්න ඇත්තෙ මේකා තමා.ඒකනෙ පැරදුන ගමන් රට... URL',\n  'HOF'],\n [7673,\n  '@USER  30 වෙනිද පුකෙන් හිනාවෙන්නෙ මම. මෙහෙමයි සෝෂල් මීඩියා ඉන්නෙ සමහරු ගොඩක් ලොකු දහම් දැනුමක් තියෙන අය නෙමෙයි . චීවරධාරිය ගහපු ගැටේ මෑන්ටම ලිහාගන්න අමාරු වෙලා ඇඟ පත හැම තැනම ගූ ගාගන්නව. (1/4)',\n  'HOF'],\n [7674,\n  'හැමිනෙන්න ගියාම මොන ලබ්බකටද බල්ලෝ වීඩියෝ කරන්නෙ. මේක චූ කෙල්ලන්ටත් හොඳ පාඩමක්. යකෝ වීඩියෝ කර කර  හුකාගන්නෙ නැතුව නිකන් කරගනින් එතකොට මුකුත් ප්\\u200dරශ්න නෑ.. මේවට වග කියන්න ඕන දෙමාපියන් . උන්ට සෙක්ස් දැනුමක් නැතුව කොහොමද තමන්ගෙ ලමයින්ට ඒක කියල දෙන්නෙ. #අපරැක්ක',\n  'HOF'],\n [7675,\n  'එම්. කේ සිවාජිලිංගම්, මිහිදු - සංඝමිත්තා පිළිම දෙක අයින් කරපු එකට \\u2063පොහොට්ටුවට පුක දෙන උන් මාධ්\\u200dය ප්\\u200dරකාශ නිකුත් කරල තියෙනව දැක්කද බං?  @USER  @USER',\n  'HOF'],\n [7676,\n  'ටහුඩු , කලු කෙල්ලෙක් මේක RT කරලනෙ, රෙදි ඉල්ලෙයි Blood Diamond @USER  · 11 Nov 2016 Liberian Girl',\n  'HOF'],\n [7677,\n  'මං හිතුවේ \"අපේ ජන බල පක්ෂය\" නියම සිංහල පක්ෂයක් කියලා.  බලද්දි පක්ෂයේ සභාපති \\'සමන් පෙ\\u2063රේරා\" කියල පෘතුග්\\u200dරීසිකාරයන්ට රෙද්ද උස්සපු පරම්පරාවක එකෙක්...  ඉතිං කොහෙද පක්ෂයේ සමඟි\\u2063යක් තියෙන්නේ?',\n  'HOF'],\n [7678,\n  'අ/නිවත්තක චෙතියන්ස්ලා ඉස්කෝලෙ උපන්දින සැමරැම මාරයි  පොඩි හුජ්ජ කොල්ලො එකතුවේලා තොපි ඉස්කෝලෙ නම කන්න එපා බොරු සො... URL',\n  'HOF'],\n [7679,\n  '@USER @USER  නැග්ග වෙලේ ඉදන් හිනා පිස්සා කව්ද කීලා බලනවා බය වෙලා.... :-D නැත්තන් කෙල්ලෝ හරි හොදා .. මුස්පේන්තු නැතුවා ...',\n  'HOF'],\n [7680,\n  '@USER  @USER වෙන්නෙ තමා. මම මොකාද කියල දාපු එකා දන්නවා ඇති. ඒකයි පන තියේ වරෙන් කීවෙ.  යකෝ... ආතල් එකක් ගන්න ඕන ගන්න පුලුවන් තැන් තියෙනවා. පලයංකෝ එහෙම. ඔච්චරම අමාරුයි නම්.',\n  'HOF'],\n [7681,\n  \"සැන්ඩි හුක නඩුවේ ඇලෙක්ස් ජෝන්ස් ඇ. ඩොලර් 100000ක් ගෙවයි. Al Jazeera Breaking News @USER  · 1 Jan 2020 Families of the Sandy Hook victims say they have been subjected to harassmentdeath threats from Jones's followers. URL\",\n  'HOF'],\n [7682,\n  'රටේ ඉදිරිගමනට විරද්ධව ජාත්යාන්තරයේ කුරුමානං අල්ලන හතුරු රැල අයිති නාලිකා වල වගේ බහුබූත දමන්නේ අරමුණ \"පොන්න මෝඩ\" විදිහට හිතන ජනතාවක් බිහිකිරීම පේනවනේ  #lka #sriLanka #SriLankanPolitics #Colombo  @USER  @USER  @USER',\n  'HOF'],\n [7683,\n  'අපේ උන් සෙට් එකක් පුක ඉරන් පහුගිය ටිකේ නැග්ගෙ මේක තමා. The following media includes potentially sensitive content. Change settings View',\n  'HOF'],\n [7684,\n  '@USER ඉංග්\\u200dරීසී එක ආතල් එකට දැම්මා කියමුකෝ. ජීවිතේට ක්\\u200dරිකට් බලන්නේ නැති එවුනුත් සංගා ටෝක්ස් ඉශූ කරලා. මුන් දේශපාලන ලබ්බ වල් මිනිස්සුන්ගේ හිතේ තදින්ම කා වැදුනු සංගා වගේ චරිතත් අපිට පිළිකුල් කරන්න හදනවා. හුකේ. අපි හාවෝ නේ.',\n  'HOF'],\n [7685,\n  'නීති විරෝධී ගවයින් ප්\\u200dරවාහනය කළ සිව්දෙනෙක් (04) නාවික හමුදා භාරයට මොනවත් කරන්න ඕනේ නැහැ තමයි වෙලාව සමාජ දුශිතයෝ ඉවත් කරන්න. ලෝකයේ බොරු #HumanRights මානව හිමිකම් බල්ලාට ගිය මොහොතක් මේ. අපිත් අපේ රටේ කාලකන්නි හැත්ත ඉවත් කරන්න වෙලාවක් කර ගනිමු #nCoV19 #COVID19 අවස්තාව',\n  'HOF'],\n [7686,\n  'උදේ කෝච්චියෙ ෆුට් බෝඩ් ආව කෙල්ලෙක් ඉඩනැති නිසා..ඇතුලේ උඩ ඉඳි කොල්ලෙක් යාලුවො එක්ක අරලමය ෆුට්බෝඩ් කියලා දහ වතාවකට සද්දෙන් කිව්වා.. . හුත්තො මං ෆුට්බෝඩ් ගිහම තොගෙ බිජ්ජ කසනවද? කියලා ෆුට්බෝඩ් ගිය ගෑල්ලමයම ඇහුවනම්... සිරාම ආතල් ඉතිං..',\n  'HOF'],\n [7687,\n  '@USER  @USER  36 others උඹ දන්න දෙයක් ගිහින් උසාවියෙ කියපන්කො, මොකක්ද airbus ගනුදෙනුව කියල.,මැරුනකෙනාට කියල ලියවලනම් ඒක ගිහින් CID කියපන්, උඹලගෙ ගම් වල එල්ලිල මැරෙන උන්ටත් ගෝඨාබය වගකියන්න ඕන... ඕවට කියන්නෙ  ගොන් බිජ්ජන්ගෙ ප@# තියරි කියල්.',\n  'HOF'],\n [7688,\n  'පාද යාත්\\u200dරාවට බිය වි ඇදේම හුජ්ජ සිරිසේනට ශිරාල් රුවන්ගේ වෙබ් පැම්පරය අන්දවයි  පාද යාත්\\u200dරාව හමුවේ බියෙන් සලීතව... URL',\n  'HOF'],\n [7689,\n  'ලංකාවේ බුදු දහමට අපහාස  කරන ආගමක් දහමක් ජාතියත් ජන්මයක් අම්මෙක්  තාත්තෙක් නැති  අවජාතක උපතක් ලැබු අන්තවාදී අන්\\u200dයාගමික මිත්\\u200dයා දුෂ්ට්ක  පූසාරියෝ.',\n  'HOF'],\n [7690,\n  'තෝ දන්නෙ මං කවුද කියලා දෙන්නේ බොට කොන්ද කැඩෙන්න.උස්සල ගහනවා පොලේ වල් පරයා\" කියමින් හොදට බස් එකෙන් බැහැල යන්න ගියා.....  මට තියෙන අවුල කවුද බොරු කිව්වෙ කියන එක  යාචකයා .7% ටිකට් විකුණන මිනිහා .3%  votes · Final results',\n  'HOF'],\n [7691,\n  '@USER වැදගත් මිනිසුන් චරිත ඝාතනය කරපු  ප්\\u200dරසිද්ධ පුද්ගලයන් පෞද්ගලික ජිවිත විනාශ කරපු  බෞද්ධ හික්සුන්ට අපහාස කරපු නඩු තින්දු වලට බලපැම් කරපු  පාදඩ දෙසපලනෙයේ යෙදුණු ජනතාවට බොරු සමජගත කරපු මඩ ජඩ පුක්මන්ත හිරේ දපු උත්තරීතර ස්වාධීන අඨිකරනයට මගේ හද පිරි  ප්\\u200dරනමය',\n  'HOF'],\n [7692,\n  '@USER @USER  අපේ රට කන්න දෙන්න එපා. මුගේ පස්ස ලෙවකන ගොංවංශ, ගොංමංපිල පොන්නයෝ මේවා තේරුම් ගත්තොත් හොඳයි.',\n  'HOF'],\n [7693,\n  'පක්ෂයක් පාලනය කරගන්න බැරි අවජාතක හැත්ත #යහපාලනයක්  කියල එකක් ගෙනල්ල  ජාතියම රවට්ටලා රටම අම්බලමක් කළා @USER  @USER  @USER  @USER  @USER  @USER  @USER lanka C news @USER  · 23 Aug 2019 ඇමතිවරුන් 05ක් අස්කරන්න අගමැති තීරණය කරයි.. URL',\n  'HOF'],\n [7694,\n  'එකෙක් ඇමරිකාවේ ඉඳන් ඇවිත්, මෙහෙ දුප්පත් පොඩි මල්ලියෙක්ට ඉස්කොලේ සපත්තුවක් අරන් දීලා එකේ ෆොටො එකක් එෆ් බී දාලා. හම්මෝ උට මිනිස්සු බැනලා තියන තරම්. හු*තෝ ඌ ඇමරිකාවේ යන්නේ ඌ හම්බකරන හැම රෙද්දම උබලට පුදන්නද? අනික උගේ පර්සනල් අකවුන්ට් එකේ ඌ මොන ලබ්බ දැම්මත් උඹලගේ පු* කසන්නේ ඇයි?',\n  'HOF'],\n [7695,\n  'කැරි පොන්න හුකන්නල ඔක්කොම එකයි .හුකවන්න ඕනෙ හැති කරේටම හුකෝනව  නිගමනය #අංතවාදී_මුස්ලිම්  = #මුස්ලිම්  එක සිංහල #පකෙක් මොනවත් මට කිවන් එක්ක එපා තොපිට එපානම් #block කරපන් නැත්නම් #Unfollow කරපන්. තොපි සිංහල ජාතියටත් පිළිලයක් මැරිය වහ බීල හුත්තිගෙ හැත්ත.',\n  'HOF'],\n [7696,\n  'එදා මම කීව ..ඤඅර දොරවකෙන් ආපු පිස්සු හුත්තිගේ මෙඩල් එක විකුණ ගන්න දීල ඔය ප්\\u200dරරශනේ විසඳන එක අනාගතයට වාසියි කියල. කෝ ඇහුවද ? පඩිත් දීල වාහනත් දීල ගෙවලුත් දුන්නා.',\n  'HOF'],\n [7697,\n  'RT  @USER : ජීවිත කාලයේ දී, අප පුංචි හුජ්ජ කොල්ලන් සැලසුම් කරන දේවල් වන්නේ අහම්බෙනි',\n  'HOF'],\n [7698,\n  '@USER @USER  රත්තරන් නෙවෙයි තඹක්ක උනත් හුත්තට අනිවාර්යයෙන් දිව දාපන්- ප්ලැටිනම් උනත් හුත්ත වැරදිලාවත් උගස් තියන්න එපා.  @USER  @USER',\n  'HOF'],\n [7699,\n  'තෝ පොඩි එකා ක්ලාස් දානෝ කියලා ක්ලාස් ගිහින් ක්ලාස් එක ලග රස්තියාදු කාරයොත් එක්ක කාබර ගිය. මදිවට ඒසි අහුවෙලත් නැහැ කියන   බෝඩිම ලගපාත ගෙදරක වලියක් ඇසුන මටත් ක්ලාස් පොඩි එකෙක් සිටියානම් කියා දරු දුක පහල විය.',\n  'HOF'],\n [7700,\n  'ගෑණු ලමයී පිරිමි ලමයීගේ මල් වගේ තියෙන චූටි හිත තලනවා. රිද්දනවා. පිරිමි ලමයී ගෑණු ලමයීගේ බෙල්ල කපනවා, පිහියෙන් අනිනවා, වේසි කියලා බනිනවා. ඕන්න ඔහොමයී වැඩේ වෙන්නේ.',\n  'HOF'],\n [7701,\n  'අඩෝ මැරැනට වේදනාවක් වෙයි බන් ලමයෙක් නැති උනොත් ඒක හිතද්දිත් පට්ට වේදනාවක් බන් , උබල හරි අමුතුම සත්තු කොටසක් සක්කිලි තොපි.........',\n  'HOF'],\n [7702,\n  'shimp ලා හදුනා ගැනීමේ ත්\\u200dරෙඩ් එකක් දාන්නද .. හැබැයි වැදිලා අඩාගෙන තැන් තැන්වල මගෙ පයිය කොටයි .. කෙල්ලෝ සෙට් වෙන්නෙ ගගා කියවන්න බෑ හොදේ',\n  'HOF'],\n [7703,\n  \"ලයික් ගන්න පොඩි එවුන්වත් බිල්ලට ගන්න සක්කිලි facebook page's, disgusting  Thisaranie (තිසරණී) @USER  · 23 Jun 2017 අපිත් යාළුවෙක් එක්ක තියා සහෝදරයෙක් එක්කවත් ෆොටෝ දාන්න හොඳ මේවායේ. පොඩි උන්ගේ ජීවිත කන හරක් හැත්ත.    Lankan Facebook ruins people.\",\n  'HOF'],\n [7704,\n  'කිකිලියොත් උන් දාන බිත්තර විකිනෙන්නේ 8 කියලා දැනගෙන බං චූටි බිත්තර දාන්නේ. පුක ඉරන්න ඕනේ ඕකූන්ගේ.කතා වෙලාද මංදා බිත්තර දාන්නේ.',\n  'HOF'],\n [7705,\n  'කවුද යකෝ Report කරන එක තාත්තෙකුට ඉපදුන් නැති බල්ලා Report කරන්න ඔන එක මං උබට කියලා දෙන්නම් කෙලින් වරෙන් පො** වැඩ... URL',\n  'HOF'],\n [7706,\n  'ජෙප්පො එකෙක්වත් ඉදලා නෑ..ලංකාවෙ වගේ අවුරුදු 71 රට පාලනය කරපු සුජාතපුත්\\u200dරයො ටිකක් ඉදලා තියෙන්නේ.. නොදකින් විතරක් මෙහෙම හිතන කාලකණ්ණි URL',\n  'HOF'],\n [7707,\n  'මහරාජාගේ අම්ම\\u2063ට හැමනෙන්න, කැරි කොටි වේසිඟේ පුතා..  හොඳමම දක්ෂයෝ තරඟයෙන් අයින් කරනවා. මොන පකේ නාලිකාවක්ද හුත්තෝ සිරස කියන්නේ?',\n  'HOF'],\n [7708,\n  'සමහර උන්ට අපි කියන ඒවා ලොකු ඒවා ගනන් ගන්නෙ ඇත්ත කිව්වත් පිලිගන්නෙ .මොකක් හරි කිව්වම ගොන් තර්ක ගෙනවා එකෙක් පඩයක් යවලා ඔන්සිජන් කිව්වම හැබැයි පිලිගන්නවා  ඊට පස්සේ ඔක්සිජන්මයි කියලා අපෙ එක්ක තර්ක කරනවා',\n  'HOF'],\n [7709,\n  '@USER මට කියන්නකො කෞද පොලිසියට ගරු කරන්නෙ කියල? ගරු කරන්න පුලුවන් චරිතද එතන ඉන්නෙ? නැත්තෙ නෑ. 100ක් ගත්තොත් 3ක් නැත්නම් 4ක් වගේ ඉන්නො පොලිසිය කියන නම හරි රකින. මනුස්සයෙක්ට කතා කරන්නවත් දන්නෙ අඩුම. වැඩක් කරගන්න ගියාම උන්ගෙ  මාර ඝනකම. නොදකින් උන් කාලකණ්නි.',\n  'HOF'],\n [7710,\n  'තොපි හින්ද අපිත් බැනුම් අහනව. පකයල. aravinda de alwis @USER  · 19 Dec 2020 ගැහැණියක ඩිග්\\u200dරිරියක් තිබ්බට වැඩක් , අඩුම ගානේ මහන මැශිමෙන් පාගලා මහන්නවත් දන්නේ නැත්නම් ඇත්තටම ඩිගිරිය හොදයි රෝල් කරලා පුකේ ගහන්න',\n  'HOF'],\n [7711,\n  'ඉදලා ඉදලා හිත ගියේ එක කෙල්ලටයි..  ඒකි තරම් බඩුවක් මුළු පිටකොටුවෙවත්                      නෑ..Friends...',\n  'HOF'],\n [7712,\n  'අපේ බීටීස ආමී එකට එක එක ඒවා කියන්නේ උබලට හරියට දෙයක් කරගන්න පුළුවන් වගේනේ ඉරිසියාකාර කුහක හැත්ත... ඔයාලා ඉන්බොක්ස් එන්න නංගී බොරුවට මුං එක්ක කියවගන්නැතුව අපි කතා කරමු...',\n  'HOF'],\n [7713,\n  'උඹට මඩගහන්න.. උඹේ අඩුපාඩු දකින්නම ඔනේ තරම් කට්ටිය ඉදිවී එත් උඹේ ගමන උඹට ඔනේ විදිහට පලයන් උන්ට ඔනේ ෆුකක් කියන්න... URL',\n  'HOF'],\n [7714,\n  'ආදරේ කියන්නේ හිමිකර ගැනීමම නෙවෙයිලු, පරිත්\\u200dයාගයලු.  මං කෙටියෙන් අහන්නම් ශුද්ධ සිංහලෙන්.....  හිමිකරගන්න නෙවෙයිනම්, එකෙක්ට අරං යන්න දෙන්න මොන හුත්තකටද යකෝ ආදරේ කරන්නේ.',\n  'HOF'],\n [7715,\n  'මොහොතේ තම තමන්ගේ පක්ෂයට, දේශපාලන මතයට පුක දෙමින් Post share කරන බයියන්, ටොය්යන්, ජෙප්පන් හෝ  නොයෙකුත් ගොන් ප#යින් ලෙසින් හැසිරීමෙන් වළකින්න...  එදා මෙදාතුර සිදුවන 70 වසරක් රටට සිදුවූ දුක්ඛිත ඉරණමට කාලකණ්ණි... URL',\n  'HOF'],\n [7716,\n  'උබව හම්බෙන්න කලින් තාත්තද ප්\\u200dරෙග්නට් උනේ .ඈ බන් ඒකට ඊයා කියන්නෙ හරකා.මගෙන් අහගන්නෙපා මල්ලි ඈ Haripriya de silvaa @USER  · 30 Mar 2019  @USER ඊයා හොදේ...',\n  'HOF'],\n [7717,\n  'පොන්න සිරිසේනයි පොන්න රනිලුයි එකතුවෙලා අන්තවාදි පර දෙමළට ආයේ රටේ ලේ වගුරවන්න නිත්\\u200dයානුකූල අවසරය දෙන ලදී මේ... URL',\n  'HOF'],\n [7718,\n  '@USER  @USER මෝඩ පකෝ. ඌ නෙමේ. තොපි ෆේක් එකක් රසික රසික කිය කියා පොර වෙන්න දගලන ලොන්ත හැත්තනෙ.',\n  'HOF'],\n [7719,\n  '@USER  @USER අලුගෝසු U N P ආන්ඩුවේ  සක්කිලි L T T E මිලේච්ඡ ත්\\u200dරස්ථවාදීන්  .J V P පාපතරයන් මිනීමැරීම් . රජයේ දේපළ විනාශ. නොයෙක් ආකාරයේ බලවේග වලින් රට ජාතිය බේරා ගැනීමට නායකත්වය දුන් නියමුවාණනි ඔබ තුමන්ට උත්මචාරය',\n  'HOF'],\n [7720,\n  'වේසියේ තෝ මළ මුත්\\u200dරා කරන්නෙ නැතුවද ලෝකෙට බිහිවුනේ.පවු යකෝ තාත්තා නේද බන් තොගෙ.වයසට ගියා කියලා මෙහෙම කරන්න... URL',\n  'HOF'],\n [7721,\n  'ටහුඩු  රස්තියාදුකාරයා @USER  · 6 Sep 2017 \"Necklace එකක් දැම්මම ගණිකාව\" එතකොට, - කරාඹු දැම්මම පොන්නයා - ඇට මාල දාන එකා සන්නාසියා - ටැටූ ගහන එකා කුඩුකාරයා  මරු රට ඕයි මේක',\n  'HOF'],\n [7722,\n  '@USER මුන්ගේ news . යකෝ අපේ website වල අහවල් එකක් ගන්නද ..  ඔය පොඩි කොල්ලෙක් ජොලියට කරන්න . පලයන් යන්න ගොන් ආතල් දෙන්නේ නැතුව .',\n  'HOF'],\n [7723,\n  'ඇ පර බැල්ලියේ උබේ පුතා එහෙම කියලා සිංහලයාව පාවලා දුන්නද ?   තුක් නොදකින් ගල් මුසලයා ආවදෙන්කෝ ලංකාවට චන්දය... URL',\n  'HOF'],\n [7724,\n  '@USER ,  @USER  @USER පුක. දැක්ක වෙලේ තමා පකෝ mention කරලම දැම්මෙ. SS දැම්මෙ ඕව නෝන්ඩි වෙලා යද්දි delete නිසා.',\n  'HOF'],\n [7725,\n  'අවජාතක ආන්ඩු වලට චන්දෙ දෙන කැපුවත් කොල විලිලැජ්ජාවක් නැති මන්දමානසිකයින් , තොපි ල0කාවෙ ඉපදුන රට ජාතිය මුහුන... URL',\n  'HOF'],\n [7726,\n  '@USER ඒකත් හොඳ වැඩක්. හැබැයි තෝරා ගැනීමට හොඳ criteria එකක් තියෙන්න ඕන. එහෙම එකක් හදන්න හොඳ වැටුප් පරිමාණ හදන්න ඕන. ඕවා ඉතිං මෙහෙ කරන්න ලේසි නැ ගොබ්බ ජෙප්පෝ එක්ක. උං එනවනේ සම අයිතිවාසිකම් ඉල්ලගෙන. කාලකණ්නි අනුවන හැත්ත.',\n  'HOF'],\n [7727,\n  '@USER  @USER    ඈ ගොං වස්සෝ අය වැය ගුරුවරුන්ගේ පඩි ප්\\u200dරශ්නේ විසදන්න විතරද? තොපි වගේ හරක් ඕනැ පුරන් කුඹුරු හාන්න. බලපිය කාලකන්නියා අය වැය අන්තර්ගතය සම්පුර්නෙන් !!තොපි තමයි රාජපක්ෂලාගේ අශුචි කකා ගුරු අරගලයට මඩ ගහපු අවජාතක බලු හැත්ත!',\n  'HOF'],\n [7728,\n  'හරකා මී හරකා වෙනස දන්නවාද..? . . . . . . . . .  . . . . . . . . . හරකා උබ වගෙ... මී හරකා මං වගෙ..',\n  'HOF'],\n [7729,\n  'මැරුන මිනිස්සු කොයි ආන්ඩුවේද?  ඒව හොයනව කියල ආවේ කොයි ආන්ඩුවද? ඒක හොයන්නම කියල ඡන්දෙ දුන්නු කොයි ආන්ඩුවේ මිනිස්සුද? පාර්ලිමේන්තුවම දැනගෙන ඉද්දි ගහද්දි කොයි ආන්ඩුවද? ආපු ගමන් අල්ලනවා කියල කිව්වේ කොයි ආන්ඩුවද?  ඒවට රැවටිල ගොන් බිජ්ජො වගේ ගිහින් කතිර ගැහැව්වෙ කොයි ආන්ඩුවේ එවුන්ද Slash - සිසිර @USER  · 3 Mar 2021 පාස්කු කොමිසම කොයි ආන්ඩුවෙ එකක්ද?',\n  'HOF'],\n [7730,\n  'ගොන් වානරයෝ කවද්ද තේරුම් ගන්නේ ලොකේ උන්ට විතරක් නෙමේ අයිති හැම ජිවීයෙක්ටම අයිතී කියන එක? කුඹියට ඇමීබාවට තියන අයිතියම තමා මුන්ටත් තියෙන්නේ කියන එක? URL',\n  'HOF'],\n [7731,\n  'අද එංගලන්තෙට 500ත් පොසිබල් කියලා ග්\\u200dරෑම් ස්වාන්කාරයා කියනවා  වල් පරයා හිතේ 500ක් ගහන්න! අපි මුලින් ගහලා තොපිට 150ත් පොසිබල් නැති කරන හැටි බලන් හිටපං අවලම් බල්ලා',\n  'HOF'],\n [7732,\n  'වැල්ලේ ඉද්දි පම්ප් එකක් සෙට් වෙලා වැටකෙයිය පදුරකට හුජ්ජ කරා, කැරි වැඩ කරන්නෙපා කියල කපල් එකක් පඳුරෙන් එලියට පැන්න',\n  'HOF'],\n [7733,\n  \"අල්ලගන්න කඩු කිනිසි පෙන්නන්න එපා කියලා ආණ්ඩුවෙන් මීඩියා වලට කියලලු. ටෞකන්ඩ කාව නලවන්නද යකෝ බබාහුකුම්. ෆොන්න පාණ්ඩුව   Where's our #MediaFreedom? #FreedomOfThePress? #FreedomOfExpression #FreedomOfSpeech?  Where's our #RightToInformation? #RightToKnow? #RightToTruth ?\",\n  'HOF'],\n [7734,\n  \"@USER තෝ වගේ අම්මප මම දන්නෑ මොක්කුද කියල උඹල හිතන් ඉන්නෙ හෙණ ඩයල් කියල කඩ්ඩෙන් කොටල ඇමරිකාවෙද තොපි ඉන්නෙ පුකේ පාට මොකද්ද තොගෙ තෝ හිතං ඉන්නෙ සුද්දෙක් කියලද එනව මෙතන 'එක්සෝටිසයිස්' කිය කිය මොන හුකන්නක්ද යකෝ ඒ? තෝ අඩුගානෙ පාවිච්චිකරන වචන වලින් බාගෙකවත් තේරුම් දන්නවද හුකාරිස් පරය.\",\n  'HOF'],\n [7735,\n  'කෙල්ලෙක් පකෝ  සෝස මල @USER  · 4 Nov 2021 Caption Please... @USER  @USER  @USER  @USER  @USER',\n  'HOF'],\n [7736,\n  'ජාත්\\u200dයන්තරයෙන් පුක දෙන්ඩ එන්ඩ කලින් පාරවත් ඔලුවෙන් වැඩ කරමු.  දැනටම වගේ දේවල් දාලා තියෙනවනම් ඉක්මනට අයින් කරපන්. කවුරු හරි දලා තියෙනව දැක්කොත් ඌටත් තේරුම් කරල දීල අයින් කරවපන්.  මතකනෙ කලින් යුද්ධෙන් පස්සෙ උන දේ ?',\n  'HOF'],\n [7737,\n  'චීනේ, කෝවිඩ් අදත් නගර පිටින් මිනිස්සුන්ව ගෙවල් ඇතුලට දාලා සීල් කරනවා. හුජ්ජ කරන්නවත් එලියට යන්න බැහැ. ලංකාවේ මෝඩ හරක් හිතාගෙන ඉන්නවා, අපිට ප්\\u200dරජාතන්ත්\\u200dරවාදය වැඩක් නැහැ කියලා. මට ලංකාවේ ඔලිම්පික් තියන තරමට දියූණු නොවුනට කමක් නැහැ, රෑට කොස් ගහ යට හුජ්ජ කරන්න නිදහස තිබුනාම ඇති.',\n  'HOF'],\n [7738,\n  'පුක කැඩිච්ච කඩිය වගේ දාන දාන හැම කමෙන්ට් එකටම රිප්ලයි කරගෙන ගිහින් ලයික් කර ගන්න ආසාවක් මස්සිනේ මට. මේකෙම... URL',\n  'HOF'],\n [7739,\n  'පක තමා  යවනවා බ්ලොක් ලිස්ට් එකට  Rasikalink @USER  · 15 Nov 2019 ලොකු සීන් පෙන්වීමද ආදරයකි  twitter.com/Rathgamaya/sta…',\n  'HOF'],\n [7740,\n  '@USER ඔය කතා හැම කුලකයකටම හරියන්නෑ, ඇත්ත.   ඕක මම කියනවා කියන්නෙ මෙහෙමයි. (මගේ අත්දැකීම් එක්ක.)  Is your daddy rich?   Yes? - No worries! You have many ways to win!  No? - උඹ ඉන්නෙ ලංකාවෙ නම්, යකා පුකේ බැඳන් හරි AL දාගනින්. නැත්නම් තැනකට එන්න නාකි වෙවී කන්න වෙන්නෙ අමු ගූ කටු.',\n  'HOF'],\n [7741,\n  '@USER නිකන් පලයන් ඇමතිතුමා යන්න ! මොන ආණ්ඩුව ආවත් ඔහේලා ඇමති .. උඹලව පත්කරන උන්ට ගහන්න ඕනි අම්මගෙන් බීපු කිරි මතක්වෙන්න',\n  'HOF'],\n [7742,\n  '@USER  තෝ වගේ මූ Rolling Stone @USER  · 2 Oct 2018 Hear Titus Andronicus’ surprise EP ‘Home Alone on Halloween’ URL',\n  'HOF'],\n [7743,\n  '@USER  හරක් හිතාගෙන ඉන්නවාද දන්නේ නැ  . රටේ ජිවිත, දේපල අවුරුදු 30 තිස්සේ විනාශ කොරපු #LTTE කොටියා උගේ මිලේච්චි හමුදාව හොද වෙලා #SriLanka ජනමාද්\\u200dය  @USER  @USER  සක්කිලි වීම රටේ බහුතර මිනිසුන් පිළිගනී කියලා.  . කරන උබ මොන බන්. හාල්පාරු මිෂනාරියෙක් මිසක්',\n  'HOF'],\n [7744,\n  'අවුරුද්ද 20 30 පැනලත් කොල්ලෙක් කෙල්ලෙක් කියන්නේ දේවත්වේ නෙවේ බං එහෙම උන් තරම් අවාසනාවන්ත ලොන්ත පකඩයෝ පරසක්වලකවත් කියන එකයි.  අලුත් පරම්පරාවේ (මාත් ඉන්නේ ඒකේ නේ ඕයි) එපා කරපු වැඩක් තමයි තමන්ගේ කාලකණ්ණිකම් වගහන්න තඩි අයිසින් පාරවල් ගාන එක',\n  'HOF'],\n [7745,\n  'ඇත්තටම පියුමි හංසමාලි චන්දිමාල් ඇප නිදහස් උනේ පියුමි හංසමාලි රෙද්ද උස්සලා පෙන්නන නිසාද..පර ගෑණිට මාධ්\\u200dය මයික් අල්ලනවා...එතකොට අර වයසක මිනිස්සු දින ගනන් හිරේ දැම්මෙ මාක්ස් නැහැ කියලා..රාජ කාරිය කියන්නෙ වදාපු අම්මව උනත් කමක් නැහැ කුදලලා හිරේ දාන්න ඕන..පියුම් වැදගත් ගැනියක්ද',\n  'HOF'],\n [7746,\n  '@USER  @USER    තෝ එතකොට වැදගත් කතාද මිනිහො කියන්නෙ?? ගැනියෙක් කතා කරන්න දන්නෑ, වැදගත් දේවල්ලු හොයන්නෙ..',\n  'HOF'],\n [7747,\n  '@USER හුකන්නෝ කොන්ද පන තියෙනවනම් ඔප්පු කරහන්. නැත්තම් කටයි පුකයි වහගෙන පැත්තකට පලයන්. අවුරුදු පහ හයකට මේකේ ඉන්නවා. උඹ එනවද මේකේ අනිත් උන්ට මං චරිත සහතික දෙන්න.',\n  'HOF'],\n [7748,\n  '@USER  @USER උඹට පුකද? මම නෙ කිව්වෙ. සො උඹ කව්ද මගෙ  අයිසේ වැඩක් බලාගනිම් පොන්න ආතල් දෙන්නෙ නැතුව. කෙල්ලො මැද්දෙ. මොකෙක්ද මූ',\n  'HOF'],\n [7749,\n  '@USER කරන කුපාඩි වැඩ ඔක්කොම කරලා උපන්දිනයට ආගමික වතාවත් කරානම් හරියයි කියලා හිතෙනවා... බූරු රැල... ඕකව අගමැති කියලා කියන්න පිට කොන්ද නැති නිර්ලජ්ජිත මාධ්\\u200dය.',\n  'HOF'],\n [7750,\n  'කාලකන්නි රෝග ලක්ශන ඔක්කොම හන්ගගෙන ඉස්පිරිතාලවලට ගිහිල්ලා, ඉන්න වැඩකරන මිනිස්සු ටික අමාරුවේ දානවා....  ඊට පස්සෙ නිකන් ලෙඩකටවත් බෙහෙතක් කරන්න දොස්තර කෙනෙල් නැති වෙනව.  සක්කිලි රටක් අමාරුවේ...',\n  'HOF'],\n [7751,\n  '@USER රාජපක්ෂට හීනමානයක් තිබුනේ. බණ්ඩාරනායක නමින් තිබුනානේ ජාත්\\u200dයන්තර ගුවන්තොටුපොළවල්, සම්මන්ත්\\u200dරණ ශාලා එහෙම. ඒවා නම්කරේ බණ්ඩාරනායක මැරුණට පස්සේ. මුන්ට ඕනෙවුනා ජීවත්ව ඉන්දැද්දීම තමන් නමින් හදාගන්න. තමන්ගේ ප්\\u200dරතිරූපය රට ණය කරා සක්කිලි රාජපක්ස.',\n  'HOF'],\n [7752,\n  '@USER ඉරාජ් නාකි වෙල මැරිල යනව නෙ බං එතෝට ඕක කරගෙන යන්න වගෙ එකෙක් ඉන්න එපැයි.  @USER',\n  'HOF'],\n [7753,\n  'තමන්ගේ සුබසිද්දිය තමන්ගේ උන් පාවා දෙන උන් සක්කිලි බං  දවසක ඕක අපිටත් කරයි. එතකන් පුදාගන ඉන්න ඔයාලා ඉන්නවා.',\n  'HOF'],\n [7754,\n  '@USER ඒකනෙ  උන් එහෙම නසරානි කියල අපිත් එහෙම වෙන්න ඕනෙ නැ. ඒත් එහෙම කියක වේස ගෑනි වගේ උනොත් ලංකාවටම අරල යනව. ඕකනෙ අවුල',\n  'HOF'],\n [7755,\n  '@USER  @USER    මං ඔය මුකූත් දන්නේ බංස්ලා..  මම හෙන ගොනා.. මාව පැත්තකින් තියලා ඔයාල තණකොල ටික කන්න ඇත්ති වෙනකං .',\n  'HOF'],\n [7756,\n  '-නවක වදය රෙද්ද අස්සෙන් බේරීම- එකෙක් හෙළුවෙන් හිටගෙන ඉන්නව. එකෙක් ඌ ළඟ බිම ඇණ තියල වාඩිවෙලා උගේ අහවල් එකට අතින්... URL',\n  'HOF'],\n [7757,\n  'මොන රෙද්දක් වුණා මොකට ගහගත්තා දන්නේ ඒත් මෙව්වයෙ ඇවිල්ලා තුන්වැනි ඇහෙන් දැක්කා වගේ ගොන් ආතල් දෙන්න එපා වහුතු හැතිකරේ. බෝම්බ ගහපු වෙලේ කොහෙවත් හිටිය සිපයියො අළු ගසාගෙන එන හැටි සිංහල කෑල්ලක් ගෑවුණොත් ඇති. ගහගත්ත මිනිස්සු එක්ක මුන් එක්ක තමයි මල පනින්නේ.',\n  'HOF'],\n [7758,\n  'ඉස්සර බයික් පැදපු මුකුත් කියන්නත් බෑ  වුනාට වේස බයික් කාරයොත් එක්ක බෑ .. හොදට පේන්න සිග්නල් දාලා එහා ලේන් එකට දාපුවාමත් නොදැක්කා වගේ අස්සේ රින්ගන්න එනවා මදිවට අතපය දික් කරන්නත් එනවා',\n  'HOF'],\n [7759,\n  'හොර තක්කඩි දේසපාලුවන්ට ඔබයි අපේ මුර දේවතාවා, ඔබයි අපේ මහත්තයා, ඔබයි අපේ පණ, ඔබයි අපේ තාත්තා, ඔබයි අපේ රත්තරන් අනාගතය වගේ ගොන් කතා කියන උන්ගේ පස්ස ලෙවින උගත් උනත් ගොබ්බයො ඉන්නකල් ගස් කැපිල්ල නවතින්නේ නැ... හොරා කන එක නවතින්නෙත් නෑ...',\n  'HOF'],\n [7760,\n  'මූ වගේ කැරි පොන්න වේසිගෙ පුතෙක්.  @USER  @USER  @USER  @USER  @USER  @USER  @USER sunanda deshapriya @USER  · 28 Jul 2018 සංහිදියාව! ජාතික යැයි කියා ගන්න සිංහල ආණ්ඩුවේ රූපවාහිනියේ් සජීවීව ගැයෙන ගීතයක්:  \\'රණ බිම මැරුණේ සිංහලයෙකු පපුවේ වෙඩි සළකුණ ඇත්තේ සතුරට ළය මැරුණේ ලේ පැල්ලම් පිට පැත්තේ \"  #SriLanka @USER @USER @USER @USER @USER',\n  'HOF'],\n [7761,\n  'අහිංසක මිනිස්සු කන්න නැතුව දුක් විදිනවා...  වගේ හිවල් සුනඛයෝ අවජාතක වැඩ කරනවා....  මුන් තැනට ආවේ කොහොමද කියලා කතා කරලා වැඩක් නෑ...  කොරෝනා අපේ මිනිස්සු ඉගෙන ගත්තොත් වගේ වල් බල්ලෝ හරියන්නේ රට පාලනයට නෙවෙයි..වැසිකිළි වළවල් පිරිසිදු කරන්න කියලා, ලොකු දෙයක් Azzam Ameen @USER  · 11 Apr 2020 Balangoda Mayor (UNP) under fire for destroying a stock of vegetables by adding Kerosene URL',\n  'HOF'],\n [7762,\n  '@USER අප රටේ මෙතරම් පිටරැටියන් අතින්  හින්සාවට ලක් වෙනකොට ගොන්නු 69 තේරූ රට රකින නළුවා ඇද අස්සෙද..',\n  'HOF'],\n [7763,\n  'ජාති බේදයක් නැතිව සියලුම දෙනා ලාන්කිකයන් සලකන්න...  හැබැයි මොකකටහරි කතා කරොත් ජාතිවාදේ අවුස්සනවා කියලා රෙද්ද උස්සන් එයි...',\n  'HOF'],\n [7764,\n  'යහපාලනයට කඩේ ගිය පර හැත්ත අද කියන කතා අහනකොට අපිට නෙමෙයි කතිරේ ගහපු තොපිම් හිතලා බලපල්ලා #lka #SriLanka #SriLankan  @USER  @USER',\n  'HOF'],\n [7765,\n  'අත් වසා මුව වසා කතුරකුත් තියාගෙන ආපු බලු වෙදා කපා මා හීනියට අල්ලලා අඩුවකින් හිතක් නැති මාව මරන්නයි හදන්නේ හෙන ගහපියවු තොපිට මොහොතකට ඉල…',\n  'HOF'],\n [7766,\n  'ඔහේප් ... පලයන් ..... කතාව මොකක්ද .. ? කියන්නේ යකෝ රට පාවා දෙන සිංහලයෝ  අර දොන් ජුවාන් ධර්මපාල නියායද අනුගමනය කරන්නේ. ගෝල්ෆේස් පිට්ටනියට ගෙනත් සියලු දෙනාගේම දැනගැනීම දඬුවම \"හරක් ගොම\" ගහන්න යෝජනා කරමු neetwit @USER  · 9 Dec 2019 #lka #sriLanka #SriLankanPolitics #Colombo @USER @USER @USER',\n  'HOF'],\n [7767,\n  'සමහර හම්බ පකයි මේකට ඇවිත් ජාත්\\u200dයන්තරයට පේන්න හොටු පෙරං බොරුවට අඩන එකයි, සිංහල උන්ට අනන් මනන් කියන එකනම් ලැට් එකක්. බිජ්ජ මුලිං කපල දාන්න හිතෙනවා පකයින්ගෙ. හරියට පංසල් වල කඩු තිබිලා අඔඉ බෝම්බ පිපිරෙව්වා වගේ. ටෝක් දෙන්නෙ හාමුදුරුවරු ගැන. ඕකුංගේ මවුලවිලා',\n  'HOF'],\n [7768,\n  '@USER තමුසෙල අවුරුදු හතරහමාරක් ආණ්ඩුව කෙරුවා.. කොරෝනා ත් නැතුව යුද්ධය කුත් නැතුව තිබුන කාලේ තමුසෙලා ආර්ථිකය ගොඩ දැම්මද? පිස්සු ජෝක් ඕයි මේවා',\n  'HOF'],\n [7769,\n  'පේන්නෙ නැද්ද පිස්සු හුකන්නා. එනකොට හොඳට කියලා දීලා ආවෙ. නිට්ටඹුවේ නිහාල් එක ගාව. අච්චර සෙනග ඉන්න තැන. කාලකන්නියා.',\n  'HOF'],\n [7770,\n  '@USER මං හිතුවේ අරුන්ට කඩේ එක විතරයි කරන්නේ කියලා බලන් යද්දි මුන් දෙලොවටම නැති බලූ ගූ චැනල් එකක් නේ   @USER',\n  'HOF'],\n [7771,\n  'මම දැකපු ගොන්ම තර්ක වලින් එකක් තමයි සුද්දෝ බෙට්ට දාලා පුක පිහිදානවා උඹලා පුක හෝදනවා රැප්වල කුණුහරුප... URL',\n  'HOF'],\n [7772,\n  '@USER  @USER මේකට දේශපාලන සම්බන්ධ කරන්න එපා කීයලා චතුර කියනවා ජනාධිපති පත් වි පිබිදීම ආවේ ඒකත් දේරනට ලකුණු දාගන්න හදනවා මේවා කැත වැඩ',\n  'HOF'],\n [7773,\n  'පුදුම කෙළියක්නෙ අපිට උනෙ  කබැල්ලෑවගෙ ගෙදරට උරැලෑවා රිංගත්ත වැඩේනෙ  සක්කිලි කල්ලතෝනින්ට ඉන්න දීල අපි පලයල්ලා එළියට මැද පෙරදිග @USER  · 4 Oct 2016 \"හමුදාව උතුරේ ජනතාවගේ ඉඩම් කොල්ලකමින් මිනිසුන්ට වද දෙනවා..\" - විග්නේශ්වරම් ස්විට්සර්ලන්තයට කිය URL',\n  'HOF'],\n [7774,\n  \"හාල් කෑලි ෆෝම් කරන්නෙ යකෝ මෙහෙ. G. S. Vivek @USER  · 10 Dec 2017 It seems I am trending in Sri Lanka:) good but certain facts can't change. And I still stick to my wordsopinion about this Lankan side.  #INDvSL\",\n  'HOF'],\n [7775,\n  'පකෝ තෝ මෙතන කියවන් එන්න එපා  තූ යකෝ හොඳ දෙයක් කෙනෙක් කරාම ඒකට රඟන එකට කොහොවත් ඉන්න තොට පුකේ අමාරුවද?  දෙයක් කරාම ඒකේ හොඳක් දකින්න බලපන් නිකන් සබ් ගගහා දගලන්න ගත්තාම තොගේම පොන්න කම තමා පේන්නේ',\n  'HOF'],\n [7776,\n  '@USER ඕක, ලයික්ස් ගන්න බල්ලාව කිඹුලෝ ගැවසෙන ඇලකට දාලා බලන් ඉන්නවා බල්ලා මිනිස්සුන්ට බයේ උඩට එන්නේ නැහැ නැත්නම් ඔය වගේ තැනකට දාලා රෙකොඩි කරන්නේ මොන ඉටිගෙඩියද පව්කාර.....හැත්ත',\n  'HOF'],\n [7777,\n  '@USER සිරාවට! ප්\\u200dරසිද්දියේ කතා කරන්නේ ඔහොමයි ඌට. නම්බර් එක සේව් කරලා තියෙන්නෙත් වේසි කියලා once I called him that in front of a teacher',\n  'HOF'],\n [7778,\n  '@USER  @USER  46 others කුලී ලියන්නෝ බලපියව්, යුද්දේ කරපු එකා අතපය නැතුව රෝද පුටුවෙන් බිමට බස්සලා යුද්දේ විකුණගෙන කාපු කම්බා හොරාගේ කකුල් දෙක ලග, කාලකන්නියට බැරිද රෝද පුටුව ලගට යන්න. අනිකා බලපියව් යුද්දේ අතරේ හොරා කාලා පැනලා යනවා. තොපි වගේ අවජාතකයෝ මුංව ඇදැහුවාට දැං ඇත්ත කවුරුත් දන්නවා.සක්කිලි!',\n  'HOF'],\n [7779,\n  '@USER අශ්ව පඩ බැටලු පඩ අලි පඩ ඔටු පඩ ඩොල්ෆින් පඩ වඳුරු පඩ බැල්ලි පඩ පූස් පඩ කොටි පඩ කුකුල් පඩ බලු බඩ ඌරු පඩ මී පඩ මී හරක් පඩ පඩ පඩ',\n  'HOF'],\n [7780,\n  '@USER ඔය සංරක්ෂණේ ඉන්න කාළකන්ණි හැත්ත ගියොත් සතෙක් ඉවරයි. කොහොම හොයාගත්තු එවුන් ටිකක්ද මන්දා ජොබ් එකට. යකෝ උඹල කරන්න දැනගෙනම ඉන්න ඕන දේවල් නැත්නම් මොන කෙංගෙඩියටද සංරක්ෂණේ කියන්නෙ උඹලට!',\n  'HOF'],\n [7781,\n  '@USER රටේ බහුතරයක් ඉන්නේ එදා වේළ හොයාගෙන කන මිනිස්සු  ඉතිං රු.1000 හොයන්න මිනිස්සු නොවිඳින දුකක් නෑ. වගේ දුක් විඳින මිනිස්සුන්ගෙනුත් හොරකං කරන උන්ට සාප වෙනවා ඉතිං',\n  'HOF'],\n [7782,\n  '@USER  @USER    ශොපින් බෑග් ලබ්බෙ එල්ලගන්න තෝ හිතුවද මටත් තොට වගේ ලබ්බ ලීක් කියලා ඈ යකෝ',\n  'HOF'],\n [7783,\n  '@USER යකෝ,ලංකාවේ පොතක් පත්තරයක්වත් කියවන්නේ නැද්ද යකෝ ?ඔය තෝ කියන විදිහට ඇමරිකාවට කඩේ ගිහින් උන් එක්ක හිටපු උන් යුදෙදේ නවත්තන්න ප්\\u200dරභාකරන් ළඟටම කී පාරක් ගියාද ?ගෙවල් වල ඉන්න වැඩිහිටියෙක් ගෙන් අහපංකෝ ලලිත් ඇතුලත්මුදලි එහෙම,පරගැති හැත්ත කරේ යුද්ධය ඉවර කරන්න හදනකොටම නවත්තපු එක',\n  'HOF'],\n [7784,\n  'ඉර අව්වටත් බයේ දගලන යහපාලන පොන්න දේශපාලුවො අද කොටින්ගේ උවමනාවට හිරේ දාන්නේ රට වගේ කැපකිරීම් කරපු... URL',\n  'HOF'],\n [7785,\n  'මගේ ගෑනිගේ හොද කම කියන්නේ එකී මට හැම වෙලේම කියන්නේ කොච්චර වේස කමේ ගියත් කමක් ගිහින් ගෙදර එනකොට පයිය හොදට... URL',\n  'HOF'],\n [7786,\n  '@USER හිරු, දෙරණ, ස්වර්ණවාහිනියට සාපේක්ශව සිරස හොද tv channel එකක්. කක්කා ගොඩක් කියලා කියපු දේ පිළිගන්න අමාරුයි.  By the way, යහපාලනේ කාලේ සිරස පිස්සු කෙලියද කියලනම් මං දැනුවත් නෑ. මාත් කාලේ දෙරණෙ වඳ සැත්කම්, වඳ කොත්තු, බැඳුම්කර වංචා නිව්ස් ඇහුවේ.',\n  'HOF'],\n [7787,\n  'අසභ්\\u200dය වචන මුසුකර අවජාතක යැයි සහජීවන දොඩනවුන්ට පරිභව කරන වහලා තම ගමට අලුතින්  පදිංචියට එන සිංහලයා\\u2063ව පිටගම්කාරයකු කොන් කරයි.',\n  'HOF'],\n [7788,\n  '@USER බුරන පිස්සු බැල්ලියොන්ට මොකටද ඔයා රිප්ලයි කර කර ඉන්නේ. ඒකිගේ හැටි දන්නවා නේ. ඔක්කොම කියලා අන්තිමට ඔයාට නෙමෙයි ලු කිව්වේ.',\n  'HOF'],\n [7789,\n  'අයවැයට අත උස්සන බත් බැලයන්ට ප්\\u200dරාඩෝ ජීප්-කෝටි 322 රටට අහිමි වේ  රනිල්-මෛත්\\u200dරී අවජාතක අයවැය සදහා ඡන්දය භාවිතා... URL',\n  'HOF'],\n [7790,\n  'ඉන්නකම් මව්පියන් කියන දේවල් කනකට නොගෙන, මව්පියන්ට සලකන්නේ නැතිව, මව්පියන්ගේ සිහින සැබෑ නොකර, මව්පියන් මිය ගිය පසු පට්ට විදිහට රගපා මින්  ඔවුන්ගේ නැති වීමේ අඩුව කතා කරන බහුතරයක් සමාජයේ ඉන්නේ. උන් කාලකන්නි. ලබන ආත්මේ ඒවායේ පල විපාක ලැබේවි',\n  'HOF'],\n [7791,\n  'මාර වැඩේ කියන්නේ හැම දෙසපාලුවම හිතන්නේ රට හදන්න පුළුවන් උට විතරයි ඌ නැත්තන් අපි මහපාරේ කියලා.. රෙද්ද තමා... #lka',\n  'HOF'],\n [7792,\n  'රට විශාල ආර්ථික අර්බූදයක.   අර බුද්ධික පතිරණයි, කාවින්ද ජයවර්ධනයි සිරස වැඩසටහනක කෑම උයනව. නොදකින් මෙහෙම මහජන නියෝජිතවරු.',\n  'HOF'],\n [7793,\n  'එවිටම ඒකනායක මහතා ලමයාට කිවේය,  \"අඩේ පරයා තොපේ එකා සිදාදියෙන් පිටි බෝල 3ක් ඇන්න එනවා. තොපේ පොඩි එකී ඔක්කොම කොටාබානවා, තොට කීයක් ඉතුරුද?\"   ඇසු ලමයා \"පොඩි එකී 3ම කොටා බෑවා මට පුකද ඉතුරු වෙන්නේ \" කිව්වලු.',\n  'HOF'],\n [7794,\n  '@USER  @USER  @USER  වගේ මෝඩ එකේ හොදම මෝඩ ඇමතිලා ඉන්නේ මොන රටේ මොන පක්ෂේද බලන්න වීඩියෝව URL',\n  'HOF'],\n [7795,\n  '@USER මොනවා උනත් ඒකි කියන්න ඕනෙ දේ කෙලින්ම කියලා තියෙනවා අනික දිලිත්ගෙ කුඩු සීන් එක රංජගෙ හඩ පටි වලිනුත් එලියට ආවා රංජට ලෙටර් ඔෆ් ඩිමාන්ඩ් එකක් යවා ගන්න බැරි එකා ගෑණියෙකුට යවනව බුදුහාමුදුරුවො ගංජා ගැහුවයි කියපු එකාට කුඩු ගැහුවයි කියන එක අවුලක්ද',\n  'HOF'],\n [7796,\n  '#Twitter එපා උන උන් පල මෙකෙන්..   තොපි කියලා  @USER  මෙක වහන්නෙත් නෑ, අපි මෙකෙන් යන්නෙත් නෑ..   ඔ ඔ උබට තමයි කියුවේ',\n  'HOF'],\n [7797,\n  '@USER  @USER විල්පත්තු කැලෑවත් කපන්න දුන්නේ ගස් කාලකන්නියා. අවශේෂ කැලෑවලටත් කෙලින්න යනවා. තුනෙන් දෙක දීලා ව්\\u200dයවස්ථා හදලා දීලා රට විනාශ කරන්න දීපියව් 69 ලක්ෂයක් කුණු සැමන් බයියෝ ටික. බැසිලයා හදවතින්ම ඇමරිකන් ඒත් ගොන් බයියෝ හදවතින්ම ගොන්.',\n  'HOF'],\n [7798,\n  '\"අවසානයේදී එක් පිරිමියෙක් වස්තුව ලෙසද පිරිමියෙකු බඩුව ලෙසද ගැහැණියව වාස්තවීකරණය කරනු ඇත. එසේ වන්නට ඇයව රැජිණක් කලේද වෛශ්\\u200dයාවක් කලේද තමාම ඔවුහු කිසිදිනක පිලිනොගනු ඇත\"   Kuweni (කුවේණී) - Ridma Weerawardena ft. Dinupa Kodagoda |  URL via  @USER',\n  'HOF'],\n [7799,\n  'මෝඩ සින්හල හැත්ත, තොපිට 10.000ක් කලේ මේවා ගෙවන්න තමයී,  ගෙවපියව්,  මීට හකීම් අන්කල් ( හම්මෝ මෙයාට... URL',\n  'HOF'],\n [7800,\n  '@USER  @USER    උබල වගේ සක්කිලි ටිකකගෙ වැඩ හින්ද අර අහින්සක උබලගෙම උන් දුක් විදින්නෙ කියල උබලට තේරුම් ගන්න මොලයක් නැද්ද බං..',\n  'HOF'],\n [7801,\n  '@USER මොන සමයක්ද? තෝ කාගෙන් අහලද වල් බල්ලෝ මගේ photo ගත්තේ? ගස් බල්ලා. තෝ ඕන ලබ්බක් දානින්. මගේ photo අයින් කරලා. ගල් මූසලයා.',\n  'HOF'],\n [7802,\n  'ඩොක්ටර් ලා නරක වෙන්න බෑද ... උන් කියලා තැනකින් ලොකේට ඇවිත් රනේ.. මිනිහෙක් අතැරපු පලියට ගැහැණියක් බඩුවක් වෙනවානම් ඉතිං ලෝජෙන් බාගයක් ගෑනු බඩු .. ගොන් කතා නොකියා හිටු',\n  'HOF'],\n [7803,\n  'උන් පණදාගෙන අඳිනවා. . .මුන් ඊට උඩින් බැනර් පෝස්ටර් ගහනව  දැක්ක තැන ගලවලා කසළ බදුනකට දාන්න. #කාලකණ්ණි #LKA #ගුරුවරුන්ගේආදර්ශය',\n  'HOF'],\n [7804,\n  'සිරාවටම. කුහක හැත්ත Jerry \\uea00 @USER  · 10 Sep 2020 උඹලත් මොකක් හරි වැරැද්දක් වෙනකන් බලන් ඉන්නෙ ආන්ඩුවට බනින්න පොටක් පාද ගන්න උඹලට දුක රාජපක්ශලගෙ ගූ ටිකත් ලෙවකාගෙන කඩේ ගියපු අපිට ඉන්න රටක් ඉතුරු කරපු උන් ගැන, උඹලා කුහකයි උඹලා හිතන්නෙ උඹලා විතරයි තුහ් නොදකින් පාදඩ හැත්\\u200dත.',\n  'HOF'],\n [7805,\n  'අපේ එක හොඳම එක කියලා පයිය උනත් හැම එකාගෙන උලන්න ගියාම ප්\\u200dරශ්නයක් , ආගමෙන් ඔළුව උදුම්වා ගත්ත වේස  මිනිස්සු ඒක තේරුම් ගත්තොත් හොඳයි ආර්. බැද්දගේ @USER  · 3 Dec 2021  @USER ආගම කියන්නෙ පයියක් වගේ. අපේ එකතමා හොඳම එක. අපිටහෙන ආඩම්බරයි ඒක ගැන. අවුලකට තියෙන්නෙ අපි ඒක ප්\\u200dරසිද්දියේ වනන්නයි, අනිත් එවුංගෙ උලන්නයි තියාගත්තම හෙන අප්\\u200dරසන්න එක.',\n  'HOF'],\n [7806,\n  'යකෝ මැරෙන්න බයේ town එක වැහුවමත් ඒකටත් බයින උන්නෙ ඉන්නෙ. අම්මප දේසපාළුවො 225 ගිහින් රට කරවන්න පුළුවන් (ඉදල පැරදුනු උනුත් නෙමේ) එවුන් ටිකක් රටේ පහල එකක් නැද්ද?',\n  'HOF'],\n [7807,\n  'මගේ නිදහස් දින පසුවදන පැතුම ....  පෙබරවාරි 4 නිදහස් දින උළෙල පොන්න හිපියෙකු නොවූ, යටත් වැසි ජනතාවට තම දරුවන්ට සලකන, සොඳුරු ආඥාදායක පාලකයකු යටතේ නිදහස සමරන්න සියලු ලක්වැසි ජනතාවට ලැබේවා යන්නයි',\n  'HOF'],\n [7808,\n  '“සිරිසේන මහතා ජනාධිපති පත්කිරීමට දායක වීම අප කළ වරදක් අපට සාප වේවා. වගේම රනිල් වික\\u200d්\\u200dරමසිංහ මහතා නීතිගරුක පුරවැසියන්ගේ යහපාලන බලාපොරොත්තු බිඳ දැමීමේ වරදටත් අපට සාප වේවා.“-  මහාචාර්ය සරත් විජේසූරිය ( මාදුළුවාවේ සෝභිත හිමිගේ 77 ජන්ම දින උත්සවය) #lka',\n  'HOF'],\n [7809,\n  '@USER තොපි කුහකයෝනේ බොලවු. ගිය ආණ්ඩුවේ අරලිය ගහ මන්දිරයේ ලැග ලැග නීති හදපු උන් රට සාකච්චාවක් කරන්න තොපිට පාර්ලිමේන්තුව ඕනෑ.ඕවාට ජනතාව දෙයි නියම උත්තර 3% , 0% වෙන්න කල් රජෝ හොදට මතක තියා ගන්න.',\n  'HOF'],\n [7810,\n  '@USER යකෝ බොලාට වැහි නැති හෙන ගහන්ඩ ඕනෙ.. මං බීච් එකක ලස්සන බෙල්ලෙක් කියල ලඟ ඉඳපු එකාටත් ඇහෙන්න දැම්මෙ ජිම් එකේ',\n  'HOF'],\n [7811,\n  '@USER  @USER කවි නෙමේ එක තමා ඇත්ත..ඒත් ඉතිං පොලිටිකල් ගේම්ස් නොදන්න ලංකාවෙ මෝඩ හැත්ත කැමති නැත්තන් කොරන්ඩ බෑනෙ..යූ එන් පී ජේවීපී වහල්ලු රෙදි උස්සං කෑ ගහනවනෙ..අඩුම ඉස්කෝලෙ කාලෙ පුරවැසි අධ්\\u200dයාපනයවත් ඉගෙනගෙන තිබ්බ නං හරි..ඔක්කොටම ගොන්නු තම්බි.උංට නිදානෙ හම්බුනා වගේ කිරිබතුත් ඉව්ව',\n  'HOF'],\n [7812,\n  '.ගියේ නැත්නම් සොරි තමා ඉතින්.....සටන් ඉයර් ගියාම ඔලුව තියන උන් උන්ගේ පාඩුවේ වැඩක් කරගන්නවා පෙර කරපු කරුම තියන උන් කැම්පස් එකේම අයියලා වෙලා අලුතෙන්න එන උන්ව කන්න හදනවා...උන් වගේම කලකනි සෙට් එකක් අයේ බිහිකරනවා එකෙත් මොලේ තියන උන් පැත්කට වෙනවා අනිත් උන් අයේ අර විදිහමයි...',\n  'HOF'],\n [7813,\n  'මූ හෙන කෑල්ල කියල හිතන් ඉන්නෙ  Jerry \\uea00 @USER  · 25 Apr 2018 මම නැත්නම් මෙව්වට එයි මුන්... URL',\n  'HOF'],\n [7814,\n  '@USER  @USER කුණු දකින්න පුරුදු උන ඇස් වලට පේන්නෙම කුණු. මිනිස්සු මැරෙනව දැකලා කට පියන් ඉන්න පුලුවන්, මිණීමරුවගෙ අම්මට වේසි කියනවා අහන් ඉන්න බෑ.',\n  'HOF'],\n [7815,\n  'තෝ කරුමයක්  @USER  ! Calculus Wijesekara @USER  · 26 Dec 2017 Type \"තෝ කරුමයක්!\" And @ the 3rd person.',\n  'HOF'],\n [7816,\n  '\"අවදිවන්න අවදිවන්න දීප්තිමත් දි..\"  \"ඔය ලයිට් එක ඕෆ් කරපිය ගස් බල්ලෝ තොට දීප්තිය පෙන්නන්න කලින්..\"    සු.උ. ට්විටර් වාසීනී',\n  'HOF'],\n [7817,\n  '@USER @USER  උබේ ට්වීට් නිකන් නෙලුම් මල් පිපෙයි . පුක කසයි වගේ .  මුල කෑල්ල අග කෑල්ල ගැලපෙන් නෙ බං :-D',\n  'HOF'],\n [7818,\n  '@USER  @USER // රට වටේඔක්කොමටම දිලා නොදී හිටියොත් // සඳුනා බඩුව කියල දැනං හිටිය . . . ගොං බඩුවක් කියල දන්නෙ අද',\n  'HOF'],\n [7819,\n  'පොලිසියේ කියලා වැඩ්ඩො නෙවෙයි පකෝ උඹලා ලැජ්ජයි සිංහල උන්ට කරන දේවල් මමනම් අදින් පස්සෙ පොලිසියෙ පරයෙක් පාරේ මැරෙන්න... URL',\n  'HOF'],\n [7820,\n  'අම්මගේ රෙද්දේ වෙලාවක් නේ යකෝ ඒක  Miss Curly @USER  · 13 Sep 2021  @USER එහෙම තමා වෙලාවට වැඩ කරන්න ඔනී',\n  'HOF'],\n [7821,\n  'ජාතිවාදී Tweets දාන්න එපා රෙද්ද....  ඔය මොන්ගල් ගතිය අතහැරපල්ලකෝ...  . .  URL This Tweet is unavailable.',\n  'HOF'],\n [7822,\n  'අපේ ඇඩ්මින් කෙනෙක්  ළගදි මගේ යාළුවෙක් බස් එකේ යනකොට පොරගේ පයිය(පසුම්බිය : බන්දුල ගුණවර්දන අර්ථකතන අනුව... URL',\n  'HOF'],\n [7823,\n  'අපගේ දැයෙහි සැබෑ නැගිටීම ඇත්තේ එහි නිසාවෙනි...  කැරි පක පයියේ දමා ගෙන ගොස් වේසියෙකුට දීම... වත්මනේදී අවර ගණයේ (කුණුහරුප) ලා සලකන වදන් කිහිපයක නියම හෙළ අරුත දැක්වෙන පෝස්ටුවක් පෙරදිනයක උපු\\u200dටා දැක්වූ මාහට, එවැනි වූ වචන කිහිපයක නියම අරුත පලකරමි.',\n  'HOF'],\n [7824,\n  'උසේන් බෝල්ට් :- මම තමා වේගවත්ම සොනික් :- පුහ් මමයි ඕයි වේගවත්ම ෆ්ලෑශ් :- ලබ්බ තමා තොපි දෙන්නටම මම වේගවත් යකුනේ විජයකලාගේ ඇපේ :- keep talking bitches',\n  'HOF'],\n [7825,\n  'යකෝ, රෙදි කඩවල් වල කැශියර්ලට ඉන්න කෙල්ලො මොඩ්ල්ලට ලස්සනයිනෙ දවස් වල!! නම අහන්නමයි හිතෙන්නෙ. කොහෙද මම අම්මත් එක්ක ආවනෙ හරකා වගේ :P',\n  'HOF'],\n [7826,\n  '\\u200cවිදුහල්පති දණ ගැස්සුවම පාහරයව පිලිගන්න උත්සව තියන පෙලපාලි පිරිත්නූල් බදින්න කාලකණ්නි ඉන්න රටක් මේක...නොදකින් රට',\n  'HOF'],\n [7827,\n  \"ස'ගෙ බැරියාව වහන්න එදා වේල හම්බ කරන් කන පොඩි මිනිහව විකුනන් කන්න එපා යකෝ තොපිට හෙන ගහයි වහල් හැතිකරෙ  රට වහපු එදා වේල හම්බ කරපු මනුස්සයා අනෙ හුකෙ ඕවා හිතන්න තිබ්බෙ පැණි,මුට්ටි පෙරලපු කාලෙ එතකොට ඒවා කඩෙ ගිහින් අද පෙලපාලි පිටින් දාලා ඇග බේරගන්නවා ඊයා උත්තො සිකේ\",\n  'HOF'],\n [7828,\n  '@USER පිස්සු හුත්තලා බං, ගහමරාගෙන මොනවා ගන්නද. වීඩියෝ කරලා ඔක්කොම ඇතුලට දාලා කොල 100ක් විතර එකෙක්ට දඩ ගහන්න ඕන හැදෙන්න. හම්මො උදේම විසිට් එකක් දාලා දවල් වෙද්දි මාරුවෙන්න ඕන. කොහෙද කොනකින් ගත්තම කීතැනකින් බොන්න කියලද බොන්න දීපු එක බිව්වෙ නැත්නම් කොක්කට එන ප්\\u200dරෙන්ලා ඉන්නෙ',\n  'HOF'],\n [7829,\n  'හුත්තෝ වැරැද්ද මොකා කරත් වැරැද්ද, වැරදි හදන් ඉස්සරහට උන්ට යන්න දීපං, වැරදි පෙන්නලා දෙන එක කුමන්ත්\\u200dරණ කියන්නෙ කොහොමද ? කුමන්ත්\\u200dරණ වෙනම තියෙනවා, (ලංකාවේ කාර්\\u200dයෂමතාව අඩු කරන වගේ කාලකණ්ණි සෙල්ලමක් මිනිස්සුන්ට එපා වීම සතුටින් පසුවෙමි)',\n  'HOF'],\n [7830,\n  '@USER ඉස්සර මුස්ලිම් ගෙවල් ගානේ පල්ලි ගානේ කැමරා උස්සන් ගියා නේද කාලකන්නි . කොරෝන වැඩිවෙලා තියන එකේ දිලිත්ගේ ගැනිගේ රෙද්ද අස්සෙ කැමරා දාල breaking news දාපන්',\n  'HOF'],\n [7831,\n  'අංකල්ගේ එකම බලාපොරොත්තුව UN එකෙන් ලංකාවට කෙලවන එක. පොරට රට විකූණලා කීයක් හරි හොයා ගන්න පුලුවන්නේ.   මුං හරියට පිම්පීයෝ වගේ. මුලින් ගෑණු වේසකමේ යවලා සල්ලී හොයනවා. පස්සේ උංගේ පොටෝ විකුණලා සල්ලී හොයනවා.. කිසිම වැදගත් කර්මාන්තයක් ඉගෙන නොගත්ත කරුම ජීවිත. දෙමවුපියන්ගේ වැරැද්ද. sunanda deshapriya @USER  · 14 Feb 2021 UN failure on #SriLanka could spur worldwide pandemic of impunity #HRC46 URL via #SriLankaBrief',\n  'HOF'],\n [7832,\n  'මට හිතෙන්නෙ මූ සේවයට බැඳුනු දවසෙ ඉඳල නිවාඩු යන්න දීලා නෑ....  එක කාලකණ්ණි දරුවෙක්.. Supun Aparekka @USER  · 18 Aug 2020 කටුගස්තොට හමුදා සෙබළෙක් තමන්ගෙ අවු 12 දූල දෙන්නයි , අවුරුදු 14 පුතයි අපයෝජනය කරල. කලියුග කාලය කුමටද සාක්ෂි .',\n  'HOF'],\n [7833,\n  \"පොහොට්ටුවේ මඩකරි බලකායේ එකෙක් ඉන්නේ. මූට ඕනේ ජෙප්පන්ගේ නම දාගෙන උන්ට මඩ ගහ ගහ ෆේල් වෙච්ච 'ස' ව පාස් කරන්න. මේවගෙන් ඇත්ත තත්වය යටපත් කරන්න බැහැ වගේම, සක්කිලි ආණ්ඩුව එපා එක වෙන්නේ. #SriLanka #සෆේල් #SLPP  JVP UK @USER  · 28 Sep 2021 ලොක්ඩවුන් අතරේ ආන්ඩුව රටම විකුණයි      #Jvp2025 #AKD #SriLanka #lockdown\",\n  'HOF'],\n [7834,\n  'යනකොට සීතලට පපුව අස්සෙ ඩන්හීල්  දුම  මතකෙට එන්නෙ  පලවෙනි පඩියෙන් මං උඹට  ගෙනාපු හයිහීල්  දෙක  දාගෙන දෙක  පෑගුවනන් එදා මගෙ පක හිතත් එක්කම ගතත් මැරිලා අද තුන්මාසෙ බණ',\n  'HOF'],\n [7835,\n  'මෙලෝ රහක් නැති ඉන්දියන් පඩංගු වලට වහ වැටිලා ගොබ්බ සංකෘතියක් හදාගෙන එක එකාට බැනගෙන,,, ඉරිසියා කරගෙන ...වගේ වගක් නැතුව කොට්ට පුක අස්සෙ ගහගෙන දෙමාපියන්ගෙ දේපලෙන් කකා බිබී පුක උඩ දාගෙන පෝන් ඔබ ඔබා හිටපල්ලා... ඇති...',\n  'HOF'],\n [7836,\n  'මං නැති ටිකට කවුද මගේ  @USER  අයියට හරකා කියලා කිව්වේ.  අහුවෙන්න එපා හරිද එයාට ඒවා මේවා කියලා',\n  'HOF'],\n [7837,\n  'ඉන්න කෙල්ලො සෙම ආවාම කෙළ ගහන්නෙත් තාලෙට  තූ නොදකින්  කෙල ගහන්නත් උගන්නන්න ඕනෙ  පඩික්කම් අපරාදෙ  #සිතුවිලි',\n  'HOF'],\n [7838,\n  'බිජ්ජ කසා ගැනිමට නියපොත්තක් නැති කුරුටුගාමීන්ගේ  නවතම පාඨය   පලස්තීනයට ජීවත් වීමට ඉඩ දෙනු! ගාසා තීරයේ ජනඝාතන හෙළා දකිමු! - පෙරටුගාමී සමාජවාදී පක්ෂය URL via  @USER am.lk පලස්තීනයට ජීවත් වීමට ඉඩ දෙනු! ගාසා තීරයේ ජනඝාතන හෙළා දකිමු! - පෙරටුගාමී සමාජවාදී පක්ෂය පලස්තීනයට ජීවත් වීමට ඉඩ දෙනු ! ගාසා තීරයේ ජනඝාතන හෙළා දකිමු ! යයි සඳහන් කරමින් පෙරටුගාමී සමාජවාදී පක්ෂ මධ්\\u200dයම කාරක සභාව අද (15) නිවේදනයක් නිකුත් කොට තිබේ. පලස්තීනයේ ගාසා තීරය ආශ්\\u200dරීතව ඊශ්\\u200dරායලය...',\n  'HOF'],\n [7839,\n  '@USER උඹ විතරක් මොකද? අර පිස්සු හිටං, එතකොට රංගොන්ජා,  කැක්කුම තියන හර්ෂයා, රවී කරුපයියා. ඕනද?  @USER',\n  'HOF'],\n [7840,\n  'අවුරුදු 5කින් සර්වආගමික හැත්තට කියන්න පුලුවන් අඩේ ISIS අයියලා මම මීට අවුරුදු හත අටකට කලින් ඉඳන්ම පුක... URL',\n  'HOF'],\n [7841,\n  'අර ගොන් නළුවට පඩයක් ගියාලු .වූ කිව්වලු පඩයත් හොරකම් කලේ මහින්ද කියලා .අම්මපා ඔය නළුවාට අපේ මුත්තා කිව්වේ කුණු මීයෙක් කියලා',\n  'HOF'],\n [7842,\n  'යකෝ ඒකිට එපා නන් මරලා දාන්නැතුව මට දෙන්ඩ තිබ්බනේ ගල් මූසලී..ඒ අතින් පරන කොල්ලෝ සතුටු වෙන්ඩ ඕන..අපි පරට්ටයන්ව මැරුවේ නෑනේ',\n  'HOF'],\n [7843,\n  'ඇය උඹලගෙ බලය එදා පරබාහරන්ට පෙන්නුවේ නැත්තේ...?? අඩුකුලේ පර හැත්ත... Vikalpa @USER  · 26 Jun 2017 ඔක්කොම අමතක කරලා දාලා මොන හය්යකින් අපේ ගම ඇතුලේ හමුදා මුලස්ථානයක් අලූතෙන් හැදුවේ?...URL #land #srilanka',\n  'HOF'],\n [7844,\n  'වෙන, වුණ, වෙන්න නියමිත මෙලෝ හසරක් නොදැන, රටින් පිට ඉඳන් සියල්ල දත් වගේ පෙන්නන්න හදන රිංලොවන්නොයි, ගෙවල් වලට වෙලා ලපං ගහන ටිංකිම්බොයි, හුත්ත අස්සට රිංගලා; දකින දකින පයියවලුයි, පුක කහන කහන සැරේට හිතෙන හිතෙන... URL',\n  'HOF'],\n [7845,\n  '@USER අයියේ දෙමව්පියන්ගෙ වැරැද්ද...පොඩි කාලෙ මම යාලුවෙක්\\u200dට මෙහෙ එනවකො පොඩ්ඩක් කිව්ව එකට අපේ අම්මා මට පාර මැද්දෙ කුඩෙන් ගැහුව..එදා හැදුන එක තාම එහෙම්මමයි..හැබැයි ඉතිං කතා කරන වැඩිහිටියා වැඩිහිටියෙක් විදියට ඉන්න ඕන..බූරුවෙක්ට නං ඉතිං සාරධර්ම රෙද්ද අස්සෙ ගහං කතා කරන්නෙ',\n  'HOF'],\n [7846,\n  'බලේ අල්ලන් ඉන්න ජඩ-පාලන සක්කිලි ඕනෑම පහත් වැඩක් කරයි #sriLanka #lka  @USER  @USER  @USER  @USER  @USER  @USER  @USER  @USER  @USER  @USER',\n  'HOF'],\n [7847,\n  'ඔයාට / උබට / තොට  මට කියන්න මොකුත් තියනවා ද..?  දැන්ම කියන්න ,  අවස්ථාව මගැරගන්න එපා.   ලැබෙන අන්තිම අවස්තාව වෙන්නත් පුළුවන් මේක.  #අවස්ථාවක්',\n  'HOF'],\n [7848,\n  'කමලාගේ දිනපොත ස:වැඩට යද්දි වෙල අයිනෙ පාලුගේලඟ හිටපු නිමලයා කැත යෝජනාවක් කලා. වනචරයා අ:අදත් අරූ කතාවම කිවුව. වලත්තයා බ:නිමල් අදත් හිටිය. එයා කියනව මං ලස්සනයිලු, මලකෝලං බ්\\u200dර: මාව දැක්කම ලස්සනට පිස්සු හැදෙනවලු, පිස්සා සි: මාව නොලැබුනොත් නිමල් මැරෙනවලු සෙ:නිමල්ගෙ ජීවිතේ බේරගත්ත 𝘚𝘦𝘮𝘪 𝘊𝘰𝘭𝘰𝘯 ; @USER  · 6 May 2019 පනාගොඩ කෑම්ප් එකගාවින් බස් එකෙන් බැහැල ඇවිදන් එද්දි හමුදාවෙ ඩියුටි දාලා ඉන්න අය ස්ස්..ස්ස්ස්.. කියනවා, මහන්සිද අහනවා, දැන්ද එන්නෙ අහනවා..  හෙට ඉදන් කතා කරන්නෝන!',\n  'HOF'],\n [7849,\n  '@USER මල්ලි අහලා නැද්ද පරණ කවියක් තියනවා \"හුත්තට උඩින් පක තියලයි හුකන්නේ, එ්කයි පකෝ පක වැඩිමල් කියන්නේ\" කියලා?  එ් පුරුෂ මූලික සමාජයේ අපිට ලැබෙන නෛසර්ගික බලයක් තියනවා මල්ලි. එ් බලය යට කරන්න ප්\\u200dරොෆයිල් පික්චර් එකකට පුළුවන් කියන්නේ මල්ලි අපේ නොහැකියාව.',\n  'HOF'],\n [7850,\n  '@USER  @USER බිජ්ජ දන්න පුක :3 කාටවත් කියන්නෙපා බුකියෙ ඉන්නෙ හොරාට. මේක මගෙ කියල දැනගත්තට කමක් හැබැයි බුකියෙ රික් මං කියල දැනගන්න දෙන්නෙපා :3',\n  'HOF'],\n [7851,\n  'ජීව ගුනේට අබ සරණයි වගේදෝත් හිතෙනවා.  ජීවගුණේ පිළිබද පස්චාත් උපාධි ධාරියා හෝතඹුවෙක් එක්ක හැමනිසම් ගහලා කුදාර් උනාට පස්සේ එක එක පකෑලා වේස බඩුවගෙ අම්බලම වගේ කොරං මේක.  ජෙරී.... වී මිස් යූ බ්\\u200dරදර්.   ඌ ආපහු ඇවිල්ල හානව කියලා පක්\\u200dයූ කරන්ඩෙපා ඈ. මහසොහොන් @USER  · 12 Aug 2019 හාපික් දාල කක්කුස්සි පෝච්චිය හේදුවට මොන දහන් ගැටේ දැම්මත් චරිතෙ හෝදගන්න වෙන්නෙ නෑ. දැගළුවට වැඩක් කේශාන්තයේ පාදාන්තය ගූ නාගෙන.  ඕන්න එතෝට ඔද ඔප්සමක් තමයි ෆේක් එකවුන්ට් එකක් හදාගෙන මියාව් මියාව් හුරතලේ. හුකේ අපි නොදන්න ෆේක්.   (සිරාවටම දන්නෙ යකෝ මොකද සීන් එක) twitter.com/dead_mans_cree…',\n  'HOF'],\n [7852,\n  'මතක තියාගනිල්ලා කොල්ලනේ මින් පස්සේ උඹලා බිජ්ජ පිපුරුවත් කමක් නෑ, පාරවල් වල , ගස්වලට, පඳුරු වලට හුජ්ජ කරන්න එපා. පරිසරය විනාශ වෙනවලූ.. ආදි මානවයා හිටියානම් ඌ මානව හිමිකම් යනවා මේවා දැකලා..   එන්න අපිත් බිජ්ජ පුපුරවාගෙන පරිසරට සුරකිමු..  #පරිසරවේදියා',\n  'HOF'],\n [7853,\n  'බුදුදුහමට නිග්\\u200dරහ කරන බල්ලා ඇන ගනි  බුදුදුහමට නිග්\\u200dරහ කරන බල්ලා ඇනගනි...  මුගෙන් ඉගන ගත්තු උන්ට දෙවිපිහිටයි ..... URL',\n  'HOF'],\n [7854,\n  'ඔය ගහන පොල් ඔක්කොම ගහන උන් ගහන්නේ කාට හරි කෙළවෙලා පලයන් කියලා...  පුළුවන් මට එකෙක් පෙන්නපන් හොඳ හිතින්, පිරිසිඳු චේතනාවෙන්, ආත්මාර්ථකාමී නොවන අරමුණකින් පොල් ගෙඩියක් දේවාලෙක ගහපු...  හිත කුණු වුණ කාලකණ්ණි...  මමත් ඉස්සර ගහලා තියෙනවා... අත්දැකීමෙන් කියන්නේ...   #SriLanka #LKA',\n  'HOF'],\n [7855,\n  \"@USER පොර ටෝක් මයිත්\\u200dරිපාල ස'ගෙ ආන්ඩුවෙන් කරන කරන මරි මෝඩ ගොන් වැඩ සාධාරනිකරනය කරන්න ජෙප්පො සජබයො පුතානෝ කාඩ් එක ගහනවා දැකලා දැකලාම තමා\",\n  'HOF'],\n [7856,\n  'පිලිකා රොහලේ අයට තැබිලි දන්සලක් දුන්න ගැනු ළමයි කට්ටියකගේ ෆොටොස් අරන් අමන පොස්ට් හද කාලකණ්ණියෙක් දැක්කා...නොදකින්...මුන්..කෙල්ලෙක්ගේ ඇදුමක වතුර ටිකක් ගැවුනත් කුණුහරප...',\n  'HOF'],\n [7857,\n  '@USER දැං මේකට ගොටුකොළ පොන්නයෝ කමෙන්ට් කරයි බය නැතුව කන්න කාබනික පොහොර දාලා හදලා කියලා , යකෝ වම්බටු කොටුවෙන් කඩලා තමා පනුවෝ එළියට එන්නේ නැති වෙන්න තෙල් ගහන්නේ, පණුවෝ එළියට ආවා ඔව්වා විකුණන්න වෙන්නේ',\n  'HOF'],\n [7858,\n  '@USER ඝනිකාවෝ සහා බල්ලියොත් එක්ක නිදාගත්තාම උ විතරක් නෙමෙයි උන්ටත් නැගිටින්න වෙන්නේ මැක්කියොත් එක්ක තමයි. ඕක බඩුව කියලා නොදැනද කවුරු කවුරුත් ලං කර ගත්තේ. මුන් ගම්වල පරම්පරා ගානක් කබුරන පාක්ෂිකයින්ටත් වෙන්නේ අසාධාරණයක්.  @USER  #SriLanka #SriLankan  @USER  @USER',\n  'HOF'],\n [7859,\n  'විදියට රටෙහි සියලුම දේවල් තහනම් කරන්න #සිරිසේන අපේ රැවුල වලටත් අත් තියලා තමයි ඕකා පස්ස බලන්නෙ ....  ඕකාට පුලුවන් ඔය වාගේ වැඩ විතරයි.  #warningSL',\n  'HOF'],\n [7860,\n  'ලාංකික පොන්න ආණ්ඩුව හෙන ගහපන්.....  තොපි සිංහල ජාතියක් මෙහෙම කට වහගෙන ඉන්න එපව් බොල... හෙට වෙද්දි දන්නෙම නැතුව අපිටම හුකල යයි...තොපි කාල බීල රීලා කට වහගෙන ඉන්න හැකිතාක් පොන්න හුත්තේ ආණ්ඩුව කැලෑ... URL',\n  'HOF'],\n [7861,\n  '@USER  @USER කොච්චර ඉගෙන ගත්තත්, කොච්චර ඇසූ පිරූ තැන් තිබුනත් තමුන් විතරක් හරි කියල හිතන මිනිස්සු ලෙසටම ඔය තොප්පි දා ගන්නව. එහෙම උනාම ටිකක් අවුස්සල තිබ්බම අර එයා හරියි කියල හිතන් ඉන්න දේ ඇතුලෙ තියෙන බොරු හෙළුව රෙද්ද පල්ලෙ. ඉතිං අපිට තියෙන්නෙ බලා හිනැහෙන්න විතරයි.',\n  'HOF'],\n [7862,\n  '@USER  @USER හුත්තිගේ පුතා ආවද... කැරියා....අඩු කුලේ පද්දා....තොපි වගේ අඩු කුලේ නූගත් හැත්තගේ අවජාතක කම තොගෙන් පේනවා...තොගෙ වේසි තරමත් හිතා ගන්න පුළුවන්.. අඩු කුලේ කැරි පද්දා....ඈක්කා.   තෝ පද්දෙක් නැත්නම් කරාවෙක් තමයි අනිවාර්යයෙන්..',\n  'HOF'],\n [7863,\n  '@USER කාලකන්නි, බලපත්\\u200dර මගුල් තමයි, රට වටේ මුහුද තිබිලත් මාලුත් රටින් ගෙන්නන්නෙ. පස්සේ අඩනව රුපියල අවප්\\u200dරමාණය වෙලා කියල.',\n  'HOF'],\n [7864,\n  '@USER  @USER ටෝට පෙන්නේ කොළ රතු විතරයි ද. වර්ණ අන්ධතාවය ගිහින් බෙහෙත් ගනු පිස්සා. ලැජ්ජායි හලෝ කරන විහිලු වලට',\n  'HOF'],\n [7865,\n  'ගෙදරකට බලු පැටියෙක් ගෙනල්ලා.  බල්ලට කතා කරන්නේ ශැඩෝ මැණික කියලා.  ගෙදර කොල්ලට බූරුවෝ තෝ බල්ලා කියලා.  බල්ලා වැටුනා කියලා පොඩි එකාට බනිනවා. කොල්ලා අඬනවා මම යනවා මට ඉන්න බෑ කියලා.',\n  'HOF'],\n [7866,\n  '@USER බීපන් බීපන් අල්ලපු ගෙදට ඇන්ටි කිව්වා උබව ඉක්ම්නට මරන්න ඔනී කියලා තෝත් මෝඩය වගේ බොනවා ඉටිම් පෙරේත කමට හරකා',\n  'HOF'],\n [7867,\n  '@USER  @USER    පාර්ලිමේන්තුව විනාශ වෙලා ගියාම රටට යහපතක් වෙයි කියලා හිතන මිනිස්සුංගේ ප්\\u200dරාර්තනාවන් මම ඕනේ තරම් දැකලා තියෙනවා.  වගේ ස්තිර ප්\\u200dරතිපත්තියක නැති, සල්ලිවලට ඕනේ දහදුරා වැඩක් කරන තුප්පහි සක්කිලි ඉන්නකම් රට ගොඩගන්න තියා හිතන්නවත් බෑ!!!',\n  'HOF'],\n [7868,\n  'දිනේශ් ගුණවර්ධන පාර්ලිමේන්තුවේ හැසිරෙන්නේ, කෑ ගහන්නේ පරිණත, ආදර්ශමත් දේශපාලන්ඥයෙක්  වගේ නොව, ගාල කඩාගත් හරකෙකු ලෙසය. අලි සබ්\\u200dරි නැමැති ආධුනික හරකා අලුත් අවුලක් නැත. ඒත් හිතට අමාරු හර් ෂ සිල්වා විනය ගරුක, ඵලදායී මිනිසුන් උන් ලෙසටම කෑ ගහන්න එකය.',\n  'HOF'],\n [7869,\n  '@USER  @USER ඔව් බලාගෙන හිටපන්කො උඹලගෙ පස්ස පැත්තෙන් බෝම්බ යවපු දවසට තොපිට තේරෙයි එතකොට කෝච්චිය ගිහිල්ලා ඉවරයි යකෝ යන්න කෝච්චියක් ඇත්තටම යන්න කොච්චි ගිහිල්ලා ඉවරයි , ඉතුරු වෙලා තියෙන්නෙ තොපිලා ව වල දාන්ඩ විතරයි',\n  'HOF'],\n [7870,\n  'මේයා හිතන විදියට influencer  කෙනෙක් වෙන්න ටික ටික ඇඟ පෙන්නන්න ඕන..  ඔය විදියට හිතුවොත් පාර්ලිමේන්තු ගෑණු හෙලුවෙන් යන්න ඕන.. ගොනා කියලා මරන්නද ? බෑනේ බෑනේ  Anuradha Sooriyarachchi @USER  · 8 Jan 2020 අන්තිම පැය URL  අපි දිනනවාආදරේයි මට කරපු/කරන හැමොටම',\n  'HOF'],\n [7871,\n  'යකෝ ට්විටර් එකේ ෆලෝ කරල, මූනට හම්බඋනාම හොඳට කතාබහකරල ඉන්න සමහර උන්ටත් මාත්එක්ක පුදුම ඇරියස් එකක්නෙ තියෙන්නෙ. ඔච්චර ඇරියස් තියෙනව මොන ලබ්බකට මාව ෆලෝ කරනවද මන්ද. පිස්සු යක්කු',\n  'HOF'],\n [7872,\n  'කොහොමද සුදු පිරුවට ඇඳගත්  චම්පිකයා කියන කතාව. සරල අනතුරක් ලූ ඒක. හු....... කතානේ යකෝ මේවා. අනතුර සරල වෙන්නේ කොහොමද පරයෝ , අර කොල්ලාට තාම ඇවිදගන්නත් බෑ... තොපි වගේ එවුන් ජාතක වුනේ තොපේ තාත්තා සරලව අහවල් වැඩේ කරපු නිසා.. ගැඹුරට හිතුවා සරමේ පිහදාගන්නවා මනුස්සයා තෝව ජාතක නොකර.',\n  'HOF'],\n [7873,\n  '\" එක දේශපාලන කඳවුරක හෙළුවෙන් හිටගෙන අනෙක් කඳවුරට මඩ ගසන වගේ බඩගෝස්තරවාදීන් ඉන්නකම් කවදාවත් අපට \\u2063මේ අන්තවාදී හැත්ත හැතිකරේ සදහටම නැතිකිරීමට බැරිය \"  දිවුලපිටිය රෝහල පිටුපස බුදු මැදුරට එල්ල කල අසූචි ප්\\u200dරහාරය දේශපාලනීය කිරීම බෞද්ධයන් වු අපට ලැජ්ජාවකි.',\n  'HOF'],\n [7874,\n  '#පිස්සා  . පිස්සා - අර බලපන් අර පිස්සු යකා මිදුලේ ඔරැ පදිනවා  >:O  . පිස්සා - එකනේ අපිටත් පල් එකනේ :/  .... URL',\n  'HOF'],\n [7875,\n  'බීතෝවන් වුනත් කවදාවත් හිතන්න නැතුව තමන් පුක ඉරාගෙන හදපු සිම්පනි පාං විකුණන ත්\\u200dරීවිල් වල යයි කියලා  #FurElise #TukTuk #ChoonPan',\n  'HOF'],\n [7876,\n  'ප්\\u200dරශ්නෙ වේසිගෙ පුතාලාගෙ මොලේ කියන කලඳක් නැද්ද? අනුන් හිතන්නෙම නැද්ද? 31 යනකොට හැමෝටම කතා කරලා ගියේ.. හැම එකාම බයෙන් ඉන්න ඕන.   මට හැදුනට කමක්නෑ. ඒත් මගේ පොඩි එකා, ගෑණි අම්මා තාත්තා,...  නුවර මුස්ලිම් හෝටලේ කවුන්ටර් වල ඉන්න එකාලා මාස්ක් දාන්නෙ නෑ. පහුගිය දවස් වල',\n  'HOF'],\n [7877,\n  'බාබරයෝ, ඉක්මනට Nimalkaගේ කොන්ඩේ කපහං..  උඹේ සාප්පුවේ දාලා තියෙන ආදරයයි ඇහෙන කොට වමනෙට එනවා යකෝ — feeling... URL',\n  'HOF'],\n [7878,\n  'ලංකාවේ හදවත හමුදා මූලස්තානය අතයට කොමිස් මුදලට සැංගිලා එකට සින්නක්කර විකුණලා දැම්මා. පතිරණ මැට්ටෝ උඹගේ ගෙදර විකුණලා ගෑණි,ලමයි ඉන්නවනම් තැන් තැන් වලට යවලා උඹත් කොහෙ හරි කුලී ගේක හිටියොත් ඒකටද කියන්නේ ආයෝජනය කියලා?අශුචිම කාපන්,උඹලා වගේ කාලකන්නින්ට ඇබෑර්තු තියෙනවා රාජපක්ෂලා ලග!',\n  'HOF'],\n [7879,\n  '\"ඉගෙනගන්න තරමට නිහතමානී වෙන්න ඕන\" මේං ගොං කතාව කියාගෙන එන එවුන්ට දෙන්න ඕන පුකවල් පැලෙන්න.  යකෝ එතකොට දැනුම තියෙන එවුන් අනික් හරක් මොනා කිව්වත් \"\\u2063හා හොඳමයි\" කියලා නිකං අහං ඉන්න ඕන. වේස ගෑණි වගේ හැමේකාටම රෙද්ද උස්සන්න ඕන. නිහතමානී ව ඉවසන්න ඕන.',\n  'HOF'],\n [7880,\n  'බිලි ගන්නෝ  ඊයේ ෆෝම් කර එකා වේසි වගේ තාම කියවනෝ P U S P E @USER  · 17 Jan 2019 උමේශ් අද රෑට කවුරු සෙට් කරගනිවිද',\n  'HOF'],\n [7881,\n  '@USER  @USER වස්සෙ ඕලෙවල් වයසෙ ඉස්කෝලෙ එකෙක් වගේ කුණුහරප කියන්නෙ? කුණුහරප මැජික්ද තොට? ඔව් මගෙ අම්මා වේසි. තාත්තා පොන්නයා. යකෝ ඔය වචන වල බරක් නෑ. කුණුහරප වලට බරක් එන්නෙ මිනිස්සු ඒවා අහලා කිපෙනව නම්. කුණුහරප පඩේකට ගනන් නොගන්න මම වගේ එකෙක්ට ඕවයෙ සතපහක බරක්නෑ. උඹ බබෙක්ද බං?',\n  'HOF'],\n [7882,\n  'වහිනවෙලාවටයි පීක් ටයිම් එකටයි නැති ට්\\u200dරැෆික් හැදෙන්නෙ,  මොකක් හරි ඇක්සිඩන්ට් එකක් වෙලා මරිමෝඩ ගොං හැත්ත වාහන පාරෙ තියල වාද කරනව එක්කො insurance එකෙන් එනකන් ඉන්නව ෆොටෝස් අරන් ටයර් තිබුණ තැන් මාක් කරල අයින් කරපිය වාහනේ එහෙම අපේ උන්දල අම්මප මුට ගහන්නඕනෙ දඩයක් 50000ක විතර',\n  'HOF'],\n [7883,\n  '@USER කොල්ලා පොලිසියේ පැමිණි කරොත්... පොලිසිය : තමුසෙට පිස්සු අයිසේ කෙල්ලෙක් ෆොටෝ ගැහුවා කියලා පොලිසියේ පැමිණිලි කරන්න ?  අනික් පැත්ත උනොත්... පොලිසිය : නොදකින් අසහනකාරයා , නැගපං ජීප් එකට , සාජන් ඕකගේ ෆෝන් එක එහෙම අරං බලනවා අරවා තියෙනවා කියලා',\n  'HOF'],\n [7884,\n  'මේකේ රට හදන්න මහන්සි ගොඩාක් කොල්ලෝ කුරුට්ටෝ තාම උසස්පෙළ ලියලත් කියහංකෝ.. දන්න ලබ්බක් කරපල්ලා බං. තොපි දන්න දේසපාලනේ  #සිතුවිලි',\n  'HOF'],\n [7885,\n  'කොටි බුවාලට පට්ට අප්සේට්ලු බන්. පවු කියලත් හිතෙනවා වෙලාවක  @USER  යි  @USER  @USER  @USER  යි මුන්ව කඩේ යවන හැටියට #srilanka  @USER  @USER  @USER  @USER',\n  'HOF'],\n [7886,\n  'පෝට් සිටියට අදාල පනතක් කියලා හිතන් ඉන්න ගොබ්බයන්ට, අඩුම තරමින් ඔය පනත තොපි කියවලා තියෙනවද? වැඩක් බලාගනින් අයිසෙ තමුසෙ දන්න ඉතිහාස ලිවීම! මුන් තමන් සෙනරත් පරණවිතාන කියලා හිතාගෙනද කතන්දර කියන්නේ?',\n  'HOF'],\n [7887,\n  '@USER උඹලටත් මොංගල්නෙ. පුක ඉරන් ඔය ටික කිව්වට මුගෙ මතේ වෙනස් කරයිද? දේශපාලනේ බෝම්බත් ගහලා තමුනුත් බෙල්ල කපන් මැරෙන්නෙ ඔය ජාතියෙ උන්.',\n  'HOF'],\n [7888,\n  'මිනිස්සුන්ට පුක කහගන්න නියපොත්ත නැතත් නායකයෝ තෝරද්දි අඩි ගහන් නැති බඩු ගහන් නැති බිත්තරවත් කන්නැති සුචරිතවාදී බුවාලට කතිරෙ ගහනවා.  පරිභෝජනය නොකරන අවලං හැත්ත යටිමඩි ගහන්න විතරයි දන්නේ. අනෙක් මිනිහා කාලා බීලා ආතල් එකේ ඉන්න විනෝදේ උන් තේරුම් ගන් නැහැ.',\n  'HOF'],\n [7889,\n  '@USER  @USER එඩිරස් එක දාපන් සනුහරයක්ම ගෙදරට එවන් උඹ මොනවද පකෝ මම දන්නේ කටවහන් හිටපන් නැත්නම් ඇට දෙකත් එක්ක කටේ ඔබන්නේ පයිය',\n  'HOF'],\n [7890,\n  'ජර්සියේ ඩයලොග් නම ලොකුවට ගහල ලංකාවෙ නම පොඩියට ගහනව මදිවට සක්කිලි වැඩත් කරන්න අරන්. ටිකට් දෙනවා කියලා ඒව... URL',\n  'HOF'],\n [7891,\n  '@USER  @USER  11 others පල පල  යන්න  . . . තෝ බිජ්ජ දිහා බලන්න පීනිස්කෝප් එකක් පාවිච්චිකරනව නේද ?',\n  'HOF'],\n [7892,\n  'රනිල් UNP එක උදව් කරන්නේ එක්තරා පන්තියක් නියෝජයනය කරන ඇතිහැකි අයට මිසක්කා නැතිබැරි මිනිස්සුන්ට නෙවෙයි.  වුනාට බලන්න ඕනේ අතේ පිච්චියක් නැති UNP එකට ඡන්දේ දාන ගොන් බිජ්ජන් උජාරුව.  වැදෙන තැනකට වදිත්වා! රිදෙන තැනකට රිදෙත්වා!',\n  'HOF'],\n [7893,\n  'ගමෙ පාරක තොටක යද්දි හුජ්ජ බරක් හැදුනට අල්ලන්න බැදි කුට්ටියක්  නෑ..හැමතැනම ගෙවල්.. තට්ටු නිවාසවලට නොයා හැමෝම ඉඩං අරං ගෙවල් හැදීමෙන් ලොකු විනාසයක් වෙනෝ රටට පරිසරේට...',\n  'HOF'],\n [7894,\n  '@USER ප්\\u200dරබාගේ මිලේච්චි යුද්දයෙන් රටේ අහිංසක මිනිසුන් දිනුවා ඔහෙලා වගේ දෙකේ පන්තියේ දේශපාලකයින්ට වඩා.  @USER  @USER  @USER',\n  'HOF'],\n [7895,\n  \"විහිලු කරනව  කෝ මෙව්වට රෙද්ද උස්සන් වරෙන් .සිංහලයටම ගරහන බල්ලො ටික .තොපි මේක පුලුවන්නම් RT කරල ඔබේ අර සහුර්දයන්ව සතුටු කරහල්ල.  මේක බොරු හොදේ මූ කියල තියෙන්නෙ ,හය හතර දන්නෙ නැති උන්ට කියල දෙන්න ඕන නැත්නම් තොපිත් දැන්ම අරුන්ගෙ ගොඩේ බලු බෙටි පාගන්නෙ නැතුව හම්බ බෙටි කනව Fazlullah Mubarak @USER  · 27 Apr 2019 'කල්මුනේ සැකකරුවන් ඔත්තුව ආරක්ෂක අංශ ලබා දීලා තියෙන්නේ මුස්ලිම් පල්ලියෙන්' - හිතන්න! අපි ලාංකිකයන්\",\n  'HOF'],\n [7896,\n  '@USER හරකුන්ගෙන්, අලාභය දඩ මුදලක් අය කොරන්ට..! ජනතා පරමාධිපත්\\u200dය විනාශ කරපු එවුන්ට රටේ සාමාන්\\u200dය නීතියෙන් දඩුවම් ලබාදිය යුතුයි..!!! මේවා වහල් හිකනලුන්ගේ මහරජාගේ මෝඩ චුන්..!!!',\n  'HOF'],\n [7897,\n  'පිස්සු නාකියෙක් මූ sunanda deshapriya @USER  · 6 Dec 2021 #SriLanka parliamentary opposition held a \"Sinhala Only\" protest against ruling party violence writhing the parliament. කණගාටුවට කාරණේ පොස්ටර් ලියපු කව්රු වුණත් සංහල විතරක් දන්න කෙනෙක් වීමයි! @USER @USER twitter.com/sjbsrilanka/st…',\n  'HOF'],\n [7898,\n  'හරකා නැගිටිද්දී මං දැන ගත්තා  හරක් ප\\u200d්\\u200dරශ්නයක් තමයි අහන්ඩ යන්නේ කියලා.උම් බෑ,හරකා කියලා සතාට අපහාස කරන්න එපා, GMO එකට විරුද්ධ වෙලා රාජිත  වෙච්ච දේ දැක්ක නේද.',\n  'HOF'],\n [7899,\n  'කෙල්\\u200d\\u200dලො ටිකක් එකතු වෙලා, මහන්සි වෙලා මැච් දින්නා. කාලකණ්ණි, ඒකෙත් ජාතිය අවුස්සනවා.  ගොබ්බයෝ හිතන් ඉන්නේ ජාතික සමගිය කියන්නෙ, මිනිස්සුන් ගෙ පැටිකිරිය හොයලා ලේබල් ගහන එක කියලා.  තර්ජනී, කණ්ඩායමට ගන්නෙ උස හින්දා.... URL',\n  'HOF'],\n [7900,\n  'රටවල කක්කා හිරවෙලා එකෙක් මැරුනත් නිව්ස් දාන මීඩියා හැත්ත.. අර සිරියාවෙ දහස් ගනං බෝම්බ දාල මරනව.. එක නිව්ස් එකක ඒවා දාන්නෙ නැහැ...',\n  'HOF'],\n [7901,\n  'කාළකණ්ණි ස්වර්ණවාහිනී හැත්ත  වෙන්න ඕනේ කියන්නේ Wijesinghe Dissanayake @USER  · 9 Oct 2016 DGI @USER reminding the social responsibility of #mediawhat professionalism is ? #lka @USER',\n  'HOF'],\n [7902,\n  'සමඟි ජන බලවේගයටයි ලංකා පොදුජන පෙරමුණටයි දෙකටම වෙලා තියෙන්නේ නායකත්වයත් නැතිකම බල්ලෝ වගේ හැසිරෙන එක. ජනතා විමුක්ති පෙරමුණට ස්වයං විනයක් තියනවා. දෙමළ ජාතික සංවිධානයයි එක්සත් ජාතික පක්ෂයයි දැඩි නායකත්වය එක එකා ගොන් කතා කියලා නායකයන්ගෙන් බැනුම් අහන්නේ නැහැ.',\n  'HOF'],\n [7903,\n  '@USER උඹ වගේ බොරු නම්වලින් ඇවිත් ජීවිතේට නොදන්නා උන්ගේ ට්වීට් වලට කුණුහරුප කමෙන්ට් කරන්නේ උඹලා වගේ උන්ගේ අම්මලා තාත්තලා උඹලවගේ පොන්න පැටවු හදලා තියෙන විදියෙන්. තොට හරි හමන් ජාතකයක් තියෙනවා හැදියාවක් තියෙන අම්මෙක් තාත්තෙක් ලඟ හැදීලා තියෙනවා තෝ ඔහොම හැසීරෙන්නේ නෑ.',\n  'HOF'],\n [7904,\n  'එක අතකින් සිත් තැවුල සාධාරණයි. තමුන් ආදරය කරන කෑමක් misrepresent කරනකොට පොඩ්ඩක් අවුල් තමා. වෙලාවට educate කිරීම හරි පොඩ්ඩක් වැරැද්ද පෙන්නන එක එකක්. හැබැයි බොහොම competitive, world class competition එකක තරඟ කරනකොට තරඟ කරන කෙනාට මෙහෙම පඩත්තල, සක්කිලි වැඩ කරන එකනන් ඊයා... කක්කි. Jerry \\uea00 @USER  · 25 Jun 2021 .ඔලුව අතගෑම  .ටොක්ක ඇනීම  සේරම එයාට Master chef යාගන්න බැරි උන එහෙම නෙමෙයි වෙන්න ඇති..!',\n  'HOF'],\n [7905,\n  '@USER ගෙදර ගිහින් බදු ගහපන් පරයා.. හූරන් කාපිය මිනිස්සුන්ව... තොපි එකතු වෙලා උස්සපු සල්ලි එළියට ගනින්... කොමිස්(රටේ ලාභාංශ) ගහල ගත්ත බිස්නස් විකුනපන්... ඒවත් සල්ලි තමයි ...',\n  'HOF'],\n [7906,\n  'රෙද්දෙ රෙවිලා මදිවට ඕක හත්පොළේම ගාගන්නත් දඟලනවා..  තම තමන්ගේ පටු දේශපාලන අරමුණු ඉෂ්ට කරගැනීම ප්\\u200dරසිද්ධියේම වෛරය වපුරන මූ වගේ අවජාතක ජඩ-මාධ්\\u200dයවේදියෝ ඉන්න තාක්කල් රට හදන්න බැහැ.  #lka',\n  'HOF'],\n [7907,\n  '@USER මුස්ලිම් මිනිස්සු හොඳ අය ඉන්නවා..අන්තවාදියෝ උනත් බෝම්බ ගහන්හරි සාප අහගන්න හරි එලිපිටකරනවා ඕන දෙයක්..ඒක වෙනයි ..ඒකට අපේඋන් කොලේ වහල යටින් ගේම ගහන්නේ..කාලකණ්ණි',\n  'HOF'],\n [7908,\n  '@USER  @USER    ලොල් මොන බිජ්ජ කොල්ලෙක්ද!ඇයි උම්බෙ අම්ම තාම permission දීල නැද්ද කුනුහරප කියන්න?Sorry උක්කුන්! උම්බ උම්බෙ තාත්තගෙ ඇටේ ඉන්න කාලෙ ඉන්දන් හුත්තො අපි match බලන්නෙ! ඊයෙ පෙරේද ජන්ගි අන්දින්න ගත්ත කියල හිතන් ඉන්නෙ පොර කියල. අහ් හොන්දයි,දැන් අම්මගෙන් කිරි බීල චූ කරල බුදියන්!',\n  'HOF'],\n [7909,\n  'රජකාලෙ ප්\\u200dරේම අඳෝනාවක් මට සජෙස් කරනව දවස් දෙක තුනක්ම...මොන රෙද්දක් මේ..ෆෙන්ඩ් ලිස්ට් එකෙන් අයින් කලාම ආයෙ හමුනන්න එනෝ ..රෙද්ද..',\n  'HOF'],\n [7910,\n  'RT: තෝ දැනගනින් මම බැහැල එන්නෙ නෑ. මට වෙලා උගන්නන්න තියනවා. අවජාතක බල්ලා :P #SriLankanThreats  K.Siri sir',\n  'HOF'],\n [7911,\n  'විල්පත්තුව එලි කරනවා. එක පොලිසියේ එකෙක්ට ඒක පෙනෙන් නෑ.. ජනාධිපතිය බිජ්ජක් නැති අගමැති එක්ක එකතු වෙලා පුකක් අල්ලන් දඟලනවා...  මේක හරිම පුදුම රටක් අයිසෙ..  URL',\n  'HOF'],\n [7912,\n  'ඉස්සරහ ගෙදර ඉන්න මෝඩ මූසලය උදේ පාන්දර කොහේහරි ගිහින් ඇවිල්ලා උගේ ගෑණිට කියල ගේට්ටුව ඇරගන්න හෝන් ගහලා පානදර නිදාගන්න ගියපු මාව ඇහැරෙව්වා.',\n  'HOF'],\n [7913,\n  'හුත්තිගෙ පුතෝ ප්\\u200dරෝ පික් එක බලල ඉන්බොක්ස් එන්ඩෙපා අසහනකාරී හුත්තිගෙ පුතාල ටිකට කියන්නෙ:| සෙක්ස් කරන්ඩ අහන්නෙ ගහනව තොපෙ අප්පගෙ වම් ඇටේ දෙපාරක් වැදිල අම්මගෙ  වහුකුණු හුත්ත කුනුවෙන්න  කියන්නෑ ඔන්න:|',\n  'HOF'],\n [7914,\n  \"යම් කිසි දෙයක් වැරදුනු තැන හෝ යමෙකුට අපහාසාත්මකව චෝදනා කරන 'මන්ද බුද්ධික හැත්ත! මානසික ලෙඩෙක්, අංගවිකලද ඕයි!' දෑ කියන්නේ මන්ද? වැරැද්ද කළ අයෙකුට බැන වැදීම වෙනකකි. වැරැද්දට අහක ඉන්න අහිංසක උපතින් වෙනස් වූ... URL\",\n  'HOF'],\n [7915,\n  \"Dear Sri Lanka Cricket Fan  නිකන් වැඩක් බලන් පලයන් යන්න...හීන දකින්නෙ නැතුව.. ᴳᵃᵛᵉᵉⁿ @USER  · 25 May 2018 Dear Sri Lankan Cricket team, Please ImproveLet's kick India out from the next World Cup.\",\n  'HOF'],\n [7916,\n  'රට බෙදන්න විනාස කරන්න ඔනේ උන්ට කොඩිය ප්\\u200dරශ්නයක් වෙන්න ඇති....  මුන් කොහොමත් ශ්\\u200dරි ලාංකිකයි කියන්න කැමති නෑනේ  මුන් ෆෙඩරල් රජයක් හදන්න ප්\\u200dරභාකරන් පස්සෙ ගියපු අවජාතක හැත්ත නේ  අද රනිල්ට හෙත්තු වෙලා ඉන්නෙත්  මුන්ගේ හීන සැබෑකරගන්න මිසක් රට හදන්න  රටට ආදරේ නෙවෙයි',\n  'HOF'],\n [7917,\n  'තොගේ දරුවෙකුට වෙන්න ඕන දැනෙන්න. බල්ලා I L k Nuwan tharaka @USER  · 30 Jul 2021 සල්ලි වලට පු$ දෙන සක්කිලි බල්ලො. වැදු අම්මට උනත් ඔය වගෙ දෙයක් කියන්න බැරි කමක් නැහැ . පර හැත්ත.',\n  'HOF'],\n [7918,\n  'මොරටුවේ බල්ලෝ මරපු අවජාතක සක්කිලි වේසිගෙ පුතාලාට ආණ්ඩුවේ පොන්න හුත්තිගෙ පුතාලට හෙන 7ක් හෝ 8ක් වැදියං කියා මං නිහතමානීව ප්\\u200dරාර්ථනා කරමි',\n  'HOF'],\n [7919,\n  'මට හෙන ආසාවක් තියේ ලෝකාන්තෙට කට්ට පටපට පට සීතලේ එයත් එක්ක අතිං අල්ලං ගිහිං බලංගොඩට වැටෙන්න හුජ්ජ කරන්න බිමට',\n  'HOF'],\n [7920,\n  '@USER  @USER වල් ඌරා සමානවම ඇතාද මඩ නා ගනී. කෙසේ වුවත් ඇන්ඩ්\\u200dරොයිඩ් ඇතා ඉදිරියේ iOS වල් ඌරා හූණු බිජ්ජකි.',\n  'HOF'],\n [7921,\n  'මහම වේස බල්ලෝ ටිකක් .. ඉන්ෆාස්ට්\\u200dරක්චර් හදන් නැතුව ඔහේ පැකේජ් විකුනනවා Hiru @USER  · 25 Aug 2021 කොහොමද මෙහෙම ඉන්ටර්නෙට් නැති වෙන්නේ  නෙට්වර්ක් .. සිග්නල් ඔක්කොම ෆුල් තියෙනවා   හැබැයි dns ප්\\u200dරෝබ් කරද්දි ටයිම් අවුට් වෙනවා',\n  'HOF'],\n [7922,\n  'එහෙම වෙන්නැතුව මෙහෙම වෙයන් කියල තියෙන පෝස්ට් සෙයාකරන උන්ට දාන්න  \"අනේ හුකාගනින්\" කියල.. තඩි ඉමෝජි කමෙන්ට් එකක් එනෝ මරු..',\n  'HOF'],\n [7923,\n  'හම්බයෙක් මැරුවොත් අපේ උන්ට හෙන අමාරුයි. UNP කාරයො 88, 89 මරපු ඒවත් ගොඩ දාල බලපල්ලකො ඉවරයක් කරන්න පුලුවන්ද කියල #GenElecSL',\n  'HOF'],\n [7924,\n  'ගෙදරට මරගාතෙ ලෝකෙට පරකාසේ!  පම්පෝරිම ගසන හෙන බක්කම            දේසේ නියපොතු නොමැත කැහුමට පුක හෝ    නාසේ බයටම රෙවෙන මරුවා ලඟ           වාසේ ගෙදරට මරගාතෙ ලෝකෙට             පරකාසේ  සේසේ -10-2021  #සේසේගේකවිකොලය The following media includes potentially sensitive content. Change settings View',\n  'HOF'],\n [7925,\n  'රටක් බේරගත්ත මනුස්සයෙක්ට අපහාස කරන රංජන් උබට හෙණ=න ගහපං තෝ පොන්නයෙක් උනාට මහින්ද රාජපක්ෂ කියන්නේ කව්ද කයලා බලන්න... URL',\n  'HOF'],\n [7926,\n  'තෝ පලයන්.. තොගේ ට්විටර් එවුන් එක්කම ඉදපන්.. පරයා  . . . අන්තිමේදී ඌට තේරුනා මං ඌව ගනන්ගන්නෙ කියල',\n  'HOF'],\n [7927,\n  'ලමයි කැම්පස් \\u200dයන්න තරන් ආස?  මං විතරද එතකොට මරන්න අරන් හරකා වගේ ඕකට යන්නෙ?  හිතුවkකාරි @USER  · 22 Apr 2021 රටේ කොච්චර ප්\\u200dරශ්න තිබ්බත් මට  තියෙන ලොකුම ප්\\u200dරශ්නේ කැම්පස් යන්න විදියක් නැති එක...',\n  'HOF'],\n [7928,\n  'කස්ටමර් කෙයා එකේ අක්කගෙන් දෙයක් අහනවට හොඳයි තඩි කේප්ප වැස්සියෙක්   අරන් පුන්නක්කු දීල දරුකමට  හදාගන්නෙක  ...  නෙද්දකින්   ක්\\u200dරෑක් තුං  #LKA',\n  'HOF'],\n [7929,\n  '\"රාජපක්\\u200dෂ කෑවෙ බීවෙ ජනතාවගෙ සල්ලි ජනාධිපති බලතල ගෙන රැඟුවෙ උගෙම මල්ලි මහන්තත්වෙ ඉහට ගහපු කවුද බල්ලො බැල්ලි රගර්... URL',\n  'HOF'],\n [7930,\n  'ලංකාවෙ ඇතැම් දේශපාල පාහරයන් පිට රට එව්න්ව පාර්ලිමේන්තු ඇතුලට ගෙන්නගෙන ප්\\u200dරදර්ශණය කරවලා........නරකද තනාපතිවරැ පාර්ලිමේන්තුවට ගෙන්නලා ලංකාවෙ සැබැ තත්වය නොපෙන්නලා තම තමන්ගෙ අම්මලාගෙ රෙද්ද උස්සලා පෙන්නුවනම්..සක්කිලි .කවදාවත් රටට ආදරයක් එව්න් නෙවෙයි තුප්පහි හිවල් හැතිකරේ..',\n  'HOF'],\n [7931,\n  'ඕව සාධාරණීකරණය කරල, පොල්ස් ලබ්බන්ට සුදු හුණු ගාන අවජාතක බැල්ලියොත් බුකියේ නැතුවාම නෙවෙයි....     URL',\n  'HOF'],\n [7932,\n  'සිරාවට මොක්කුද අප්ප මේ? ලොවෙත් නැති ගල් පැලෙන බොරු ටුවිට් කරන verified Twitter accounts. ලංකාවෙ උන්? ප්\\u200dරොෆෙශනල් විදිහට ජාතිවාදය ප්\\u200dරචාරය කරලා ඊට පස්සෙ මිනිහෙක් මම සිංහල කිව්වොත් ඌව මරන් කන්න යනවා ජාතිවාදියා කියලා. සල්ලි වලට මෙහෙමත් සක්කිලි වෙන්න පුළුවන්ද මිනිස්සුන්ට?',\n  'HOF'],\n [7933,\n  'ලංකාවේ දිණමිනවත් කියවන්නේ නැති ගොබ්බයෝ  @USER  පුවත් පතේ පලවුනු ලිපියක් අල්ලගෙන මහින්ද කියන මුව හමට තඩි බෑවට ,ඇමරිකානු ජනාධිපති New York Times  පත්තරේ රෙදි ගලවපු හැටි! බලන්න වීඩියෝ--> URL #lka #srilanka #colombo  @USER  @USER  @USER  @USER',\n  'HOF'],\n [7934,\n  'මමත් ආසයි පුංචි කාලෙ වැස්සෙ තෙමෙන්න වතුර එක්ක චිරි බිරි ගාල මිරිකෙන්න සීතලෙන් වැස්ස එක්ක දගකාර කම් කරන්න  එතකොට හුජජ ගියාම බිජ්ජ විතරයි දන්නේ හුජ්ජ කල',\n  'HOF'],\n [7935,\n  '@USER  @USER    මෙිි පාර හැදුවෙ ගමෙිි මිනිසුන්ගේ පහසුව තකා තැන් තැන් වල ඉන්න කාලකනින්ට ගිහිල්ලා පිස්සු කෙලින්න නෙමෙිි.',\n  'HOF'],\n [7936,\n  '@USER ලැබෙන් නැති උනාම තැන තැන කියෝනවා   බඩුව අරූට අල්ලනවා මූට අල්ලනවා  අපිට තමා අල්ලන්න බැරි කියලා',\n  'HOF'],\n [7937,\n  'මතකද රට කාපු දේශපාලන මුසලයා. මතු උපදින ආත්මෙකවත් ආයිමත් පින් බිමේ නුපදිවා කියලා ප්\\u200dරාර්ථනා කරන්න හිතෙන්නේ අපිට විතරද ? #srilanka  @USER  @USER',\n  'HOF'],\n [7938,\n  '@USER තෝ නේ පකෝ කාලකන්නියා ග්\\u200dරවුන්ඩ් එකට විනාඩි පහක් ඇවිත් ගිහින් කයිය ගහන්නේ. දිනුවට පස්සේත් මගුල් කියන බොලා වගේ උන් තමා මුකුත් කරන්න බැරි',\n  'HOF'],\n [7939,\n  '@USER ,  @USER  @USER අඩෝ උඹ චාටර් හුත්තෝ. අපේ යාලුවෙක් කියන්ඩත් ලැජ්ජයි. බීපන් යකෝ දවසට 30ක් එක එකාට සෙකන්ඩ් වෙන්නෙ නැතුව',\n  'HOF'],\n [7940,\n  ':සුනන්ද දේශප්\\u200dරිය කියල ස්වාධීන හාදයෙක් කියනව හෝම්ස්.. රජය පාසල් වසාදැමීම කාර්\\u200dයබහුල දෙමව්පියන්ටයි ආච්චිල සීයලටයි ළමයි බලාගන්න වෙලාලු.. :ඔය කියන්නෙ අර මැකෝද? :නෑ නෑ.. මහින්ද දේශප්\\u200dරිය.. එයාගෙ මල්ලි.. :බලන්නකො ඒකෙත් හැටි නේද වොට්සන්.. අයිය මැකෝ.. මල්ලි.. :පකෝ!',\n  'HOF'],\n [7941,\n  'අවුරුද්දට බාර් වහල හින්ද බාර් එක ලඟ පොර කාල බෝතලේ ගත්තු තොපි ඔක්කොම හැඳි ගෑවිලා පලයන්  (අළුත් අවුරුදු පැතුම)',\n  'HOF'],\n [7942,\n  'ලග ඉන්න මිනිහගෙ දුක පේන්නෙ නෑ, කොහෙවත් ඉන්න, ආතල් එකක් ගන්න පුලුවන්, ස්වීට් එකෙක් දැක්කොත් හිත් උනුවෙනව... මනුස්සකම? රෙද්ද...    #Koombiyo',\n  'HOF'],\n [7943,\n  '@USER පුරන් කුඹුරක් තියා අස්වද්දපු ලියද්දක්වත් උබට තියෙනවද..උබ ටෝක් කරනකොට මම උබේ හිත දැකලා ඉවරයි..තඩි ගොනා..තෝ 89  90 ඉඳලා වරෙන් කතාවට..හරකා..තෝ දේශපාලනය...මම රට ජාතිය ආගම ..මාතෘ කා දෙකක්..තොපිවත්  වලට යවන්න තමයි තියෙන්නෙ කඩේ පාහරයන්',\n  'HOF'],\n [7944,\n  '@USER @USER  @USER  ඒකි තමන්ට තියෙන පොරෝ පාරෙන් වැඩ ගන්න දන්නවා .මේ සිබාලා නිදහස ලැබිච්ච දවස දන්නෙ කියලා මරං කන්න හදනවා . කවුද මෝඩ ?',\n  'HOF'],\n [7945,\n  'සහනාධාර බෙදන පන්සලක් පල්ලියක් ගානේ හිරු එකේ live ඇවිත් පෙන්වනවා. මට හිතේන්නේ මුන් එකෙනුත් කරන්නේ ප්\\u200dරජා සත්කාරයට මාර්කටින් නොදකින් කොරෝනා එකක් විකුනන් කන හැත්ත',\n  'HOF'],\n [7946,\n  'ado no bn Shukrah දිනලාලු මිලියන දෙක breaking news වල කිව්වේ..  උඹට ඒක අහලා කඳුලක් ආවේ නැත්නම් උඹ ඝර්මකලාපීය සුනඛයෙක්..',\n  'HOF'],\n [7947,\n  'අනුර කුමාර දිසානායක යැයි කියන මූට පිස්සු යකෝ ..... පකෝ...... මුළු ලෝකයම වසංගතයකට මැදිවෙලා / බයවෙලා ඉන්දැද්දි ඔය මරිමෝඩ කටවල් වහගෙන ගෙදර ඉඳපල්ලා..... ___ note by Tonga (Proud Sri Lankan) lanka C news @USER  · 13 May 2021 සෑම කොරෝනා මරණයකටම ජනාධිපති වගකිව යුතුයි… URL',\n  'HOF'],\n [7948,\n  'කෝ බන් අර ආමි එකේ කොල්ලොන්ට8 පාස් උන් කියපු අලුත් පරපුරේද මොකේද වේසිගෙ පුතාලයි අර වේසිගෙ කෙල්ලයි  කටට දෙන්න ඔනේ උන්ගේ',\n  'HOF'],\n [7949,\n  'යකෝ අපි කාටහරි කියලා ගහක් හිටවන්න දගලනවා. මුන් ගස් කපලා පිට්ටනි හදන්න දගලනවා.. මනාප දෙක තුනකට කෑදරකමේ දගලන ඇමතිවරයා මොන තරම් නූගත් විදියටද කතාකරන්නේ... මුන්ට කඩොලාන මතක් උනේ සුනාමි ඇවිල්ල ගියාට පස්සෙ විතරයි. අවුරුදු 15ක් විතර ගියාම මුන්ට ඒව මතක නෑ...  තුක් නොදකින්',\n  'HOF'],\n [7950,\n  '@USER ඒක මරු කතාව...  තරුණකමේ මෝඩ ජවය එක්ක කුහක කම එකතුවෙලා මොකක්ද අමුතු දෙයක් දැනිල තිබ්බෙ..  තාමත් කුහක ජෙප්පෙක් විදිහටමයි හිතන්න පුරුදු...',\n  'HOF'],\n [7951,\n  '@USER පලයන් කැරි පොන්නයා යන්න. ඕව තොපේ හිත්වල තියෙන ඒවා තමා. උඹ හිතුවද වහගත්තු පලොයට ඔක්කොමහොද උන් කියලා. හොයලා බලපන් උඹලගෙම උන් කීයක් වටේ යන්වද කියලා. තෝ හිතුවද ඔක්කොම වහන් ගෝනි බිල්ලො වගේ නැති ගෑනු ඔක්කොම ගණිකාවො කියලා වේස පකා',\n  'HOF'],\n [7952,\n  '@USER  @USER කටඋත්තර ගන්නේ සැකකාරයෙකුගෙන්. අවසන් තරගයේ සීයක් ගහලා කිසිම මිස් එකක කරන්නැතුව ෆීල්ඩ් කරපු මහේලගෙන් ප්\\u200dරකාශ ගන්නේ ගෝටාබයගේ පොන්න පොලීසිය. සක්කිලි 69 ලක්ෂයේ ආණ්ඩුව.',\n  'HOF'],\n [7953,\n  '@USER ඇත්තම කතාව පෙලක් කෙල්ලාන්ට හුජ්ජ කල්ල අහක්වෙලා ඇදට වෙලා නින්ද යනකල් වල් පල් කියවන්න අපිව ඕනි වෙනවා.. අපිත් යූස් එකේ සීමාවක් මායිමක් තියෙන්න එපැයි..',\n  'HOF'],\n [7954,\n  'ගිහාන්ගේ ගෑණි ඌට ගහනවා, එතකොට සංජයගේ ගෑණි අම්මලට සලකන්න දෙන්නේ .. දසුන්ගේ ගෑණි මෙලො රහක් නෑ. ගිහාන්ලව,සංජයලව,දසුන්ලව Tag නොකරන ඉල්ලා සිටිමී.   #Podda #PoddaFB #Karaoke #Wife URL',\n  'HOF'],\n [7955,\n  'රු 50ක් දීලා හරි කමක් ලංකාව වටේම තියෙන බීච් ටිකයි, ශ්\\u200dරීපාදස්ථානයයි සේරම ටික වගෙ ලස්සනට තියාගන්න පුලුවන් ඒකයි වටින්නේ. මේකෙ ඉන්න ගොන් බිජ්ජොන්ට කොච්චර කිව්වත් තේරෙන්නේ කුණු දාන්න එපා කියලා. Vikalpa @USER  · 25 Dec 2018 ත්\\u200dරිකුණාමලය,මාබල් බීච් පිවිසුම ලංකා ගුවන් හමුදාව  තම ග්\\u200dරහණයට ලක් කොට තිබෙන අයුරු. වෙරළ තීරයකට මුදල් ගෙවා, ආරක්ෂක මුරපොළවල් වලින් පිවිසුමට වී තිබේ. හමුදා වෙළාදාමත්, සිවිල් ජන ජිවිත කරනු ලබන අතපෙවිමත් ලංකා රාජ්\\u200dය නවත්වන්නේ කවදාද? #lka #militarisation Show this thread',\n  'HOF'],\n [7956,\n  '“තෝ කොහොමද මෙවුන් ගෙදර ගිහින් හදන්නේ..?ඇනපිය ඇනපිය ඕකට.. අයින්න ඕනේ මැරෙන්න” – වීඩියෝ | A new voice for a new Sri URL',\n  'HOF'],\n [7957,\n  \"රටක් වටින කෙල්ලො අතරෙ අවජාතක එවුවන්ද සිටී... හැබැයි brand එක ලංකන් නෙවෙයි ඕං... ThisuriWanniarachchi @USER  · 8 Dec 2019 The fact that most Sri Lankan women who make it in the *Miss/Mrs world pagents happen to be of Burgher heritage speaks volumes of the world's eurocentric accepted standards of beauty. Also, why in 2019 do women have to get up on a stage to literally be judged for their beauty?\",\n  'HOF'],\n [7958,\n  'ඔය පලංචිය උඩ ඉන්න වේස බල්ලා පාරේ යනකොට ටිපර් එකකට හෝ යටවී චප්ප වේවා...අපේ ගෙදර තාප්පෙ උඩ සිටී මගේ චූටි පැටියාව මට්ටන් ලීයෙන් තල්ලු කර තාප්පෙ පල්ලෙ වැට්ටුවාට.',\n  'HOF'],\n [7959,\n  'යකෝ තමන්ගෙම මිනිස්සු සිය ගානක් තමන්ගෙ ඇස් ඉස්සරහ කෑලි වෙලා තියෙද්දි,තොගෙ ආන්ඩුව ඒක දැනගෙන ඉදලා මුකුත් නොකරද්දි ,උබ තාත්තා කියපු හින්දා ගෙදර ඉද්දි,රාජිතලා,ජොනී ලා ඒකට හිනාවෙද්දි ,රනිල්,සිරිසේන බෝල පාස් කරද්දී, ඔය විදයට කියන එක හොද වැඩී තමුසෙලට. Harin Fernando Media Unit @USER  · 23 Jun 2020 කාදිනල්තුමනි මෙය දේශපාලන ගැති භාවයක් නොවේද ? @USER @USER',\n  'HOF'],\n [7960,\n  '@USER ජොන්ග් උන් එක අතකට හරි. උගේ රටෙ ප්\\u200dරජාටහ්ත්\\u200dරවාදය නැ කියල කෙලින්ම කියනව. ඒකට අපේ, රෙද්දෙ රෙවෙනකම් කතා කරන්නේ පුජාතන්තවාදය ගැන, උනාට හුජ්ජ කොල්ලන්වත් සීඅයිඩී ගෙනියනවා මීම් එකක් ශෙයාර් කරපු ගමන්.',\n  'HOF'],\n [7961,\n  'සර්ට් එකේ දිග කෙස් ගහක් තිබ්බම \" කාගෙද කියපන් කෙස් ගහ \" එදායින් පසු දා සිට,  • කොට කෙස් ගහක් අහු උණාම        \" කවුද බොක් කට් බැල්ලි \"  • මයිල් ගහක්වත් නැති දාට       \"කවුද අද තට්ටය...දැන් තෝ කොල්ලො ගහන්නත් ගත්තද \"  #සැකpromaxlevel',\n  'HOF'],\n [7962,\n  'ඔව් ඇත්තෙන්ම... අවස්ථාවේ...අපී... ජාතීන් අතර... සහජිවනේ... ඇතිකරන්න උවමනායි...  Ranil Wickremesinghe *රි ආතල් හු*තෝ  Maithripala Sirisena ආදරෙයි :* URL',\n  'HOF'],\n [7963,\n  'පොන්න JVP හැත්ත මේකටත් මහින්දව ගාවලා විලි වහගන්න බලන්නේ.  රට ගිහින් ආතල් ගන්න සල්ලි හම්බකරන්නත් එපැයි #lka Neth FM @USER  · 6 Jun 2016 අවි ගබඩාව තිබ්බේ නුසුදුසු තැනකයි! URL URL',\n  'HOF'],\n [7964,\n  ' @USER  මගේ කාඩ් ඒක එවපන් එලියට ඕක හංගගෙන වැඩක් නෑ, මට මතක නැති රහස් අංක තොට කොහොම මතක තියේද! පිස්සු කෙලින්න එපා ෂෝපින් යනගමන්',\n  'HOF'],\n [7965,\n  'ඔයාගේ පයිය වටේ මවිල් වැවිලා තියෙන්නෙත් රැවුල වැවිලා වගේ තැනින් තැනද??  මම රත්තා... — රත්තා ඒවා දැකලා තියෙන්නෙ තෝ කවුද කියාන්... URL',\n  'HOF'],\n [7966,\n  \"@USER මුන් අමුම අමු කාලකණ්ණි සක්කිලි බයියෝ බන්. පොඩ්ඩක් නිකමට හිතලා බලපන් නන්දසේන ගෝඨාභය රාජපක්ෂට හරීන් නන්දසේන කිව්වා කියලා ස'ට අච්චර හිත රිදුනා පොඩි කෙල්ලට 69 ලක්ෂයක් එකතු වෙලා කරන පහර දීමට කොච්චර හිත රිදෙන්න ඕනේද? මානුෂීය බයියෝ ඉන්නේ සෘණ මට්ටමක.\",\n  'HOF'],\n [7967,\n  'මට ඕන උනේ අර සෙට් වෙච්ච යාළුවෝ ටික දැකැලා කතාබහ කරලා memmories හදාගන්න..   කොහෙවත් ඉන්න ගොන් හිකනල්ලු මීටප් එකක් තියෙද්දිත් එන්නෙ නැතුව කෑගහන්නෙ තියන පැලියාවට කියලා හොඳටම තේරෙනවා..   තොපෙ පැලියාවට බලන් ඉන්න බැරිනන් කටයි පුකයි වහන් හිටහන්..   අන්තිමට කියන්න තියෙන්නෙ..',\n  'HOF'],\n [7968,\n  'ලස්සන පොඩ්ඩො කෙල්ලන්ට ආතල් ගන්න...නියමයි. සුදුපාට බඩ...බුරියට යටින් ලා පා\\u2063ට පහලට ගිය...මයිල් ටික..ලාවට මයිල් දෙක තුන එන..පයිය ලග...වව්...නියමයි',\n  'HOF'],\n [7969,\n  'ඔය කතාව අහගෙන හිටපු පැත්තක හිටපු බුවෙක් “තොට ඔක්කොම හොඳ චීනේ නං එහෙට පලයනුත්තෝ” කියලා කණට එකක් අතෑරියලු.  චීන බුවා කිව්වලු “ආපෝ, ගුටි මොනාද, චීනෙ ගුටි තමා ගුටි” කියලා!  #චීනේ_නෙවෙයි_ඇමරිකාව #අනේ_හුකේ',\n  'HOF'],\n [7970,\n  'කොල්ලා- නංගි ඔයා මට කැමතිද? කෙල්ල - ඊයා තමුසෙගේ කැත කොල්ල - කැත තමයි ඔයි තොගෙන් ඇහුවෙ. #ආදරකතා',\n  'HOF'],\n [7971,\n  'Ground එකේ ගියපු ගුටි කෙලියටත් ආණ්ඩුව සම්බන්ධයි කියන පොන්න පැටවු ටිකකුයි ආණ්ඩුව අස්ථාවර කරන්න unp එකේ උන් කරා කියන  ටිකකුයි ඉන්නවානේ මේකෙ. මානසික ගොබ්බ හැත්ත.. දේසපාලුවෙක්ට කියලා පස්ස පැත්ත\\u2063ට පැයකට දෙපාර දවසට 48 වතාවක් ඇර ගනිල්ලා..  සැපට ඉන්න පුලවන් වෙයි. අංගවිකල ජීවිත',\n  'HOF'],\n [7972,\n  'සඝ රජුට කල මෙී අපරාධයට සම්බන්ධ සියල්ලන්ටම සාප වෙීවා..... සියලු දෙවි දේවතාවන් උන්ට සාප කරත්වා..... සියලු දෙනා එක හිතින් ප්\\u200dරාර්ථනා කරන්න....',\n  'HOF'],\n [7973,\n  \"අම්මට දුක හිතිලා ඊට පස්සේ private කැම්පස් එහෙකෙට යැව්වා. සල්ලි තිබිල නෙමෙය් ඒත් ඉගෙනගන්නත් එපැයි. ඊට පස්සේ ගියා leadership camp එහෙකට. එතන හොඳටම rag වුනා. මොකෝ කොළඹ එවුන් පෙන්නන්න බැහැනේ. ඊට පස්සේ කැම්පස් ආවා. අවුරුදු 4ම rag වුනා. 'වේසි' ලු, 'බැල්ලි' ලු. ඔවා අහගෙන හිටියා.\",\n  'HOF'],\n [7974,\n  'ළගදි යාළුවෙක් බස් එකේ යනකොට පොරගේ පයිය(පසුම්බිය:බන්දුල ගුණවර්දන අර්ථකතන අනුව) උස්සලා කියහන්කෝ බස් වල යනකොට පයිය ආරක්ෂා කරන් යන්න #lka',\n  'HOF'],\n [7975,\n  'මම දන්නව පකෝ තෝ අර කිරුලපන ධම්මවිජය ගෙ බැත් බලයෙක් වග. සිවුරට මුවාවෙලා තාම උපසම්පදාව ලබලත් දවසක් නැති පංසල් පාලුවො ගහන ගේම තොට හොඳ වුනාට අපිට වැඩක් නෑ.. උඹලගෙ අර නපුංසක යෙකුත් ඉන්නෙ මහණ වෙලා.. ථේරවාදය අනිව ඒකත් වැරදියි 𑀯𑀺𑀦𑀼𑀓 𑀫𑀸𑀦𑀺𑀢 𑀯𑀺𑀤𑀸𑀦𑀧𑀢𑀺𑀭𑀡 @USER  · 28 Feb 2021  @USER ත්\\u200dරිපිටකය ප්\\u200dරතික්ෂේප කරන්න පෙන්නුව හේතු ඔක්කොම බිඳලා ඉවරයි නේ',\n  'HOF'],\n [7976,\n  'උඹ මොනාද කන්නේ?  - හරක් මස් කන්නෑ.  හරි යකෝ හරක් මස් කන්නැති දන්නවා. තෝ මොනාද කන්නෙ කියාපිය.  #SinhalaStories',\n  'HOF'],\n [7977,\n  'ඇහැට කනට පේන වල් බැල්ලියෝ 3න් දෙනෙක් හදා ගන්න ගෙදර!  ගමේම ඉන්න බල්ලෝ ඇවිත් වටේට....  •••සීසන් එකනේ•••',\n  'HOF'],\n [7978,\n  '@USER ඕක මිනීමැරුමකට දෙන ලොකු දඬුවමද? සල්ලි මිටි දෙක තුනක් එහාට මෙහාට විසි කරපු ගමන්ම අධිකරණයෙන් නිකම්ම ඇප ලැබෙයි..',\n  'HOF'],\n [7979,\n  'මෙයාලා දන්නේ ෆ්\\u200dරෙන් ඒවා  අර sky එකට වතුර පුරවන් හුජ්ජ කොල්ලා දැකල ඒවා  Sukiya @USER  · 10 Mar 2018 Smoking kills රිද්ම අයියා එක්ක ගහපු එක',\n  'HOF'],\n [7980,\n  '@USER  @USER යකො A කියන්නෙ  තමුන්ගෙ ලකුනු මට්ටමත් එක දෙන දෙයක් ,සමහර විශයන් ලේසිනම් බ්න් ඔක්කොම A විතරයි . එතනින්ම උබට තෙර්\\u200dර්න්න ඕන උබ අහපු ඩෙ පට්ට ගොන් කියල .අනික බන් උබ කියනව ප්\\u200dරයිවෙට් එව්වට කැමති නෑලු උබ හිතහන් අම්මපා ම්න් ඇත්ත කියන්නෙ මන් දන්න s2ක් s3 තියෙන උන් බන් මෙඩිසින් කරා ,',\n  'HOF'],\n [7981,\n  'සමහර එකියො දෙන ටෝක් වල හැටියට උන් උන්න අම්මපා \" ගෑණුන් ලොව අලංකාර කරන ලදී \" කියල හතර අතේ බෝඩ් ගහන්ඩ තිබ්බ.  හැබැයි තොපි අර රෙද්ද උස්සන් වේස කමේ උන්ටත් අන්තයි. උන් පිළිගන්නව හරි ඒක. තොපි යටින් ගහන ගේම් ටික වහ ගන්ඩ උඩින් ටෝක් කර කෝනව.  හුකේ.',\n  'HOF'],\n [7982,\n  'අරැන්ගෙ , මුන්ගෙ හොරකම් අපි ළග සාක්ෂි තියෙනවා කියන පාහර හැත්ත, ඇයී ඒවා වලට එරෙහිව ක්\\u200dරියාත්මක නොවෙන්නෙ? උබලා වගෙ දෙශපාලූවො තමයි මෙ රට කන්නෙ. හෙනම ගහාපිය',\n  'HOF'],\n [7983,\n  'හුජ්ජබරට විතරක් බිජ්ජ උල්වෙන පොඩිඑකෙක් සෙස් කරන්ඩ කතාකරනවා  මම දැං MK  Darshana K @USER  · 2 Feb  @USER  සෙස් කරමු දේ',\n  'HOF'],\n [7984,\n  'මනෝ ගනේෂන් කියනවා UNP එකෙන් ජනාධිපතිවරණයට දාන්නේ \"බඩුවක්\" කියලා. පොදුජන පෙරමුණෙන් හොඳ බඩුකාරයෙක් දැම්මනම් පට්ට වැලක් බලන්න තිබුණා. #ඉන්නහිතෙන____ක්',\n  'HOF'],\n [7985,\n  '@USER  @USER    ගොනෝරියා හැදිල තැනින් තැන හිල්වුන පයියෙං චූ දාද්දි බටනලා පිඹ්නවවගේ සද්දෙ එනව ඇති. ඌ හිතනව ඇත්තෙ පයිය කතා කරනව කියල',\n  'HOF'],\n [7986,\n  'ඒත් පබාගේ පස්ස නම්... ඉස්සෝ කොටුවක් උනත් දාන්න පුලාම්  Fifty Shades Crazy @USER  · 13 Dec 2018 පස්සෙ ඉත්තෑවො කියනවට ලේසි  ගැලපෙනවා පස්සෙ ඉස්සෙක් කිව්වනං   <',\n  'HOF'],\n [7987,\n  '@USER බූරු හරක් දන්නේ ජාතික කියන එකේ තේරුම හෝම්ස් මහත්මයා.. ජාතික කියන්නේ රටවල් වලට අදාල අනන්\\u200dයතාවය.. අපේ රටේ ජාතික භාෂාව මොකක්ද? සිංහල නෙහේ.. ඔය පොන්න සිපයියන්ට තේරෙන්නේ නැත්තේ මොකෝ ජාතික ගීය ගායනා කරන්නේ ජාතික භාෂාවෙන් කියලා.. පන්න පොක්කු',\n  'HOF'],\n [7988,\n  'ගොං #UNP කාරයෝ රටට කෙලවන විදියේ වැඩ කරන එක නං නවත්තන් ලොවෙත්.. මී ගවයිනේ තොපි නං කොච්චර චන්ද පැරදුනත් පාඩමක් ඉගෙන ගන්නේ නැති අපූරු ජීවී කොට්ටාසයක්  #enoughUNP #lka',\n  'HOF'],\n [7989,\n  '@USER අඩො මන් එච්චරට ගොන් වැඩක් කොලෙ බලන් යනකොට ගොන් එකෙ අල්ට්\\u200dරා ප්\\u200dරො මැක්ස් නෙහ් උබ ,මන් දුක් වෙන්නෙ මය වියදම් උන කාඩ් සල්ලි',\n  'HOF'],\n [7990,\n  'මුං මාර හේතුනේ යකෝ හොයා ගන්නේ... ලොකු ප්\\u200dරජාතන්ත්\\u200dරවාදීයෝ.. විරුද්ධ පක්ෂයේ එකා චන්දෙට එනවටත් බයයි #UNP පොන්න හැත්ත #lka #enoughUNP #yahapalanaya',\n  'HOF'],\n [7991,\n  \"'ස' සංවර්ධනය කියන්නේ මේකද? කල් හිටපු පාලකයෝ කෙලෙව්වේ රටේ මිනිස්සුන්ට. ඉන්න පාලකයා සත්තුන්ටයි ගහ කොළවලටයිත් කෙලවනවා. එක්කෝ මූට පිස්සු. නැත්නම් පරිසරය එක්ක ජන්මාන්තර වෛරයක් තියෙන්න ඕන. 𝐌𝐨𝐡𝐚𝐦𝐞𝐝 𝐑𝐢𝐳𝐰𝐚𝐧 \\uea00 @USER  · 3 Mar 2021 අපි නෙමෙයි, අපේ ඊලග පරම්පරාව!!!\",\n  'HOF'],\n [7992,\n  '\"කැරි\" ප්\\u200dරාණවාචී කිරීමෙ \"කැරියා\" යබ කුනුහරපය හටගනී...  (4)ලිංගිකත්වය ආශ්\\u200dරිත රැකියා මුල්කරගෙනද කුනුහරප හටගනී...  ගණිකාව,වෛශ්\\u200dයාව=වේසි,බඩුව  (5)ඉහත දැක්වූ මූලික කුනුහරප දෙකක් එක්වීමෙන් කුනුහරප හටගනී...  වේස හුත්තා වේස හුත්තී පොන්න පකයා පොන්න කැරියා කැරි පොන්නයා පොන්න පකයා',\n  'HOF'],\n [7993,\n  '@USER යටි බඩ හෙමීට ඇඟිල්ලකින් පිරිමැදපන්. බිජ්ජ එලියට ආවොත් පිරිමි. චූටි උන්ගෙ වෙයිද දන්නෙ නෑ.  අවධානයෙන් හිටපන්  නැට්ට උස්සලා පස්ස වෙව්ලලා ඈතට විදලා චූ දැම්මොත් ගෑනු.   අණ්ඩකෝෂ පොඩි උන්ගෙ හොයන්න බැරි වෙයි.',\n  'HOF'],\n [7994,\n  'කූජිත පූජීත පක පූම්බා තක පූපිරුවාගනි Nimak Nomathi - Lanka @USER  · 4 Jul 2019 යර්ස් සර්, ඔකේ සර්,   මෙවැනි වදන් පමණක් රාජ්\\u200dය නිලධාරියෙකුට වටිනවාද ? ගෙදර ගැනිට දාන ලොකු ටෝක්, තමන් යටතේ ඉන්න අහිංසක නිලධාරීන්ට දාන මෝස්\\u200cතර දේශපාලකයා ඉදිරියේ නොමැති වෙමේ ප්\\u200dරතිපලයි මේ. මෙවැනි නපුන්සක් නිලධාරින් රට කන උන් #srilanka ඕනේ තරම් ඉන්නවා @USER @USER',\n  'HOF'],\n [7995,\n  'ඔය කීබොඩ්  එකෙන් රගන වීරයන්ගෙ වී\\u200dරත්වය තියෙන්නෙ  ඩේටා තිය්නකම් විතරයි ඩේට ඉවර උනාම නැට්ට පුකෙ ගහගත්ත බල්ලා වගෙ..පකෙ ඩේටා බැදීම ..උබට උබ විතරයි  මට මම විතරයි  .  ..වදින එකෙකුට වදී',\n  'HOF'],\n [7996,\n  'ඡන්දයක් කිට්ටු වෙද්දි තමා මුන්ගේ තාත්තාගේ හැමදාම අැස්වල කදුළු පිරෙන්නේ අාප්ප කාලා පනින්න ඉස්සරත් නොකා නොබී අැස්වල කදුරැ බේර බේර අැදට වෙලා හිටියා කියලා මුන්ගේ අමම්මයි මේකියි කිව්වේ... පල පලයන් යන්න...කෙල්ලේ තොපේ මොත්තෙට...මිනිස්සු රැවටුනු කාලේ ඉවරයි.. neetwit @USER  · 2 Feb 2018 අපි මක්කොරන්නද ආප්ප කාලා පැන්න පිම්ම නේ ...නිකන් බොරු නොකියා ඉදිං..... අවුරුදු 3 කින් සිය පවුලම සංවර්ධනය වුන හැටි රටම දැක්කානේ #LKA #sriLanka @USER @USER @USER @USER @USER @USER @USER @USER',\n  'HOF'],\n [7997,\n  'සිරිසෙනගේ සෙට් එක ගෝඨාට ජනාධිපති සටනට පමනක් සහායොගය දෙන්න ආපු එක හම්මො හෙණ චාටර් වැඩක්   TNA සෙට් එකයි බදුර්දින් ලා සජිත්  සහයොගය දෙන්න ආපු එක  ශාශා නියමයි  රටට ආදරෙ මිනිස්සු එකතු උනා  සජිත් ජයවේවා   යකො තොපි හරි බන් එල',\n  'HOF'],\n [7998,\n  '@USER ,  @USER  @USER @USER  ඩයලොග් කියන්නෙ තමන්ගෙ මව විකුණා කන සක්කිලි බලු නෙට්වක්. මුන්ට යුනියන් ප්ලෙස් එකේ වේසි ගෙයක් දාලා හම්බකරන්න වටිනවා.  @USER  @USER',\n  'HOF'],\n [7999,\n  'O/L වලින් කොටසක් හැලිලා, A/L වලින් කොටසක් හැලිලා පෙරිල වගේ සුළු කොටසක් කැම්පස් යනවා.  අපිත් හිතනවා මුං උපාදිය අරගෙන රටට හොදක් කරයි කියල. හැබැයි අතලොස්සකගේ පුක තියෙන තැනට මොලේ ගියාම කැම්පස් එකත් එකක් ඉවරයි.  ඊට පස්සේ පුක නලලේ තියාගෙන රොම්බ ගොන් ටෝක්ස් ඉශූ කරනව.',\n  'HOF'],\n [8000,\n  'සියලු සමාජජාලා ලාංකිකයනි! මේන් වගේ \"කාලකණ්ණි අංගවිකල\" ජීවිත අවධානයෙන් ඉන්න.උන්ගෙ පටු පරමාර්ථ පෙනී නොසිටිමු!  @USER  @USER  @USER  @USER Nightwing® @USER  · 4 Dec 2021 සිරි කාලක්ණ්නියා කොරෝනා හැදිලා ඉස්පිරිතාලේ ඉන්න ගමන්නෙ මේ. @USER වගේ මිනිස්සුන්ව වහාම අත්තඩංගුවට ගන්න.',\n  'HOF'],\n [8001,\n  'මූසල බස් කාරයො උදේ පාන්දර යකා අවුස්සනවා. ගොන් කසඩ සින්දු කණ පැලෙන්න දානවා. වගේ ගොන්නු තමයි දේසපාලු හැත්ත කියන ගොන් කතා වලටත් පසඟ පිහිටුවා වඳින්නේ. නොදකින් කිසි නියාමනයක් නැති මෙහෙව් රටක් #162ACbus',\n  'HOF'],\n [8002,\n  'මෝඩ ආතල් දෙන්න ආපු පොන්න පැටව් 2ක් BLOCK කරලා, blocking list එක start කරා     මොන්ටිසෝරි ආතල් දෙන වේසිගෙ පුතාලා හිතන්නෙ උන්ගේ සුරංගනා ආතල් වලට හැමොම කැමතියි කියලා',\n  'HOF'],\n [8003,\n  'කුලියාපිටිය හෙට්ටිපොළ පැති වල කෙල්ලන්ට පස්සක් නැත.එක්කො උන්ට පස්ස පේන්න අදින්න නොතෙරෙනවා විය හැක. කොයික උවත් උන් නලවති. කරුමයද නොදනිමි මට එහි ලතාවක් නොපෙනෙ #rightnowi',\n  'HOF'],\n [8004,\n  'කව්ද බං අසන්ත මෙල් කියන එකා? කාලකණ්නි පාහර බල්ලෝ. තුක් නොදකින්.. නපුන්සකයා. කුලේ අයියාගෙ වටිනාකම දන්නා ස්\\u200dරී ලාංකික ක්\\u200dරිකට් ප්\\u200dරේක්ෂකයන් අතර, වගෙ පොන්න ගොං, තකතීරුවෙක්.  උඹ දන්නවද, නුවන් කුලසේකර කියන්නේ කලක් ලෝකයේ සිටි අංක එකේ පන්දු යවන්නා ඔහු. කියලා?',\n  'HOF'],\n [8005,\n  'උතුරෙ ඇමති කියන එකා අලි පුකෙන් ආව එකෙක්ද? කෝ පිටරවල තානාපතිලා අනිත් ඇමතිලව බලන්න ඔහොම කෑල්ල බලන්න යනවා වගේ යන්නෙ නෑනෙ.',\n  'HOF'],\n [8006,\n  '@USER  @USER පුතා කක්කා දාන්න ගියත්. \"අනේ මට නොකියා ගියේ\" \"චූටි කාලෙ මට කියලා කක්කා දාන්න ගිය පුතා බැන්දට පස්සෙ කක්කා දාන්න යද්දි ලේලිට විතරයි කියලා යන්නේ\" වගේ ගොන් පාට් දාන්නෙ ඉන් පස්සෙ. ඉන්දියන් ගොන් නාට්ටි තහනම් කර යුතුයි.',\n  'HOF'],\n [8007,\n  '@USER නායකත්වයට සෘජු තිරණ ගැනිමේ හැකියාව තිබිය යුතුය  එවැනි සෘජු නායකයන් තනතුර රැක ගෙන වරප්\\u200dරසාද භුක්ති විඳීමට  වැදගත් වන්නේ තනතුර ගහලා ගියත්  නිවැරදි තිරණය නිවැරදි වේලාවට ගැනිමටයි වැරදුණු අනුන් පිටට වරද පටවා තමන්ගේ නිවැරදි කියන්නේ පොන්න නායකයන්ය එවැනි පොන්න නායකයන් බහුලය',\n  'HOF'],\n [8008,\n  'වේල් තුනක් නොකා බඩගින්නෙ අම්මයි දරැවො හතර දෙනයි....සමෘර්ධියක් දන්නෙවත් නැහැ........මැති ඇමතිලා හොරාකන මන්ත්\\u200dරිලා මිලියන ගනන් වටිනවා...පාසැලට බන්දගන්නත් විදුහල් පති කැමති නැහැලු......පර සක්කිලි ගෙවල් හදලා දෙන්නෙ ගෙවල් තියන එව්න්ට ...',\n  'HOF'],\n [8009,\n  'මන් ලඟ ඉන්න එකේවත්, මන් යාලුවෝ කියලා ලං කරන් ඉන්න අයත් මාත් එක්ක නැහැ කියලා ඊයේ මාත් එක්ක ඇරියස් එකේ ඉන්න හුජ්ජ... URL',\n  'HOF'],\n [8010,\n  '@USER මම දන්නවා තෝ චීත්තයක් වගේ මේකේ හැමෝගෙම ඕපේ හොයනවා කියලා... එක තොගේ මුනට කිව්වත් එකයි වටේ කිවත් එකයි... අනික තෝ වගේ මෙකේ ගැනු පලල් කරල දෙයි කියලා හිතාගෙන ඔලු අත ගන්න යන්නේ නෑ.... එහෙම අහේනියක් යකෝ',\n  'HOF'],\n [8011,\n  'බලපං ට්වීට් එකට ඇවිත් තියෙන රිප්ලයි?අපේ මහපරයලා හුරතල් කර කර හිටියට තාමත් ඔලුවෙ විසබීජ තියෙන කාලකණ්ණි ටිකක් ඉන්නවා.උන්ට පුලුවන් ආයෙමත් විනාසයක් කරන්න  විසබීජ අයින් කරලා දාන්න ඕනේ වනයක් වෙන්න කලින්  Mahinda Rajapaksa @USER  · 18 May 2018 Nine years ago, #SriLanka became free from the terrorism of the LTTE. As we celebrate that freedom, let us also rememberhonour the brave members of our militarytheir families who sacrificed so much for us to be able to live in peace.',\n  'HOF'],\n [8012,\n  '@USER ළඟින්ම ඉන්න උන්. අවුලක් බං. වගේ දිය රෙද්දෙන් බෙල්ල කපන වේස බල්ලෝ කී දෙනෙක්  උනත් හැලුනට',\n  'HOF'],\n [8013,\n  '#MI දිනයි කියලා දැනන් හිටියට ගේමක් නැතුව ගහලා දායි කියලා  ඒකත් හිතුනා යකො  අයියර්ගෙ පුක කාලත් මදිනෙ ගොනා',\n  'HOF'],\n [8014,\n  'හුකනවා තමා.මටන කියලා බුකි එකවුන්ට් එකක් හදාගෙන මන් මැසෙජ් කරාම ඔයා කවුද කියලා අහන ජාතියේ පරට්\\u200dට උන්නේ යකෝ මෙකේ... URL',\n  'HOF'],\n [8015,\n  '@USER  @USER ටියුෂන් කරන්න අලුතෙන් එන කාලකණ්ණි ටික පොඩි උන්ගෙ ඔලු කනව. දෙමාපියන් වැරදියි මුන්ගෙ පංති යවනවට',\n  'HOF'],\n [8016,\n  '@USER පුක ඉරාගෙන මැරෙන්න හදන්න එපා. ඉදිර මාස 4 ඕනෑම අකාරයකට රට පාලනය කොට රට ගෙඩ දාන්න 70 ලක්ෂයකට ආසන්න මිනිසුන්ගේ කැමැත්ත ගොඨභයට ලබා දි අවසානයි.එයයි පොදු කැමැත්ත. එක්අන්ත වාදි සුළුජාතික පක්ෂ නායකයෙකුට සුළුජතික ජන්ද ගන්න 60වැඩි ආයතන තුබියදි තමුසේ කොහෙද හිටියේ.. Traitor',\n  'HOF'],\n [8017,\n  'ආන්න බලන්න පින්වත්නි 68%ක් පාරෙ රෙන ඉන්දියානුවො රට දියුණු කරන විධිය.  ඒකට අපේ පකිස් බූරුවො.  ඇවන්ට්ගාඩ්... URL',\n  'HOF'],\n [8018,\n  '@USER  @USER අනිවා..මට හිතෙන්නෙ වෛරස් එක අපි දැනගන අවුරුදු 2ක් විතර වෙනවා.සෞඛ්\\u200dය අංශ කරන්න ඕනෙ උපදෙස් ටික දීල තියෙද්දි අපිට ලෝකෙ කිසිම රාජ්\\u200dයයකට චෝදනා කරන්න බෑ අපෙන් වෙන්න ඕනේ කොටස අතපසු කරලා..ඒ හින්දා තමන්ගෙ ජීවිතේ දේශපාලුවෝ රැකල දෙනකල් බලන් ඉන්න තරම් මෝඩ වෙන්න හොඳනෑ.',\n  'HOF'],\n [8019,\n  '@USER  @USER මගෙ ස්ක්\\u200dරීන්ශොට් දාලා පෝස්ට් දාන එක වයලේශන් එකක් කියලා තෝ දන්නැද්ද.. තොට ඉංග්\\u200dරීසි බැරිද.. කියවපන් ඒවා වැඩක් නැත්තම්. හුත්තවල් දිව දදා යන්නැතිව. අයින් කරපන් රිපෝට් කරන්න කලින්.. උඹලා මොන පකයොද',\n  'HOF'],\n [8020,\n  'කලවැද්ද හිතන් ඉන්නෙ මිනිහ පොර කියල. මෝඩ චූන්.. neetwit @USER  · 18 Jun 2017 එහෙනම් ෆොන්සේකා නමවත් කවුරුත් දන්නේ නැහැ! #LKA #sriLanka #Galle @USER @USER @USER @USER @USER #SarathFonseka',\n  'HOF'],\n [8021,\n  'වේස කල්ලිය I love u my සවිනි මගේ නම චමිදු රැප දෙන්නේ ඔයාටමයි කෙල්ලේ මෙ රැපට කැමතිනම් කොමන්ට් එකක් දාන්න කෙල්ලේ ඔයා නලවන එන කොට මගේ හිත නැලවෙනවා කෙල්ලේ ඔයා එනකොට මට හිතෙන්නේ ඔයා බඩුවක් කියලා ඔයා කැමතිනම් මගේ ලගට දුවගෙන එන්න කෙල්ලේ සවනි මගේ මම සවනිගේ',\n  'HOF'],\n [8022,\n  '@USER ,  @USER  @USER නිකන් පල මාලු වේසි යන්න. මංගලගෙ ඇටේ උරල එනව අපිට පුක දෙන්න',\n  'HOF'],\n [8023,\n  'ගැනුන්ට වටේ යනවා වටේට අල්ලනවා බඩුව ගොනා කියලා කිව්වට වටේටම කෙලින පිරිමින්ට එහෙම කියන්නේ නැ නේ   කියන්නේ අහවල් කාර්යයේ වගකිමක් තියෙන්නේ ගැනුන්ට ද?',\n  'HOF'],\n [8024,\n  '@USER  @USER \"යමෙක් උපතින් හෝ කුලයෙන් වසලයකු නොවේ. ඉඳින් යමෙක් වසලයෙක් හෝ බාලයෙකු වන්නේ ඔහුගේ ක්\\u200dරියාවෙනි\" -බුදුරජාණන්වහන්සේ- උඹත් පෙන්නලා තියෙන්නේ උඹේ වාසල ගති. වගේම උබේ පොන්න ගති. ඒකයි මම උඹට පොන්නයා කියලා බන්නේ. අපේ තාත්තා තෝ වගේ කෙල්ලොන්ගෙන් sex චැට් කරන්න ඉල්ලලා m දන්නේ නෑ.',\n  'HOF'],\n [8025,\n  '@USER ආවේ ෆ්\\u200dරී වයිපයි දෙන්න. හයියෙන් පඩයක් ගියත් ෆේස්බුක් තහනම් කරනවා.  ඉගෙනගත්තේ නැති බූරුවෙක් මුල් පුටුවට ගෙනත් මොනවා බලාපොරොත්තු වෙන්නද? මෙ අන්ඩුවෙ නොහැකියාව වහගන්න එක එක විකාර කරනව!',\n  'HOF'],\n [8026,\n  '@USER  @USER Likes තිබ්බම පොරක් වෙනවද? පොරක් වෙන්නෙ රටට සමාජයට සේවයක් කරන එවුන්. නිකම් මේක ඇතුලෙ කාලකණ්ණි වෙන්නෙ නැතුව ගිහින් පොතක් බලාගනින්.',\n  'HOF'],\n [8027,\n  'රාජිතගෙයි පුතා චතුරගෙයි සක්කිලි ගති - අහන්න  වීඩියෝව VIDEO-->URL #lka  @USER  @USER  @USER  @USER  @USER  #Colombo #PCelectionslk  @USER  @USER',\n  'HOF'],\n [8028,\n  'තමන්ට කියලා කෝ අනුන්ගෙ දේවල්ම හොයනවෝ ඒකාලෙ සෙනෙහෙ පෙරේත කමට හැරිලදෝ ලෝකෙට ණය වෙලෝ කාලයක් යද්දී මිනිහා පිට යනෝ කාලකණ්ණි වෙලා පල මගෙ කටින්ම සාප හැදිම ගෑවියෝ HAZIඳු @USER  · 9 Nov 2018 වාගෙ කදුලු වැටෙන්නෙ twitter.com/defyixviiithar…',\n  'HOF'],\n [8029,\n  '-ලේසිම එක පේල් නේ බන් -ඒක අව්ලක් බන් එතකොට අනික් එවා -ලේසිම එක පේල් මොන රෙද්දටද යකෝ අනික්වා අහන්නේ #WhenALResultsAreOut',\n  'HOF'],\n [8030,\n  'ලෙඩේ උඩු දුවන්නේ අපේ රටේ  සක්කිලි වගේ හැසිරෙන සමහරක්  මොඩ හැත්ත නිසා..  රට ඉදන් ආපු සමහරකුයි  හැදුන අයගෙන් සමහරකුයි  ගොන් හරක් වගේ වැඩ කරපු  රොගය මෙච්චට උඩු දිවුවේ එවාට  හෙතු උන සෙරටම හෙනගහපන්  නැත්තන් අල්ලලා වෙඩි තියපන්..  #CoronavirusOutbreak #SriLanka #COVID19SL',\n  'HOF'],\n [8031,\n  '@USER  @USER තනියෙන් කිසි දෙයක් කරන්නේ නෑනේ උන්. තමන් යාළු වෙලා ඉන්න එකා තමන්ව හැමදාම බලාගනියි කියලා විශ්වාසෙට කරන්නෙ.. ඒක එක විදියක මෝඩ කමක්.. එහෙම විශ්වාස කරපු කෙල්ලගෙ ෆොටෝ වටේ යවන එකා පොන්නයෙක් තනිකරම.. අන්තිමට ගෑණිගේ වැරැද්ද කියන්න එපා ඒවට...',\n  'HOF'],\n [8032,\n  'අවස්ථා වාදී, උරෝ කැකුණ තලනකොට නටන හබන් කුකුලෝ දැකල නැද්ද? බලා ගන්න. පහුගිය චන්දෙදි ලැබුන මොලේ මාන්දම් පරාජයෙන් පස්සේ නැවත සුපුරුදු ධාර්ශනික බඩගෝස්තරවාදය වපුරන ලොවෙත් නැති සමාජවාදය.#නොදකින්,#lka,#jvp,#SriLanka DailyMirror @USER  · 11 Apr 2018 JVP to launch massive protest campaign for pay hike URL',\n  'HOF'],\n [8033,\n  'මෙහෙම එවුන් මොන මගුලකට ඉන්නවද දන් ෆේස්බුක්.. දන්න හුයන්නකුත් නෑ. ගෑනු පිස්සා. තොට හැමෙ කෙල්ලම තොගේ අක්කද... URL',\n  'HOF'],\n [8034,\n  'මට ඇසුරු කරන්න වෙලා තියෙන්නේ ඉබි මස් හිටන් කන වේස හැත්තක් එක්ක බන්.කරන්න දෙයක් නැති කමට ඉන්නවා මිසන් කරන්න දෙයක් නැ ඔයි :/ :/',\n  'HOF'],\n [8035,\n  '@USER  @USER    රිප්ලයි 491යි තියෙන්නේ. අර මාතර පැත්තේ පැනි වල් පොරක් ඉන්නේ දිසාපාමොක් කියලා නමක් දාන් හිටි ඩෑල් එකත් රිප්ලයි කරලා.',\n  'HOF'],\n [8036,\n  'ගාමන්ට් කෑල්ලක් පස්සෙ විජේ මුල් කාලේ කුවේ නියේ මා කුවේ නියේ මා.. තං මැන්නා එනවා..  තං මැනලා වැඩේ ඉවර උනාම..  තූ වේසියේ තෝ තූ වේසියේ තෝ.. මාව දැලේ දැම්මා...  #thinkingවිජය',\n  'HOF'],\n [8037,\n  '@USER මොනවා වුණත් ඕනෑවට වෙනස් කම් කරන්න ගිහින් ලංකාවේ ළමයි ගොන්නු කරලා තමයි  @USER  නවතින්නේ.ඇමතිතුමා හදන්නේ ඒයාගේ කාලේ තමා අධ්\\u200dයාපනයේ ලොකු වෙනස්කම් රාශියක් කරා කියලා නමක් හදාගන්න. ඔය විහිළු විකාර වැඩ වලින් අන්තිමට ළමයි මෝඩයෝ වෙනවා.',\n  'HOF'],\n [8038,\n  '@USER  @USER ටුවිට් එකේම තියෙනවා ගෑණුන්ට  අනාරක්ෂිත ගබ්සා වලට යන්න සිද්ධ වෙලා තියෙන්නේ කියලා. දරුගැබක වගකීම බොහොමයක් පිරිමි බාරගන්න ඇකමැති තමයි ගෑණුන්ට මේවගේ දේවල් වලට යෝමුවෙන්න වෙලා තියෙන්නේ. මොකද අපේ සමාජය හැමවෙලෙම ගෑණු කෙනාට \"වේසි.\" කිවත් ගෑණු කෙනාව බඩකරපු පිරිමියාට \"වේසාවා\"',\n  'HOF'],\n [8039,\n  '@USER  @USER මාත් ඒමයි අයියෙ...... ප්\\u200dරවෘත්ති දැම්මොත් ඒම  දේශ-පාලුවො හැ$!#!නුන හැටි දෝඩෝනව,,,,,නාට්\\u200dයක් දැම්මොත් වැලලෙන්න හදනව,,,,යන්තමට හොද චිත්\\u200dරපටියක් සෙට් වුණොත් ඇඩ් 1000ක් විතර දාල  හැ@#$නෙනව.....  කාලකණ්ණි....',\n  'HOF'],\n [8040,\n  'මේක තමා ඇත්ත. බඩුව කියලා කියන්න ලේසි වුනාට බඩුව කියලා කරන ඔය මහත්තුරුම තම ඔතනට බුදියන්න යන්නේ. මන් දන්න... URL',\n  'HOF'],\n [8041,\n  'ඊයා පොඩි උට්ටෝ නම්, කොල්ලෙක් හැප්පිලා මැරිලා, ඌ මැරිලා දිවත් එළියට දාගෙන ඉන්න ෆොටෝ එක දාලා, ඌට නිවන් සුව පතනවා, ගොන් පකයලා ළඟ ඌ ජීවත් වෙලා හිටපු කාලේ ෆොටෝ එකක් නැතුව ? ඉඳකිං කාලක්ණ්නි',\n  'HOF'],\n [8042,\n  'ඔයා කැමති ඔයා දාන ලොකු අවජාතක මාතෘකා සන්වාද කරන්න...මම සූදානම් Vikalpa @USER  · 23 Feb 2016  @USER @USER ....“බුද්ධ ධර්මය” තම නොපනත්කම් මෙවලමක් කරගෙන වෙස්වලාගත් අයවලුන්ගෙන් නිදහස් කර ගැනීමෙනි. URL #lka',\n  'HOF'],\n [8043,\n  'බුදුදුහමට නිග්\\u200dරහ කරන බල්ලා ඇනගනි... මුගෙන් ඉගන ගත්තු උන්ට දෙවිපිහිටයි .. පරපුර මොන කතාද ?  ගෞතම... URL',\n  'HOF'],\n [8044,\n  '@USER මාත් අද ට්\\u200dරේන් එකේ දැක්ක නාකි ලොක්කෙක් රටකජු කවරෙ රේල්පාරට විසික් කරනව.මාත් කල්පනා කරේ ඕකුන් ටික මැරිල ගියාම ඉතුරු පරම්පාරාවෙ ඔලුගෙඩි ටික හැදුවනම් හරි එයාලව වෙනස් කරන්න මහන්සි නොවී..මොකද කොච්චර කිව්වත් මිනිස්සුන්ගෙ ආකල්ප වෙනස් කරන්න බෑ',\n  'HOF'],\n [8045,\n  'වේස බල්ලො බැල්ලියෙක් දැක්ක ගමන් පාර හරහා පනිනවා ඇහිල්ලක් බැලිල්ලක් නැතුව.  පොඩ්ඩෙන් එක බැල්ලිගේ පුතෙක් පරලොව යනවා වාහනේ වැදිලා',\n  'HOF'],\n [8046,\n  'ගොවි පුතා කියා පච මල්ලක් අතහැර බලයට පැමිනි සිරාගේ කටේ , ගොවීන්ගේ පස්ස ඇතිල්ලීමට නියමිතයි.  ඇමෙරිකාවයි ගොවීනුයි... URL',\n  'HOF'],\n [8047,\n  '@USER මරු....දැන් දෙන්නටත් තියෙන්නෙ කීපදෙනෙක්ට පිහියකින් අනින්න........... නවසීලන්තයේ ඉන්නෙත් මෙච්චර මෝඩයො කියලා මං දැනන් හිටියේ නේ.............',\n  'HOF'],\n [8048,\n  'හොඳ මිතුරියක් කතා කලා. විස්තර කතාකරමින් ඉදලා දවස්වල මොකො කරන්නේ ඇහුවා. මම උයපු හදපු කෑම බීම ජාති කිව්වා. බැඳලත් නැති එකෙ ඔච්චර උයන්න යන්න එපා තෝ ගෑනියෙක් වෙයි කියලා එයා කිව්ව.  ඒක ඇහු වෙලේ ඉදන් ඇග බිජ්ජට තියෙන සම්බන්ධය අඩුවෙනව වගෙ. කොරෝනස්සෙ ඒකත් හැලිල යයිද මන්දා',\n  'HOF'],\n [8049,\n  '@USER ,  @USER  @USER තොපි දෙන්නා කාලා කාලා ළමයි හදලා උනුත් කන්න ගත්තම තමයි ලෝකෙට ඊළඟ සාගතේ එන්නේ',\n  'HOF'],\n [8050,\n  '@USER ගොනෙක් උනා කියලා උම්බෑ කියන්න එපා බුරු පුතානෝ... තවුසෙ වගේ ගොන් හරක් කියන දේවල් අහන්නේ තවුසෙ වගේම බුරුවො...ඒ රණවිරුවෝ ඇහුවේ වගකීමක් ගන්න පුළුවන් මනුස්සයෙක් කියන දේ...දැන් වැලක් කපන වලලියන්...',\n  'HOF'],\n [8051,\n  'මෙවැනි ව්\\u200dයාජ දේශප්\\u200dරේමියෝ කියන ගොන් කතා වලට උත්තර දෙන්න පුළුවන් රෙදි ගැලවෙන්න. එහෙම නොකර සිටිමි sunanda deshapriya @USER  · 15 Sep 2021 කුණූ හෝදන එකේ සීමාවක් නැත්ද? වසංගතය අස්සේ ඡන්දයක් ඉල්ලුවා. ලොහාන් පස්ස කහනවා! Is there a no limit to laundry services in #SriLanka. Please  learn to be  critical! twitter.com/RehanJayawick/…',\n  'HOF'],\n [8052,\n  'ඉන්න ගොන් පකේලා ගෙවල් Rent එකට අරන් DJ දලා ගහන්න පුලුවන් හැම මලජරාවම ගහන්න පුලුවන් සැප පාටි දාන කලාක් හොයාගෙන ඇවිල්ලා නදකින් ඕවා කරනවනම් පාඩුවෙ අහු වෙන්නෙ නැති වෙන්න කරන්න ඔනේ අන්තිමට කෙල වෙන්නෙ අපි වගේ පාඩුවෙ සෙට් එවුන්ට ගෙදරින් එලියට බැහැගන්න බැරි එක...',\n  'HOF'],\n [8053,\n  'පුකරංගල නැගලා කිලෝමීටර් ගාණක් ඈතින් තියෙන සීගිරි ලලනාවන්ගෙ තං වලට හුජ්ජ කරලා, ලෝකෙට පුක පෙන්නලා ආතල්ලෙකක් ගත්තු කොල්ලොංගෙ කළු පුකවල් බලලා පයි උරුක් කරගෙන, ඇඟවටේ ඔතං ඉන්න සිවුරු හීනියට රෝල් කරලා පුකේ ගහගෙන, ඉවසං... URL',\n  'HOF'],\n [8054,\n  '@USER  ඕකා කියපු ඒවා කරා බැරියැ ඉතින්, ඔහේ කටට එන එක වාචාලයා වගේ කියවනවා, නැත්නම් කවුරුහරි කියපු එකක් කියනව.',\n  'HOF'],\n [8055,\n  'තොපි කරන ලබ්බකුත් නෑ.. වක්කඩවල් ටික වගේ කටවල් ටික කියව කියව ඉන්නවා... pradeep srimal @USER  · 4 Sep 2021 කොරොනා 28ක් තිබුනම රට වහන්න ඕනද කියලනේ එදා ඇහුවේ... උද්දච්ච, උඩඟු අහංකාර බවේ ප්\\u200dරතිඵල තමයි අද රටම භුක්ති විඳින්නේ...',\n  'HOF'],\n [8056,\n  'සමන්තභද්\\u200dර බණින හොරිකඩ චීවරධාරීන් කෙටියෙන්. මේව වගකීමෙන් කියන්නෙ. ඇස් දෙකට දැකපුව. උන් තමයි ලංකාවේ ලොකුම බිස්නස් කාරයෝ . වෙලාවට කනවා වෙලාවට බොනවා  වෙලාවට බඩුත් ගහනවා  සිවුර කියන්නේ නිකං ඉදං කන පර්මිට් එකට බන් .  ලංකාවේ ගොන් බිජ්ජොන්ට සත්\\u200dය තේරුම් ගන්න අමාරුයි . බොරුව හොඳයි',\n  'HOF'],\n [8057,\n  'ආතල් එක සාපේක්ෂ දෙයක් හුජ්ජ කොල්ලො අද ඊයේ මේකට ඇවිත් හැමිනෙන්න එපා මං වගේ ආතල් එකක් අරන් පාඩුවේ හිටපන්   අලුත්ම ලොජික්ස්',\n  'HOF'],\n [8058,\n  'Dog:- හම්බෝ...පට්ට බැල්ලී පාරක් යනවා.... Duck:- හම්මට උඩු..පණුවෙක්ද කොහෙද... කොටලම ගන්න ඔනී..  Dog:- *ටහුක් යකෝ...තාර ප*යා.. Duck :- හුටා...ශේප් එකේ මාරු වෙනවා...!!!!',\n  'HOF'],\n [8059,\n  'යකෝ ගැනු රෙදි බගෙට ඇදං ඇවිල්ල අපි දැක්කාම ඇබරෙනව  හරියට රෙදි අපි ඇන්දුව වගේ  තූ  තොපි',\n  'HOF'],\n [8060,\n  '@USER නොදැකින් කාලකන්නියා කහ රෙද්දට අගෞරව කරන මුසලයා. මුං ලග සල්ලි නැත්තම් බැංකුවෙත් නැ ගොං හැත්ත. මහණ වෙන්නේ සැප ගන්නද?',\n  'HOF'],\n [8061,\n  '@USER සේරම ගොන් ප..ලා..උබ හොද උගතා..එහෙමද හිතාන ඉන්නෙ..වචන දිහා බලනකොට කාටත් තෝ හිතෙන්නෙ එහෙම තමයි...සමහරවිට ජාතකෙ වැරැද්දත් බලන උන්ට පේනවා..',\n  'HOF'],\n [8062,\n  'low class fellows පයිය තමයි.ගොන් හරකෙක්ගේ කතාවක්  Andrew Fidel Fernando @USER  · 14 Mar 2020 Look you low class fellows, the Royal-Thomian went uninterrupted through two world wars, the Spanish flu, the plaguethe meteor-strike that killed the dinosaurs,partying through all of that is a point of prideabsolutely no reason for profound embarrassment.',\n  'HOF'],\n [8063,\n  '@USER කොරයි කොරයි. පයිය නගින්නෙ නැති උන් කරන්නෙත් ඔය උබ වගේ කෑ ගහන එක තමා. හුකා ගන්න බැරි උනාම ගමකට හුකන්ඩ වගේ කෑ ගහනව.',\n  'HOF'],\n [8064,\n  'ලංකාවෙ ඉන්න එවුන් හිතන් ඉන්නෙ අපි වගේ එවුන් රට ඉන්නෙ හෙන පෝසත් කියල. ලංකාවෙ ඉදල හරියට කන්න අදින්න තරම්වත් සල්ලි නැති දුප්පතෙක් නිසානෙ රටකට ගිහින් ඉන්නෙ පකෝ. ඒක උන්ට තේරෙන් නෑ. හිතන් ඉන්නෙ මං ඉන්නෙ රට මං පෝසත් කියල...   යෝ..යෝ... #බොබී',\n  'HOF'],\n [8065,\n  'අද මේකෙ ඉන්නවා එකෙක් ලෛ එන්නෙ නෑ.අපිට පොඩ්ඩක් නින්ද යනවා නේද මුන් ලෛ ඇවිල්ලා සහනාධාරත් බෙදලා ගෙවලුත් හදලා දෙනවා හුත්ත',\n  'HOF'],\n [8066,\n  'මං අද හොඳ පාඩමක් ඉගෙනගත්තා.  තමන්ව ගණන් නොගන්න උන්ට ඕනෑවට කොතනකදිවත් පුක දෙන්න යන්න එපා කියන එක. මොකද සමහර මනුස්සකම් සමහර උන් දකින්නේ පාට කන්නාඩි දිගේ.  Let the people to judge youdrop you, so you can do the same other way.',\n  'HOF'],\n [8067,\n  'කොච්චියේ ඉදගෙන යද්දි ජැක් ගහන උන් ....... නොදකින් ගල් මුසලයෝ...   ඔව් ඔව් උඔට පෙන්න තමයි ටුවිට් එක දාන්නේ   ගල් මුසලයා....',\n  'HOF'],\n [8068,\n  '@USER සිරාවටම හිතෙනවා අපරාදේ ගියෙ නඅත්තෙ කියලා..ගියිනම් ඔය හුත්තලාට හුකවලා එන්නෙ පක්කුන්ට.. අප්පච්චි ඇතුලෙ කේස් දන්න යන්න එපා ක්ව්වාකැම්පස් වල ඉන්නෙ මානසික ලෙඩ්ඩු ටිකක්..අසහනකාර පොන්න හැතිකරේ',\n  'HOF'],\n [8069,\n  'Meanwhile > පපඩම් බදින්න ගිහින් පපඩම් අගුරු වුනා. අයියා.. තමුසෙ බූරුවෙක්නෙ ඕයී.අව් රුදු 23 වෙලත් පපඩමක්වත් බදින්න බෑ..',\n  'HOF'],\n [8070,\n  'ඉස්සර උබ වලියක් ලොවෙත් කියනො ගිහාන් අයියා ඉක්මනට වරෙන් කියලා අඩ ගහලා කියන්නේ තො වෙනස් කම් කරනවා මන් තොට වෛරය',\n  'HOF'],\n [8071,\n  '@USER  @USER    පකෝ තෝ කෝල් කරන්න නෙවෙයිද ඉල්ලුවෙ නොදකින් උබත් ගොලු කාන්ති වගේ...ඊය යකෝ පිරිමි කම ලැට් එකේ දොරට හේත්තු කරහන් කුක්කු බිලිංජා',\n  'HOF'],\n [8072,\n  'ඔය හවුල් පාලනේට චන්දෙ දුන්නු එවුන් මගුල් කියාගෙන එන්න එපා.ඇට තලනවා.තොපි රටට ශාපයක්.රැඩිකල් පොන්නයො අනිත් එඋන්.අර සමනලී ෆොන්සේකා වගේ අවජාතක හැත්ත කෝ බන් උන්ගේ මීඩියා කන්ෆරන්ස්.උන්ගෙ අම්මගෙ රෙද්ද.දැක්ක තැන නෙලපියව්.ණය ගත්තා තමයි පකෝ.හැබැයි අපිහුස්ම ගත්තා.',\n  'HOF'],\n [8073,\n  'අද මැච් එකේ බෝලස්ලට පිඟානටම බෙදලා දුන්නා  සක්කිලි ගැහිල්ලක්නෙ ගැහුවෙ දෙයියනේ.... වනේ හතුරෙකුටවත් වෙන්න හොඳ \\u2063ඔහොම',\n  'HOF'],\n [8074,\n  'එතකොට repair කරගත්තු උන්ට ආශිර්වාද කරනවද දන්නෑ   ඔය ඉන්න හාමුදුරු ගොල්ලොම තමා අපහාස කරගන්නේ කටට එන දේ ඔහේ කියලා  Prabhash Jayaweera @USER  · 17 Feb 2020 අපහාසයක් නෙවෙයි, හිතුණ දේ...  හාමුදුරුනමක් බණට කියනවා වෙඩිමෙදි අෂ්ටක කියනකොට දෙවියෙක් ඇවිත් කපල් එකේ වර්ජිනිටි චෙක් කරලා උන් වර්ජින් නෙවෙයි උන්ට සාප කරලා යනවලු.   මට තියෙන ප්\\u200dරස්න,  ) සුද්දන්ගෙ වෙඩින් වල දෙයියා එන්නැද්ද? ) අෂ්ටක නොකියා වෙඩිම ගත්\\u200dතොත් දෙයියා ඒත් එන්නැද්ද?',\n  'HOF'],\n [8075,\n  '@USER දවස්වල ඉපදිලාවත් හිටපු නැති කාමිලා කියන හුජ්ජ කොල්ල දන්නා දේවල් තමයි ඔය දාලා තියෙන්නේ. වගේ ගොන්නුන්ගේ මොළ රාජපක්සලාට හෝදන්න ලේසියි ඉතින්.',\n  'HOF'],\n [8076,\n  'නිග්ගා ඇඟිල්ලක ලාභම මුද්ද හුන්නිඩ් දහසක්, නිග්ගා ඇඟිල්ලක ලාභම මුද්ද ලිල් බැච් හුනිඩ් දහසක්, ලිල් බැල්ලි, ඔව් හුන්නිඩ් දහසක් නිගා ඇඟිල්ලක ලාභම මුද්ද සඳහා, ලිල් බැල්ලි, අහ් හුන්නිඩ් දහස',\n  'HOF'],\n [8077,\n  '@USER ,  @USER  @USER සක්කිලි බන් කැලනි කැම්පස් එකෙ ඉන්නෙ ,ආර්ට් කරන උන් ඉන්නවා කියන්නෙම එතන ගාල ගෝට්ටි',\n  'HOF'],\n [8078,\n  'වල් බැල්ලි ගහනව තොට වැලි  @USER    අප්පටසිරි  Dinal @USER  · 26 Dec 2017 Type “වල් බැල්ලි ගහනවා තොට වැලි\"@ the 3rd “girl” in your list',\n  'HOF'],\n [8079,\n  'කැරි පකයා පොන්න හුකන්නා කැරි බඩුව  (6)ඉහත සදහන් මූලික කුනුහරප ප්\\u200dරණවාචී නාමපද එක්වී කුනුහරප හටගනී...  හුත්තිගෙ පුතා වේසිගෙ පුතා කැරි වේසිගෙ පුතා හුත්තිගෙ කෙල්ල හුත්\\u200dතිගෙ කොල්ලා  (7)තවද මූලික කුනුහරප අප්\\u200dරාණවාචී නාමපද එක්වී කුනුහරප හටගනී...',\n  'HOF'],\n [8080,\n  'මට ආරංචි හැටියට කොටුවේ දවස් වල ඩොලර් එකක් රැ. 152 නෙමෙයි, රැ. 155 කියලා විකුණන්නේ. ගන්න මිනිහා ගන්නවා. නොදකින්. :29  views',\n  'HOF'],\n [8081,\n  'කෙල්ලනේ, නිදියන්න කලින් මේක දාල යන්නම්  ඔය බබා උක්කුංලගෙන් ප්\\u200dරවේසම්වෙයන්  කැරියො ගොඩක්වෙලාවට මම කැරියෙක් කියන එක තේරෙන විදියට ඉන්නෙ. උන්එක්ක කතාකරද්දිම උඹ දන්නව ඌ කැරියෙක් කියල  බබා උක්කුංල ඉන්නෙ මල් වගේ, උඹ කැමතිම පාටවලින්, උඹ අතදික්කරනකම්. ඌ උඹට බබා හුක්කුං කරල යනකම් උඹ දන්නෑ.',\n  'HOF'],\n [8082,\n  'අපි දොයි  මේක දැක්කොත් ගුඩ් නයිට් කියන් පලයන් හුත්තො   . . . . . . . .',\n  'HOF'],\n [8083,\n  'මට මතකයි..  දවසක් එයා කිව්වා  ....  \"ඔයා නැති දවසක මම ජිවත් එකකුත් නෑ\" කියලා  ඔය ඉන්නේ යස අගේට  බොරුකාර මී හරකා...   #copied',\n  'HOF'],\n [8084,\n  'ඊයෙ පෙරේදත් වගේ සීන් එකක් උනා. කොන්ද පන නැති පොන්න ඩයල් හැම තැනම. මගේ එකී මටම කියන්න එනවා. කාලකණ්ණි හැත්ත. Shamal Dilantha @USER  · 12 Nov 2017 සමහර ඩෑල් ඉන්නව කෙල්ලෙක්ට කොල්ලෙක් ඉන්නව කිව්වම මාර අමාරුවක් තියෙන්නෙ... ලයින් දාල බැරිවුනාම කෙල්ලව චොර කරන්න දගලනව... කතා ඕන රියල් පොන්නයො',\n  'HOF'],\n [8085,\n  'කුණුහරප සහිතයි: . . . . . . . . . . . . . . . . . . . . . . . . . . . . හුත්තිගේ පුතාගේ අම්මට හැමිණෙන්න ඌ හිතං ඉන්නේ මට වැඩ නෑ, මං කරන්න ඕනේ අනික් උන්ගේ පක්කාලි වැඩ විතරයි කියලා, පොන්න වේසිගේ පුතා !!!',\n  'HOF'],\n [8086,\n  'හෙන ගොනා නේ හාවෙක් කියල හිතන් ඉන්නෙ Coco @USER  · 15 Feb 2019 මං හිතන්නෙ මං හාවෙක් වෙන්න',\n  'HOF'],\n [8087,\n  'බංගලි කෙල්ලෝ එපා !!!! කොල්ලෝ අච්චර මෝඩ කෙල්ලෝ කොහොම මෝඩ ඇද්ද අමු ගොන් හරක් ඇත්තේ :3  රෙද්ද උස්සන් එන් එපා පීස් :3',\n  'HOF'],\n [8088,\n  'යහපාලන කාලකන්නි සක්කිලි බල්ලො අහපල්ලා.  තොපි විකුණාගෙන කන්නේ අපේ දරුවන්ගේ අනාගතය යි.  ලක්ෂය තොපේ නායකයන්ගෙන්... URL',\n  'HOF'],\n [8089,\n  'තල වපුරන කාලෙට වී වැපුරුවොත් තලත් වීත් නෑ. හින්ද ඉගෙන ගන්න තියෙන ටික කාලෙට ඉගෙන ගන්නිල. සල්ලි තිබ්බත් ප්\\u200dරයිවට් ඩිග්\\u200dරියක් කරන්න හරි S3ක් තියෙන්න ඕනෙ. කරපු සබ්ජෙක්ට් මාරු කරල හරි S3ක් ගන්න. මගුල් වලට ඇවිල්ල කාලකණ්ණි වෙන්න එපා..',\n  'HOF'],\n [8090,\n  'කැත වැඩ බං.. යම රජතුමා @USER  · 5 Mar 2020 පාඩුවේ ත්\\u200dරිසම් එකක් දාන මිනිස්සුන්ට ඔහොම බලු වැඩ කරන්න එපා  :56  views',\n  'HOF'],\n [8091,\n  'හුජ්ජ කොල්ලෙක් ඇවිත් මොනවා කරන්නද?  හුජ්ජ කොල්ලා බංකොලොත් දේශපාලකයන්ගේ රුකඩයක් විය නොහැකිද? Udaya wickramarathna @USER  · 8 Apr 2021 උවිදු උගතෙක් වුනත් බුද්ධිය මුහුකුරා නොයාම හේතුවෙන් දූෂිත නාටකයක ප්\\u200dරධාන චරිතයක් ලබාගෙන දිනවල නාට්\\u200dයයට අවශ්\\u200dය location බැලීමට හිරු දෙරණ සමගින් තැනින් තැන යන්නේ කාගේ අරමුණ වෙනුවෙන්ද කියලා ඕනම මෝඩයෙකුට තේරුනත් උවිදු තේරුම් ගන්න  කොට නැව ගොඩකි දුර ගිහිල්ලා ඉවරයි උවිදු!',\n  'HOF'],\n [8092,\n  'අනිවාර්යයෙන් ..කොල්ලොනේ උන් ඉතිං පදුරකට හරි හුජ්ජ කරයි කෙල්ලෙක් එහෙම බෑනේ කියල අතඇරියොත් පුතේ .. පාරේ ඉන්න බල්ලෝත් පදුරුවලට තමයි ඔය වැඩේ කරන්නෙ.. තිරිසනුන් කරන වැඩ කරන්න උන් පසු බඩ වෙන්නෑ...  🅒🅗🅐🅝🅓🅤 @USER  · 10 Jul 2020  @USER  ඒක හරි අක්කේ \"කොල්ලොනෙ..  උං හැදෙනවා කොහොමත්\" කියන්නෙ මාර භයානක කතාවක් සමහරවිට',\n  'HOF'],\n [8093,\n  'පොන්න... පිස්සු හැදීගෙන එනවද කොහෙද, අමුම අපු කාලකන්නියෙක්  හයිබ්\\u200dරිඩ් උසාවියක්\\u200c පිහිටුවීමට කිසි ඉඩ නොදිය යුතුයි අනුර කුමාර',\n  'HOF'],\n [8094,\n  '@USER “ජන ජීවිතය සාමාන්\\u200dය පවත්වාගෙන යන්න”  යකෝ  social media block කළාම කොහොම ජන ජීවිත සාමාන්\\u200dය  වෙන්නේ',\n  'HOF'],\n [8095,\n  'ඕයේ ශකලක බේබී... අපිට පාන්ද.. යෝ යෝ මා නිගා... 280 ලොකුද @&#තෝ... තද තද... රෑට කන්නෙ පාන් යාලු... උදේට බත්.. දවල්ට රයිස්... බඩපිරිල ඇඟ හැදිලා... lecture ගියේ නෑ.. ඉන්නෙ සැපේ බ්\\u200dරෝ...ජීවිතෙ පිස්සු... කෙල්ලො යාලු.. කොල්ලො ඉන්නේ... ගමේ නේ.. කොල්ලොනේ.. 280 නේ... තාම ඉවර යකෝ..',\n  'HOF'],\n [8096,\n  'සමහර ගිණිකඳු අක්\\u200dරිය කාලෙට බල්ලොත් කකුල් උස්සලා හුජ්ජ කරන්න ඇති..  ඒත් ගිනිකන්දෙ අගය අඩු උනාද? නෑ..  භයානක කම අඩුවෙනවද? පිංවතුනි කොහෙත්තම නෑ..',\n  'HOF'],\n [8097,\n  '@USER  @USER වගේද කෑල්ලක් ලයින් කරකර ඉද්දි එකපාරට කඩා වැදිල ඒකිට බනිද්දි . . . \"පට්ට වේසියො . . .මගෙ කොල්ලව කනව\" කියල',\n  'HOF'],\n [8098,\n  'හෙට වුණත් ආණ්ඩුවෙන් යන්න පුළුවන් - ( නොදොකින්, නොපතන් ජරා හැත්ත ) #srilanka  @USER  @USER  @USER',\n  'HOF'],\n [8099,\n  'ඥාතීන් කියලා හඳුන්වන හැතිකරේට.. කට පුක පියාගෙන තමන්ගේ වැඩක් බලන් ඉන්න බැයිද..   පෙළක් තරුණ අය රටත් අතෑරලා විදෙස් ගත වෙන්න එක හේතුවක් තමයි ඥාතීන්, අසල්වැසියන් කියලා හඳුන්වන හැත්ත..',\n  'HOF'],\n [8100,\n  'ලංකාව ඇතුලේ බෝම්බ ගහපු එවුන්ට මොකුත් කරගන්න බැරි වෙච්ච කොන්ද පන නැති පින් ගොනා  රටක වෙච්ච දේකට මොනා හරි කරයිද',\n  'HOF'],\n [8101,\n  'මේක rt කරපු හැමෝටම කෝලගෙ ඉන්න නෝනයි දරුවයි සාප කරයි! ඔව් තොපි ඔක්කොම පවුකාරයො ⍣༗Baby Koala ♡✿࿐⍤⍤ \\uea00 @USER  · 1 Jan 2021 අවුරුද්දේවත් කෝලට කෙල්ලෙක් සෙට් වේවා කියලා මේක rt කරන් යන්න යාලුවනේ',\n  'HOF'],\n [8102,\n  'අැයි මෙ කාලකණ්ණි මෙච්චර විහිළුවක් වෙන්නේ, තුහ් විතරක් මෙහෙම අාණ්ඩුවක් The following media includes potentially sensitive content. Change settings View',\n  'HOF'],\n [8103,\n  '@USER දහ ජරා සාකච්චා එක්ක වීඩියෝ ප්\\u200dරසිද්ධ කරලා පහත්, පොන්න නුගත් සතුටක් මෙයා වින්දා වගේම කට්ටිය එක්ක. ...දැන් එලියට බැස්සේත් ලෙවල් එකේම ප්\\u200dරසිද්ධිය සදහා තමයි...මේවා ප්ලැන් කරපු වැඩ',\n  'HOF'],\n [8104,\n  '@USER අම්ම තාත්ත ආච්චී සියා නාකි හුචක්කු නෙවෙයි  ලංකාවේ වැඩිහිටි නිවාස වගේ හිතන  එවුන්',\n  'HOF'],\n [8105,\n  'අපේ ගෙදර බල්ලෙක් හිටිය කලින් ඌ සාලේ චූ කරල, අම්ම උස්සන් ඇවිල්ල උගෙ හොම්බ ඉලුවා බලු හුජ්ජ ගොඩේ    ඌට පාඩමක් උගන්වන්න කියල කරේ  Yoooo @USER  · 4 Dec 2021 හිතුනොත් බැල්ලිව මකලා හදනවා ,ගෙයි බෙටි ගහන එක නතර වෙන්නෙම',\n  'HOF'],\n [8106,\n  'අප්පට හුක###;  අවුරුදක් විතරයි  වවපු කොන්ඩෙ කැපුවා..මාර දුකයි.අවුරුද්දට වෙනස් උනා කියලා හිත හදාගන්නවා සරලයි ... - දුකක් දැනෙමින්',\n  'HOF'],\n [8107,\n  'කොන්ද පණ නැති උන් රවන හැටි නොදකින්.. වෘක හම ගලවපන් කාපන් ගිහින් තණකොළ.. — ascoltando උඹලා ඉන්නෙ දුරින් presso Napoli URL',\n  'HOF'],\n [8108,\n  '@USER  @USER නියමයි. මම කලකට කලින් කිව්වා හොරාකෑමේ දේශපාලන ක්\\u200dරමය කරදරයක් නැතුව කරගෙන යන්න ආණ්ඩුව මීළඟ අයවැයෙන් අධ්\\u200dයාපනයට මුදලක් වෙන් කල යුතුයි කියල. හොඳට ඉගෙන ගන්න පිරිස ඉගෙනගෙන සංවර්දිත රටවල් කරා පදිංචියට ගියාම ආණ්ඩුවට ලේසියි ඉතුරුවෙන මෝඩ වහල්ලු බහුතරය රට කරගෙන යන්න.',\n  'HOF'],\n [8109,\n  'මෙවන් කාලකන්ණි සක්කිලියන්ගේ  මුළු පව්ලටම හෙන ගහන  එක  ඈතක නෙවෙයි  ලේ වමනේ දාලතැනින්  තැන මැරී වැටෙනවා මුන් The following media includes potentially sensitive content. Change settings View',\n  'HOF'],\n [8110,\n  'එතකොට හන්දියෙ කඩපලට ගිහින් පැන්ටා කුප්පියක් අරන් දෙන්න, හම යනකං කට කන්න, ඈ සති අන්තෙ තොට වැඩක් ඇත්තෙම නැද්ද කියලා අම්ම තාත්තගෙන් බැනුම් අහගන්ටත් පුලුවන්. Saviii @USER  · 16 Aug 2018 වෙලාවකට හිතෙනවා... දුර පලාතක ගෑනුලමයෙක්ට ආදරේ කරන්න... සති අන්තෙ මුන ගැහෙන්න යන්න... හම්බෙන්න ගිහින් සතියක් පුරාවට හිතේ හිරකරන් හිටිය ආදරේ ඈට දෙන්න... මූන ගෙවෙනකන් ඇගෙ මූන ඉඹින්න...',\n  'HOF'],\n [8111,\n  '@USER බොරු කියනවා වගේ අවජාතක පිරිමි බොරු කියලා මට ලැබෙන දෙයක් නෑනෙ ප්\\u200dරෙන අනික වගේ දෙයක් කිව්වොත් බොරු කිව්වා කියන්න දාහක් දෙනා ඉන්නවා. කෙල්ලෙක් කොල්ලෙක්ට පාරක් ගැහුවොත් වාරියපොළ අක්කා කියලා fb page එකකුත් හදනවා.. ප්\\u200dරවුඩ් ශ්\\u200dරීලංකන්ස්',\n  'HOF'],\n [8112,\n  'අපෙ පූස මං මොනවහරි කනව දැක්කම   - අඩො බොක්ක මොනද කන්නෙ .. කෑල්ලක් දියන් බලන්න .. බඩගින්නෙ හිටියෙ. - උබ මේව කන්නෑ..  - කනවද බලන්න දියන් කෑල්ලක්.. - ඉදා එහෙනං.. .....  - තූ විතරක්.. මොනවද තෝ කන මල ජරාව.. හිපාටුව.. කන්න පුලුවන් දෙයක් කාපන්..',\n  'HOF'],\n [8113,\n  'සුපර් ස්ටාර් බලද්දි තමයි මට තේරුනේ අපි කොච්චර පිරිහිලාද කියල. බලහන්කො මූ කියන සින්දුව. කොහෙ ගියත් ඉන්දියාවට පුක දෙන එකෙක් ඉන්නවමනෙ',\n  'HOF'],\n [8114,\n  '@USER @USER  @USER  එක හුජ්ජ කෙල්ලෙක් කටේ අතුල්ලලා ගියා කියලා . වෙන්න බ්\\u200dරහ්මචාරී වෙන්නවත් හිතන්න එපා මනුසයො .',\n  'HOF'],\n [8115,\n  'මූ පොඩි වුනාට කොහොමද කෙල්ලට කරන්න හදන දේ ඉන්න පොඩි උනුත් වල් හැත්ත - Videos  URL URL',\n  'HOF'],\n [8116,\n  '@USER විමලෝ විමලෝ බෝම්බ ලොරි ගණන් ගෙදරටම ගෙනල්ලා බස්සගෙන විනාශ වෙන්න කැමති පිස්සු කෙලලා රට විනාශයට ඇද ගෙන පලයන්- එහෙම නැත්තං ඔය ඉන්න පොන්න වේසිගේ  පුතාලත් එක්ක එකතු වෙලා රට ඇදගෙන පලයන්, අපි උඹලට තුනෙන් දෙකක් දුන්නෙ උඹලට කියලා අපේ ඇට මිරිකගන්න නොවේ',\n  'HOF'],\n [8117,\n  'රාජපස්සගේ වැරදි කිව්වම වගේ ඉත්තෑවෝ දුවන කිහිප දෙනෙක් තාම ඉන්නවා. ගොන් සක්කිලි හැතිකරය තමයි රටේ කරුමෙට ජාතක වෙච්ච එවුන්. Nimantha Jayasinghe @USER  · 17 May 2021  @USER Nodanna magul nokiya hitapan.umbe mole tharama nemei anithunta tiyenne.',\n  'HOF'],\n [8118,\n  'කල්මුණේ ත්\\u200dරස්තවාදින්ට කුඩුවෙන්න ගහපු අපේ රනවිරුවන්ට ශක්තිය ලැබෙන්න ඔනේ කාලකණ්ණි විදියට අහිංසක මිනිස්සු මරලා දාපු. ත්\\u200dරස්තවාදි කලකාන්නි එලව යව්වට',\n  'HOF'],\n [8119,\n  'URL  කොහොමද කියන්නේ පිරිමින් යහපත් කියලා.... තරමින් අසික්කිත වැඩ වනසිව්පාවන් කරන්නේ නැහැ...... සල්ලාල එකෙක් බහුතරයකගේ නම කැත කරන්න...',\n  'HOF'],\n [8120,\n  'තබන තබන පය ලිස්සා වැටීයන්.. ගහන ගහන ගැට කෙල වී පලයන්.. රට කරනා නරි දෙන්නට මෙය වැදීයන්.. පාරක් අයිනේ බල්ලෙක් වගේ තොපි මැරීයන්!!',\n  'HOF'],\n [8121,\n  'ගෑණියෙක් ගල පෙන්නලා තන පෙන්නලා හිට් වෙන්න එනකොට පේලියට ගිහින් ෆලෝ කරනවා. පස්සේ ගෑණු හැම රෙද්දටම තමන්ගේ ගලයි, පුකයි, තනයි පෙන්නන්න ගත්තම \"අපි මේව බලන්නද ට්විටර් එන්නේ\" කියලා අහනවා.  ඒවා බලන්නනේ හුත්තෝ උඹලා උඩ දාගෙන ගිහින් ෆලෝ කළේ.',\n  'HOF'],\n [8122,\n  'සමහර කෙල්ලො ගූ චරිත ඈ කවදා හරි අම්මා කෙනෙක් වෙනව නේද අම්මා කියන පිරිසිදු නමටත් ලැජ්ජයි . වැටෙන්න අරක්කු ගහන ගොන් ගෑනු තියෙනවා දිග වැඩියි නදකින් හැත්ත',\n  'HOF'],\n [8123,\n  'සිරිසේනයගේ ලමයිට තාත්තා කරන වැඩ හින්දා ආයෙ පාරෙ බැහැලා යන්න වෙන්නෙ නැ.  ඩබල්ගෙම් කාරයා - නිවටයා - ගුනමකුනා - පබයා - මුසලයා - පාවාදෙන්නා පුතා හෝ දු කියලා මහාජනයා කියනකෝට පාරේ කොහොම යන්නද?  #lka #SriLanka',\n  'HOF'],\n [8124,\n  'රට පාවාදුන් අවජාතක සිරිසේන හෙලාදකිමු  අවුරුද්දට සුබපැතුම් ඕන නැත්නම්, මෙ මම වගේ BL PRESIDENT කියලා type කරලා 9010... URL',\n  'HOF'],\n [8125,\n  'ගහන්ඩ තියෙන කිම්බට වැඳ වැඳ ගහන්ඩත් එපා,ගගහ වඳින්ඩත් එපා,බඩුවෙ බැයිනං පුකේ හිලත් අවුලක්ම මොක බැරිවුනත් කිම්බක් හින්ද දිවි නහගන්ඩනං එපා.පිරිමි කමටත් ලැජ්ජයි. තූ නොදකිං.කිම්බ දේවාලයක් නෙමේ.දේවාලයක් වගේ පේන්නෙ පොන්නයින්ටම තමයි.ඕනනං හිකුව නැත්තං නිකා හිටියා.. :14  views',\n  'HOF'],\n [8126,\n  '@USER  @USER මුන් මොනා නැතත් බොරු පම්පෝරි ගහන එකට දක්ෂයි. දුම්කොළ වවන්න , සක්කිලි වැඩ වලට Dutch , British කාලෙ ගෙනාව උන් ගිය උඩ',\n  'HOF'],\n [8127,\n  'උඹලා අද ඊයේ ඇවිල්ලා හම්සගේ ss එඩිට් කරලා හුජ්ජ ආතල් ගන්න එපා බං. අපි ආතල් එකට මේක එඩිට් කලේත් 2016.',\n  'HOF'],\n [8128,\n  '@USER ටෙලි ෆෝන් නොම්බර හදලා දෙයි ! අර අජිත් රෝහණ වගෙ උන් ඉන්නකම් 5 බේරේ 5 බේරේ ..මෙලෝ රහක් නැනේ',\n  'HOF'],\n [8129,\n  'මල්ලි මම උඹට එදත් කිව්වා අදත් කියනවා.. උඹේ සමහර අදහස් අනෙක් එකාට පෙන්නන්න දීපන් හිතට වදින්න කියලා.. උඹ හරි දේ කරන්න අරන්.. ආඩම්බරයි උඹ ගැන. කුහකයන්ට රිදෙයි ගොඩක් දැන්. මොකද ඔය දෙකයි පනහේ සිපයියන්ගේ අදහස් වලට උඹ ඉස්සරහින් ඉන්නවා මටනම්.. ආදරෙයි  @USER',\n  'HOF'],\n [8130,\n  \"කවුද බං 'අලුත් පරපුර' කියලා කියා ගන්න කොටි සල්ලි වලට නටන කාලකණ්ණි අවජාතකයො ටික? ආං උන් කියනවා උන්ගෙ සහෝදරයො... URL\",\n  'HOF'],\n [8131,\n  'ඡන්දෙ කල් ගියා කියලා නෙවෙයි පකෝ සතුටු වෙන්නේ.  දෙදහස් පහලවේ දි පුක දීලා කරගත්ත ලොකුම හොඳ දේ 19A තවම ආරක්ෂා වෙලා තියන එක ගැන.   අපේ බයි යාළුවන්ට හිත රිදෙන්නේ නැති වෙන්න හෙමීට RT කරන්න.',\n  'HOF'],\n [8132,\n  '@USER ඔව් බං . හුත්තට පුදුම පුකේ අමාරුවක් තියෙන්නේ... මුගේ බිජ්ජ ලගින් අල්ලලා ගැටයක් ගහන්න ඕනේ හුජ්ජ කරන්න බැරිවෙන්න....',\n  'HOF'],\n [8133,\n  'තුහ් නොදකින් වසල හැත්ත.! අර අහින්සක රණවිරුවන්ට ගහපු ඒවුන් ගෙනත් පොලිමක තියල පෙති පෙති කපන්න් ඕන. වුන් පොර වුනා... URL',\n  'HOF'],\n [8134,\n  'බෝල 30ක් කියන්න ඕවර් 5ක් . අම්මටහුඩු යකෝ පොල්වත්තේ ගහද්දි ඉස්සර අපි 70ක් විතර ගහනවා ටෞකන්ඩ  #SAvSL #CWC19  #LionsRoar',\n  'HOF'],\n [8135,\n  '@USER ස්වාමීන් වහන්සේලා තමුසෙගෙ හිගන වැඩ වලට සහයෝගය දෙන්නෙ කීව මිසක් පන්සලට ගිහින් මලක් පහනක් පූජා කරන්න එපා කීවේ ගොන් නාම්බෝ',\n  'HOF'],\n [8136,\n  'කෙල්ලො සෙල්ෆි ගන්න විදිය දන්නෙ දෙයියො තමයි    වෙලාවකට යටි හනුව පේන්න, වෙලාවකට පැත්තක් පේන්න, වෙලාවකට කට විතරක් highlight වෙන්න, වෙලාවකට පුක highlight වෙන්න, වෙලාවකට තැන් highlight වෙන්න.   Damn!',\n  'HOF'],\n [8137,\n  '@USER  @USER    කීබෝඩ් එකෙන්නම් ගහයි ඉතින්..ගොන් හැත්ත.නානසාරට තිබෙුනේ තොපි වගේ ගොබ්බ ගෑණු ලඟට ගිහින් මරාගෙන මැරෙන්න.උඹලා කාට බය වුනත් නැත්ත වැඩේ වෙලා ඉවරයි',\n  'HOF'],\n [8138,\n  '@USER වැට මුල්ලෙන් පතිත වූ ගෙම්බා දිවි දෙනක වී ශාප කල එහිදී ඇය වියෝවෙන් හැතිරි මතු යම් ආත්මෙක ගෙම්බියක් වෙලා යෝධ කන්ඩිය වැවේම ඉපදේවා කියලා වැටේ ලී කා සාප කොට පලා ගියේය. ( යෝධ කන්ඩියේ ලංකාවේ දුර්ලබ කිඹුල් ඉන්නෝ )',\n  'HOF'],\n [8139,\n  '@USER ,  @USER  @USER නිම්නාස් , ඉස්සෙල්ලා හරියට කතා කරන්න ඉගෙන ගන්න. බැල්ලි කියලා කියන එක තුට්ටු දෙකේ වචනයක්. මෙකේ වැදගත් විදිහට ජීවත් වෙන්න. නිශාදි නංගි ඒවා හිතන්නෙප.මේ ලෝකේ හැම මිනිහම එක වගේ නෑ...',\n  'HOF'],\n [8140,\n  '/￣￣￣￣￣￣￣￣￣￣\\\\       බිත්තියේ හුජ්ජ        අල්ලන්න එපා ! \\\\＿＿＿＿＿＿＿＿＿＿/               `\\\\ (•◡•) /´                   \\\\      /                      ---                   _|   |_',\n  'HOF'],\n [8141,\n  '@USER  @USER නාවලපිටයේ ඉන්න පට්ට හොරෙක්. නුවර ටවුමේ ඉස්කෝල හදන්නේ මෙයාගේ  අම්මගේ අප්පා බූදලෙන් දන්නේ නේද? තියෙන ඉස්කෝලත් වැඩිවෙලා නගරයෙන් පිටට ගෙනියන්න ප්ලෑන් හදද්දි වගේ පිංගුත්තරයෝ  කොහෙන් හරි ඇවිත්  නුවරම කන්න හදනවා.',\n  'HOF'],\n [8142,\n  'ලප අනුරගෙ කට් එක අයින් කරා.....මැදමුලනෙ  නාකි මහින්දගෙ කට් එක ගැහුවා.දෙදරු පියෙක් වගෙ හුත්තො .එනිවෙ මහින්ද  හොරා - පිස්සුවක් දැනෙමින්',\n  'HOF'],\n [8143,\n  'නෙදකින්, වගේ පොන්න නායකයෝ රට පාලනය කරන කාලෙම අපිටත් ඉන්න උනානේ.   කොහොමද අන්තවාදී බල්ලොන්ට, තියන බය, දෙන සැලකිල්ල ? #lka Dinuk @USER  · 28 May 2019 නැගෙනහිර පළාත් ආණ්ඩුකාර එම්.එල්.ඒ.එම් හිස්බුල්ලා ත්\\u200dරිකුණාමලය,මඩකලපුව අම්පාර දිස්ත්\\u200dරික්කයන්හි දිස්ත්\\u200dරික් සම්බන්ධිකරණ කමිටුවල සම සභාපතිවරයා ජනාධිපති මෛත්\\u200dරිපාල සිරිසේන මහතා පත්කරණු ලැබ තිබෙනවා. #SriLanka #lka',\n  'HOF'],\n [8144,\n  'මොන හුත්තක්ද බන් අර රුසිරුවා මැසෙන්ජර් ස්ටෝරියේ දාල තියෙන්නෙ -_- බලල නැති එවුන් බලල බඩේ අමාරු එහෙම හදාගන්නව නෙවෙයි',\n  'HOF'],\n [8145,\n  '@USER මගමුන්ට හෙන ගහන්න එපැයි මෙ අහිංසක මිනිසු කන්නො මොනවද? මාසයක්තිස්සේ රස්සාවක් නැ දරැවෝ බඩගින්නේ මරන්නද ඔනි රටින් ඇන්ටිජන් 80වට ගෙනත් 2000ට දෙන්නේ මෙ අහිංසක ඉන්ට නැතුව ඔය ලොකුයි කියන එකෙක්වත් එවට වියදම්කරන්නැ කලකන්නි මගෙරටට විනකරන හැම එකෙක්ටම ශාප වේවා ශාප වේවා ශාපවේවා',\n  'HOF'],\n [8146,\n  'සක්කිලි කම යවන්න බැ නේ  Shilitha @USER  · 20 Mar 2021 තමන්ගේ රටේ ජාතික කොඩියේ ඉන්න සිංහයට  හිනාවෙන / පොස්ට් හදලා වැඩ්ඩො වෙන්න ගොබ්බ හැත්තක් ඉන්නව කියන්නේ රටට කොහොම ගෞරවයක් ලැබෙන්නද නදෝමකින් තොපි',\n  'HOF'],\n [8147,\n  'කාක්ක කණුව උඩ ඉන්නෙක ශොට් එක මැක්සා.. මුල ඉඬලම කෙල්ලගෙ ගලයි පුකයි පෙන්වන් නැතුව මැද දි පෙනුන හොඳ යි.. අනුශ්ක ගෙ කටහඬ චොර. ඊටවඩා ගුණයා සිංදුව කියනෙකාගෙ වොයිස් පට්ට. වීඩියෝ එකත් බෝරිං..  සිංදුවෙ මියුසික් රිලික්ස් හොඳයි..  #වස්තිවීඩියෝ #අලුත්මඑක #විචාර',\n  'HOF'],\n [8148,\n  '@USER  @USER හුත්තෝ හොරු අල්ලන්න ආවනම් හොරු අල්ලන්න ඕන.එහෙම නැතුව උබලගේ කාලේ උන හොරකම් වහගන්න ඌ අරූගෙ wedding එකට ආවා මුගේ wedding එකට ආවා කියලා ගොන් පෝස්ට් දාදා ඇත්තටම ආණ්ඩුව කරපු දෙයක් එක එකාට මඩ ගහපු එක ඇරෙන්න.අවුරුදු 4ට එක හොරෙක් අල්ලලා හිරේ දැම්මද?ඇවිත් ඊටත් හොරා කෑවා.',\n  'HOF'],\n [8149,\n  '@USER තොපි ආපහු මූව පාර්ලිමේන්තු ඇරල වරෙව්කො කියන්න අපි දකුණෙ කියල .... යකෝ දකුණෙ හිටිය සිංහල පරම්පරාවට ලැජ්ජ කරන්නෙපා බං ...තොපේ උන් සාප කරයි තොපිට ....',\n  'HOF'],\n [8150,\n  'තොපි පර දෙමල්ලූ, එනවා මෙතන පුතාව සුද්ද කරන්න! අම්මාට.......පිය, තොප හු..... ඕන තැනකට පලයල්ලා!!  පියා මව... URL',\n  'HOF'],\n [8151,\n  '@USER අපි මුගේ පම්පෝරි අහන්න ඕනේද?යකෝ අපේම මිනිස්සු 321 මැරුණා.දැන්ද තෝ නින්දෙන් ඇහැරිලා වගේ ආරක්ෂක අංශ වෙනස් කරලා ඒවා ශක්තිමත් කරන්න යන්නේ.අනේ තෝ ගිහින් කුඹරක් කොටාගෙන පොලොන්නරුවට වේලා හිටපන්',\n  'HOF'],\n [8152,\n  'මේව කැරි වැඩ පකෝ මිනිස්සු අසරණ කරන එක නවත්තපාන් වෙඩි තියලා මරන්න ඕන වගේ පකයි. Dinuk @USER  · 21 May 2021 මුදලට විකිණෙන කොරෝනා එන්නත ... අහලම බලන්න #lka #SriLanka #COVID19LK   URL',\n  'HOF'],\n [8153,\n  \"'බෑ'කියලා නැට්ට උස්සලා කොඩිය දාලා යන්න යනවා. ඔක්කොම නිකං චිත්\\u200dරපටියක් වගේ මට පෙනුණා.ඒ ඔක්කොටම උඩින් දිව එළියට දාලා හිනාවෙවී හිටියේ සුදු ඇගේ කළු ඩොට් තිබ්බ 'සැප්' බල්ලා.කිඹුල් බනිස් අරන් දුන්නට පස්සෙ කන්න කියලා කොට්ට යට,මෙට්ට යට ඒවා හංගන පිස්සු බලු තඩියා. මං හිතන්නෙ ඔක්කොම\",\n  'HOF'],\n [8154,\n  '*කුණුහරප හටගන්නා ආකාර   (1)ලිංගික අවයව මුල්කරගෙන හටගන්න කුනුහරප(මේවා ඉතිරි කුනුහරප සෑදීම සදහා දායක වේ)   යෝනිය=හුත්ත,කිම්බ  ශිෂ්නය= පක,පයිය  නපුංසක=පොන්නයා  හුත්ත\" ප්\\u200dරාණවාචී කිරීමෙන් \"හුත්තා\" \"හුත්තී\"ද, \"පක\" ප්\\u200dරාණවාචී කිරීමෙන් \"පකයා\"ද හටගනී...',\n  'HOF'],\n [8155,\n  '@USER  @USER    ඒකි ගෑණියෙක් හින්ද ඒක අවුලක් කියමු. ඒත් ඕයි උබ එහෙම කරන එක විලි ලැජ්ජයි නේහ්.',\n  'HOF'],\n [8156,\n  'ඔය චන්දු කියන පොර මාව බ්ලොක් කරලා තිබ්බේ. ශුවර් එකට වගෙ පොන්න වැඩක් කරලා මගෙන් අහගෙන වෙන්න ඇති. මට මතකත් නෑ. පස්සේ ලගදි ඌ මාව unblock කලා. ආපහු බ්ලොක් කරන්න කියන්න ඕනා.',\n  'HOF'],\n [8157,\n  'සනී ලියෝන් එළි පිට කතා කරපු එකී වේසි වුණේ කොහොමද..    සීනි පන්සීය ගේන්න කඩේට යන්නෙ නැති එකී හුරතලේට හැදුණ මල වෙලා ගාල්ලෙ ඉඳන් යාපනේට තනියම ගිහින් එන එකී අවලමේ ගිය එකී වුණේ කොහොමද.... !!!   ලියන්න ගියොත් ලෝකෙ ඉන්න සේරම කුරුමිණියො ඉවර වෙනකන් ලියන්න වෙනවා....    /7',\n  'HOF'],\n [8158,\n  '\"කවුද දන්නේ උසස් පෙළ විෂය නිර්දේශයට ගිරා සංදේශය දමපු හරකා - අධ්\\u200dයාපන අමාත්\\u200dයංශයේ ඉන්නේ ගොන්නු ගොඩක් \" - තමන්ගේ... URL',\n  'HOF'],\n [8159,\n  'මොකද බං අර සින්දුවක් කියපු කෙල්ලෙක්ට හුජ්ජ කොල්ලො මෙච්චර බනින්නෙ...? කෙල්ල කරපු වරද මොකක්ද...? මට නම්... URL',\n  'HOF'],\n [8160,\n  'හිරැනිකා ඉරාජ්ව පාර්ලිමේන්තුවේදී පතුරැගසයි !!! URL via  @USER  ඉරාජ් ඔයා job ඉල්ලන් ගියා නේ හොරාට  පවු බන් ගෑණි හුස්ම හිර වෙලා මැරෙයි කියලා මන් හිතුවේ.  හිරෑ වගේ toiyyan සුපිරි song එකක් ඕන රිදෙන්න  youtube.com හිරැනිකා ඉරාජ්ව පාර්ලිමේන්තුවේදී පතුරැගසයි !!! #NoizeNews #Iraj #News',\n  'HOF'],\n [8161,\n  'මාව දිරවන්නෙ නැති අද ඊයෙ ඇඩ් වෙච්ච ගොබ්බන්ට කියන්නෙ...  කිම්බ කන්නද ලිස්ට් එකෙ  ඉන්නෙ අන්ෆෙන්ඩ් වෙලා වද නොදී  පලයන්කො හුත්තො',\n  'HOF'],\n [8162,\n  'මෝඩ සිංහලයනි. ලොකේ අතිමහත් ජනතාවක් මුස්ලිම් වචනයට අකමැතිය. හොද පුද්ගලයන්ද සිටිනු ඇත. ඔවුන් වරදක් කර නොමැත. ගැටුම් අපෙගේ ක්\\u200dරමය නොවේ ඔබ ඔවුන්ව ප්\\u200dරතික්ෂේප කරනවා ඔබ ඔවුන්ගේ භාණ්ඩ භාවිතය ඔවුන් ආශ්\\u200dරය නවත්වන්න. එහෙම නැතුව ගැටුම් වලින් ලැබෙන ලබ්බක් නොමැත.',\n  'HOF'],\n [8163,\n  '@USER උම්බ ඒකට කියන්නේ පුක දෙනවා කියලාද? අනික මගෙ පුක එකිට දෙන්න ඒකි කොල්ලෝ ගහනවාද?අනික කොහෙවත් එවුන් මට පලල් කරන්න ඕනත් නෑ... මේකේ ඉන්න ඔයිට කෑලි මට පලල් කරලත් තියෙනවා, තෝ වගේ රිලා පැටියෙක්ට පලල් කරේ නැති උනාට..',\n  'HOF'],\n [8164,\n  'මෙකේ ඉන්න සමහරක් ප්ලෑන්  ගහලා හෙන ගඩක් දිලා දගලන්නේ එකට ඉන්න උන්  කොටවන්න...  තොපි වගේ උන් තමයි යකෝ නාකි උනාම කාත් කවුරුත් නැතුව හුල්ල හුල්ල ඉන්නේ..  නොදකින් වගේ උන් තොපිට සතුටින් ඉන්න උන් බලං ඉන්න බැරි මියුට් කරලා බොලොක් කරලා පලයල් රෙද්ද පව් නොදී...   #වද්දගන්නපිස්',\n  'HOF'],\n [8165,\n  '@USER  @USER රස්සාවනෙ බන්. අතනයි මෙතනයි බාගෙට පෙන්නන් පොටෝ දාගෙන reach ගන්නව. අපේ සෙවළ පැණියොත් ලෙවකාගෙන රොතු පිටින් ෆලෝ කරනව. ඊට පස්සෙ ගෑණි දාන හැම ලබ්බම සමාජගත වෙනව. පොරෝපාරක් සැපයි කියාගෙන ඇඹල වාහෙලත් එව්වට එහෙයි එහෙයි කියන් පෙරනව.',\n  'HOF'],\n [8166,\n  'ලෙඩා- ඒකට තමයි පකෝ අපි බදු ගෙවන්නෙ. තෝ අම්මට හු.. නැතුව තොට උගන්නපු සල්ලිවලට හරියන්න වෙදකං කරපං. අපිට හැදෙන හැටි උගන්නන්න එන්නෙ නැතුව.  දොස්තර- තෝ එන්න එපා ආපහු. ලෙඩා- ඔය නලාව ගහගහනිං පුකේ.  (සැබෑ සිදුවීමක් නොවේ.  Hasalaka Thusharaගේ මවාපෑමකි)',\n  'HOF'],\n [8167,\n  '62 ලක්ෂයක් ජනතාව කැමැත්ත දුන්නු විධායක ජනපතිවරයෙකුට UNP උන් පර බල්ලා, පිස්සා, තිරිසනා, සිංහල භාෂාවේ නැති වචනත් බාවිතා කරමින් ඉතාමත් අමන ආකාරයෙන් අමතනවානම් රටේ ජනතාව හැටියට අවුරුදු 3 නෙම මහජන මුදලින් පින් බත් ගිලපු මේකාට පිස්සෙක් කියන්නත් අයිතියක් තිබිය යුතු නොවේද රටේ ජනතාවට',\n  'HOF'],\n [8168,\n  'මුන්ට හරියට තාත්තා සහෝදරයෝ යාලුවෝ උම්මා එකක් ජීවිතේට දීලා නැ වගේ නේ  හැමිනෙන්නේ. පයි කොටවන්න නෙවෙයි  තොලක් දාන්න නෙවෙයි හැමිනෙන්නත් නෙවෙයි එන්න කිවේ... වනචර හැත්ත අඩුම ගානේ බෝල පුකක් තිබිලා ඕම බය වුනානම් කමක් නැ ලෑටි පුක TuTu \\uea00 @USER  · 7 Dec 2019  @USER@USER බුදාම්මෝ කොලු සීන්',\n  'HOF'],\n [8169,\n  'යහපාලනයේ පොන්න පොලිසිය සහා නිතිය මෙන්න..... වෙනස සැපද... නිතිය රකින්න unp බල්ලන්ට කතිරය ගහපු ගස් බල්ලො කො... URL',\n  'HOF'],\n [8170,\n  'හම්මේ ඉතින්... වසල සහෝදරයෙක් බැදි කාලකණ්ණි මිතුදම... මේකෙ නැති ඒවත් එක්ක වීඩියෝ කරානම් කෝපි කඩේ වගේ දකුණු... URL',\n  'HOF'],\n [8171,\n  'පිං සිද්ධ වෙනවා චීන අධිරාජ්\\u200dයයා නෙණි ඔබතුමා කරපු උදව්වට   මොකක්ද යකෝ   කොරෝනා වෛරස එලියට දාපු එක ටිකක් කල් හිටියනං අපේ උන් මට පුකට පයින් ගහල එලවනවා  තොට පිස්සුද වඳයෝ තෝ හිතුවද මමත් තෝ වගේ තමන්ගේ අහිංසක පුරවැසියන් මරනවා කියලා  ගාර්ඩ් ගාර්ඩ්',\n  'HOF'],\n [8172,\n  '@USER ගෝඨා හදපු තැන් යට වෙන්නෑ තාම! අනික නෙළුම් කුළුණ හැදුවෙත් ගෝඨා නෙවෙයි මහින්ද. මීතොට මුල්ල කුණු කන්දට යට වෙලානම් මිනිස්සු මැරුණා ඒක ඇත්ත. ගෝඨා කොළඹ අතුගාලා ගිහින් දාපු කුණු වලින් වෙන්න ඕන. ආණ්ඩුවෙන් පට්ට කසල කළමනාකරණයක් දැක්කා. ඇත්ත රනිල් කළා තරම් ලබ්බක් ගෝඨා කලේ තමයි',\n  'HOF'],\n [8173,\n  'රනිල් 18 කට මහජන මුදල් කන්න ජාතික ආණ්ඩුවක් හදන්න යනවලු.කෝ අර ප්\\u200dරජාතන්ත්\\u200dරවා\\u200d\\u200dදෙ  පුක දනවෝ කියල මැරෙන්න හදපු සෙට් එක?',\n  'HOF'],\n [8174,\n  '@USER සිංහලෙන් දාන කමෙන්ට් එක කියවල රිල්පයි කරන්නෙ ඉංග්\\u200dරීසියෙන්..ගොටුකොල වේසියොඕකුං පොලවට රෙන එකත් බරක්..නැතුව මට ඉංග්\\u200dරීසි බැරි එක නෙමේ අවුලබැනුං අහන්න වෙනවට බයේ ඕකුන් ඔය කඩ්ඩෙන් දාන්නෙ ටෞකන්ඩ',\n  'HOF'],\n [8175,\n  'වරක් නෙමේ දෙවරක්  තුන්වරක් සිතන්න..... උඹලා අපි හිතන්නේ නැති කාලකණී නැවතත් නායකයන් කර ගන්නවාද කියලා  ඊලඟ මැතිවරණයේදී අමතක කරන්න එපා අපට සලකපු විදිහට උන්ට සලකන්න. එහෙම නැති උනොත්, කාලකන්ණී අමනා දේශපාලුවෝ ජීවිතයෙන් වන්දී ගෙවු අහිංසක මිනිස්සු සාප කරයී මට උඹලට.',\n  'HOF'],\n [8176,\n  '@USER මිනිහෙක් මැරුණම හොඳ වැඩේ කියලා සාප කරන ගෑණි කතා කරන්නේ පත්තිනි අම්මා වගේ. පවුලේ ඔක්කොම එහෙමයි. පිටකොටුවේ මුඩුක්කු වල හැදුනු එවුන් ගෙනත් උඩින් තිබ්බට උපන් ගතිගුණ යවන්න බැහැනේ. #Kahanadagama #SriLanka URL',\n  'HOF'],\n [8177,\n  'රැවුල් ගහක්වත් නැති හුජ්ජ කොල්ලො දෙන්නෙක් අරක්කු බීපුව බස් එකේ කතා කර කර යනව. ලංකාවෙ අනාගතේ ආඩම්බරයි මල්ලියේ *එහාපැත්තෙන් ඉන්නෙ මාම කෙනෙක්',\n  'HOF'],\n [8178,\n  'අඩෝ විජිත හේරත් ජෙප්පා තෝ නිර්ධන පංතියේ එකෙක්. තෝ ඉන්න ඕනේ කටු මැටි ගහපු පැලක. එක්කෝ ගෙවල් ඉඩම් නැතුව කුලියට ඉන්න ඕනේ. තොපිට ඉඩම් ගන්න තහනම්. #SriLanka #JVP  @USER  @USER Shyamika warushamana @USER  · 1 Nov 2021 නිර්ධන පන්තියේ විජිත සහොදරයාට මාමන්ඩිගෙන් ලැබුනු තැග්ගක්ද  මේ.',\n  'HOF'],\n [8179,\n  '@USER අනුර කුමාර : පොඩ්ඩක් කල්පනා කරලා බලන්න, කන්නෙ කාගෙ ඩේටාද කියලා, ඔයාගෙම ඩේටා නේද... සතියකට පස්සෙ ආසාවෙන් ඩවුන්ලෝඩ් කරපු වැල ක්ලිප් එක කලිං බලලා පට්ට ගහපු  එකක් කියලා තේරෙද්දී... ඊයා.. එපා වෙනවා නේද?',\n  'HOF'],\n [8180,\n  'තකහනියේ ගෙනෙන ව්\\u200dයවස්ථාව ඇතුලේ මේක නැතැයි කාට කිව හැකිද ?  මී හරකා ව්\\u200dයවස්ථා සම්පාදන කොමිටියේ ඉන්න එකෙක්,... URL',\n  'HOF'],\n [8181,\n  'ලිංගික අසහනකරුවන් වැඩිම ඉන්න  රටවල් වලින් එකක් වෙලානෙ ලංකාව.. යකෝ ජීවිතේ කියන්නෙ හුකන එකම විතරක් නෙවෙයි ..ශුද්ධ සිංහල පොෂ් මදි Fuck කියන එක දාගනිල්ල.. කුණුහරුප නෙවෙයි රටේ අපචාර වලක්වන්න පුලුවන් වැඩ පිලිවෙලක් සමාජ කතිකාවක් ගෙඩනැගෙනව මීට හොද නැද්ද .',\n  'HOF'],\n [8182,\n  '@USER කෝ එන්න අපි තාලෙට කියමු..  වැඩ කරන අපෙ විරුවා... 45හේ උපාධිධාරීයටත්.. රජයේ ජෝබක් දෙන කෙනෙක් නම්.. ඔබයි මෝඩ මිනිසා..',\n  'HOF'],\n [8183,\n  'ඔබේ ප්\\u200dරධානියා යාලු කරගෙන උසස්වීමක් ගන්න. ඔබත් ෆෙන්ශුයි ක්\\u200dරමය අත්හදා බලන්න. වගේ ගොන් නම්බොත් ඉන්නවනේ ලෝකේ URL',\n  'HOF'],\n [8184,\n  'සුද්ද ඉතිරි කරල ගිය යටත් විජිත්වදී මානසිකත්වයේ වහල්ලුයි , සුද්දන්ට අවජාතක වෙච්ච එවුන්ගෙන් පැවත එන උනුයි ඉන්නකං රටට වගතුවක් නෑ.',\n  'HOF'],\n [8185,\n  '@USER අපේ හිටියා එකෙක් ර යන්න කියන්න අමාරු, ර වයන්න කියන්නේ. දවසක් ඌ එකෙකුට බනිනවා මේම.  කැවියා මම තෝව මවනවා ...   වලිය පැත්තකින් තියලා සෙට් එකම හිනා උනා ...',\n  'HOF'],\n [8186,\n  'නොදකිං වගේ එලොවටත් නැති මෙලොවටත් නැති පොන්න පකයො   PS : බයට නෙවේ SS දැම්මෙ quote කරන්න බෑ අපිව blocked',\n  'HOF'],\n [8187,\n  \"වටේ ඉන්න තක්කඩි, හොරු වහල් ගොන් හැත්ත වෙනස් කරන්නේ නැතුව බුදු හාමුදුරුවෝ ඔතන වාඩි උනත් වෙන්නේ ඕක තමයි. ꒒ꂦꁅꍏꈤ 🜲 @USER  · 9 Sep 2020 ස' @USER @USER ගනයේ jokes එකක් වෙන්න කාලයක් එකක් වගේ වැඩ විදියට.\",\n  'HOF'],\n [8188,\n  'සිංහල බහුජ්ජ ජන නායක යකෝ අර අමුතු ආගම්වලින් ආශිර්වාද ගන්නවා Muhammad Ariff @USER  · 8 Sep 2016 @USER wonder what your hardline Buddhist monks would say about this? URL',\n  'HOF'],\n [8189,\n  '@USER ඔයා නං හෙන ගොං අප්ප. මෝඩ කමෙන්ට්සමයි දාන්නෙ. මම වයස හංගන කෙනෙක් නෙමේ කොහොමත්. ඒකනෙ 27 යි කියල දාල තියෙන්නෙ.',\n  'HOF'],\n [8190,\n  'ස්පයිඩර් මෑන් ෆිල්ම් එක බලන්න යන්න එකෙක් නෑ.. තනියම ෆිල්ම් බලන්න ගිහින් පුරුදුත් නෑ.. නොදකින් යාලුවො කියල හැතිකරයක් ඉන්නව වැඩක් නැ. මුන් මම මලත් මගේ මල ගෙදරවත් එන එකක් නෑ..',\n  'HOF'],\n [8191,\n  '@USER  @USER ඕයි. ගෝත පකෙක් වගේ ට්වීට් කරන්ඩ එපා. වලියට නං එහෙම වරෙන්. තෝ ගොබ්බ මීරක් ගනේට වැටිල ට්වීට් කරන එවුන් දැකලම මං. තොගෙ ඔය ගොබ්බ ට්වීට් වලට රිප්ලයි කරන්ඩ බෑ. එක්කො හරියට ගේමට වර. කෝකටත් උඹට DM එකක් දාන්නං මං mobile number එක. එහෙම කත කරගමු ඉස්සරහට කරන්ඩ ඉන්න ටික',\n  'HOF'],\n [8192,\n  'සබ් එකක් උනත් වැදගත් ඇඩ්වයිස් එකක් බං ඒක  ගොනා විකුණුව රස්තියාදුකාරයා @USER  · 17 May 2019 ඇසිඩ් පරණ කෑල්ල එක්ක යාළු වෙලා නෙවෙයි, ආයෙ ගොනා වෙලා.',\n  'HOF'],\n [8193,\n  'මූ බලපකෝ. යකෝ මම ටුවිට් එකක්වත් නොදා නේද උඹ කතන්දර හදන්නේ. එයාට හොදයි අපි කරාම වැරදි. P U S P E @USER  · 20 Apr 2020  @USER, @USER@USER ට්වීට් එකක් දාපු පලියට මිනිස්සුන්ට ඕම කදන්දර හදන්න එපා',\n  'HOF'],\n [8194,\n  'බං හුත්තිගෙ පුතාලා අනියම් පෙම තරම් රෝමාන්තික,පූජනීය,හිරිමල් සුන්දර අත්දැකීමක් කරන්න හදන්නෙ? ඒක තේරෙයි තමන් පණ වගේ ආදරෙන් ඉන්න එකා/එකී හොරෙන් ත්\\u200dරීවිල් වල නැගං ගිහිං හෝටල් කාමරේක ලැගලා එළියට බහිනවා දැක්කානං.. දරැවෙක්ට තමන්ගෙ අම්මා බඩුව තාත්තා සල්ලාලයෙක් කියලා කිව්වා නං…',\n  'HOF'],\n [8195,\n  'තමුසෙ කියන්නෙ තමුන්නාන්සේ කියන එකෙ ශොට් ෆෝම් එක නෙවෙයිද  නාරාහේන්පිට පීටර් @USER  · 11 Jun 2021 මම තමුසෙට තමුසෙ කීවට තමුසෙට මට තමුසෙ කියන්න බෑ',\n  'HOF'],\n [8196,\n  'අදාලයි යකෝ... අදාල නැහැ කියන්න එපා පකෝ.. ණය ගත්ත දීපන්... අදාල නැහ කිය කිය ඉන්නෙ නැතුව. — feeling \"අදාල නැහැ\"',\n  'HOF'],\n [8197,\n  '@USER ,  @USER  @USER මලයො මොකො කියන්නේ උසට සරිලන කතක් හොයලා දෙමුද නදිස් අන්කල් දෑන් හෙන නාකිත් එක්ක නේ',\n  'HOF'],\n [8198,\n  '@USER  @USER මට කියපන්කෝ නාකියෝ උඹ රටේ හමුදාවට ඔච්චර තරහා.. උඹලා මොනවා උනත් ගන්න ඕනේ රටේ පැත්ත මිසක් ජාත්\\u200dයන්තරයේ පැත්ත නෙවේ. උඹලා වගේ එවුන් කුණුවෙලා මැරෙනවා බලන්න ආසයි පට්ට ආසයි. රටට මෙච්චර විනාසයක් වෙලා තියෙද්දිත් තප්පුලනවා හරි දේට පස්ස ගහලා.. උඹලගේ ජාතකේ වැරදි තමා',\n  'HOF'],\n [8199,\n  '@USER  හරි බන් උබ පාටලි කියලා නැ. එල.ට්ව්ට් වලට රිප්ලයි වැටෙන එක අවුල් ඔක ප්\\u200dරයිවට් එකවුන්ට් 1ක් කරගනින් අනිත් මිනිස්සුන්ට ට්වීට් නොපෙනෙන්න.එහෙම නැතුව ට්වීට් 1කට රිප්ලයි දැම්මම උබෙ ගැනි අපි ගත්තා වගෙ ගොන් ටෝක් දෙන්න එපා ට්ව්ටරෙ පබ්ලික්නෙ.ඒක නොතෙරෙන ගොබ්බයෙක් දැක්කමයි.',\n  'HOF'],\n [8200,\n  '@USER මොන්ටිසෝරියෙන් එක වසරට පාස් වෙන්න විභාගයක් තියේද මම දන්නැ නේ බං උඹ තාම මොන්ටසෝරියටවත් ගිහින් නැති එකේ දන්නැතුව',\n  'HOF'],\n [8201,\n  'එතකොට සිංහල උන් ජාතිවාදියෝ. ලබ්බ ලොජික් මේවනම්. කොහොමහරි ඇවිස්සුනානේ දැන්. බලමු ඉස්සරහට මොකද වෙන්නේ කියලා. ඔය වගේ ජරා හැත්තක් ජීවත් වෙලා ඉන්නකම් කිසිම මනුස්සයෙකුට පාරක බැහැලා යන්න බෑ. නිකරුනේ මිනිස්සු වන්දි ගෙවන්න ඕනද ඕවට. මීඩියා වල කියන දේවල් විස්වාස කරන සම+හරකුත් ඉන්න රටක් මේක.',\n  'HOF'],\n [8202,\n  '@USER  @USER කවුද මෝඩ පාලකයන් ඉහළට ඔසවා තැබුවේ අපිම නේද...අපේ කතිරය තමයි වරද කර ඇත්තේ.',\n  'HOF'],\n [8203,\n  '@USER පොන්නයො තොට ඕන එකක් තෝ කියපිය අපිට මොකද , වෙනකන් තොපි කිව්වේ කරේ අපිට ඕක එක නෙවෙයි නේ  2015 වෙනස පතපු මිනිස්සුන්ට වැඩිපුරම කෙලපු උන් තුන් දෙනා තමා රනිල් , මූ රාජිත  No excuses , ඊලඟ පාර උඹට මෝඩ UNP උන් උනත් ඡන්ද දෙන්නෙ නැහැ , ජාතික ලැයිස්තුවෙන් රින්ගන්න සෑර්',\n  'HOF'],\n [8204,\n  'කරුණාවෙන් සලකන්න.   එක එක වේසිගෙ පුතාලට ඕන විදිහට ට්වීට් කරන්නෙ පකෝ. ඒකට තෝ ඔනෙ නං සල්ලි දීල කුලියට අකවුන්ට් එකක් ගනින් පොන්නය.  ස්තුතියි',\n  'HOF'],\n [8205,\n  'මේක දැක්කම හිතන්ඩ පුලුවන් මොන පිස්සු පම්කෙක් කියලා   ඒත් බලහන් උගේ මයින්ඩ් සෙට් එක.   උපරිම සාධාරණයක් කරන්න බලන්නේ බැට් එක අතට ගන්න හැම මොහොතකම. විකට් එක දීලා හිනා වෙවී ඩ්\\u200dරෙසින් රූම් එකට එන්නේ ආවත් විකට් එක දීපු එකට වොරි වෙනවා මිසක්  ESPNcricinfo @USER  · 31 May 2021 Nothing to see here, just Steve Smith being wonderfully weird    via dani_willis / Instagram',\n  'HOF'],\n [8206,\n  'සොත්ති බල්ලෙක්ට ගල් ගහනවා..ඒ බල්ලා බුරනවා..ඒ බල්ලා බුරද්දි තමා පොරට මතක්වෙන්නෙ පොර මිනිහෙක් කියලා ට්\\u200dරිගර්ලන්තෙ මීහරකා කියන්නෙ නිකන් ඇ  #ට්\\u200dරිගන්ලන්තේමිහරකා',\n  'HOF'],\n [8207,\n  '@USER ඒක හරි කාලකණ්ණි හැගීමක්.මිනිස්සු බඩගින්නේ ඉන්නවා කියන එක.දවස් පඩි ගන්න මිනිස්සු කොරොනා පතුරන්නෙත් නැහැ.හොටෙල් වල ලගින්නෙත් නැහැ.පුලුවනනම් උදව් කරන්න.',\n  'HOF'],\n [8208,\n  'අපිව කඩේ යවල නැති බඩු හොයන්න කියල ගෑනු ගන්නෙ හුකනාතල් එකක්..  කරල කියපු ලබ්බ ගෙණිච්චත් දාහක් කරුම කූනුකතා අහන්න ඕන.  අපේ තාත්තා ගෙනා බීම වීදුරු සෙට් එකකට අම්මා අනන් මනන් කියල තාත්තා ඒක සාලෙ මැද පොලවෙ ගහන්න ගියෙ කියලා දැනූයි තේරෙන්නෙ..',\n  'HOF'],\n [8209,\n  'මැද මුලන වලව්වේ ඉදන් නිවැරිදි තීන්දූ තීරණ ගත්ත නිසා..තමයි අද වගේ පඩි කථා කියන බොහොමයක් එවුන් මේකේ කොටන්න ජීවතුන් ඉන්නේ.....      වෙද්දීත් ජංගියේ චූ පෙරාගත්ත හුජ්ජ එවුන් මේවා දන්නේ නෑ..... kavinda bandara @USER  · 8 Oct 2019 දේශපාලන පක්ෂඅනුව තීරණ ගන්නා ආයතන .එජාපය - කෘත්\\u200dයාධිකාරි මණ්ඩලය .ශ්\\u200dරීලනිපය - මධ්\\u200dයම කාරක සභාව .ජවිපේ - දේශපාලන මණ්ඩලය .ශ්\\u200dරීලංමුකෝ - උත්තරීතර මණ්ඩලය .පෙරටුගාමී - විධායක සභාව .ජාතික හෙල උරුමය - මධ්\\u200dයම කාරක සභාව .ටීඑන්ඒ - මධ්\\u200dයම කාරක සභාව .ශ්\\u200dරීලංපොපේ - මැදමුලන වලව්ව Copied',\n  'HOF'],\n [8210,\n  '@USER උඹලත් මල්ලි තාමත් ලජ්ජා නැතුව මෙච්චර සක්කිලි වැඩ කරන හිටමට කඩේ යනවනේ..අර හමුදාවේ කොල්ලන්ට ගැහුවේ මහින්ද වෙන්ට නේද?',\n  'HOF'],\n [8211,\n  '@USER router එක උඹේ .. admin password එක උඹ ගාව වගේ ඒවා දාන්න ලජ්ජා නැද්ද යකෝ ? නොදකින්',\n  'HOF'],\n [8212,\n  '@USER  @USER ඔක තේරෙන්නේ අපේ උන්ට.   ඇත්තටම උනේ උන් අවජාතක ළමයව බාරගත්තා. අපේ පාලකයෝ උඩ පැනලා ලියලා දුන්නා මොකද ළමයා උන්ගේ නිසා. අපේ උන් හිතන් ඉන්නවා අරුන් උඩින් ඇවිත් ගහලා ගියා කියලා.',\n  'HOF'],\n [8213,\n  '@USER රෙන රාජා තමුසෙනන් හැදෙන ලිං ගෙම්බෙක් නෙවි බන්. 150ට ඔය ටික කාලා විකුණගන්න තරම් පුකක් තිබ්බද බන්.... ??',\n  'HOF'],\n [8214,\n  'නොදකින් ලංකාවෙ උන් අසරණ කෙල්ලෙක් ගෙ වීඩියො එකක් ලීක් කරගට්ටාම මුන්ට ඊට දෙයක් නෑ, උබලටත් නංගිලා අක්කල... URL',\n  'HOF'],\n [8215,\n  'අපි ගත්ත ආතල් ගන්න උබලා හිතලවත් මල්ලි,  බලද්දි උන් හොරෙන් ඉස්කෝලේ වත්තේ අඹ කඩලා   නොදකින්',\n  'HOF'],\n [8216,\n  '@USER වගේ මිනිසුන් රවට්ටමින් ඉන්නෙ හිතන්න කාලෙ අවිත් . වගේ කාල කන්නින්ට රටක් බාර දෙනවන්ම් ලංකාවෙ මිනිසුන් හරි දුකයි',\n  'HOF'],\n [8217,\n  'කොටි හැත්ත ආපහු ෆෝර්ම් වෙලාද?  Akila Silva @USER  · 20 Oct 2020 කතා කරේ භාශාව ගැන. ඒත් ෆයර් වෙලා තියෙන විදියට හිතාගන්ඩ පුලුවන් තාමත් ඉන්නෙ ප්\\u200dරභාකරන් මානසිකත්වයෙ කියල.. අපේ රට, අපේ භාශාව කතා කරන්ඩ සිංහල අපිටත් බැරිනම් කාටද පුලුවන් කියල මට තේරෙන්න නෑ. හොස්පිටැලිටි එක කරේ නගිනකොට මෙහෙම තමයි.',\n  'HOF'],\n [8218,\n  'උදේ පාන්දරට දකින්න හොදම නැති දෙයක් මට..බලුපැටව් හතර දෙනෙක් හන්දියට ගෙනත් දාලා මම ටවුන් එකට යනකොට දැක්කෙ එනකොට එක පැටියෙක්ව හැප්පිලා...ඇයි යකුනේ එහෙම අවජාතක වැඩ කරන්නේ..',\n  'HOF'],\n [8219,\n  '@USER ,  @USER  @USER උබ වගේ ගොන් හරකෙක් ,වැද්ද කියල දාල තියන නමට පකවල් කියනවනෙහ් අනෙහ් බන් හුත්තො මන් කියල තියෙන එව්ව ඉස්සෙල්ල බලහන් පුක නොදී ප්ද්ලයන් වද නොදී උබ මල වදයක් උනනේ .හැමිනෙන්න එනව උදේ පාන්දර',\n  'HOF'],\n [8220,\n  'වැඩ කරන තැන එපා කරන සක්කිලි බල්ලෙක් හැම තැනම ඉන්නවා... ඌට මනුස්සකමින් හිතපන් කීවහම ඌ එහම නැල්ලු.. කෙලිම්ම කීවා මම ඒක දන්නවා කියලා ..',\n  'HOF'],\n [8221,\n  '@USER  @USER    මේකා ලජ්ජා නැතිවා අයෙත් මතුවෙලා! Dr පුක ලෙවාස් කෝ හලෝ තමුසෙගෙ PhD එක  නාමල් හොර ලෝයර් ඌට අනිත් උන හොරු උනාට අවුලක් #lka #lk #srilanka',\n  'HOF'],\n [8222,\n  '@USER සිරාවටම ඌට සල්ලි ගන්න තිබිලත් ගත්තේ නෑ.ඒක සුපිරියි  ඒත් කලේ මෝඩ වැඩේ.ඒක කියන්නේ නැතුව ඉන්නකොට කට කහනවා වගේ.ඒකයි හරකා වගේ ඔයාගේ ත්\\u200dරෙඩ් එකේ අතඇරියේ',\n  'HOF'],\n [8223,\n  '\"සිරස ඉස්සරහට ගිහිල්ලා සමකාමිව විරෝධය දැක්වු විරෝධතාකරුවන්ට බනින හැමඑකාම කිලීමහරාජාට බය එකෙක් නැත්නම් රස්සාවට පුක දෙන එකෙක් .කශේරුකාවෙ මුදුනෙ සිරසක් නැති එකෙක්. --උපුල් සන්නස්ගල --',\n  'HOF'],\n [8224,\n  '@USER උඹේ අම්මට හුකාපං පොන්න වේසිගෙ පුතා. යස්මින් සූකා කියන්නෙ කව්ද කියලා තෝ අපිට කියන්න එපා පකෝ. ගොන් කැරියො තොපි මොන මඩ ප්\\u200dරචාර ඇරියත් තොපිට ආයෙත් රට කාබාසිනියා කරන්න දෙන්නෙ පකෝ. සක්කිලි වහල් වේසිගේ පුතා',\n  'HOF'],\n [8225,\n  'ධම්මික රණතුංග වරායේ සේවකයෙකුට බැන වදියි: ‘මං තමුසෙ බලා ගන්නම්.තමුසෙගෙ ෆයිල් මගෙ ළඟ තියෙනව,තමුසෙ හිතන් ඉන්නේ මං බබෙක් කියලද’ #SriLanka :)',\n  'HOF'],\n [8226,\n  '@USER එක පාරක් traffic light එකක නවත්තලා ඉද්දි පිටිපස්සෙන් ඇවිල්ලා එකෙක් හැප්පුවා, car එකෙන් බැස්ස ගමන් මේකා කිව්වේ මම lawyer කෙනෙක් කියලා, මට යකා නැගලා තිබ්බ එක double උනා. කෙලින්ම ඇහුවා තමුසේ රස්සවට කරන්නෙ පාරෙ තියන වාහන හප්පන එකද කියලා. යකෝ',\n  'HOF'],\n [8227,\n  '@USER  @USER සක්කිලි ජෙප්පන්ටයි පරගැති යුඑන්පි න් ටයි නින්ද යන්නේ ඔය සිරසේ කියන පච පිරිත් වගේ ඇහුණාම තමයි ...',\n  'HOF'],\n [8228,\n  '@USER මියුට් කරල තියෙන්නේ,ඇගේ ලේ ඉතුරු කරගන්න. උබ රිප්ලයි කරල තියෙන නිස බැලුව.ලේ පයින්ට් එකක් විතර පිච්චුනා ඒක දැකල.ලබ්බේ රැකවරනය. බෝම්බ කාපු පොඩි උන්ගෙ ආත්ම වලට තාම සැනසීමක් නැතුව ඇති.යන්න පාරවල් පාලම් නැතුව ගිලිල පොඩි උන් දුසිම් ගනන් මැරුන.එතකොට රැකවරනය තියෙන්නෙ ඇත්හෙ මුගෙ පුක අස්සේ.',\n  'HOF'],\n [8229,\n  '@USER පකේ සිරස තොපි කාලකණ්ණි බල්ලන්ට කඩේ යන්නෙ නැතුව ජනතාවට සතුටක් ගේන වැඩසටහන් ඉදිරිපත් කරපන් මහාරජගෙ ගෑනි ඉන්නවනම් පැත්තට එවපන් දඩාවතේ බල්ලො ටිකක් ඉන්නව මෝල හැදිල',\n  'HOF'],\n [8230,\n  '@USER  @USER    යාන්තම් කොවිඩ් රැල්ල 2 අඩුවෙන ලකුණු එන කොට කාලකන්නි සෙට් එක අර සජිත් සජබෙත්  එක්ක දැම්මා බුද්ධිය අභාවයට ගිය ගුරු-ගුරුවරියන් පාරට! අද රට විදින්නේ  එකේ විපාක තමයි! මැරෙන හැම මිනියක්ම මුන්ගේ අමනුස්ස කමින් වුන දෙයක් - හැත්ත ඩොලර් දීලා මේවා  කරවන උන්ට හෙණම ගහන්න ඕනේ',\n  'HOF'],\n [8231,\n  'ඡන්දයකින් තෝරන්නේ සාපේක්ෂව හොඳ පාලකයින් සර්ව සම්පුර්ණ මිනිසුන් නෙවෙයි.  දේශපාලන සාක්ෂරතාවක් නැති, දේශපාලන මතවාදයක් දරන්න මොළයක් නැති, රටේ දේශපාලනය ඉතිහාසය නොදන්න හුජ්ජ කොල්ලන්ට මේකේ පෙන්නේ වහල්කමක් විදිහිට.  අඩුම තරමේ විහිළුවට වගේ හ\\u200dරි කමක් පොතක් කියවලා වර.',\n  'HOF'],\n [8232,\n  'නැවේ ලීක් එක මුලදි කටාර් ඉන්දීය වරායවල් වලට ඉන්ෆෝම් කරද්දි ඔවුන් ඒක රටේ වරායවල් බාරගන්න ප්\\u200dරතික්ෂේප කරපු දුප්පත් අපිට කොරේ පිටට මරේ කියල කෙලඋනේ..  වන්දි නෙවෙයි මොන ලබ්බ ගත්තත් පරිසර හානියේ බලපෑම',\n  'HOF'],\n [8233,\n  'එදාවේල කන්න නැති ළමයිත් ඉන්න රටේ හැම ළමයම කුරුදුවත්තේ ගානට දාලා කතා කරන වගෙ අවජාතක පඩත්තරයන්ව පාර්ලිමේන්තු... URL',\n  'HOF'],\n [8234,\n  \"මෝඩයා / පිස්සා / පොරටෝක් දෙන්නා  සාම්ප්\\u200dරදායික සමාජ සම්මතයට  උඹලට පටහැනි 'සත්\\u200dය' ප්\\u200dරකාශ කරන්නා..  - සාගර - #sagara\",\n  'HOF'],\n [8235,\n  '@USER  @USER අම්මට හුකන රැස්වීම 9.00 කොළබ යන්න අපු මට කඩවත යන්න පැය 7 ගියා  වෙනදා යන්නේ පැය 5 යි උපරිම කොළබ ගියානම් යන්න වෙන්නේ පැය 10 කින්  තමා රටේම ඉන්න උන් අරගෙන ගෝල් ෆෙස් පුරවන්න කළින් චන්දෙකට ඇවිත් දිනලා පෙන්නපං අනුරාධපුරේ උන් කොළබ යනවා ලැජ්ජයි යකෝ කොළබින් පුරවපං ඔක පුලුවන්නම් පුක තමා',\n  'HOF'],\n [8236,\n  'මට නන් එකක් හිතාගන්න බෑ  අස්සෙ අරකි අලුත් එකෙක් එක්ක ඇනිවසරිය සමරයිද කියලත් බයයි අයිසෙ  Danukaᅠᅠᅠᅠᅠᅠᅠᅠᅠᅠᅠᅠᅠᅠᅠᅠᅠᅠᅠᅠᅠᅠᅠᅠᅠᅠᅠᅠᅠᅠᅠᅠᅠᅠᅠᅠᅠᅠᅠ @USER  · 1 Aug 2020 සාදාරණ බයක් ආව ඒකටනම් twitter.com/Iam_paala/stat…',\n  'HOF'],\n [8237,\n  '@USER  @USER    රංජිත් ඔයා ඕනම කෙනෙක් ප්\\u200dරොමෝට් කරන්න, මම උපරිම සපෝට් එක දෙනව. ඒත් ඔය අලි කිම්බ ප්\\u200dරොමෝට් කරද්දි ඔයාවත් ලෙවල් එකටම ඇදල අතාරිනව ඇරෙන්න කරන්න දෙයක්නෑ. සෝ සොරි.  දෙයක්, මම තාම මොලේ ශට් ඩවුන් කරගෙන රිප්ලයි කලේ නෑ. වැරදිලාහරි කරන්න පටංගත්තොත් ඔයා කැමති වෙනඑකකුත්',\n  'HOF'],\n [8238,\n  'I came to work with my earringall the නාකි ගොබ්බ සෙට් එක was like,   “මේ මොන රස්තියාදුකාරයෙක්ද?”  “කන විදින්න ලැජ්ජා නැද්ද ලමයො?”  I’m laughing inside thinking “මුන් කොච්චර අනුන්ගෙ ලබ්බවල් හොයලා ප්\\u200dරෙෂර් කරගන්නවද කියලා    #ටිපිකල්',\n  'HOF'],\n [8239,\n  'මොන රෙද්දෙටද අපි ඔය knee එකක් කරන්නෙ  කලින් skipper මැතිව්ස් Tamil Catholic  මහරුෆ්, රසල් ආනල්ඩ්   මුස්ලිම් වුණා කියලා ටීම් එකට එන්න ඕනෙද දක්ෂ නැත්තම්  ¸,ø¤º°`°º¤ø,¸ 𝐹𝒶t 𝒮𝒶𝓃𝒶 @USER  · 30 Oct 2021   Actually the Truth is..... \"We are a Racist Country.. so we cant take Knee against us...\" also we dont give any chances to other religious guys to play in the team. as well..     @USER  @USER  #SriLanka  #SLvSA twitter.com/Anjana_CT/stat…',\n  'HOF'],\n [8240,\n  'ජ.වි.පෙට ජන්දෙ දෙන උන් වහල්ලු නෙවෙයි .. මොන කරුමයක්ද මුන් විතරයි උගත් බුද්ධිමතුන් ලබ්බෙ රෙද්ද මේවගෙත් ඇවිත් 3% හැත්ත හානව ..අප්පිරියයි ඕකුන් සෙට් එක',\n  'HOF'],\n [8241,\n  '@USER  @USER ඒකෙන් ගත්ත නිගමනේ සම හරක් තඩි කෙල්ලෝ ජීවිතේට කෙට්ටු කරන්න බෑ කියලා නිගමනෙත් වැරදි කරන්න ට්\\u200dරයි කරනව @USER',\n  'HOF'],\n [8242,\n  '@USER උබලැ අම්මගේ දාර කිම්බෙන් ... මුස්ලිම් ඌරැ වෙසිය\\u200dේ තොගේ කිම්බට ඌරැ තේල් දාලා හුකන්නේ කිම්බ කුණුවෙලා යන්න දැනගනින් පට්ට වෙසි තොගේ පුකට ඌරැ තේල් බිංදුවක් දාලා පුකේ අරින්නෙ රෙනකොට ඌරැ පැටව් වැටෙන්න දැනගනින් කැරි වෙසි ඉස්ස\\u200dේල්ලා කිම්බේ ගඳ යවාගනින් හොදට නාලා කැරි හම්බ වෙසි',\n  'HOF'],\n [8243,\n  'රට වටේම අනුන් හදන්න යනවා..ගෑනුලමයි ඉස්සරහ බිජ්ජ වගේ නරක වචන එලියට නොදා ඉන්න තරං හැදියාවක් නෑ..   .අං දුන්නට තිස්සට තොට මොලේ දෙන්න බෑනෙ..',\n  'HOF'],\n [8244,\n  '@USER උබලා කාලේ ඉදන් කරේ මුල් ගල් පැල කරන එක විතරයි කියලා ඕන එකෙක් දන්නවා යකෝ.. අවුරුදු  ගානක් හදන් නැතුව අත ගගා තිබුන දේ ඉවර කරපු කෙනා විවෘත කරාම තියෙන අවුල මොකක්ද සමනල් මංගලයෝ',\n  'HOF'],\n [8245,\n  '@USER  @USER    රෙද්දක් ඇඳං මෝඩ පුතාට කඩේ යන්න ලැජ්ජාවෙන් ෆේක් වලින් හරි කඩේ යනව..අන්නේකයි නියම වහල්කම.. වචනයේ පරිසමාප්ත අර්\\u200dථයෙන්ම රෙදි නැතුව කඩේ යනව කියන්නෙ ඒකටහොඳා හොඳා ආතල් එකක් තියෙන්නත් එපැයි..තාම ඉන්නෙ ප්\\u200dරාග් මානව යුගයේ..නමේ තියෙන්නෙ හුම්',\n  'HOF'],\n [8246,\n  '@USER  @USER එදා ඉඳලා මං ගොඩක් උන්ව අත් ඇරියා.   ඔනෑවට පුක දෙන්න ගියාම අගයක් නැති තේරුම් ගත්තා',\n  'HOF'],\n [8247,\n  '@USER ඔව් බල්ලෙක්ට සාමාන්\\u200dයයෙන් වතුරෙ නෙමෙයි අහසෙ තිබ්බත් අනතුරක් නැත්නම් වෙනත් සතෙක් දුර තියාම දැනෙනවා.කිඹුලෙක් කියන්නෙ ඉවට නොදැනෙන සතෙක් නෙමෙයිනෙ.බල්ලා ඇවිදින රේන්ජ් එකෙ ඌට එන්න බැරුව වගෙනෙ ඉන්නෙ ඊට එහාට යන්නෙ නැනෙ.මහ වේස වැඩක් ඕක',\n  'HOF'],\n [8248,\n  'මහින්දට  නාම  යෝජනා  දුන්න  ඒක   සමහර ගිනිපුක්  ගාය ගහපු  සිවිල්  සමාජ  ලබ්බන්ටයි මෝඩ  ජෙප්පන්ටයි  හරි... URL',\n  'HOF'],\n [8249,\n  'අරහෙන් අරුං වෙඩි තියනවා. උඹ එනවා මෙතන වීරයා වෙන්න. කියවන්න ආවොත් තොගේ ඔළුකට්ට හිල්වෙන්න මම තියන්නෙ.\" සරෝන්ද්\\u200dරගෝබි යක්සාවේස වෙලා. මදිවට වෙඩි වරුසා හැම පැත්තෙන්ම.  \"තෝ පලයං ඕන නම්. මම කෙල්ල අරං මිසක් අගලට යන්නෑ.\" I just published ගුහා සටන:19 link.medium.com ගුහා සටන:19 Every idea needs a Medium',\n  'HOF'],\n [8250,\n  'කතරගම නෙ යකො2  කෑලි ඉන්නෙ....බඩුව කියන්නෙ  ඉම්බොක්ස්  මැසෙජ් එකක් දැම්මෙ අදුර ගන්න නම්කී...ඔයා එක්ක හැමිනෙන්න නෙවෙ ...බහුකාපන්  කැරි වෙසී',\n  'HOF'],\n [8251,\n  '@USER බද්දට දෙනවා කිව්වට ඕක අයෙත් අවුරුදු 99ක පස්සෙ අයෙත් ගන්න පුලුවන් සල්ලි වලට.ශොක් බදු ගිවිසුම.. මිනිස්සු ගොනාට අන්දවන්න සිරසත් සපොර්ට්',\n  'HOF'],\n [8252,\n  '@USER ඔයා කඩේ යන්න. අදනම් නුවර කඩ වහනවා. ඔය අන්තවාදී අලුගුත්තෙරුවෝ අයින් උනේ නැත්නම් හෙට අනිද්දා මුළු රටේම කඩ වැසෙනවා. ඔයාට කඩේ වැඩ කරන්නත් එතකොට අමාරු වෙයි. නිකන් ඉන්න නිකන් අටෙන් පොත්තෙන් එන්න ඉස්සරවෙලා දේශපාලනේ. ඔයාල අපි දන්නවා පස්ස දොරෙන් තමා එන්නේ රෝසි නෝනා වගේ.',\n  'HOF'],\n [8253,\n  'රැසියා නෙමේ යකෝ ඌ රුසියා. සේට්ටම කලින් නම ටයිප් කරන්න ඉගෙන ගෙන වරෙන් ගොං හරකා.  යකෝ නමක් හරියට ටයිප් කර ගන්න බැරි වතු පාළුවොද ඔස්තාර්ල වගේ ටෝක් දෙන්නෙ. හයියෝ #සාන්ත',\n  'HOF'],\n [8254,\n  '@USER  @USER මල්ලි ගෑනු ලමයිට පාඩුවේ ඉන්න දීපන් පුක පලාගන්නේ නැතුව. අසහනේ හොද කරගන්න සයිට් තියෙන්නේ ඒවට පල. මෙතන ඇවිල්ල අපේ නන්ගිලාට පව්දේන්නේ නැතුව.',\n  'HOF'],\n [8255,\n  'කොල්ලො රන්ඩු වෙනකොට  මොකද  ඩෝ   ගෑනු රන්ඩු වෙනකොට   තෝ පරට්ටී ...............................  රෙදි සී සී කඩ',\n  'HOF'],\n [8256,\n  'තමන්ගෙ බිරිඳට පාර මැද දාගෙන කැති පහරවල් 35 ගහපු cctv දර්ශනය..  වේදනාව කියන්නෙ ලගින් යනව පොලිස් කාරයෙක් මූ ක්ෂණික බයික් එක හරවන් යනව..යකෝ කැත්තෙන් කොටපු මිනිහට නඩු දාන්න කලින් අර පොලිස් කාර\\u2063යගෙ වැඩ තහනම් කරන්න ඕන..ඔය වගේ කාලකණ්ණි නීතියටත් නින්දාවක් @USER  @USER',\n  'HOF'],\n [8257,\n  '@USER අනික වනසත්ව ආඥා පනත් කල්පනපු හන මිටියක් එකට දැඩි නීති ඇතුලත් කරලා ධන්ඩ නීති සංග්\\u200dරහ යටතේ දැඩි දඩුවම් දෙන්න ඕනි අපරාද කරන අවලම් මිනිසුන්ට',\n  'HOF'],\n [8258,\n  'මේක අවජාතක ආණ්ඩුවක් ! භික්ෂූන් 48ක් ,රණවිරුවන් 09 හිරේ ...සුද්දාගේ කාලේ මීට හොදයි ! - URL via  @USER',\n  'HOF'],\n [8259,\n  'අක්කිලා පිං පාටයි...        ඇන්ටිලා පෙම් පාටයි...       නංගිලා ගොන් පාටයි.',\n  'HOF'],\n [8260,\n  '\"ඇප් සෙල්ලම\" මොන හිඟන ජීවිතදෞත්තො මේ? මදිවට කියනවා කුලී රථ රියදුරන්ව මංකොල්ල කනවලු. පයිය තමයි ඌබර් පික්මී නැත්තං රටේ ඉන්න ඔක්කෝවම මංකොල්ල කන්නේ බහුතරයක් කුලී රථ රියදුරු හැතිකරේ තමයි!!  #ubersl #pickme #lka URL',\n  'HOF'],\n [8261,\n  '@USER බොරු කියන පොශ්වට ඇඳගත් හිඟන්නො..ඕකුන් අම්ම තාත්ත ලමයි විකුනගෙන කාල මිනිස්සුන්ගෙ තුට්ටු දෙකට කෙලෝල හැන්දෑවට සැපට ගංජ කුඩු කසිප්පු ගහනෝ කියල රියදුරු කීවෙ.. මාත් රියදුරුගෙ වැඩේට මනාපයි..බහුතරේ ගල්කෙප්ප කෙලින්නේ..',\n  'HOF'],\n [8262,\n  'මුලු හත්මුතු පරම්පරාවයි අහල පහල ඈයොයි පාරෙදි හම්බෙන් එව්වොයි බස් එකේ යද්දි මුන ගැහෙන එව්වොයි මුලු හැත්ත බුරුත්තම instagram ඉන්නවා කියහන්කෝ.',\n  'HOF'],\n [8263,\n  'කාලකන්නි හැතිකරේ මම අද කඳුලු ගෑසුත් කාගෙන ආවෙ දියත කිට්ටුව first year පොඩි උන් ටිකක් වගේ පෙනුනෙ ඔක්කොම උන්  උං කපල් පාරෙ හුරතල් වෙනව සමහරු ice cream කනව උං selfi ගහනව උං වතුර ගහ ගන්නව අපි පාරෙ චාටර් කනව ඕකුන් වදපු දෙමව්පියො මැරෙන්නෙත් පන පිටින් පනුව ගහල මූසල හැත්ත',\n  'HOF'],\n [8264,\n  'මයික් එකක් දික් කරල අහනව \"ශ්\\u200dරී බෝදිය ලංකාවට වැඩම්මුවෙ කවුද\" කියල..  උත්තරය දන්නෙ නැ. ඒක ෆේස්බුක් දානව... කමෙන්ට් කරන උන් බයින්නෙ \"වේසී පොශ් බඩුව.. ලංකාවෙ දන්නෙ නැ මැරියන්. හෙන ගහනව. ලඟ හිටියනම් ගහන්නෙ කනට  මිනිහෙක් දන්න නොදන්න දේට විරුද්ද වෙන්න අපේ සමාජයට පුලුවන්ද බන්...',\n  'HOF'],\n [8265,\n  'වම්පස තියෙන්නේ කව්රුත් දන්නා මැයි මල . දකුණු පස වර්ණයෙන් රතුපාට උනාට ඒක මැයි මල් නෙමේ ,  තමයි African Tulip කියන මල් වර්ගය . මේකට අපේ අය  Forest Fire චු මල  හුජ්ජ මල්  හුජ්ජ බොකු වගේ වලිනුත් හදුන්වනවා  මල්වලට එහෙම කියන්නේ ?(1/2)',\n  'HOF'],\n [8266,\n  'නිදාගෙන නැගිට්ට ටිකට බුකියේ සමහරු නාකි වෙලා සමහරු ගෑනු වෙලා අනේමන්දා බන් පොඩ්ඩක් නිදාගෙන නැගිටලා බලනවා මුන් යතා තත්වෙට ඇවිත්ද කියලා',\n  'HOF'],\n [8267,\n  'බස් කොන්දොස්තර ගෙන් පර්ස් එක නැති වීම පඬිවරයකු ඇහුවේ මෙහෙමලු...   \"එම්බා බස් පලුව,තෝ මා පයිය දුටුවෙහි ද?\" #ශුද්ධසිංහල',\n  'HOF'],\n [8268,\n  '@USER රාජ්\\u200dය නායකයෙක් තියා අවම සමාජ සාරධර්මවලින් හෙබි මිනිසෙක් නොකරන සක්කිලිම සක්කිලි අවර අදම බලු විදියට මිනිසෙකුගේ ලිංගිකත්වයට අපහාස කර නුබ මනුෂ්\\u200dය ශුක්\\u200dරාණුවකින් සංසේවනය වූ කළලයකින් ඉපදුනා විය නොහැක.. කරුණාකර මව් පාර්ශවයෙන් විමසා පියා කුමන වර්ගයේ සත්වයෙක් දැයි සොයාගන්න..',\n  'HOF'],\n [8269,\n  '@USER අයිසෙ තවුසෙ බීල ද? සුද්දො ටිකට බෝම්බ ගහල එලවලා, තම්බි ටිකක් මේක අස්සෙ දාගෙන tourism ගොඩ ගිහින් කියල කියන්නෙ ?',\n  'HOF'],\n [8270,\n  'හුරුවෙයන් මුරලිලා, අනුරලා වගේ කෙලින් කතාකරන එකෙක් නොවී මහින්දට කඩේ එකෙක් වෙන්න..  මහින්දට විරුද්ධ හැමෝටම ජාතක කතා ලියන අවජාතක උන් එදාට උඹට ගෞරව කරාවි..  URL',\n  'HOF'],\n [8271,\n  '@USER  @USER ඒඉ වරෙං යන්න ආං ඵුකක් නානවා.. අපි ගිහිං වැටෙමු.. . තෝ පල.. අපි එන්නෙ ඊළඟ එකට.. . අර පුක්ලෝලි හූන යාළුවො ..',\n  'HOF'],\n [8272,\n  '#LTTE  @USER  කඩේ  @USER  වේසි.... පුතාගෙන් #SriLanka සහනයක් බලාපොරොත්තු වෙන්න පුලුවන්ද ?  @USER  @USER  @USER',\n  'HOF'],\n [8273,\n  '@USER ඔය ගොන් කතා ජීවිත නැති උන පවුල් වලට කියන්න ජනපති. අඩුම රාජ්\\u200dය නායකයා විදිහට අවෂ්\\u200dය වගකීමවත් ගන්න හුරතල් වෙන්නෙ නතිව. පාරට යන්න එපා මිනිස්සු ගල් ගහල මරයි',\n  'HOF'],\n [8274,\n  '@USER  @USER    මොකක්ද යකෝ සමනළ මාවතක් කියල තියෙන්නේ? තෝ හිතුවද මමත් හසිය වගේ කියල',\n  'HOF'],\n [8275,\n  'පව් ඕයි විමල්. උෟ ස්ටේජ් වල රෙන්න හදන්නේ ජීවිතේ අමාරුවටම වෙන්න ඇති. වගේ පිස්සු ගෑණු රොත්තක් එක්ක වසනවා කියන්නේ... URL',\n  'HOF'],\n [8276,\n  'නිදහස් දිනේ සමරන්නෙ නැත්තන් සමරන්නෙ නැතුව ඉඳපන් ඕයි නිකන් පකේ ටෝක්ස් දෙන්නෙ නැතුව. මේක හරි එක නෙමෙයිලු, රණවිරුවො හොරුන්ට වඳින දවසලු  බං තොපි හුජ්ජ ඇඬුවට අවුරුදු 133 ඉංග්\\u200dරීසින්ට යට වෙලා හිටපු උන්ට අද ලොකු වෙන්න ඇති. ඇරත් පාර්ලිමේන්තුවේ ඉන්නෙ සමාජෙන්ම ආපු එවුන් තමා.',\n  'HOF'],\n [8277,\n  '@USER රුපියල් ශත වලට තන්හාවේ #srilanka වේ  @USER  වල ලබ්බ ලෙව කන්න ආවේ නැතිනම් අද  @USER  උන්  @USER  සලකන්නේ දෙවියන්ට වගේ. ඇත්තටම එහෙම රටක් ක්\\u200dරීඩාවක් පාවාදුන්නු හතුරුට පුලුවන්ද කවදාකවත් #lka ගොඩ දාන්නන. හතුරු නැතිව කොල්ලෝ සෙල්ලම් කරන්නේ ආන්න මානසිකත්වයෙන්.',\n  'HOF'],\n [8278,\n  'මහින්දගෙ අවජාතක පුත්තුන්ගෙ අවජාතක වැඩක්..  වි වල බර හොයන්න කලින් වි වල ප්\\u200dරමිතිය හොයලා බලලා... URL',\n  'HOF'],\n [8279,\n  '@USER @USER  අපිත් ලබ්බ නොදැනම හිටියනං හොදයි.. රෙද්ද.. හොද වෙලාවට ඉන්දියන් උන් එක්ක බජනයක් නැත්තෙ නැත්තං පුකත් පෙන්නල යාවි.',\n  'HOF'],\n [8280,\n  '@USER දයාසිරි ජයසේකර ලංකා නිදහස් පක්ෂෙ පිරිසිදුයි කියන එක නිකන් dani daniels මාධ්\\u200dය සාකච්ඡාවක් තියල \"මම කන්\\u200dයාවියක්\" කිව්ව වගේ',\n  'HOF'],\n [8281,\n  'අවුරුද්දෙ O/L කරන කොල්ලො කෙල්ලො ඉන්නවනම් මේකෙ හිටු කියාන පෙන්නන හංකර හැමිනෙන්නියන්ගෙ පස්ස ගාත් බුරි හිල් කිරි බුරුලු දිහා බැල්මට් දදා නොඉඳ paper එකක්වත් කොරපියවුකො මනුස්සයො හදල දෙන බත්පතට ණය නොවී ...',\n  'HOF'],\n [8282,\n  'අලියට/බුලත් කොළේට ඡන්දෙ දෙන එකා නෙවෙයි මෝඩයා. මෙදා පාර කාටවත් දෙන්නේ කියල උන්ට බැන බැන ගෙදරට වෙල ඉන්න උඹ තමයි ලොකුම මෝඩයා! #GenElecSL',\n  'HOF'],\n [8283,\n  'කොන්ඩේ කැපු අලුත් බාබර් කැ**ට හෙන 100ක් ඉල්ලා පොල් ගෙඩියක් ගහන්න අපේ අම්මාත් මේවට වග කියවයුතුය @USER්මා මාස්ක් තියන කැත මූන වහන් යනවා රෙද්ද',\n  'HOF'],\n [8284,\n  '@USER  @USER    ඒක අම්මට යසට මගේ අප්පා කලා. උඹ ඒකට වද වෙන්න එපා පක චලකයෝ',\n  'HOF'],\n [8285,\n  'යොහානි ලංකාවට ආවම එයාපෝර්ට් එකේදි  මාධ්\\u200dය මයික් අරං ගිහින් අහන්නෙ \"මේ ජනප්\\u200dරියත්වයත් එක්ක දේශපාලනයට එනවද?\" මොනවද අයිසෙ ගායිකාවකගෙන් අහන ප්\\u200dරශ්න?',\n  'HOF'],\n [8286,\n  'මිනිස්සු ආතල් එකේ ඉන්නවට මං පට්ට කැමතියි. . හැබැයි මං දන්න කියන උන් කොහෙවත් ඉන්න ගොං වේස පක්කු එක්ක සෙට් වෙලා මගෙන් ආතල් ගන්නවට මං කැමති නෑ. . . මං දෙන ආතල් වෙනයි, මගෙන් ආතල් ගන්න එක වෙනයි !',\n  'HOF'],\n [8287,\n  '@USER  @USER    සෝක්...  මගේ අාතල් සිරා අරන් ඔ්කුන් අැවිත් මාව කුදලන් ගියොත් තෝ තනිකඩයෙක් විදියටම විදවලා මැරිලා යන්න ඔ්නේ... තොට ලිංගික අප්\\u200dරාණිකත්වය අැති වේවා එ්ස්වා පුහ්....',\n  'HOF'],\n [8288,\n  'වල් බැල්ලි ගහනවා තොට වැලි  @USER Dinal @USER  · 26 Dec 2017 Type “වල් බැල්ලි ගහනවා තොට වැලි\"@ the 3rd “girl” in your list',\n  'HOF'],\n [8289,\n  'සමහර කෙල්ලෝ ඉන්නවා හදපු කරුමෙට උන්ගේ අම්මලා කරත්තෙක ගැට නොගහා ඉන්නවා තරම් ගොන්, මොකෙක් හරි හොයාගන්නකොට පිට පොත්ත විතරක් නෙවේ මොලෙත් පොඩ්ඩක් තියෙනවා බලපං, උඹේ හැම ප්\\u200dරශ්නයක් ඒකිට විසදන්න බැරි වෙන්න පුළුවන්, උනාට උඹට පොඩ්ඩක් හරි මානසික නිදහසක් දෙන්න පුළුවන් එකියක් බලහං',\n  'HOF'],\n [8290,\n  'වාඩිවෙන පුක රත්\\u200dරං දන්නෙ ? යකො මෙහෙම ගැහිලි  Azzam Ameen @USER  · 9 Aug 2018 “Rs 650,000 estimated cost of One Chair at the new western provincial council building” JVP complains to western province governor',\n  'HOF'],\n [8291,\n  'දෙරණ 24 නාලිකාවෙ වැසටහනක් යනවා Road to Parliament කියල. ගන්න කොටම නිවේදක ගොනා කියනව ඉදිරි අවුරුදු 05 රට පාලනය කරන්නේ කවුරුන්ද, ඔබේ පාලකයන් කවුරුන්ද කියල හොයන්නයි අපි වැඩසටහන ගත්තේ කියල..  ඇත්තටම දෙරණ කියන්නෙ හද්ද ගොං නාලිකාවක් තීරණය කරන්නම මදැයි',\n  'HOF'],\n [8292,\n  '@USER පාදඩයා, වහාම මූට විරැද්ධව හාමුදුරුවෝ නැගිටින්නේ නැත්තේ ඇයි, පාදඩ එවැලිංජකන් බල්ලා  කෝමද බුදුන් වහන්සේට සමාන කරන්නේ, සිංහලයොත්, හාමුදුරුවෝත් ඔක්කොම පොන්නයෝ කියලයි මම හිතන්නේ, පව් සිංහල බෞද්ධයා.',\n  'HOF'],\n [8293,\n  'පසුගියදා, ඇල්ල-වැල්ලවාය පාරේ ඇල්ල නඟරය හරහා ආවෙමි. පාර දිගේ පුළුටු ගඳ හමා දැවුණු දැවෙන වනාන්තර කොටස් දුටුවෙමි.   ඇල්ල නඟරය ආසන්නයට ගින්න පැතිර තිබුණේ/අප්\\u200dරසන්න දුම් ගඳ හැමුවේ නැත. \"තව හුජ්ජ දමාන්\" බෝම්බ ප්\\u200dරහාරයෙන් පසුව ඇල්ලෙන් වඳ වූ සුද්දන් තුන් හතර දෙනෙක් දුටුවෙමි.',\n  'HOF'],\n [8294,\n  '@USER හිතෙන්න දෙයක් හරිත තමයි.අපිත් ආසයි හුත්තො පේර යන්ඩ. කරුමෙට බෑනෙ. එතකොට අපි තොපෙ පුක හොද හෝද ඉන්ඩ ඔනෙද  @USER',\n  'HOF'],\n [8295,\n  'අම්මට #කන්න #සිගේ පුතාලට චනදේ දුන්නේ ජාතිවාදය එලියට දාල රටවල් ගිනි තියල චන්දෙ කල් දාන්න නෙවේ පකෝ. චන්දේ... URL',\n  'HOF'],\n [8296,\n  '@USER  @USER    බල්ලන්ට කියන්න දේකුත් නැහැ කරන්න දේකුත් කරපු දෙයක් කියන්න තැනකුත් ඔහේ යන්නන් වාලේ යනවා ,මේ දේශපාලන වැඩසටහන් අපි බලන්නෑ අහන්නෙත් අප්පිරියයි යන්ඩ වෙනවා එහෙම නැත්නම් බඩ යනවා මේවා අහන මුන්ගෙ කතා කාලකණ්ණි බල්ලෝ',\n  'HOF'],\n [8297,\n  '@USER කතාව පුද්ගලිකව මට සිරාවට දැනුනා, ගොන් තඩියෙක් සෙට් කර ගත්තා වටේ එකත් ලේසි වගේම වටේ එකෙක් සෙට් කර ගත්තා දෙන්නටම එහෙම යන්නත් පුළුවන් නෙහ්, අපේ පුද්ගලිකත්වයක් තියෙනවා කියලා එහෙම කරන්න පුළුවන්',\n  'HOF'],\n [8298,\n  '@USER  @USER    ඌ සේරම කොල්ලො ටික බ්ලොක් කරලා කෙල්ලොන්ට ටෝක් දිදි යනවා කැරිම පිරිමි තමා.මුන් වගේ වේස කදන් අරුන්ගෙ මෑ ඇට ලෙවකන්න තම් sri lankan twitter pretty young girls ගගා උනුත් මේකෙ හැමිනෙන්න එන්නෙ',\n  'HOF'],\n [8299,\n  'උගත්සිංහලබහුජ්ජජනයා ඔබට පහර දෙන්නට එක් රොක් වී එකාවන්ව නැගී සිටිමින් කමෙන්ට් පිට කමෙන්ට් දමනවා ද? බිය නොවන්න, අරඹන්න කවියෙන් ඔබේ ආතල්ලෙක;  \"ආං එනවා ආං එනවා රොත්ත පිටිං හුත්තෙ හිටං පුක ලදරං පක දෙදරං උසිබජනයා... URL',\n  'HOF'],\n [8300,\n  'කොච්චර අපහසුතාවට ලක්වෙන්න ඇතිද ගැනු ලමයා අර පඩත්තර බැල්ලි කියුපු කතාවට පව් ලමයා අද වැඩට අවේ නැ. කොල් කලාම කිව්වා සදුදා එන්නම් අයියේ කියලා.. ලැජ්ජාවට අද ඇවිත් නැ පව්.. නකි උනත් පෙලක් එවුන්ට පරිනත බුද්ධියක්නැ. තිබ්බා එහෙම හැමෝම ඉස්සරහ අහයි වගේ කතා..',\n  'HOF'],\n [8301,\n  'බොරුවට report වෙනවා කියල නහයෙන් අඬන මෝඩ හැත්ත ඔං බලාගනිල්ල real report වැදුනම එන notification එක. මටත් වැදුනා හැබැයි ok  දාලා මේක හදන්න බැහැ  දවස් 7කට උප්ලොඅද් share කරලා හමාරයි… තොපේ බොරුවෙයි අත්තෙයි වෙනස දැන්වත් තේරුම් ගනිල්ලා',\n  'HOF'],\n [8302,\n  'උසස්වීම් බලාපොරොත්තුව බෙටි කන කුක්කෙක්,  හරකා , හමුදාව නියෝජනය නොකරයි, කොටි නියෝජනය කරයි,  මෝඩ... URL',\n  'HOF'],\n [8303,\n  'අද කදිරාන පොලිස් විද්\\u200dයාලයට පොලිස්පති ආව. යකෝ ජනාධිපතිටවත් නැති විදිහට හන්දියක් හන්දියක් ගානේ පොලිසියෙන් දාල අමුතු ආරක්ශාවක් මවල...  පඩ ශෝ පකයලගෙ.. යුද්ධේ කාලෙත් නැති ආරක්ශා මෙවුන්ට... @USER  @USER  @USER  @USER',\n  'HOF'],\n [8304,\n  \"එයා අද විල්සන්'කරු' උනාට, එදා එහෙම පිටින්ම කිහිලි'කරු' අමතක වෙච්ච අයට   අර නුගත් බැල්ලිගෙ පුතාල පාර්ලිමේන්තුවේ සක්කිලි වගේ හැසිරෙන්න මුලික හේතුව 'කථානායක', 'ජනාධිපති' වෙන්න ගියපු එක. ජනාධිපති අපි කතා නොකර ඉමු. උන්දැ සූටි වෙලාවකින් නිදියනවනේ. URL\",\n  'HOF'],\n [8305,\n  'අගමැතියා ඇමෙරිකා ගියා ලෙඩ්ඩු බිම බුදියනවා කියාගෙන කට අරින තොපි වාගෙ නිවට නියාලු බූරූ මොංගලයොම තමා ඉස්පිරිතාලේ... URL',\n  'HOF'],\n [8306,\n  '@USER  @USER    අපේ සම හරක් යුද්දේ රණවිරුවෝ පොර ටෝක් දෙනවා  ..ඇයි යකෝ කාලේ යුද්දෙට යවන්න කොල්ලෝ නැතුව ගමේ ඉන්න අහිංසක කොල්ලෝ ටික ගිහින් මැරුණේ... යන්න තිබුනනේ යුද්දෙට කලේ ලොකු ටෝක් දෙන්නේ නැතුව. ප..... දේශමාමකත්වය තූ නොදකින්',\n  'HOF'],\n [8307,\n  '@USER ආශික් ලන්තේ.. කෝ හිටං එක්ක බෑනේ.. \"ස\"ආවම ඕං බලන්නකෝ මේවා නවතින හැටි..  එකමත් එක කාලෙක බයි තියරි..',\n  'HOF'],\n [8308,\n  'එකෙක්. වගේ කාලකන්නි සක්කිලි බල්ලෙක් මම ලංකාවේ දැකලා නෑ. බල්ලෙක් කියන්නත් බැ. බල්ලා මීට වැඩිය දහස් ගණනකින් හොදයි  :01 ,263 views',\n  'HOF'],\n [8309,\n  '@USER පුදුම පොන්න පකෙක් නෙ මූ ඉන්න තැනක් දන්නව ගිහින් හුකෝලා එන්නෙ ගොං පකයට යකො පාඩුවෙ හිටියම එනවා හැමින්නෙන්න හොදට හොඳයි අපි නරකට ඊට හොඳයි පකයා දන්නෑ තාම අනික දෙයක් දැනගෙන කතා කරන්න ඕන හුත්තා එහෙම අම්ම අප්ප ළමා ළපටි එක්කම පොන්න සිපයි වෙන්නැති හුත්ත පවු අහිංසක උන්',\n  'HOF'],\n [8310,\n  '@USER  @USER කියන්න ඕනෙ නැ බන්. අපි දන්නව . . . . . . . . . . . . . . . . . . . . උබ ගොනා කියල',\n  'HOF'],\n [8311,\n  '@USER හොද වැඩේ..බල්ලො පාරක් පාරක් දකින දකින බැල්ලි එක්ක කරනව වගේ මිනිස්සු වෙලත් මෙ වගෙ පොදු තැනක මෙහෙම හැසිරෙන්න තරම් විලිලැජ්ජාවක් නැති කොච්චර පහත් උන්ද.වෙන තැනක් මුන්ට තිබිලම නැ අහවල් එක කරගන්න.අසික්කිතයි',\n  'HOF'],\n [8312,\n  'දහසක් ප්\\u200dරශ්න නොවිසඳුණු එකම පැනය  \"ඉස්ඛෝලේ ඉන්ටවල් එකේ දවල්ට කන්න ගෙනාපු බත් එක ලෙහපු ගමන් ඒකේ තිබ්බ මාලාකෑල්ල/බිත්තරේ/මස්කෑල්ල කාපු වල් පරයා හොයන එක සනිකව අතුරැදහන් උනේ කෝමද කියන එක',\n  'HOF'],\n [8313,\n  '@USER  @USER තොට සිංහළ තේරෙන්නෙ නැද්ද ගොන් බිජ්ජො??   This is not a question of \"Fake Profiles\" or \"Real Profiles\" .... this is a question of තෝ වගේ කිබි උකුණෙක් අහක බඩුවක් ගූ අැදගෙන නාන එක.  නිකන් පු.. දෙන්නේනැතුව වැඩක් බලාගනින් කිම්බි උකුණො!!! GIF',\n  'HOF'],\n [8314,\n  '@USER ගෑස් සමාගමේ ඉල්ලීම හරි. කිරිපිටි සමාගම් වල ඉල්ලීමත් ඉෂ්ට කරපල්ලා එතකොට ඔක්කොම හරි. අන්තිමට කෙලවෙන්නේ මිනිස්සුන්ට තමයි නොදකින්',\n  'HOF'],\n [8315,\n  'මල්ලී  කොමද ලොක්කගේ වැඩ.උඹලට හෝදලා මුගේ අසුචි වහන්න බෑ.දැන් පුක හපාගෙන මැරියල්ලා.මතක තියාගනිල්ලා උඹලා කන්නේ අපේ සල්ලී #lka  @USER',\n  'HOF'],\n [8316,\n  '11/2019 #SriLanka Polls Alert: #tamil  Homeland concept emerges URL අපි එහෙම නෙමෙයි කියන්නේ. රනියයි, සජියයි, මුස්ලිම් සෙට් එකයි කොරපු වැඩෙන් ලකුණු ලැබුනේ කාටද කියලා බලපල්ලා. තොපි කතිරේ දීලා තියෙන්නේ රට කොටියට දෙන්න නොවේද ? ලජ්ජා වෙයල්ලා උඹලා  @USER',\n  'HOF'],\n [8317,\n  '@USER අනෙ හුකාං ලැවරිය පුතානො උබල පට්ට කාලකණ්ණි අවජතක පකයි මෙ රටට හෙනයක් වගෙම අකුල් හෙලල පරහැත්ත එක්කරටට වින කටින්න අව  සක්කිලි unp එකම පොන්න පකයි ටිකක් ඉන්නෙ වගෙම මෙලො හසරක් නැතුව හිටපු උබට මාද්\\u200dය නිවෙදන නිකුත් කරන්න තරම් ඇම්ම කොහෙන්ද ආවෙ උබලයි යකො වල පල්ලට යන්න ඔන උන් රටට කෙලවන',\n  'HOF'],\n [8318,\n  'මූ මෙහෙම කිව්වද? මීට නම්බුයි යකෝ කඳාන පල්ලියේ කොඩිගහ උස්සන කාලෙට පෙරහැරේ පොන්නයොත් එක්ක නටන්න ගියානන් කාළකන්නියා CHATHU @USER  · 26 Apr 2019 \"මේ ප්\\u200dරහාරයෙන් අපිට එක හොද දෙයක් හරි උනා, ඉතිහාසයේ ලොකුම ඉන්වෙස්මන්ට් එක ඇමරිකාවේ මිලේනියම් චැලේන්ජ් කෝපරේෂන් එකෙන් ඩොලර් මිලියන 280ක් අපිට ලැබුනා\" -අමාත්\\u200dය මංගල සමරවීර  නොදකින් මෙහෙමත් මිනිස්සු',\n  'HOF'],\n [8319,\n  'නමිලට හුක#වා නොනගතේ වෙලාවේ... නෝටි කොල්ලෝ..  Dulith Kasun (DK) @USER  · 13 Apr 2017 මොකද්ද @USER කරන්නෙ කට්ටිය?',\n  'HOF'],\n [8320,\n  'අයිසෙ,  වියානා සම්මුතියෙ අපි වගේ බල්ලොන්ට වැඩදායී දේවල් මුකුත් නැද්ද?  Please ignore that හොටුකෑල්ල in my nose',\n  'HOF'],\n [8321,\n  'නවනිදන්පිල්ලේ දමිළ උඹලව අන්දලා ගාණක් හොයාගෙන පෙන්ෂන් ගියා මිසක් උඹලට ලැබුන මල ඉළව් ඊළමක් තියේද ? අල් හුසේනුත් නැගෙනහිර උඹලට දෙනවා කියා උෟත් උඹලාව අන්දලා ගාණක් හොයන් යනවා..  තොපි හැමදාම දුකට සැපට හිටපු සිංහල අපි එක්ක කා කොටා ගන්නවා කොහෙවත් ඉන්න පට්ට බල්ලො බැල්ලියන්ට රැවටිලා',\n  'HOF'],\n [8322,\n  '\"මගේ මිනිහට spa යන්න ඕන නෑ\" කියල බෝඩ් එකක් උස්සන් කෙල්ලගෙ කොල්ලට කී දෙනෙක් පොන්නයා කිව්වද? හොඳ වැඩේ බූරුවට... අර බෝඩ් කෑල්ල විසි කරල දාන්න කොන්ද පණ නැති උනානෙ.',\n  'HOF'],\n [8323,\n  '@USER වැඩක් කතා කරලා ඔය ගැන.. රටේ ඉන්න මිනිස්සු කියලා ජාතියක් ඉන්නවා.. උන්ට ඕකේ බරපතල කම තෙරෙන්නෙ නෑ... ඇඳිරිනීතිය වෙලාවෙත් පිස්සු කෙලියා අයින් කරලා පොඩි නිදහසක් දුන්නම හරක්ට හපන් විදියට හැසිරුනා.   අනිත් එක ප්\\u200dරාදේශීය සභා වල ඉන්න ගොබ්බයෝ ඕනි එපා හැම එකාටම ඩිලිවරි පාස් දුන්නා.',\n  'HOF'],\n [8324,\n  \"'FB වගේ නෙමෙයි Twitter.හෙණ කූල්' කිය කිය උත්කර්ෂයට නගනවා ඕනේ තරම් ඇහිලා තියෙනවා  FB වගේ නෙමෙයි.Tik Tok වගේ. සර්වඥ කිරිකජු කොල්ලො ගැන්සි රඟන , FB වල ස්ටේල් වුණ ඥාන කෑලි පට්ට කියුම් කියලා හිතාගෙන වපුරන, එළියේ ලෝකයක් ඇහැට  දැකලා නැති ළිං ගෙඹි පැටවුන්ගේ රජදහනක් මේක  #ට්විටර්_බක්ක\",\n  'HOF'],\n [8325,\n  'මට වචනයක් කියන්න හිතෙන්නෙ නෑ, රටේ කාලකන්නි මෝඩයින්ට කිව්වට තේරෙන්නෙ නෑ. තරම් ව්\\u200dයසනයක් සිදුවුණේ තත්කාලීන රජයේ දුර්මුඛ පාලනය හින්දා. ඒක තේරුම් ගනිව්. ආයෙ ඡ්න්දෙ උන්ට දීලා උඹලත් ම්ලේච්ඡ ත්\\u200dරස්තවාදයට පණපොවන්න එපා. එහෙම කරලා තොපි අපායෙන් තොපිට මිදෙන්න බැරි වෙයි කවමදාවත්.',\n  'HOF'],\n [8326,\n  'යුද්දේ කරපු army එකේ ලොකු ලොක්කෝ ටිකත් ඇතුලට දාන දවස ඈතක නෑ. සක්කිලි ටිකට සනීප ඇතිනේ වෙනස කොරලා, කඩේ පලයව්. #lka Neth FM @USER  · 26 Sep 2016 විස්තර මෙතැනින්.. URL URL',\n  'HOF'],\n [8327,\n  'ලංකාවට කෙල වුනෙ පිට රටවල් එක්ක අනියම් අඹු සැමි ඇසුරවල් පවත්වන්න ගිහින්. ලංකාව කියන්නෙ ඉස්සර පිට රටවල් වලටත් බඩු සපයපු රටක් මිසක්, දැං ඉන්න කාලකන්නි හැතිකරේ වගේ පිටරටකින් එන අළුත්ම කුණු ගොඩ කටට දාගන්නකං ඉවසිල්ලක් නැතුව කට ඇරං බලං උන්න අපත ජාතියක් නෙමෙයි.',\n  'HOF'],\n [8328,\n  '@USER @USER  @USER   පයිය යනු පැස මල්ල තේරුම පයියාගල ගම අසා නැද්ද? පකයා පයින් කපන බැරිඑකා පොන්නයෝය',\n  'HOF'],\n [8329,\n  'මොන පරයද යකු electricity supply එක off කරපු ප#යා  නිදාගෙන හිටියේ  ටෞකන්න දාඩිය දාගෙන ඇහැරැනේ පට්ට රස්නෙයි #කරන්ට්නෑLK',\n  'HOF'],\n [8330,\n  'කොහොමද කියපල්ලකෝ කෙල්ලෝ විස්වාස කරන්නේ.  යකෝ එච්චර උදව් කරපු, එච්චර තමන්ට ආදරේ කරපු කොල්ලව මරවන්න තරම් ගෑණි කොච්චර පාහරයිද.  මම වගේ සීන් එකක් දැකලා තියනවා මම ඉස්සරහම මගේ යාලුවගේ කෙල්ල ඒකී ලව් කරපු හොර කොල්ලාට කියලා ඌට ගැස්සුවා. මමයි බේර ගත්තේ. නොදකින් මෙහෙම උන්',\n  'HOF'],\n [8331,\n  '@USER ගෙවන්න බැරි ගත්තේ මොකටද හුට්ටෝ..... අපිටත් බැරිද ලීසිං කම්පැනි වලට කතා කරල අවුරුදු 3 කල් ඉල්ල ගන්න.... ලෙල්ල හුටං වෙලා ඉන්නේ....',\n  'HOF'],\n [8332,\n  'උදේම නැගිටලා කෝවිඩ්-19 කේලම් හොයලා කියන්න ගිය පනුවන්ට මොකො දන්නෝද උනෙ.. උන් පාන්දර්ම කිකිලි  ගෙ හොටේට අහූනා..  අවසානෙ චයිනීස් උන හැදෙන්නෙත් නැතුව උන් සාම්ප්\\u200dරදායික විදිහට මලා.. ආං නිස පාන්දර්ම නැගිට්ටද හුජ්ජ කර බිජ්ජ සොලවා නැවත නිදන්න හුරුවන්න.',\n  'HOF'],\n [8333,\n  'තුන්වේලම  කෝල් කරලා බත් කෑවද මගෙ රත්තරං  අහන එක විතරක් නෙවේ ආදරේ කියන්නෙ..තෝ කෑවද වේසිගෙ පුතෝ..උබ කන වෙලාවක කාපන් හුත්තො  මම කෑවා කියලා කියන්නෙත් එක්තරා ආදරයක්',\n  'HOF'],\n [8334,\n  '@USER ,  @USER  @USER පයිය කියන්නෙ මැට්ටො රවුම්, දිග, මහත, කලු එකක්. ඔයාගෙ සීනි කුරුල්ලට මගෙ තට්ටං දෙක පහුකරන්න බෑ . . . දිගමදි',\n  'HOF'],\n [8335,\n  '@USER මාත් නංගිගේ බබාට පිටකොටුවේ නීරෝ සීඩි හවුස් එකෙන් කාටුන් වගෑක් ගෙනිච්චා.. තූ නොදකින්..කොලිටි සෑහෙන අඩුයි..ඉන් පස්සේ පෙන් එකකටවත් දාල දෙන්න ඕනි.. ඒත් පෙන් එකක් දෙන්න බැහැ අනික් අයිය බුවාල ආවම උන්ගේ වැල එහෙ මෙහෙ ගෙනියන්න ඒක ගන්නවා.',\n  'HOF'],\n [8336,\n  '@USER @USER  මගෙත් එහෙමයි. එක අකුරක් වෙනස් නෑ. ස්ක්\\u200dරීන් කැප් හිටන් අරගෙන තියා ගත්තා. වගේ ලයික් හිඟන ගොන් හැත්ත...',\n  'HOF'],\n [8337,\n  '@USER ඒකට දැන්කාලේ කොල්ලා :- තොට පෝන් එක උස්සන්න බැරිද බැල්ලියේ... කෙල්ල :- තෝ හිතන් ඉන්නෙ මං පෝන් එක බෙල්ලෙ එල්ලන් ඉන්නවා කියලද..  එතනින්ම මගුල ඉවරයී',\n  'HOF'],\n [8338,\n  'කාලකණ්ණි යෙක්... නිවන් දැක්ක කිව්වම ඇගේ නහර පුප්පගෙන කෑ ගහන බහුජ්ජයො මේවට මීක් නෑ.. Chandu Rashmika (wiz) @USER  · 6 Sep 2020 මන් හිතුවෙ අපේ හාමුදුරුවො සිගරට් වලට  පිරිත් කරනවා කියලා බොන මිනිස්සුන්ගෙ පව් සමාවෙන්න...  මොකද වෙන්නෙ ලන්කාවට :43  views',\n  'HOF'],\n [8339,\n  '@USER එහෙම නෑ..රටට ජාතියට ආදරෙ පරපුරක් ඉස්සරහට බිහිවෙන එක විශ්වාසයි...දැන් ඉන්න නාකි පකයි ටික ඉක්මනට වලකජු ගැහැව්වොත් හොදයි..ඔකුන් තමයි පක්ශ බදාගෙන ඉන්නෙ...',\n  'HOF'],\n [8340,\n  \"අඩෝ මෛත්\\u200dරී !!! කැත වැඩ කරන්න එපා ඩෝ !!! :( අර 'සජින් වාස් ගුණවර්ධන' වගේ සත් ගුණවත් උත්තමයෙක් ...... දේශපාලන පලි... URL\",\n  'HOF'],\n [8341,\n  'Softlogic Holdings PLC තොපෙ ලයිස් ඉන්ශුවරන්ස් එකේ ඉන්න ඒජන්ට් ලට කියපල්ලකො මට ලයිෆ් ඉන්සුවරස් ඕනෙ කියල. රෙද්ද. එකක් ආවොත්... තොපෙ හෙඩ් ඔෆිස් එක ගිනිතියනව මං ඇවිත්.  ඔව් ඇත්තමයි',\n  'HOF'],\n [8342,\n  'ගිය අවුරුද්ද ගොඩක් අභියෝගාත්මක අවුරුද්දක්  ගොඩක් මහන්සි උනා, මහන්සි උන තරමට ලැබෙන්න තියෙන ප්\\u200dරතිඵල වලින් එකක් ජනවාරි පළවෙනිදාම ලැබුනා,  අවුරුද්දේ පළවෙනි දවසම busy,  රෑ හත වෙනකම්, අද මෙහෙම හිටියට කාලකණ්ණි ගොන් හරකෙක් වගේ ගෙව්ව අවුරුදු තිබ්බා, ඒක වෙනස් උනේ 2020',\n  'HOF'],\n [8343,\n  'කොටි නැගිටිනෝ තොපිට පේන් නැද්ද? *ත්ත තෝ කියන්නෙ මට වැඩ ඔක්කොම දාල ගිහින් කොටි වාඩි කරවන්න කියලද? අනෙ නිකං වැඩබ් බලාගනින් බං..',\n  'HOF'],\n [8344,\n  'ලොකු ටෝක් දීලා ඉල්ලල අස්වෙච්ච මුස්ලුම් ඇමතිලා ආපහු දිවුරුම් දීලා...ඇත්තටම ලැජ්ජාවක් කියලා දෙයක් නැත්තෙ කැළණි හිඟන්නන්ටද, නැත්නම් උන් කියන කියන පදේට නටන පොන්න ආණ්ඩුවටද ?  #දැකලා_හිතුණා',\n  'HOF'],\n [8345,\n  '@USER ,  @USER  @USER රටේ නීතිය තෝ දන්නවද වඳ වේසිගේ පුතෝ ?  දන්නැත්තං ඉගෙනගං!  ජාතික වනසත්ත්ව තුරුලතා ආරක්ෂණ ආඥාපනත කියලා එකක් තියෙනවා. ඒකට ලංකාවේ හමුවන සර්ප 103න්, 98ක්ම ආරක්ෂිත සතුන්. (උග්\\u200dර විශ පහ හැර).  එහෙම තොට ඕන ඕන විදිහට මරන්න කොටන්න බෑ. නීතය කියන්න කලින් ඉගෙනගනිං බූරුවා!',\n  'HOF'],\n [8346,\n  '@USER මන් දැක්ක වස්ති yfm එකේ ශෝ එකකට ඇවිල්ල කියනව යූටුබ් එකේ ඉන්න ඕන නැති කට්ටිය ඉන්නවලු. ඒක ෆ්\\u200dරී ඔනවට කට්ටිය ඉන්නවලු. උන් කොහොමද බන් එහෙම කියන්නෙ? මුල අමතක පොන්න හැත්ත.',\n  'HOF'],\n [8347,\n  'තදේටම කඩේ ගිය මොළේ තියෙන උන් ටික නිහඩයි   බත් කන අමු මී හරක් කීපදෙනෙක් තාම උම්බෑ කියනවා   Copied from FB  ඔව් ඔව් උබට තමා කිවුවේ හරකා',\n  'HOF'],\n [8348,\n  'ඕයි අලුත් Twitter අප්ඩේට් එක පට්ට අවුල් නේ  ෆලෝ කරන්නෙ නැති උන්ගේ ටුවීට් විතරයි TL එක පුරාවට තූ',\n  'HOF'],\n [8349,\n  '@USER  @USER මම කිසිදවසක රංඩු කරන්න කෙනෙක් නෙමෙයි.. හැබැයි නයනතාරා මුන් ඕනාවට කථාකරන්න ගත්තොත් ඇත්ත චාරුක මුන්ට හොද වැඩක් කරන්නෝනේ....නිරෝධායනයත් එක්ක මුන්ට හොදටම පිස්සු හැදිලද කොහෙද. මේවගේ කාලකණ්ණි නම මුලු සමාජෙටම සාපයක්.',\n  'HOF'],\n [8350,\n  '@USER වාරාය නාවුක කියන වචන වල තේරුම නොදන්න කාලකණ්ණි තුප්පහි සක්කිලි හිපාටුවෙක් ඇමති වුණාම ඒකාගේ යටතේ වැඩ වෙන්නෙ මෙහෙම තමයි ...',\n  'HOF'],\n [8351,\n  'පොරක් කඩේ ගාව නබී තුමාට හිටපු ගෑණු ලෙක්චර් එකක් දෙන්න ගත්තා.  පස්සේ එතන හිටපු අයියා කෙනෙක් ඇවිත් කීවා  \" උඹ නබී තුමාගේ ගෑණු හොයන්න කලින් උඹේ ගෑණි ගාර්මන්ට් එකේ සුපර්වයිසර්ට අල්ලන එක නවත්තගන්න බලපන් කියලා\"   අරූ නොක්අවුට්',\n  'HOF'],\n [8352,\n  'මිල මුදල්, රූප සම්පත්තියත් එක්ක ඊට නොඅඩු දක්ශතාවයක් කෙනෙක්ට පිහිටලා තිබ්බොත් එයාව දිරවන්නෙ නැති කුහක ගතියක් ලංකාවෙ මිනිස්සුන්ට තියෙනවා..  පොඩි කෙල්ලෙක්ට මෙහෙම සක්කිලි කතා කියන උන්ව උලතියන්න ඕනේ..  Sri Lankan Memes @USER  · 8 Jun 2020 Too all ma tweet fam,  just like you pointed out black face incident I want y’all to help me with something.  This is hate speechcyber bullying. Take a momentreport these profilesgroups to report@cert.gov.lk. She’s a talented young girl',\n  'HOF'],\n [8353,\n  '@USER ඈ ගොන්පාලො තෝ දන්නවාද මම කවුද කියලා .. ටුවීට් දාන පෝන් එක බලන් පාදඩ කතා නොකියා හිටු !',\n  'HOF'],\n [8354,\n  'කව්\\u200dරුත් නෙවෙයි අර යුරේනි කියන පට්ට බඩුව.... කොරියවට ඇවිත් හිටපු විදිහ... ඔයිට හොදයි සුවෝන් වත්තේ මාන්... URL',\n  'HOF'],\n [8355,\n  'ප්\\u200dරධාන ටික පුරුශලිංගය=පයිය,පක ස්ත්\\u200dරීලිංගය=හුත්ත,කිම්බ නපුංසකයා=පොන්නයා වෘෂනබිජ=ඇටදෙක ශුක්\\u200dරාණු=කැරි සංසර්ගය - හුකනවා මේවා කුනුහරප වෙන්නෙ කොහෙමද? කොළඹ සිංහල මහාචාර්ය කෙනෙක්ම කියලා තියනවා ලංකාවේ තියෙන එකම කුනුහරපය \"ගණිකාව කියන එක විතරයි කියලා.අනිත් එවා මිනිස්සු හදාගත්ත පහත් දේවල්',\n  'HOF'],\n [8356,\n  'හුත්ත අර වඳුරට දැලි පිහිය අහු උනා වගේ නේ යකෝ හුකන්නලට Calls ගන්න Feature එක දීලා. මල වදේ Calls එනවා... URL',\n  'HOF'],\n [8357,\n  'වරෙන්කො එකෙක් පිට්ටනි හදන්ඩ ඕනෙ කියාගෙන. පුකේ අරින්නෙ පුකේ.   යකෝ look at that uv index. Almost at extreme',\n  'HOF'],\n [8358,\n  'මා කොතරං අසරණද දැනුනේ ඔබ මා හැරගිය විටයි . . . . ඔව් ඕයි එක වල් බල්ලෙක්  බැල්ලියක් මැසේජ් එකක් දාන්නෑනෙ  ෆෝන් එකට :-/',\n  'HOF'],\n [8359,\n  'මොනවද අයිසෙ හැමදාම වැඩක් කරගන්න ගියාම තමුසෙලගෙ  customer service එකෙන් කියන්නෙ එකක් arcade එකට ගියාම එකක්. අපිට වැඩ නැතුව නෙවේ බොරුවට පෝලිම් වල රස්තියාදු වෙන්න  @USER',\n  'HOF'],\n [8360,\n  'වගේ පුකේ ඉඳන් පිස්සු ඇමතිල විතරමනේ මල්ලි යහපාලු ආණ්ඩුවේ ඉන්නේ   @USER Sri AV TV Network @USER  · 2 Nov 2016 සිගරට් බිම ශරිරයර අහිතකර බදු ගැහුවා... බීඩි බිපල්ලා ශරිරයර අහිතකර නැ... දොස්තර රාජිත දතාගේ... URL',\n  'HOF'],\n [8361,\n  'පලවෙනි වීඩියො එකෙ අන්තිම හරි බස්කාරයෙක් පුක දෙනවා උගෙ ඇටේ තලලත් මදිනේ හරකා Sri Lanka Tweet @USER  · 29 Mar 2021 Elephants crossing a road. An elephant  narrowly escaping a VIP vehicle collision while crossing the road in Gatadiula, Ambanpola. #LKA #SriLanka #Elephants',\n  'HOF'],\n [8362,\n  '@USER  @USER    @USER  තව්සෙ බඩුවක් වගේ හැම ෆැමිලි එකකම ඉන්නවා මමත් වේස බඩුවක් වගේ හැම එකකම ඉන්නවා',\n  'HOF'],\n [8363,\n  'දරුවන්ගේ ආත්ම ශක්තිය දියුණු වෙනවලු.   ගොන් අලියා වගේ හරක් වැඩ කරන්න ශක්තිය දහිරිය ලැබේවා...!  #LKA',\n  'HOF'],\n [8364,\n  '@USER පව්....මේ  ළමුන්ගේ දෙමව්පියන්  කෝ. කොහොමද ළමුන් මෙහෙම මගට වැටුණේ...? දේවල් සොයා බලන්න ඔනේ.මොකද අද සමහර කාලකණ්ණි දෙමව්පියන් ඉන්නවා දරුවන් හිගමනට යොමු කරවනවා. දරුවන්ට දෙමව්පියන් අහිමි අරක්ෂාවක් නැහැ මෙහෙම මග. ළමා ආරක්ෂක අංශ දැනුත් කළ යුතුයි ගැන....',\n  'HOF'],\n [8365,\n  'උන් සල්ලි වලට කොටින්ටයි සුද්දන්ටයි පස්ස පැත්ත විකුනන හින්ද  උන්ට හිතා ගන්ඩ බැරුව මිනිහෙක් කොහොමද රට හිතල මෙච්චර කැප කිරීමක් කරන්නෙ කියල..!',\n  'HOF'],\n [8366,\n  'කුසල් මෙන්ඩිස් retire උන දවසට ආයේ ලංකාවෙ උන් ගහන match බලනවා.  @USER  thanks අපිට ක්\\u200dරිකට් එපා කරවනවට.  @USER  තෝ තොට ඇතිවෙනකම් ක්\\u200dරිකට් ගහපන් මල්ලි. #ENGvSL',\n  'HOF'],\n [8367,\n  'Me to Manussaya:  ජෝතිපාලගෙන් boobjob එකක් ඉල්ලන්නේ මෙහෙමයි  අප දෙන්න පියුමිගේ හංසයින් විලසින් ඉන්නට සිතන්නේ  ඔබ පමණයි අප තන් සුවතැන් රසතැන් දන්නේ  after effects අප නැත හඳුනන්නේ  ලෝකයාගේ කියමනට පිටුපා යන්නේ  jiggly wiggly jiggly jiggalee සුභ බූබ් ජොබ් එකක් වේවා',\n  'HOF'],\n [8368,\n  'අලි රංචුවක්ම මරන්න තරම් මිනිස්සු කොහොමද හිත හදාගන්නෙ?  දේ කරපු වල් වේස බැල්ලියොන්ගෙ දූලා පුතාලා ඔක්කෝම නැති වෙලාම පල!',\n  'HOF'],\n [8369,\n  '@USER සිංහල කඩේක මීට කොලිටියට අඩුවට තියෙනවා මං එතනින් ගන්නවා.. මුදලාලියා ඌට ඕනි ගාන්ට විකුනන්නයි.. අපි නිකං ජාති ආදරේට ගිහින් උන්ට පුක දෙන්නයි.. මේක අලි හුත්තක් නෙ..',\n  'HOF'],\n [8370,\n  'ඥාති දියණියක සිය උපන්දින සාදයට කොට ඇදුමක් ඇද පාටි දැම්මා යි වෙනත් නෑයෙකු කීවාය. බීමබට කකුල් වලට කොටෑදුම නොගැලපෙ . ඒත් අනික් නෑයෝ කොට ඇදුමින් කිම්බ ලොවට පෙනුනාසේ එයට උරණව ඇත.',\n  'HOF'],\n [8371,\n  'වේසියෙක් \"වේසියෙක්\" වෙන්නෙ කොහෙ හරි ඉන්න වනචර වලත්ත වේසෙක් නිසා.  වේසියන්ට \"වේසි\" කියනවා වේසොන්ට \"වේසා\" කියලත් කියපන්!  ඒත් එහෙම කියන්නෙ නේද?  ඒ?  අනුන්ගෙ වේසකම් නෙමේ තමන්ගෙ වේසකම් හොයාගනිල්ලා!  ගතින් කළත් නොකළත් හිතින් කරපු වේසකම් තේරුම් ගනිල්ලා!  #Life #SriLanka #LKA',\n  'HOF'],\n [8372,\n  'බලන් ගියාම වැඩිහරියක්ම මේකෙ උන්ට අමාරු වෙලා තියෙන්නේ චිත්ත නෙවේ, මට හම්බෙච්ච සපත්තු දෙකයි mage followers count එක මෙච්චර වැඩිවෙච්ච එක ගැනයි.  සිපයියෙක් නොවී තැනකට වරෙන්, එතකොට අනුන්ගේ followers count එක හිත හිත කුහකයෝ වගේ TL එක පුරා හොටු පෙර පෙරා ඉන්න ඕන නැහැ.',\n  'HOF'],\n [8373,\n  '@USER  @USER    අනිත් පක්ශවල අය සෙනග ඇද්දෙ විල්බැරො එකෙන්ද ගොන් ලබ්බො.විවේචනය කරනවනම් සේරම කරපන්.කඩේ පලයන් අවුලක් හැබැයි ලොවින්න එපා',\n  'HOF'],\n [8374,\n  'බෞද්ධ රටක් වු බංග්ලාදේශයට අත්වී ඉරණම...  වැඩිකල් නොගොස් ලංකාවටත් ඉරණම අත්වේ...  කාලකණ්ණි දේශපාලනයට කූලල් කාගන්නේ නැතුව එකා එක්ව කටයුතු කිරිමට පුරුදු වෙමු...',\n  'HOF'],\n [8375,\n  'අපි රතු අලි පැටියාගේ හුජ්ජ කොල්ලෙක් බිමල් අමුතුවෙන් ඔබට යමක් කියාදිය යුතු නැත…..මේ පුවතින් පසුව ඔබම තිරණය... URL',\n  'HOF'],\n [8376,\n  '- කොහෙටද? + ටවුන් හෝල්  - තර්ස්ටන් ? + නෑ. ටවුන් හෝල්  - තර්ස්ටන් ද? + ටවුන් හෝල්  - කොහෙටද නංගි යන්නෙ ?  මගෙ හිත- ඈ ගොං බූරු කොන්දොස්තරයො. තොගෙ කන් ඇහෙන්නේ නැද්ද? ටවුන් හෝල් කියන්නේ ටවුන් හෝල් මූකලන් බස්සො....  මම- ටවුන් හෝල් එකට අයියා.  -හරි නංගි. ඉතුරු.',\n  'HOF'],\n [8377,\n  'හුක්.....යකෝ  Asitha Sahanpriya @USER  · 31 Dec 2020 ඔයා නැති උනත් ඔයාගෙන් බබෙක් හරි මට දීලා යන්න  #අහලාතියනවාද',\n  'HOF'],\n [8378,\n  '@USER ඕක මොකද්ද සහෝ ... මම හැම දවසෙම ඔය මගුල පරක්කුයි... සෙන ගොඩේ තෙරපිලා මම නගින්නෙම කැන්ටින් එකට ! ලබ්බ  #ලකේපංකාව',\n  'HOF'],\n [8379,\n  'ළමයා එයාගෙ ජීවිතේ විනිවිදව බොරු ලැජ්ජා ප්\\u200dරෝඩාවක් නැතිව එලිපිටිංම ගෙවන එකෙන් උඹලා වගේ නෙට් එකේ දන්න නොදන්න ගෑණුන්ට අපහස කර කර බුදු දහම රකින්න එන ගොංවස්සො හානිය මොකද්ද පකෝ Ryan Cry @USER  · 29 Aug 2018 සිගරට් ගහන අරක්කු බොන කුඩු ගංජා ගහන වටේ ලෝක බඩු මේකෙ ඇවිත් පත්තිනි අම්මලා වෙලා ලංකාවෙ සංස්කෘතියට,බුදු දහමට ගරහනවා ස්වාමීන් වහන්සේලට අපහාස කරනවා බුදු දහමටවත් සංස්කෘතියටවත් බැනලා වැඩක් බන් මුලින් උබලා හැදිලා ඉදපන්  බොරුවට බුදු දහම සංස්කෘතිය විවේචනය කරන්නෙ නැතුව  Show this thread',\n  'HOF'],\n [8380,\n  'ඉස්ලාම් අන්තවාදය කොයිතරම් ව්\\u200dයාප්ත වෙලාද...? ඉන්නේ ලංකා මුස්ලිම් කොන්ග්\\u200dරසයේ ආරම්භක නායක M.H.M. Ashraf ඔහුගේ බිරිඳ... මේවා උඹලා දකින්න ඕනේ.. ඉන්නේ ලාංකිය මුස්ලිම් යුවලක්.. උඹලා මූණ වහගෙන හැමිනෙනවනම් බනින්න බය තොපි හැමෝම අන්තවාදියෝ.. වගේ ඉඳපල්ලා... #lka The following media includes potentially sensitive content. Change settings View',\n  'HOF'],\n [8381,\n  'වගේ වේස බල්ලො එල්ලන්න ඕන ################   කන්න දුන්නු අත හපා කෑ සුනඛයෙක්.  මූ නමින් අජිත් සුසන්ත, ඉන්නෙ... URL',\n  'HOF'],\n [8382,\n  'සති 3ක් යනකම් කොන්ද කෙලින් තබාගෙන තීරණ නොගත් පාලකයෝද   හම්බවුනු ආයුධ සාධාරණීකරනය කරමින් බබා පාට් දැමූ නායකයෝද   අලු යට තිබූ ගිනි පුපුරු ගිනි ඇවිලෙන බලා සිටියාට සාප විය යුතුය!   අහෝ පෙරදිග මුතු ඇටය අමනයන් රැල විනාශ කලහ!',\n  'HOF'],\n [8383,\n  'BPO එකක වැඩ කරන චූ කොල්ලෙක් ඉන්නවා බං හෙණ ජාතකේ දාගෙන. මිනිහෙක් වෙන්න සිංගප්පූරුවටත් පලයන් ඕකේ නොහිට අපේ බැච් වල උන් කලා වගේ',\n  'HOF'],\n [8384,\n  '@USER ,  @USER  @USER බුදු අම්මෝ! #බැල්ලි වාහනයක් හප්පලා නේද? #බැල්ලි වාහනේ හප්පනකම්, මේවා ලංකාවේ කවදාවත් වෙච්ච දේවල් නෙවෙයී! මේවා මිනියක් මරනවා වාගේ හදිස්සි අනතුරු නෙවෙයී. #බැල්ලියෝ තමයී ඔහොම දේ කරන්නේ. #බැල්ලිගේ මදන කුලප්පුව තමයී, නැත්තම් අපේ රටේ පාරවල් වල කවදාවත් වාහන හැප්පෙනවද?',\n  'HOF'],\n [8385,\n  'විමල් වීරවංශ කලුකොඩි දැමුවා වගේ පව් යකෝ විමලයා   පුක හපාන මැරියන්  ඕකුන් නැතිවෙන්න මහින්ද රාජපක්ෂ අදටත්... URL',\n  'HOF'],\n [8386,\n  'රෙද්ද  බොලගේ ලබ්බේ update එනකන් බලන් ඉඳලයි මහන්සි  Helakuru @USER  · 9 Oct 2018 Apple කට්ටියට type කරලා මහන්සිත් නේද?  URL  #Helakuru #Srilanka #iOS12',\n  'HOF'],\n [8387,\n  '\"ඉදිරියේදීත් මෙවැනි නීති විරෝධී ක්\\u200dරියා රට හමුවේ අනාවරණය කිරීමට අද දෙරණ හුකුස්සා අවධානයෙන්..”  මේක කරන එකාගේ ගොන් ඇක්සන්ට් එක ඇහෙද්දී ඇඟේ හුකුස්සා නටන්නෙ මගේ විතරද?',\n  'HOF'],\n [8388,\n  'ටයිටැනික් නැව ගිලී ගියේ...,  විද්\\u200dයාත්මක හේතුව - කපිතාන්වරයාගේ නොසැලකිල්ල නැව අයිස් කන්දක ගැටි ජලය කාන්දු වීම නිසා.  ලංකාවේ තියරිය - අරුන් දෙන්නා කසාද බදින්න කලින් මගුල් නැටුවනේ. පව තමා ඔය ගෙව්ව. සාපේ තමා ඉතින්.වේසා හැත්ත.දෙයියෝ බුදුන් ඕවා බලන් ඉන්නේ.  සුභ දවසක්...!',\n  'HOF'],\n [8389,\n  'හුජ්ජ කරලා බිජ්ජ හොලවද්දී  චූ  කටට විසික් වෙච්ච උන් ඉන්නවද ? :v :v  එච්චරම අව්ලක් ලුණු සසයි  :3 — feeling ෆකින්',\n  'HOF'],\n [8390,\n  '@USER  @USER උගෙ මොලෙ \\u2063පුකේ හරි ඇති. තොගෙ කොහෙද තියෙන්නෙ. අර නගින්නෙ නැති පයියෙ ඇට දෙකේද??  අඟලක්වත් නේද පයිය..දුක තමා රංජනී..',\n  'HOF'],\n [8391,\n  'මූ අනිත් උන්ට ක්\\u200dරියාශීලි වෙන්න කියනවා. ඉගෙනීමක් නැතිව, ගෙදරට වෙලා තාත්තයි අම්\\u200d්\\u200dමයි හොරකම්\\u200d කරපුවා කකා බිබී, හොරට උපාධියකුත් අරගෙන, තාත්තා කරපු දෙය ඉදිරියට කරගෙන යනවා.  @USER  වැහි නැති හෙණ ගහනවා තොට. හොර කාළකන්ණියා. Namal Rajapaksa Media @USER  · 31 Jan The Hon. Minister @USER stated that the responsibility of achieving local goals should be borne by the elder generationthe responsibility of overcoming global challenges should be borne by the children as well as the youth. (@USER - 31.01.2022)',\n  'HOF'],\n [8392,\n  'කඩේට ගිහින් මුදලාලිගෙන් පොල්තෙල් තියෙනවද අහුවාම, ළඟ හිටිය #කඩේ_යන_ඩයල් එකක් මට බැනගෙන බැනගෙන ගියා \" කැම්රි හුම්කන්නා තෝ අපෙ ආණ්ඩුවට මඩ ගහන සක්කිලි බල්ලා, පාඨලි\\u2063ගේ වහල්ලු කිය කිය පාර පුරා ගියා \"   මුදලාලිටයි මටයි තවම හිතාගන්න බැ මොකද වුනේ කියලා   #වහල්සුජිත්',\n  'HOF'],\n [8393,\n  '+මිස් මිස්  -ඉන්නව පොඩ්ඩක් පාඩමට අදාල දෙයක්ද +නැතුව මිස් වක්\\u200dරව අදාල දෙයක් -ආ කියනව මොකද +මිස් ඉස්සරහ ටික ඩයි කරල පැත්තෙ ටික ඩයි කරන්න අමතක වුනා නේ - පලයං තොට පංතියෙ ඉන්න බැරිනං මුං වගේ එවුන් තමයි අනිත් ළමයෙක්ටවත් ඉගෙන ගන්න නැත්තෙ තමුසෙ කී වෙනියද මේසැරේ #NotInYourSchoolClass',\n  'HOF'],\n [8394,\n  '@USER රට ඉදන් අරුන් හෙන ගේමක් ගහල රට unstable කරොත් එදාට ඔයා කරන සක්කිලි වැඩේට පව් පල දෙන්නේ උඩ ඉදන් කුණු වෙලා...',\n  'HOF'],\n [8395,\n  'අනුරගෙ සට්ටැඹියන්ගෙ ඉත්තෑවො දුඑඅන එක අහන්නදෙයක්ද  බැනපල්ල ට්ගව මඩගහපල්ල  උඹලගෙ සක්කිලි පර ගති ලෝකෙටම පෙන්නපල්ල.   %ට ඇදල දැම්මෙත් මේකෙ ඇමනෙන සිප්පිකටු',\n  'HOF'],\n [8396,\n  '”ස්කර්ට් එක හෙමීට උස්සන්න කෙල්ලෙ” පියුමි කාමුක හිනාවක් දාලා හෙමිහිට ස්කර්ට් එක උඩට ඉස්සුව. ජංගිය පේන්න ගත්ත ගමන් මගේ පයිය නළියන්න ගත්තා. පියුමිගෙ කිම්බ පොඩි බනිස් ගෙඩියක් වගේ >>URL',\n  'HOF'],\n [8397,\n  'අවජාතක වේස බල්ලෝ තොපිලා දේ කලේ උදේ ආහය ගැනිමට අපු අපේ ස්වාමින්වහන්සේලට නේද බොලවු. මතක තියා ගනියවු දේ කරපු... URL',\n  'HOF'],\n [8398,\n  'අපි කිරි බීල තමයි හැදුනෙ වැඩුනෙ. උඹ වගේ ගොන් කිරි බීල නෙමෙයි.  අපි කිරි බොන්නං උඹ කරුණාවතී එක්ක හුකපං URL',\n  'HOF'],\n [8399,\n  '@USER  @USER දියලුම ඇල්ල, බඹරකන්ද ඇල්ල, බේකර්ස් ඇල්ල,  රත්නැල්ල, දූවිලි ඇල්ල, ගලපිටියාය ඇල්ල . . . ඔයටික උඩ ඉඳන් පුක පෙන්නල තියේ. මාවත් හිරේ දායිද ඒයි?',\n  'HOF'],\n [8400,\n  'හිත් පිත් නැති කාලකන්නි ටිකක් මුලු ටුවිටරයම එපා විය   මනුස්සකමක් නැති කාලකන්නි ,සක්කිලි , නොදකින් මෙහෙව් උන්',\n  'HOF'],\n [8401,\n  'බඩු ගැසීමට යොදා ගන්නා කාන්තාව බඩුව වෙයී. ගෙදර දොරේ වැඩ කරවා ගැනීමට, ගෘහ වගාවට, කහ වැවීමට, තේ හැදීමට, රෙදි සේදීමට, බත් ඉවීමට, අතුපතු ගෑමට යොදා ගන්නා කාන්තාව අම්මා වෙයී.',\n  'HOF'],\n [8402,\n  '@USER So , is that Gotha responsible for it , crazy , හරියට ගෑස් ලිපක් අරගෙන පාවිච්චි කරපන් බූරුවො එතකොට ඕක පුපුරක් නැතුව හැමදේටම රජය තමයි වගකියන්න ඕනේ අනේද කියන්නේ මුන් පුත්තලම් බූරුවො ජාතියක් ලංකාවේ ඉන්නේ',\n  'HOF'],\n [8403,\n  '@USER  @USER ඒක දීල තියෙනවා ඇඩෙන්නම අයියේ......  මූ දෙහිවල පැත්තේ ආවොත් පයිය කපල සොසේජස් හදලා ඌරන්ට කන්න දානවා',\n  'HOF'],\n [8404,\n  'වේස බඩුව වගේ නීතිය සාමය ඇමතිකම අතින් අත මාරු කරකර ඉඳලා විතරක් මදි. නීතිය සාමය රකින්නත් වෙයි.  අම්පාර, නුවර ගිනිගත්තා. සුමානෙකට හමාරකට සැරයක් කොළඹ වෙඩි තියනවා. මැති ඇමතිලා නිකං අපි රටේ නෙවෙයි වගේ සන්තෝසෙන් කාලේ ගෙවනවා. ඊයා #lka #StateOfEmergency',\n  'HOF'],\n [8405,\n  '@USER එව්න්ට විසේ වෙලා කරගන්නම දෙයක් නැතුව සමාජෙ කරුමෙට හැදිච්ච උන් පූරුවෙ පිනකට කැම්පස් ආහම ඔය වගෙ තුප්පැහි සක්කිලි වැඩ කරනවා මිත්\\u200dරයා... ඕකුන් හරි ඉරිසියයි..',\n  'HOF'],\n [8406,\n  'බැල්ලියෝ බිරුවට කදු පාත් වෙන්නෙ බන්. බුරන බල්ලො සපා කන්නෙත් නෑ. පස්ස හෝදන්න වතුර නැති උන් ටොයිලට් නෙමේ මේකත් ගද ගස්සනෝ #OsariAkka',\n  'HOF'],\n [8407,\n  '@USER තමුසෙ තිරිසනෙක් ඕයි. මම පාර කපාගෙනම ආවෙ මූට මුගෙ ට්ටිට් එකෙම්ම දමල අරින්න. තමුසෙ මට චාන්ස් නැති කලා',\n  'HOF'],\n [8408,\n  '@USER දියවන්නාවෙ කාලකණ්ණි ටික මරල දාන්නම ඕන , පොන්න රනිල, හොර මහින්ද ඕකුන්ගෙ හෙන්චයියන් ඔක්කොම මරල දාල උන්ගෙ ගෑනුටික ගණිකා සේවයේ දාන්න ඕන',\n  'HOF'],\n [8409,\n  '@USER  @USER    ස්වේච්චාවෙන් තම කාලේ කැපකරලා කාට හෝ හොදක් කරනවා දැකීමත් සමහර සක්කිලි කුහක හිත එවුන්ට විදින්න බැහැ ...මෝඩ රැලක් වගේ කඩා පනිනවා ගොං කොමෙන්ට් දාන්න',\n  'HOF'],\n [8410,\n  'ඊයා ... නොදකින් මොනවද අයිසේ ගේන පුබ්බ තර්ක ?? නොදකින්    මූත් අර විමල් විරවංශ කියන මැටි හරකාගේ එකෙක්නේ.. වතාවක් කිව්වේ යාලුවෙක් නිකන් රෙදි කඩයක් දාලා දුන්නා කියලා Ranjan Ramanayake @USER  · 24 Oct 2019 Yet another example of how SLPP MPs spreading racism in the country by dividing our communities with fake news & in this instance a complete lie. @USER',\n  'HOF'],\n [8411,\n  'සරළයි, අද බෑ හෙටම යන්නම් කියලා පොඩ්ඩක් වැඩේ අදිනවා. ඊළඟ දවසේ ගිහින් කඩේ වටේ කැරකිලා ඇවිත් කඩේ මනුස්සයටයි, ආණ්ඩුවටයි, ආණ්ඩුකරන එවුන්ගේ හත්මුතු පරම්පරාවල් වලටයි බනිනවා. \"යකෝ බඩු ගණන් යනවා කියලා මෙහෙම ගණන් යනවද, මඟුල ඊයේ 500ට තිබ්බ මාළු ජෝඩුව අද 8000ලු. හෙන ගහන්නෙපැයි මුන්ට\" කියලා. Januka_ R @USER  · 9 Nov 2021 මෙව්ව සිරා සිද්දි හැබැයි',\n  'HOF'],\n [8412,\n  'කොරෝනා රෝගීන් හඳුනාගෙන ඔවුන්ගේ ආශ්\\u200dරිතයන් හොයාගෙන ඔක්කොම නිරෝධායනයට යොමු කරන්න පුලුවන් \"ශ්\\u200dරී ලංකා පොලීසියට\" වල් ඌරෙක් වගේ සයිස් එකට ඉන්න රිෂාඩ් බදුර්දීන් හොයාගන්න බෑ කියන්නේ ?  නොදකින් ! විළි ලැජ්ජයි නේ පොලීසිය ? #lka',\n  'HOF'],\n [8413,\n  '@USER  @USER    මුගේ කටට රීල චුවලින් පරෂ් කරන්න හිතෙනවා පකයෝ තෝ හිතන් ඉන්නේ අම්මට බැන්නම ලොකු පොරක් කියලද',\n  'HOF'],\n [8414,\n  'මොන ලබ්බක්ද යකෝ ?  එක පාරක් කියනවා ළමයගෙ අම්මා තාත්තා ආවෙ නෑලු අවසානෙට  ඊට පස්සෙ ළමයගෙ අම්මා තාත්තා නිරෝධායනය කරලලු ඒකලු එන්න බැරි  අවසන් කටයතු කරේ විරුද්ධත්වයක් තියෙද්දිලු.  එක නීතියක් හරියට ක්\\u200dරියාත්මක කර ගන්න බැරි නපුංසක කම නෙමේද ?  එක එකාගෙ චන්ද වලට හිගනවා පර හැත්ත Nimak Nomathi - Lanka @USER  · 13 Dec 2020 බිළිදා ෂෙයික් විය. @USER  #America කළු මිනිහෙක් සුදු පොලිස් කාරයෙකු අතින් ( සිතා මතා හෝ නොසිතා ) මිය ගියේය. ඉන් පසු උයේ @USER විරුද්ධවාදී @USER  බර්ඩන් #socialmedia බලකාය @USER විරෝධී රැල්ලක් ඇමරිකාව පුරා #BlackLivesMatter සාර්ථකව Show this thread',\n  'HOF'],\n [8415,\n  'නන්දේ.., තමුසේ ජාතික ආරක්ෂාව හූනු බිජ්ජක්වත් දනී නයි මුගටි රටවල් දෙකක් තමන්ගේ වත්තේ රෙද්ද අස්සේ දා ගනීද? -වරාය වෘත්තීය සමිතියකින් නන්දසේනට ලියුමක් lankaenews.com LEN - www.lankaenews.com | If Gotabhaya knew even a what about National security, would two sniper...',\n  'HOF'],\n [8416,\n  'RT Alien86_: සල්ලාලයො තුන්දෙනයි , පට්ට බඩුවයි, පවු අසාහය කලාකාරයෝ දෙන්නෙකුත් අහුවුනා.    #100my3days #SriLanka #Pr… URL',\n  'HOF'],\n [8417,\n  '\"රෙන්න තියෙන පුක දෙන්න එපා\"  Thish Dissanayake @USER  · 6 Jan 2017 කෙල්ලොන්ට පේන්ඩ පකේ ලයින් දාන්නෙ නැතුව වැඩක් බලගනින් බං. රෙන්ඩ තියන පුක සැපයුම් මර්ගයක් කරගනින් wholesale දාගන්නෙ නැතුව. චීත්ත පකය',\n  'HOF'],\n [8418,\n  'එහා පැත්තෙ ඉන්න සුද්දගෙ පිටේ හිම වැටිලාවගේ පොඩ්ඩක් බැලුවා. ඉස් හොරි ගොඩාක්. නොදකින් නාන්නෙත් නැති පස්ස හෝදන්නෙත් නැති පර සුද්දෝ.',\n  'HOF'],\n [8419,\n  'චීන්නු එකේක ලබ්බවල් කනෝ බලන්නෝ ඒක තමා මුන්ට මෙහෙම ලෙඩ හැදෙන්නෙ කියල මල ජරාව කන එව්වා දාන්න එපා යකොව්... තාම උදේට කාලත් නෑ..හෙන අප්පිරියයි',\n  'HOF'],\n [8420,\n  '@USER තූ නොදකිං රාජපක්ෂ බෙට්ටෙ කැටයම් කපන්නවා. ළමයා ඉස්කෝලේ දාන්න කොන්ත්\\u200dරාත් ගන්න නඩු බෙරගන්න පොලිසියෙන් බේරෙන්න රස්සාව ගන්න කුඩු ගංජා බෙරන්න ඇදුරුං කං කියවන්න වගෙ පටු අරමුණු වාසි වලට කතිරෙ ගහන උන් මොනවද බං දියුණුව කියන්නේ උං දන්නෙ සක්කිලි හොර වැඩ පාප කර්ම වලට ශාන්තිකර්ම පුතෙ',\n  'HOF'],\n [8421,\n  'මනුස්ස හෑගීම් තියෙන උන් ගැහැනියගේ වේදනාව නොතේරීම අපේ මිනිස්සුන්ගේ තියෙන තිරිසන් කම ප්\\u200dරදර්ශනය කිරීම.ඒ ගෑනිටම එකෙක්ගෙන් ලමයෙක් ලැබුනොත් ඒකි වේසි වෙලා බල්ලො රැල වගේ පාඩුවෙ ඉන්න දෙන්නෑ.වැරදි වැඩ කරන එකාමයි සමාජය ඉදිරියේ හරි කියල පෙන්නන් මේමිනිස්සු මේවට ඇදල දාන්නේ',\n  'HOF'],\n [8422,\n  '@USER මොකද්ද ඕයි කියවන්නේ  උබලා කතාකරන්නවත් දන්නේ මනුස්සයෙක්ට... ඊට පස්සෙ අපි මොකක් බරි කිව්වම අර බඩුව කෝට් කරලා ඒක  මොන ආතල්ද ඕයි මේවා... ඔය සිප්පි කෑල්ලත් අරන් පලයන්',\n  'HOF'],\n [8423,\n  'මේවගේ ගොන්නු ඇමති ලා වුණාම රටක් හදන්නේ කොහොමද .. මී  හරකා කීවොත් සත්තුන්ට ත් ලැජ්ජායි Palitha @USER  · 14 Oct 2021 බස් දෙකකින් මිලියන 400 ආදායමක් හොයන රත්තරං ඇමති! URL',\n  'HOF'],\n [8424,\n  '@USER @USER  Oh really? එළ එළ! මං උන්ගෙ talent එකනම් අගයකරනවා. වුණාට උන්ගෙ වැඩ වලට  එච්චර කැමති නෑ. #හැත්ත  අපේ රටට විරුද්ධ වුණා',\n  'HOF'],\n [8425,\n  'එජාපයේ නාකි නායක, බල පෙරේතයා ජේආර්ගේ බෑනා රනිල් ලොල්ලා ඉල්ලා අස්වෙයි.    ජේආර් මාමාගේ ව්\\u200dයවස්ථාව සුලුජාතීන්ගේ කර මතින් බලයට ඒමට හැකි වුවත් ගෝථාභයගේ ව්\\u200dයවස්ථාව එය අසුරාදමන ඉල්ලා අස්වීමට තීරණය කරයි.   අපිට දුක අකිල සාගරද ඉල්ලා අස්වූ බවක් නොපෙනෙන නිසයි.',\n  'HOF'],\n [8426,\n  'තුප්පහි වැඩ කරලා රාජ්\\u200dය විශ්ව විද්\\u200dයාල එපා කරවලා, ඊට පස්සෙ පලයන් පෙලපාලි පුද්ගලික විශ්ව විද්\\u200dයාල එපා කියලා. මූසල හැත්ත. #Ragging',\n  'HOF'],\n [8427,\n  '@USER ,  @USER  @USER වේසිගේපුතේ මහින්ද නොහිටියනම් ඔය කියන කරුණයි ප්\\u200dරභාකරනුයි දෙන්නම එකතුවෙලා උතුර නැගෙනහිර වෙනම පාලනයක් අරගෙන අපි අද දකුණට වෙලා කොයිවෙලේ බෝම්බයක් පත්තුවෙයිද කියලා බයේ ඉදීවි.තෝ කොහේ හරි ඇඳක් යට ගුලිවෙලා ඉදීවී.පකිස්තානෙයි ඉන්දියාවයි කාෂ්මීරෙ මරාගන්නවා වගේ අපේ හමුදාවේ උන් හැමදාම මැරිල-',\n  'HOF'],\n [8428,\n  'වගේ පොන්නයෝ ඉන්නවා යකෝ හැමතැනම අහුවෙන්න එපා තුදු කැකිරාවේ කොල්ලෙක්  පෙත්සම ගැහුව් එකා හම්බ උනොත් ඌට් නෙලන්නේ තාප්පේ පින්තූරයක් වෙන්න',\n  'HOF'],\n [8429,\n  'යකෝ තොපි තවම යහපලානේ කියා කියා මිනිස්සු රවට්ටනවා. බෝල කාලකන්නි අතම ලැබූ බලාපිය ඇස් ඇරලා කව්ද යහපලානේ කන්නේ තොපිම නෙවේද කියල. තොපි හැමෝම එක එක එවුන්ට බනිනවා. එත් තොපිම තමා මේක කල තියෙන්නේ. කන්නෙත් තොපිම තමා.  @USER  @USER  @USER DailyMirror @USER  · 25 Jun 2018 Aloysius had given liquor dealership to some MPs: Ranjan URL',\n  'HOF'],\n [8430,\n  'පරණ කෑල්ල අද වෙනකම් හිටියනම් අදට අවුරුදු 4යි. යාලු වෙලා. වෙලාවට ඊට පහු වෙනිදම බූට් එක කෑවෙ, නැත්තම් අවුරුදු 4ක් එක කෙල්ලෙක් ? ටෞකනවා',\n  'HOF'],\n [8431,\n  'උගෙ අම්ම ගන්න එපයි වේසිගෙපුතා... යකෝ මූ වදින ගමන් කරන වැඩේනෙ වේදනාව තියෙන්නෙ Janaka @USER  · 19 Nov 2020 What a sick bastard exposing to a little child. Hope they catch this bastard. #helpfindhim Show this thread',\n  'HOF'],\n [8432,\n  'සල්ලි වලට ගන්න බෑ මනුස්සකම බොක්ක දීලා ලගට ගන්නේ අවස්ථාවාදියෝ… තනිවම නැගිටින්න පුළුවන් කම තියාන තොපි එක එකා පස්සේ යන්නේ ඇයී…? රට බෝතලේ පෙන්නලා අයියා දුන්නා උගේ රස බෝතලේ ඇතුලේ… ඔලුකන වස…වස පමණට ඉදිමුනාම හොදම... URL',\n  'HOF'],\n [8433,\n  'තොපිලට හෙන ගහනවා යකෝ හෙන ගහනවා  පෙරේරා @USER  · 12 Dec 2019 යකෝ මෙහෙමත් ඩුප් ගැහිල්ලක්   විනාඩි 4න්   @USER @USER @USER   #එකලගට්වීට්',\n  'HOF'],\n [8434,\n  '@USER ඒක තමයි කියන්නෙ. ලබ්බ මොකද්ද කියල දන්නැත් දන්නෑ කියල අහන්න ඕනෙ. තප්පුලන්න එපා.. වැඩක් කරන්න බැරිනම් වහගෙන කරන උන්ට කරන්න දීපන්',\n  'HOF'],\n [8435,\n  '@USER මේකටද සූත්\\u200dර කියන්නේ. මොකද ගියපු පාසල?  ලැජ්ජයි මනුස්සයෝ, වගේ රවට්ටන්න එපා රටේ මිනිසුන්. හැමදේම වෙනස් නොවන වියදම්. අනික කෝ කොමිස් මුදල? හෙන 7ට 14ක්ම වදින්න ඕන වගේ බොරු කාරයොන්ට. කාලකණ්ණි නූගත්තු.',\n  'HOF'],\n [8436,\n  'ඇත්තටම ගමේ චන්ඩි වගේ තමා, ගමේ හන්දියේ සරම උස්සගෙන ගෙම්බර් දාන්නේ, ගමෙන් එළියට ගියාම මීක් කියන්නේ ගෙදර බල්ලා වගේ... #lka #SriLanka',\n  'HOF'],\n [8437,\n  'ලීක් කර ප්\\u200dරේමය  නිමා කරති. එසේත් නැතහොත් අල්ලාගන්නට බැරිවූ කල මං ඕකිට ගැහුවා ඒකි මෙහෙමයි ඇයව වචනයෙන් දූෂණය කරති. සැබෑ ආදරය යනු රැඳී සිටීමම පමණක් නොව එක්කො රැඳී සිටීමයි. එසේත් නැතහොත් ඔහුගේ හෝ ඇයගේ සතුට යන්නට දීමයි.  උපුටා ගැනීමකි.',\n  'HOF'],\n [8438,\n  'සද්දේ දාලා /නයි නටවලා පට්ට හොරෙක් ඇවිත් හදාපු පට්ට ආණ්ඩුව , පොලෝසිය දාගෙන ටයර් එකේ කට්ට හොයනවා ! අර නංගිගෙන් අහපල්ලා , කට්ටෙන් ෂෑප ගත්තද කියලා ????',\n  'HOF'],\n [8439,\n  'හැම බඩ්ඩම ෆෝම් කරන මල්ලිලා සමහර බඩු අදිකව ෆෝම් වෙනවා අර අයියලා මල්ලිලා වගේ හිතලා රෙද්ද උස්සන් ආවම තමා ලෙල්ලම පෑදෙන්නෙ',\n  'HOF'],\n [8440,\n  'හරි පකෝ එළ  Sri Lanka Tweet @USER  · 5 Jun 2019 \"Some people were trying to create another Black July between innocent Sinhala & Muslim communities, to prevent that i resigned \"- MP Rishad Bathiudeen URL #LKA #SriLanka #EasterSundayAttacksLK @USER',\n  'HOF'],\n [8441,\n  'පල්ලි වලින් කඩු හොයාගද්දි, කඩු එක්ක මුස්ලිම් උන් අත්අඩංගුවට ගද්දි කටයි පුකයි වහගෙන හිටපු පොන්න වේසිගෙ පුතාල එනව කඩු වලින් මාලු කපනව කියාගෙන. මේව දකිද්දි ඇඟේ මාලු නටනව ඇත්තමයි අම්මගෙ රෙද්දෙ සහජීවනේ කියල දෙකක් කියල දාන්න. තොපි මොක්කුද?',\n  'HOF'],\n [8442,\n  'දැන්වීමයි  ඔබ google හි කුරුණෑගල බස් ඩිපෝව සෙවූ එන ඩිපෝ අංකයට අමතා නොසිටීමට තරම් කාරුණික වන්න.   මගුල කරුම කෝල් එක එන්නෙ මට මං ඩිපොවෙ නෙවෙයි. වැඩක් කරගන්නත් නෑ. කුනුහරප නොකියා, බයිට් නොකර ඉන්නෙ හරිම අමාරුවෙන්.',\n  'HOF'],\n [8443,\n  '@USER @USER   උඹ පල.  උඹ අදාල නෑ. @USER  @USER  @USER  @USER  @USER',\n  'HOF'],\n [8444,\n  'ඊයේ රෑ තුන් වෙනකං ඉඳලා vessel එක clear කලා මඟුල anchorage තියලා අනික් vessel එක clear කරන්නලු. අම්මාගේ රෙද්ද යකෝ week end එකම ඉවරයි.',\n  'HOF'],\n [8445,\n  '@USER මොකෝ මුස්ලිම් උන්ට රිදිලා  ඒක පොලිටිකල් කතාවක් නෙවෙයි , වැටිලා උන්න වෙලේ උදව් කරපු හැමෝගෙම කිව්වා .. එතන මහින්දත් උන්නා එච්චරයි  මාලිංගව බයියෙක් කරලා මුන් නොදකින්',\n  'HOF'],\n [8446,\n  'මිනිස්සු බය කරල ගොං ආතල් දීල මූ කියන කතාව.  මුගේ කටට රෙන්න එපයි. Hari Gossip News @USER  · 7 Aug 2021 මුට්ටි, පැණි පස්සේ ගිය වෙලේ එන්නත් ගෙනාවා මෙහෙම වෙන්නෑ... මරණවල වගකීම ආණ්ඩුව බාරගත යුතුයි - සජිත් URL',\n  'HOF'],\n [8447,\n  '@USER එක ඕ දෙක  ඉස්සර දහම් පාසලෙ දෙබසක්  කෙල්ලෙක් : මං දැක්ක තමුසෙ පුවක් කොට කෑල්ලක් කර තියං කටින පෙරහැරේ ඔලුව නමං හික්මීය වගේ යනෝ',\n  'HOF'],\n [8448,\n  '@USER එවගේ මිනිස්සුන්ට ඉන්න දෙන්නැ නේ බං සක්කිලි, මම දැක්ක කොහේද ඩිපොවක ලංකාවේ තිබ්බ පරණ සුපිරිම ජපන් බස් ටික හදන්න අරන් එකේ කාර්මික ඉංජිනේරුවරයා,  මිනිහට මාරුවිමක් දිල , මිනිහ කාලයක් ගිහිල්ල අායි එද්දි එවයි එන්ජිමවත් නැලු.',\n  'HOF'],\n [8449,\n  'මේක අහපල්ලකෝ, පුක උඩ දාගෙන වැන්ඳට තොපේ අම්ම  ලෝකේ හොඳම අම්ම වුනාට , තොපේ අම්මට බුදු වෙන්න බෑ වඳ පකෝ. හූ ... හූ... ඇද්ද තොපිට?',\n  'HOF'],\n [8450,\n  'ගොන් ගෑණියෙක් අඩන්නෙපා පරයො! Shaluka | ශාලුක ® @USER  · 23 Jul 2017 May u see this.... URL',\n  'HOF'],\n [8451,\n  'කන්න හොඳම රටකජු තියෙද්දී ජම්බෝ පීනට් කන  රටක් මේක... බොන්න හොඳම තැඹිලි තියෙද්දී කොකා කෝල බොන  රටක් මේක... දාන්න හොඳම කුළුබඩු තියෙද්දී නෝ ස්ටොක් පවුඩර් දාන  රටක් මේක... කන්න හොඳම පලතුරු තියෙද්දී ඇපල් කන  රටක් මේක... මෝඩ ගොන් හරක් බැනුම් අහන පින්වත්  රටක් මේක...',\n  'HOF'],\n [8452,\n  '@USER @USER  හිටින්කෝ තෝ ගස් ලබ්බා! පොඩි කෙල්ලොන්ව අපහසුතාවෙට පත් කොරනවා. මම පොලීසී ගිහින් රමිතගේ නම කිව්වම ආය හොයන් ඇවිත් කූඩු කරයි!',\n  'HOF'],\n [8453,\n  '@USER @USER  @USER  යකෝ.. ප්\\u200dරසිද්ධියේ පුංචි කෙල්ලෝ දූෂණය කරලා පාටි දාද්දි.. උඹලගේ කටවල් තිබ්බේ කොහේද.? බල්ලෝ වගේ උඩුබුරන්නේ.',\n  'HOF'],\n [8454,\n  '80.  නොදකින්  IMDb ratings තිබ්බට මට මේක සෙට් .. අමු ගොබ්බයි  — watching Moana',\n  'HOF'],\n [8455,\n  'ලජ්ජා නැද්ද ගං කබරයෝ උව අයිත රෙද්ද අස්සට දාගන්න? තමුසෙලයි තමුසෙලගෙ තාත්තයි බාප්පොච්චලයි ඔක්කොම ප්\\u200dරතිපත්තියක් නය්හි අවස්ථාවාදී කාලලන්නි හොරු! #lka #lk #srilanka #LKAElections2020 Namal Rajapaksa Media @USER  · 21 Jul 2020 \"Mahinda handed over Maithri a fast developing country, Maithri returned Gotabhaya a country with a downturn in economy\" - Former MP @USER   URL Show this thread',\n  'HOF'],\n [8456,\n  '1. ඉන්දියාවේ පෙලක් දුරගමන් බස් බැද්දක් ළඟ නවත්වනවා.  . ගෑනු පිරිමි දෙපසකට ගිහින් එළිමහනෙ හුජ්ජ කරනවා.  . ගෑනු සස් ගාල පාත්කරල හෝ උස්සලා පාත්වෙනවා.විනාඩි 2න් නැගිටිනවා. . ඉන්දීය රූරල් ගෑනු අන්ඩීස් අඳින් නැති වැඩේ  එයාලට ගොඩාක් ලේසී..ලු  #විශ්වදැනුම',\n  'HOF'],\n [8457,\n  'අපේ මෝඩ මිනිස්සු තාම වාහන වල හෙඩ් ලයිට් ගහනවා...  තොපි ඔය හෙඩ් ලයිට් ගහන්නෙ බොම්බ ගෙනියන උන්ටත් වෙන්න පුලුවන් බන්....',\n  'HOF'],\n [8458,\n  'ලස්සන සමනලයෝ කොහෙන්ද ඔය පාට...  ඈ නිල මැස්සෝ තොට මොකටද ඒක?...  මම නිකං ඇහුවෙ කින්ඩියටත් එක්ක...  පලයං හැල ගෙම්බෝ මගෙ ගෙදරිං දොට්ට...',\n  'HOF'],\n [8459,\n  'මොන හු.....ට කැලෑ එලි කරනවද දන්නෙ නෑනෙ, ලොකු කෙරුම් කාරයෝ ඉන්නව අහිංසකයන්ට පුස් පාට් දාන්නනම්, නීතිය නවන්නයි දිග අරින්නයි අකුලන්නයි, කැලෑ එලි කරන එක නවත්වන්න එක ප...ක් . නොදකින් හැත්ත , මකබෑවිලා පලයව් , තිස්තුන් කෝටියක් දෙව් දේවතුන් ඉන්නවලු, සෙට් එකත් ජරාව කාල වගේ ..',\n  'HOF'],\n [8460,\n  '@USER  @USER තෝ මගෙන් අහලා tweet කරන්න ඕනේ නෑ.. දන්නැති ලබ්බ වල් tweet කරන්න කලින් හොයලා බලලා tweet කරොත් නරකද...',\n  'HOF'],\n [8461,\n  '@USER ටීනා කියන ගෑණි හවස සිරසෙ program එකක හිටිය. කට වහන් ඉන්නකම් ලස්සනයි ඉතිං.. 8 පංතියටවත් ඉස්කෝලෙ ගිහින් නැද්ද මංද',\n  'HOF'],\n [8462,\n  'මේකේ ඉන්න දෙතුන් දෙනෙක් ඉන්නවා උනට මං හිතන්නේ චීනෙක් ඇරලා.. උං පුක කැඩිලා වගේ කෑ ගහනවා චීන්නු එපා කියලා..  දන්න මගුලකුත් නොදන්න මගුලකුත් නෑ..  මෝඩ යක්කූ..',\n  'HOF'],\n [8463,\n  '@USER  @USER ලිංගේ තියෙන්නේ DP එකේද..? නිකන් පලයන් පකෝ යන්ඩ..!  කරන්න වැඩක් නැති වුනාම ඔහොම වෙනවා.. අනුකම්පා ලිස්ට් එකට දැම්ම ඇ.. බායි!',\n  'HOF'],\n [8464,\n  'ලංකාවෙ US එම්බසියට රෙද්ද රෙවිල ඇත්තෙ.   මොකද අපේ උන් ඕක නිවුස්වල දැකල හූල්ලල, FB, Twitter මොකක්හරි දාල නිකන් ඉඳී,   ඒත් මොකක් හරි කරුමෙකට ඕක US නිවුස් එකක ගියොත් හෙට එලිවෙද්දි මුන් ස්ටේට් ඩිපාර්ට්මන්ට් එකත් වටකරල තියෙයි.',\n  'HOF'],\n [8465,\n  '@USER  @USER වෝල්පේපර් කැරියා  ඩීවීඩී හුකන්නා  වීසීඩී පොන්නයා  ස්ටිකර් පකයා  වයිෆයි හුකන්නා  මොබයිල් ඩේටා කැරියා  අගුන කොල හුත්ති  ආශකී හුත්තී  අල්ලපු ගෙදර හුත්තී  ඉස්සරා ගෙදර බැල්ලී',\n  'HOF'],\n [8466,\n  '@USER @USER  මේකෙ Admin පොන්නය දැනගන්න ඕනේ කරන මෝඩ වැඩ වලින් කැත වෙන්නෙ උන්ගෙ පක්ශෙයි  @USER  යි කියලා  @USER  @USER',\n  'HOF'],\n [8467,\n  'පලයන් පොන්\" වේ\"ගෙ පුතෝ යන්න  මූට ඉන්දියාව පැරදුනාම බැලන්ස් වෙන්න කොමෙන්ට් එකක් දෙන්නම ඕනි Harsha Bhogle @USER  · 26 Jan 2017 England\\'s bowlers won it for them. Ensured batsmen didn\\'t have much to do.',\n  'HOF'],\n [8468,\n  'ඇය වැයේ මහිංද හොයන වුන් ටිකකට කලිසම අස්සෙ බලහං. බිජ්ජ තියනවද ? නේ ?  උඹෙ මෑනියන්ට කියන්න ඔය ගව ආශ්\\u200dරිත කර්මාණ්තය කියල.',\n  'HOF'],\n [8469,\n  '@USER ලංකාවේ සමහරක් උන්ට හිකීම මාරම ටැබූය. කොන්ඩම් ඊටත් ටැබූය. උන්ට පයියක් කිම්බක් එක්වීම ලෝක විනාසයට අත වැනීමකි. හැබැයි ගූගලයේ සෙක්ස් සොයා රෙකෝඩ් පිට රෙකෝඩ් තබයි, කෙල්ලෙක්ගෙ කකුලක් දුටු පක කෙලින් වෙති. ලිංගික ඉච්ඡාභංගත්වය උපරිමය.',\n  'HOF'],\n [8470,\n  'ඩියෝ ලංකාවෙ අලුතින්. රෙජිස්ටර් කරපු නැති උන් ගිනි ගනන් කියනවා. සක්කිලි ජාතියක්නෙ. කල දුටු කල වල ඉහගන්න බලන්නෙ',\n  'HOF'],\n [8471,\n  'ආණ්ඩුවේ ඇමතිවරුන්ගේ ජනප්\\u200dරියම වචනය තෝරන තරඟයක් තිබ්බොත් ෆිර්ස්ට් ප්ලේස් ගන්න වචනය  -  \" කාලකණ්ණි \" Senu_Kavi @USER  · 17 Aug 2021',\n  'HOF'],\n [8472,\n  'ආණ්ඩුව නෙවේ කොයි කලින් ආණ්ඩුවත් එහෙමයි  , ඔක්කොම කාලකණ්ණි  Chamal Kanishka @USER  · 8 Nov 2017 ජනවාරි ජන්දේ හෙට බජට් එකත් එනවා. සහන දෙයි හිටු කියලා. ඊට පස්සේ ආයෙත් අර හැට දෙලක්ෂයක් ගොන් නාම්බෝ ටික ෆෝම් වෙයි   #Budget2017',\n  'HOF'],\n [8473,\n  'Colombo? එතකොට මං ඉන්නෙ තූත්තුකුඩියෙද උම්බලකඩ පකෝ? Newsfirst.lk Sri Lanka @USER  · 3 Dec 2021 Power Supply to Anuradhapura, HambantotaColombo restored - CEB General Manager  #lka #SriLanka #SLnews #News1st #PowerCut',\n  'HOF'],\n [8474,\n  '@USER පොන්න පකෙක්.  අපී සීතලට අදින ඇදුම් .ගිනි ගහන රස්නේ මීහරකා යටට ඇදලා බිජ්ජ halfboill වෙලා ඇතී',\n  'HOF'],\n [8475,\n  '@USER ,  @USER  @USER ඒක හිතන්නවත් උඹට මොළයක් නෑ. විවිධත්වය කියන එකවත් දන්නෙ නෑ. මෝඩයෝ. තෝ වගේ එකෙක් එක්ක මං මෙච්චර වෙලා කතා කළේ. මගේ ලොකු වැරද්දක්',\n  'HOF'],\n [8476,\n  'නිදුකින් ඉනු මැන මට වඩාකල් මගෙ පණත් අරගෙන ඔයා... කිව්වෙ ඉස්සර  හුකේ... දවස විඳවපිය තෝ.... ඩෝං ඩෝං ඩෝං ... URL',\n  'HOF'],\n [8477,\n  'යෝෂිත එක්ක පොටෝ එකේ ඉන්න පොඩි එකාගෙ පයිය බලන්නකො ලොකු  ..පොඩියට හිටියට දාර පයියක් වගේ නේද.. ගලක් කපන්න කියාපු මල්ලියා',\n  'HOF'],\n [8478,\n  'පකිස්තානෙ එවුං වටවෙලා ගල් ගහල ගිනිතියල මැරුවම, පර මුස්ලිම් ගෝත්\\u200dරික හැත්ත+ මාධ්\\u200dය 24/7 ප්\\u200dරමෝට්   ලංකාවෙ තාත්තයි මාමයි පොඩි දුවෙක් ගහල ගහල හප කරල මැරුවම ගෝත්\\u200dරික ලංකාව+ මීඩියා, ඕව අමතක කරල දහං',\n  'HOF'],\n [8479,\n  'Admins: යකාට බය සොහොනෙ ගෙවල් හදන්නෑ පකෝ..   Also Admins: යාලු මගේ කලින් පේජ් එක රිපෝට් කරල බ්ලොක් වෙලා. අලුත් එකට ලයික් කරල ෂෙයා කරල රීච් එක හදාගන්න මට උදව් කරන්න යාලු. දවස් හතකින් කන්නත් නෑ.  #SLPageAdminsbelike',\n  'HOF'],\n [8480,\n  'හනේ මන්දා ටුයිටරෙත් . . . ඇරියස් යනව . . . යනව . . . එ් අතරෙ ඩීඇම් අස්සෙත් යනව. පුකේ ඉඳල පිස්සු ඕයි මුංට. . . පුකේ ඉඳල පිස්සු. #සෝශල්මීඩියාඇඟටගත්තගොංබිජ්ජලා',\n  'HOF'],\n [8481,\n  'පියුමි කියන වැදගත්ම කාරනාවා, හිරු එකේ මෙගා ස්ටර්, අවුරුදු උස්සව වලට ආපු නලු නිලියෝ 150කට කොරෝනා හැදුනා. අයව ගෙවල් වලම නිරෝදායනය කලා..  කෝ මේවට නීතිය?  ණයට කහින උන්ට නීතිය වෙනස්ද?   එනව මුන් පාරෙ මිනිහගේ මුඛ ආවරනය හරියට දානවද බලන්න. සක්කිලි.',\n  'HOF'],\n [8482,\n  'තමන්ගේ අම්මගෙන් සදාචාරසම්පන්නව කිරි බීපු එවුන් පව අවජාතක වෙලා ඉරාජ්ට කඩේ යනවා ,පව් ,උන්ගේ ඇත්ත  අම්මලා  ඇමෙරිකාවේ... URL',\n  'HOF'],\n [8483,\n  'අපේ සමහරු තමාගේ තර්කය ඔසවන්නේ, \"අඩෝ තෝ දන්නවාද මම කවුද කියලා?\"ය. අනිකාගේ තර්කයට පහර දෙන්නේ, \"තෝ වසලයා, අවජාතකයා, සතා\" යනාදී ලෙසය. කාරණයක් සිතා බලා, කාරණයට පහර දිය හැකි ආකාරයේ විනයක් නැත. මෙය අහේනියකී.',\n  'HOF'],\n [8484,\n  '@USER එක පැත්තකින් රට දියුණු වෙන්නේ කියනවා, අනෙක් පැත්තෙන් මොකක් හරි ආණ්ඩුවක්  සංවර්ධන වැඩක් කරන්න හදනකොට කැලෑවක් ඉස්සරහට දාගෙන ඒක නවත්වන්න හදනවා. වැද්දෝ වගේ රටේ මිනිස්සුන්ට ඉන්නද කියන්නේ? හැම රෙද්දටම කට දානවා, හැබැයි රට ගිණිතිය තිය පිස්සු කෙලින සංඝ චන්ඩියක් පාලනය කරගන්න බෑ.',\n  'HOF'],\n [8485,\n  'රිපෝර්ට් හදන උන්ගෙ රටවල්වල දවසකට දාහා,දෙදාහා මැරෙන්නේ අපේ රටේ 7 යි ඒත් උබේ තියෙන කාලකණ්ණි කුහක කමට ඒක උබේ හිතට වාවන්නේ නැහැ මොකද උබට ඕනෑ මිනීමැරිලා හරි දේශපාලන වාසි ගන්න නොදකින් කාලකණ්ණි පෙරේතයා ශිට් මහත්තයෝ උබනම්',\n  'HOF'],\n [8486,\n  'ගල්කිස්සේ Silver Wok එකේ ඉන්නවා තට්ට නාකියෙක් (ඔව් තරහට කියන්නේ) . පරයට සිංහලෙන් මොනා හරි කිව්වත් ඉංග්\\u200dරීසියෙන් උත්තර දෙන්නේ. ඌ හිතන් ඉන්නවා කඩේ කැෂියර් වැඩේ කලාට, ඉංග්\\u200dරීසි ටිකක් කියෙව්වම ඌ හෙන ලොකු පොරක් කියලා අපි හිතයි කියලා. . උගේ ලොකු ! ගොං පකයා',\n  'HOF'],\n [8487,\n  'වෙල්ගමට මඩ ගහන්න පර්ලිමෙන්ට් ජෝක්ස් එක වචනයෙන් විල් ලැජ්ජා වෙයි! -\"මල්ලි අපි ගැනුන්ට අසා තමයි එත් නාකි ගෑනුන්ට... URL',\n  'HOF'],\n [8488,\n  \"1015 දෙනෙක් අමු අමුවේ මරාදාල තිරිසන්නු. #අවුරුදුපොකුරු #තිලකවර්ධනෂොපින් #ට්\\u200dරැවල්බබල් #යුක්රේනියන්ටුවරිස්ට් #වසන්තසැනකෙළිය #උදයංගපොකුර #ලොකුගේපොකුර  ආණ්ඩුවට කරන්න දෙයක් නැහැ. මිනිස්සු ඔච්චර මෝඩ විදියට හැසිරෙන්නෙ නැති වෙයි සිතුවා.#දැන්සැපයිමහින්දමහත්තයෝ Dasuni Athauda @USER  · 18 May 2021 COVID FATALITIES IN SL CROSS THE 1000 MARK    more Covid-19 related deaths reported today; total fatalities in Sri Lanka now at 1,015.  - Gov't Info Dept  #lka #SriLanka #COVID19LK #StayHome #WearAMask\",\n  'HOF'],\n [8489,\n  '@USER පල පොන්න තම්බියා, උබට පේන්නේ දෙමලු ලංකාව පාලනය කරනවා වගේද?උබ යකෝ රට ඉදන් ලංකාව බොරු හීන මවන්න එපා. තොපි බලන්නේම රටවල් බලෙන් අලන්න. හම්බෙයි උබලට ලංකාව. වරෙන්කෝ යුද්ද කරලා ගන්න. තොගේ ඉතුරු කාලත් නැතිකරගන්න තමා. උබලා මහලොකු ජාතියක්ද. ජරාජාතිය.',\n  'HOF'],\n [8490,\n  'මේක දැක්කොත් ගුඩ් නයිට් කියන් පලයන් හුත්තො  . . . . . . . . . . . . . .',\n  'HOF'],\n [8491,\n  '@USER කථානයකයො තොට ඕකට ලග දිනයක් දෙන්න තිබ්බෙ නැද්ද.. කට්ටිය ශේප් වෙනකන්ද ලබන මාසේට දැම්මේ.. ගොං හැලපයා',\n  'HOF'],\n [8492,\n  '@USER අපෙ සාප වගෙ තමා උන්ගෙ සාපෙ රෝහිත් කෝලී උන් හෙන ඇටිටියුඩ් එකෙ ඉන්නෙ උන් ඉන්නකොට ටීම් එකත් හෙන ඔලුවෙන් ඉතිබ්',\n  'HOF'],\n [8493,\n  'මොකෙක් හරි එකෙක් හොදට කරාම  -අඩෝ අපේ ඉස්කෝලේ කොල්ලෙක් ඈ  - අඩෝ ඌ අපේ ගමේ ඈ  - අඩො ඩයල් එක අපේ පලාතෙ හුත්තො  - ශ්\\u200dරීලාංකිකයි හදවතින්ම  - ආසියාවේ අපේ බලාපොරොත්තුව  - පෘතුවියටනේ හුත්තෝ ආඩම්බර  -සෞරග්\\u200dරහමන්ඩලේ අපේ එකෙක්   - මන්දාකිනියේ කොල්ලෝ කෝ සද්දේ',\n  'HOF'],\n [8494,\n  'අලුත් පරපුරේ එක පරයයෙක් ජාතික වීරයන්ට අපහාසකන වීඩියෝව .  \"මද්දුම බණ්ඩාර කියන්නේ අවුරුදු 6 යේ පරයෙක්, පොඩි හුජ්ජ... URL',\n  'HOF'],\n [8495,\n  'එයාර්ලයින් එකක්.. නොදකින් විතරක් ලංගම දවස් වල දුවපු ලටෙක් බස් තඩි මීට හොඳයි.. කමක් නෑ.. ලංගම බස් උඩින් යන්නේ නේ.. හිත හදා ගත්තා. කෑම ගන්නෙත් ඉස්කෝලේ කැන්ටිමෙන් වගේ සල්ලි ගෙවලා.. මුංගේ රෙද්දේ ප්ලේන් කියලා මම කිව්වා.. අපේ එකෙක් අහනවා දෙලොස්දාහට උඹට බිස්නස් ක්ලාස් එකේ',\n  'HOF'],\n [8496,\n  'විල්පත්තු ----------  ජාති ආලේ ගත්තු කැරි නර සත්තු කළා ගිනි පත්තු  හේත්තු වී මායිමට විල්පත්තු ඡන්දෙට බැලුවේ ඔත්තු බොරු කෙබර අතේ පත්තු තොපි කැව්ව වඳ කොත්තු ඌරු පුකට දීපිය තොත්තු',\n  'HOF'],\n [8497,\n  'පැය 48 කියා සිටි කණ්ඩායම ජයග්\\u200dරහණය! නවත්තලා. අපි හිතලා ලු. යකෝ. මාට්ටු වෙච්ච හින්දා බයිලා ගහන්න එනවා. Dinidu de Alwis @USER  · 24 May 2021 හොරෙන් කරන්නට ගොස් වැඩේ ලීක් වී හත් පොලේ ගා ගැනිමෙන් පසු, පොර වේදිකාවට පැමිණ Land Cruiser ආනයනය නතර කිරීමට ජනපති මැදුරට සෙට් එක බස්සා බණ දෙසුමට ලොක්කා කොච්චර වෙලාවක් ගනීද?  ජෙප්පන්ට රිදෙන්න RT කරන්න. Show this poll',\n  'HOF'],\n [8498,\n  'නුගත් මුසලයා කට ඇරියෝත්... නිදහසට කාරනා facebook.com Ape Rate Gawa Sampatha-අපේ රටේ ගව සම්පත - ඝෝටාබයට මහින්දගෙන් උපදෙස්... ඝෝටාබයට මහින්දගෙන් උපදෙස් මාලාවක්',\n  'HOF'],\n [8499,\n  'ස්ටෝබෙරි සීන් එකේ අලුත් ඉතුරු ලීක් ටිකත් වට්ස්ඇප් ගෘප් හරහා ලැබුනා අද.. ඇත්තටම උන් දෙන්නගෙ ආතල් එක වෙනයි. උන් දෙන්න ෆුල් ලවින් ෆුල් අන්ඩස්ටෑන්ඩ් කපල් එකක්..ඒක දෙකක්   ඒක කැරිම කාලකණ්ණි විදිහට ලීක් කරන වේසිගෙපුතාලා නම්..  හදුන්වන්න වචන',\n  'HOF'],\n ...]"
          },
          "metadata": {}
        }
      ]
    },
    {
      "cell_type": "code",
      "source": [
        "# convert into pandas dataframe\n",
        "\n",
        "df_HOF_additional = pd.DataFrame(np.array(new_HOF),\n",
        "             columns=['index', 'tweet', 'label'\n",
        "                      ])\n",
        "df_HOF_additional"
      ],
      "metadata": {
        "execution": {
          "iopub.status.busy": "2023-10-26T01:05:31.087583Z",
          "iopub.execute_input": "2023-10-26T01:05:31.088035Z",
          "iopub.status.idle": "2023-10-26T01:05:31.122200Z",
          "shell.execute_reply.started": "2023-10-26T01:05:31.087953Z",
          "shell.execute_reply": "2023-10-26T01:05:31.120388Z"
        },
        "trusted": true,
        "id": "QMnt1pjXuNNE",
        "outputId": "6c53dc57-64d9-4544-823f-70c55e1ddaf6"
      },
      "execution_count": null,
      "outputs": [
        {
          "execution_count": 18,
          "output_type": "execute_result",
          "data": {
            "text/plain": "     index                                              tweet label\n0     7500  @USER  තමුසෙ NSBM ගිහින් ඩිග්‍රියක් කරනවා කියල...   HOF\n1     7501  අඩෝ පපුව පිච්චුනා වගේ. අැස් දෙකට කදුලු ඉනුවා ඔ...   HOF\n2     7502  ඉදගන්න යනකොට ඒකි මොනාදෝ කියනවලු.කඩ්ඩ බැරිඋනත් ...   HOF\n3     7503  ලබ්බ බහින සංගමය කියලා වගේ එකක් හැදුවා හරි. Ami...   HOF\n4     7504  @USER  @USER බෝතල් ගොඩක් කුඩුකරලා දැනුත් පේමන්...   HOF\n...    ...                                                ...   ...\n1469  8969  මං තමා එච්චර ගාණක් ෆන්ඩ් කරන්නෙ...නාමල් අයියා ...   HOF\n1470  8970  @USER  @USER     සවේන්ද්‍රයි සයි හින්දා තෝ අද ...   HOF\n1471  8971  බලහල්ල රජයේ කැම්පස්  වලට බැනපු උන් මොනවගෙද ඉන්...   HOF\n1472  8972  @USER  @USER කොහෙන් ගියත් මූ යන්නෙ ගල විදපු තැ...   HOF\n1473  8973  අමුතුවෙන් හිතන්නත් දෙයක් මෙතන නැහැ... මේක තමයි...   HOF\n\n[1474 rows x 3 columns]",
            "text/html": "<div>\n<style scoped>\n    .dataframe tbody tr th:only-of-type {\n        vertical-align: middle;\n    }\n\n    .dataframe tbody tr th {\n        vertical-align: top;\n    }\n\n    .dataframe thead th {\n        text-align: right;\n    }\n</style>\n<table border=\"1\" class=\"dataframe\">\n  <thead>\n    <tr style=\"text-align: right;\">\n      <th></th>\n      <th>index</th>\n      <th>tweet</th>\n      <th>label</th>\n    </tr>\n  </thead>\n  <tbody>\n    <tr>\n      <th>0</th>\n      <td>7500</td>\n      <td>@USER  තමුසෙ NSBM ගිහින් ඩිග්‍රියක් කරනවා කියල...</td>\n      <td>HOF</td>\n    </tr>\n    <tr>\n      <th>1</th>\n      <td>7501</td>\n      <td>අඩෝ පපුව පිච්චුනා වගේ. අැස් දෙකට කදුලු ඉනුවා ඔ...</td>\n      <td>HOF</td>\n    </tr>\n    <tr>\n      <th>2</th>\n      <td>7502</td>\n      <td>ඉදගන්න යනකොට ඒකි මොනාදෝ කියනවලු.කඩ්ඩ බැරිඋනත් ...</td>\n      <td>HOF</td>\n    </tr>\n    <tr>\n      <th>3</th>\n      <td>7503</td>\n      <td>ලබ්බ බහින සංගමය කියලා වගේ එකක් හැදුවා හරි. Ami...</td>\n      <td>HOF</td>\n    </tr>\n    <tr>\n      <th>4</th>\n      <td>7504</td>\n      <td>@USER  @USER බෝතල් ගොඩක් කුඩුකරලා දැනුත් පේමන්...</td>\n      <td>HOF</td>\n    </tr>\n    <tr>\n      <th>...</th>\n      <td>...</td>\n      <td>...</td>\n      <td>...</td>\n    </tr>\n    <tr>\n      <th>1469</th>\n      <td>8969</td>\n      <td>මං තමා එච්චර ගාණක් ෆන්ඩ් කරන්නෙ...නාමල් අයියා ...</td>\n      <td>HOF</td>\n    </tr>\n    <tr>\n      <th>1470</th>\n      <td>8970</td>\n      <td>@USER  @USER     සවේන්ද්‍රයි සයි හින්දා තෝ අද ...</td>\n      <td>HOF</td>\n    </tr>\n    <tr>\n      <th>1471</th>\n      <td>8971</td>\n      <td>බලහල්ල රජයේ කැම්පස්  වලට බැනපු උන් මොනවගෙද ඉන්...</td>\n      <td>HOF</td>\n    </tr>\n    <tr>\n      <th>1472</th>\n      <td>8972</td>\n      <td>@USER  @USER කොහෙන් ගියත් මූ යන්නෙ ගල විදපු තැ...</td>\n      <td>HOF</td>\n    </tr>\n    <tr>\n      <th>1473</th>\n      <td>8973</td>\n      <td>අමුතුවෙන් හිතන්නත් දෙයක් මෙතන නැහැ... මේක තමයි...</td>\n      <td>HOF</td>\n    </tr>\n  </tbody>\n</table>\n<p>1474 rows × 3 columns</p>\n</div>"
          },
          "metadata": {}
        }
      ]
    },
    {
      "cell_type": "code",
      "source": [
        "# get some tweets with class HOF to be added to data-train (choose by index)\n",
        "# no need for Gujarati\n",
        "\n",
        "adds = df_HOF_additional[200:1236]\n",
        "\n",
        "df1 = pd.concat([dnot,adds,dhof])# .reset_index()\n",
        "df1['label'].value_counts()\n"
      ],
      "metadata": {
        "execution": {
          "iopub.status.busy": "2023-10-26T01:06:36.660281Z",
          "iopub.execute_input": "2023-10-26T01:06:36.660914Z",
          "iopub.status.idle": "2023-10-26T01:06:36.676984Z",
          "shell.execute_reply.started": "2023-10-26T01:06:36.660864Z",
          "shell.execute_reply": "2023-10-26T01:06:36.676063Z"
        },
        "trusted": true,
        "id": "XAPDhB9JuNNF",
        "outputId": "2dee0b81-a282-4a38-b6c2-486504fc40ea"
      },
      "execution_count": null,
      "outputs": [
        {
          "execution_count": 22,
          "output_type": "execute_result",
          "data": {
            "text/plain": "NOT    3893\nHOF    3893\nName: label, dtype: int64"
          },
          "metadata": {}
        }
      ]
    },
    {
      "cell_type": "code",
      "source": [
        "df1"
      ],
      "metadata": {
        "execution": {
          "iopub.status.busy": "2023-10-26T01:06:41.028633Z",
          "iopub.execute_input": "2023-10-26T01:06:41.029044Z",
          "iopub.status.idle": "2023-10-26T01:06:41.046256Z",
          "shell.execute_reply.started": "2023-10-26T01:06:41.029012Z",
          "shell.execute_reply": "2023-10-26T01:06:41.045050Z"
        },
        "trusted": true,
        "id": "ogl9btwVuNNF",
        "outputId": "60fb37ec-4c66-4efb-b293-324ac53cfbbc"
      },
      "execution_count": null,
      "outputs": [
        {
          "execution_count": 23,
          "output_type": "execute_result",
          "data": {
            "text/plain": "     index      tweet_id                                              tweet  \\\n6626  7327  1.276189e+18  අපි පොඩි කාලෙ අහපු \"ඇම්ඩගෙ කතා\" ඇත්තද එතකොට.? ...   \n1357  1790  7.783009e+17  @USER  @USER ටහුඩු, හැපි බර්ත්ඩේ ටෝකා පුතේ. සො...   \n819   6050  1.481280e+18                        @USER ඩ්‍රාමා එච්චර අමාරු ද   \n6217   502  6.184192e+17  හැමෝම තමුන්ගේ පාසලේ හිටපු පට්ට ඩෑල් ගැන වර්ණා ...   \n1105  2974  1.186284e+18               @USER පහුගිය අවුරැදු හතර හමාරේ වගේ ,   \n...    ...           ...                                                ...   \n5969  7240  1.101352e+18  බලහල්ල රජයේ කැම්පස්  වලට බැනපු උන් මොනවගෙද ඉන්...   \n3164  2624  1.068012e+18  @USER  @USER කොහෙන් ගියත් මූ යන්නෙ ගල විදපු තැ...   \n5657  3910  9.811947e+17  @USER පිස්සා කිව්වට පිස්සු පාටක් නම් පේන්නෙම නැ..   \n2013  2029  1.250450e+18  මොනවද තිරිසනෝ මේ දෙරණේ පෙන්වන ටෙලි නාට්‍ය?  පා...   \n3271  5403  1.383456e+18  අමුතුවෙන් හිතන්නත් දෙයක් මෙතන නැහැ... මේක තමයි...   \n\n     label  \n6626   NOT  \n1357   NOT  \n819    NOT  \n6217   NOT  \n1105   NOT  \n...    ...  \n5969   HOF  \n3164   HOF  \n5657   HOF  \n2013   HOF  \n3271   HOF  \n\n[7786 rows x 4 columns]",
            "text/html": "<div>\n<style scoped>\n    .dataframe tbody tr th:only-of-type {\n        vertical-align: middle;\n    }\n\n    .dataframe tbody tr th {\n        vertical-align: top;\n    }\n\n    .dataframe thead th {\n        text-align: right;\n    }\n</style>\n<table border=\"1\" class=\"dataframe\">\n  <thead>\n    <tr style=\"text-align: right;\">\n      <th></th>\n      <th>index</th>\n      <th>tweet_id</th>\n      <th>tweet</th>\n      <th>label</th>\n    </tr>\n  </thead>\n  <tbody>\n    <tr>\n      <th>6626</th>\n      <td>7327</td>\n      <td>1.276189e+18</td>\n      <td>අපි පොඩි කාලෙ අහපු \"ඇම්ඩගෙ කතා\" ඇත්තද එතකොට.? ...</td>\n      <td>NOT</td>\n    </tr>\n    <tr>\n      <th>1357</th>\n      <td>1790</td>\n      <td>7.783009e+17</td>\n      <td>@USER  @USER ටහුඩු, හැපි බර්ත්ඩේ ටෝකා පුතේ. සො...</td>\n      <td>NOT</td>\n    </tr>\n    <tr>\n      <th>819</th>\n      <td>6050</td>\n      <td>1.481280e+18</td>\n      <td>@USER ඩ්‍රාමා එච්චර අමාරු ද</td>\n      <td>NOT</td>\n    </tr>\n    <tr>\n      <th>6217</th>\n      <td>502</td>\n      <td>6.184192e+17</td>\n      <td>හැමෝම තමුන්ගේ පාසලේ හිටපු පට්ට ඩෑල් ගැන වර්ණා ...</td>\n      <td>NOT</td>\n    </tr>\n    <tr>\n      <th>1105</th>\n      <td>2974</td>\n      <td>1.186284e+18</td>\n      <td>@USER පහුගිය අවුරැදු හතර හමාරේ වගේ ,</td>\n      <td>NOT</td>\n    </tr>\n    <tr>\n      <th>...</th>\n      <td>...</td>\n      <td>...</td>\n      <td>...</td>\n      <td>...</td>\n    </tr>\n    <tr>\n      <th>5969</th>\n      <td>7240</td>\n      <td>1.101352e+18</td>\n      <td>බලහල්ල රජයේ කැම්පස්  වලට බැනපු උන් මොනවගෙද ඉන්...</td>\n      <td>HOF</td>\n    </tr>\n    <tr>\n      <th>3164</th>\n      <td>2624</td>\n      <td>1.068012e+18</td>\n      <td>@USER  @USER කොහෙන් ගියත් මූ යන්නෙ ගල විදපු තැ...</td>\n      <td>HOF</td>\n    </tr>\n    <tr>\n      <th>5657</th>\n      <td>3910</td>\n      <td>9.811947e+17</td>\n      <td>@USER පිස්සා කිව්වට පිස්සු පාටක් නම් පේන්නෙම නැ..</td>\n      <td>HOF</td>\n    </tr>\n    <tr>\n      <th>2013</th>\n      <td>2029</td>\n      <td>1.250450e+18</td>\n      <td>මොනවද තිරිසනෝ මේ දෙරණේ පෙන්වන ටෙලි නාට්‍ය?  පා...</td>\n      <td>HOF</td>\n    </tr>\n    <tr>\n      <th>3271</th>\n      <td>5403</td>\n      <td>1.383456e+18</td>\n      <td>අමුතුවෙන් හිතන්නත් දෙයක් මෙතන නැහැ... මේක තමයි...</td>\n      <td>HOF</td>\n    </tr>\n  </tbody>\n</table>\n<p>7786 rows × 4 columns</p>\n</div>"
          },
          "metadata": {}
        }
      ]
    },
    {
      "cell_type": "code",
      "source": [
        "# This is balanced train data, use for SVM Training\n",
        "\n",
        "shuffled_train = df1.sample(frac=1, random_state=23)\n",
        "shuffled_train\n"
      ],
      "metadata": {
        "execution": {
          "iopub.status.busy": "2023-10-26T01:06:47.143693Z",
          "iopub.execute_input": "2023-10-26T01:06:47.144104Z",
          "iopub.status.idle": "2023-10-26T01:06:47.165459Z",
          "shell.execute_reply.started": "2023-10-26T01:06:47.144070Z",
          "shell.execute_reply": "2023-10-26T01:06:47.164454Z"
        },
        "trusted": true,
        "id": "D5n22MOwuNNF",
        "outputId": "e20137bf-6495-4cbf-8a98-abed8397ef57"
      },
      "execution_count": null,
      "outputs": [
        {
          "execution_count": 24,
          "output_type": "execute_result",
          "data": {
            "text/plain": "     index      tweet_id                                              tweet  \\\n3030  7099  1.145568e+18           @USER ,  @USER  @USER ටහුක්  තෝ ඉන්නවා ද   \n3642  1331  6.756934e+17  ඉස්සර උබ වලියක් නම් ලොවෙත් කියනො ගිහාන් අයියා ...   \n539   4881  1.396944e+18                 නින්ද යන්නේ නැති එක නම් කරුම ලෙඩක්   \n1089  8589           NaN  10  අළු වලින් ගොයම් ගස් පෝෂණය වෙලා හැදීල එන පි...   \n196   1169  1.161323e+18  @USER රිචඩ් ද සොයිසා ප්‍රේමකීර්ති ද අල්විස් රෝ...   \n...    ...           ...                                                ...   \n1237  2408  1.185154e+18  @USER නරකද වී නිෂ්පාදන වියදම් අඩුකරලා ගොවියායි...   \n5752   668  1.053322e+18    කහපාට රෙද්දකින් තඩි පීප්පයක් ඔතා තිබූ ඒ අවස්තාව   \n3387   634  1.166635e+18  ගත මදක් පේන ලෙස උස්සලා අන්දා සිටි බැවින් සරාගි...   \n1145  8645           NaN  අහසේ දෙයියෝ හුත්තෝ දෙයියෝ ඉන්නේ මෙහෙ මෙහෙ උට්ට...   \n1911   995  1.478016e+18                   @USER හිනාවෙන්න තැන් නෑ මේවාට :3   \n\n     label  \n3030   HOF  \n3642   HOF  \n539    NOT  \n1089   HOF  \n196    NOT  \n...    ...  \n1237   NOT  \n5752   NOT  \n3387   NOT  \n1145   HOF  \n1911   NOT  \n\n[7786 rows x 4 columns]",
            "text/html": "<div>\n<style scoped>\n    .dataframe tbody tr th:only-of-type {\n        vertical-align: middle;\n    }\n\n    .dataframe tbody tr th {\n        vertical-align: top;\n    }\n\n    .dataframe thead th {\n        text-align: right;\n    }\n</style>\n<table border=\"1\" class=\"dataframe\">\n  <thead>\n    <tr style=\"text-align: right;\">\n      <th></th>\n      <th>index</th>\n      <th>tweet_id</th>\n      <th>tweet</th>\n      <th>label</th>\n    </tr>\n  </thead>\n  <tbody>\n    <tr>\n      <th>3030</th>\n      <td>7099</td>\n      <td>1.145568e+18</td>\n      <td>@USER ,  @USER  @USER ටහුක්  තෝ ඉන්නවා ද</td>\n      <td>HOF</td>\n    </tr>\n    <tr>\n      <th>3642</th>\n      <td>1331</td>\n      <td>6.756934e+17</td>\n      <td>ඉස්සර උබ වලියක් නම් ලොවෙත් කියනො ගිහාන් අයියා ...</td>\n      <td>HOF</td>\n    </tr>\n    <tr>\n      <th>539</th>\n      <td>4881</td>\n      <td>1.396944e+18</td>\n      <td>නින්ද යන්නේ නැති එක නම් කරුම ලෙඩක්</td>\n      <td>NOT</td>\n    </tr>\n    <tr>\n      <th>1089</th>\n      <td>8589</td>\n      <td>NaN</td>\n      <td>10  අළු වලින් ගොයම් ගස් පෝෂණය වෙලා හැදීල එන පි...</td>\n      <td>HOF</td>\n    </tr>\n    <tr>\n      <th>196</th>\n      <td>1169</td>\n      <td>1.161323e+18</td>\n      <td>@USER රිචඩ් ද සොයිසා ප්‍රේමකීර්ති ද අල්විස් රෝ...</td>\n      <td>NOT</td>\n    </tr>\n    <tr>\n      <th>...</th>\n      <td>...</td>\n      <td>...</td>\n      <td>...</td>\n      <td>...</td>\n    </tr>\n    <tr>\n      <th>1237</th>\n      <td>2408</td>\n      <td>1.185154e+18</td>\n      <td>@USER නරකද වී නිෂ්පාදන වියදම් අඩුකරලා ගොවියායි...</td>\n      <td>NOT</td>\n    </tr>\n    <tr>\n      <th>5752</th>\n      <td>668</td>\n      <td>1.053322e+18</td>\n      <td>කහපාට රෙද්දකින් තඩි පීප්පයක් ඔතා තිබූ ඒ අවස්තාව</td>\n      <td>NOT</td>\n    </tr>\n    <tr>\n      <th>3387</th>\n      <td>634</td>\n      <td>1.166635e+18</td>\n      <td>ගත මදක් පේන ලෙස උස්සලා අන්දා සිටි බැවින් සරාගි...</td>\n      <td>NOT</td>\n    </tr>\n    <tr>\n      <th>1145</th>\n      <td>8645</td>\n      <td>NaN</td>\n      <td>අහසේ දෙයියෝ හුත්තෝ දෙයියෝ ඉන්නේ මෙහෙ මෙහෙ උට්ට...</td>\n      <td>HOF</td>\n    </tr>\n    <tr>\n      <th>1911</th>\n      <td>995</td>\n      <td>1.478016e+18</td>\n      <td>@USER හිනාවෙන්න තැන් නෑ මේවාට :3</td>\n      <td>NOT</td>\n    </tr>\n  </tbody>\n</table>\n<p>7786 rows × 4 columns</p>\n</div>"
          },
          "metadata": {}
        }
      ]
    },
    {
      "cell_type": "code",
      "source": [
        "df_dev1['label'].value_counts()\n"
      ],
      "metadata": {
        "execution": {
          "iopub.status.busy": "2023-10-26T01:06:57.928780Z",
          "iopub.execute_input": "2023-10-26T01:06:57.929189Z",
          "iopub.status.idle": "2023-10-26T01:06:57.938650Z",
          "shell.execute_reply.started": "2023-10-26T01:06:57.929159Z",
          "shell.execute_reply": "2023-10-26T01:06:57.937493Z"
        },
        "trusted": true,
        "id": "KB8_tn-JuNNF",
        "outputId": "6b841eea-1909-4007-938a-d9ec99d7fa1f"
      },
      "execution_count": null,
      "outputs": [
        {
          "execution_count": 25,
          "output_type": "execute_result",
          "data": {
            "text/plain": "NOT    431\nHOF    319\nName: label, dtype: int64"
          },
          "metadata": {}
        }
      ]
    },
    {
      "cell_type": "code",
      "source": [
        "df_test\n"
      ],
      "metadata": {
        "execution": {
          "iopub.status.busy": "2023-10-26T01:07:05.407664Z",
          "iopub.execute_input": "2023-10-26T01:07:05.408432Z",
          "iopub.status.idle": "2023-10-26T01:07:05.422868Z",
          "shell.execute_reply.started": "2023-10-26T01:07:05.408379Z",
          "shell.execute_reply": "2023-10-26T01:07:05.421148Z"
        },
        "trusted": true,
        "id": "IZC7NJFKuNNG",
        "outputId": "77390e7f-38c1-4343-ce9e-6fd6c1157443"
      },
      "execution_count": null,
      "outputs": [
        {
          "execution_count": 27,
          "output_type": "execute_result",
          "data": {
            "text/plain": "              tweet_id                                              tweet\n0        task1a_test_1  ඔව් ඔව්.. තොපි ආදරේට කලොත් කරන්නෙ ඔහොම වැඩක් ත...\n1        task1a_test_2               ඇයි උඹ අලි පු*න්ද? #SriLankanThreats\n2        task1a_test_3                     @USER  @USER පක ටෝක් දෙන්න එපා\n3        task1a_test_4  මම නවය වසරේදී,පංති නායකයා කාලේ පංතියේ කොස්ස නැ...\n4        task1a_test_5  මේ ආන්ඩුවටනම් හෙන 7ම ගහන්න ඔනේ මුන්ට පේන්නෙ නැ...\n...                ...                                                ...\n2495  task1a_test_2496  රටක ආර්ථිකය කෙලෙසපු මොළකරු පට්ට හොරෙක් ! #SriL...\n2496  task1a_test_2497               @USER හරකා මොකා උනත් අවසානෙ මසට යාලු\n2497  task1a_test_2498  @USER තොපි වගේ කාළකන්නි මාධ්‍ය ආයතන තහනම් කරන ...\n2498  task1a_test_2499  රියැදුරු බලපත්‍ර නිකුත් කිරීම ඇතුළු සියලු කටයු...\n2499  task1a_test_2500  නොදකින් අම්මගෙන් බැනුම් අහගෙන පාඩම් නොකර මැච් ...\n\n[2500 rows x 2 columns]",
            "text/html": "<div>\n<style scoped>\n    .dataframe tbody tr th:only-of-type {\n        vertical-align: middle;\n    }\n\n    .dataframe tbody tr th {\n        vertical-align: top;\n    }\n\n    .dataframe thead th {\n        text-align: right;\n    }\n</style>\n<table border=\"1\" class=\"dataframe\">\n  <thead>\n    <tr style=\"text-align: right;\">\n      <th></th>\n      <th>tweet_id</th>\n      <th>tweet</th>\n    </tr>\n  </thead>\n  <tbody>\n    <tr>\n      <th>0</th>\n      <td>task1a_test_1</td>\n      <td>ඔව් ඔව්.. තොපි ආදරේට කලොත් කරන්නෙ ඔහොම වැඩක් ත...</td>\n    </tr>\n    <tr>\n      <th>1</th>\n      <td>task1a_test_2</td>\n      <td>ඇයි උඹ අලි පු*න්ද? #SriLankanThreats</td>\n    </tr>\n    <tr>\n      <th>2</th>\n      <td>task1a_test_3</td>\n      <td>@USER  @USER පක ටෝක් දෙන්න එපා</td>\n    </tr>\n    <tr>\n      <th>3</th>\n      <td>task1a_test_4</td>\n      <td>මම නවය වසරේදී,පංති නායකයා කාලේ පංතියේ කොස්ස නැ...</td>\n    </tr>\n    <tr>\n      <th>4</th>\n      <td>task1a_test_5</td>\n      <td>මේ ආන්ඩුවටනම් හෙන 7ම ගහන්න ඔනේ මුන්ට පේන්නෙ නැ...</td>\n    </tr>\n    <tr>\n      <th>...</th>\n      <td>...</td>\n      <td>...</td>\n    </tr>\n    <tr>\n      <th>2495</th>\n      <td>task1a_test_2496</td>\n      <td>රටක ආර්ථිකය කෙලෙසපු මොළකරු පට්ට හොරෙක් ! #SriL...</td>\n    </tr>\n    <tr>\n      <th>2496</th>\n      <td>task1a_test_2497</td>\n      <td>@USER හරකා මොකා උනත් අවසානෙ මසට යාලු</td>\n    </tr>\n    <tr>\n      <th>2497</th>\n      <td>task1a_test_2498</td>\n      <td>@USER තොපි වගේ කාළකන්නි මාධ්‍ය ආයතන තහනම් කරන ...</td>\n    </tr>\n    <tr>\n      <th>2498</th>\n      <td>task1a_test_2499</td>\n      <td>රියැදුරු බලපත්‍ර නිකුත් කිරීම ඇතුළු සියලු කටයු...</td>\n    </tr>\n    <tr>\n      <th>2499</th>\n      <td>task1a_test_2500</td>\n      <td>නොදකින් අම්මගෙන් බැනුම් අහගෙන පාඩම් නොකර මැච් ...</td>\n    </tr>\n  </tbody>\n</table>\n<p>2500 rows × 2 columns</p>\n</div>"
          },
          "metadata": {}
        }
      ]
    },
    {
      "cell_type": "code",
      "source": [
        "import numpy as np\n",
        "from tqdm.auto import tqdm\n",
        "from gensim.models import FastText\n",
        "from nltk.tokenize import word_tokenize\n",
        "from string import punctuation\n"
      ],
      "metadata": {
        "execution": {
          "iopub.status.busy": "2023-10-26T01:07:09.788180Z",
          "iopub.execute_input": "2023-10-26T01:07:09.788892Z",
          "iopub.status.idle": "2023-10-26T01:07:10.955610Z",
          "shell.execute_reply.started": "2023-10-26T01:07:09.788854Z",
          "shell.execute_reply": "2023-10-26T01:07:10.954462Z"
        },
        "trusted": true,
        "id": "u2XcJJrsuNNG"
      },
      "execution_count": null,
      "outputs": []
    },
    {
      "cell_type": "code",
      "source": [
        "# Pre-processing tweet (wajib/dasar)\n",
        "\n",
        "import re\n",
        "\n",
        "def preprocess_tweet(text):\n",
        "    text = re.sub('@username', 'MENTIONED_NAME ', text)                           # Removes usernames\n",
        "    text = re.sub('@AUTHOR', 'MENTIONED_NAME', text)                              # Removes usernames\n",
        "    text = re.sub('@USER', 'MENTIONED_NAME', text)                                # Removes usernames\n",
        "    text = re.sub('((www\\.[^\\s]+)|(https?://[^\\s]+))', '', text)                  # Remove URLs\n",
        "    text = re.sub(r\"\\d+\", \"\", text)                                               # Removes all digits\n",
        "    text = re.sub('&quot;',\" \", text)                                             # Remove (&quot;)\n",
        "    text = re.sub(r\"\\b[a-zA-Z]\\b\", \"\", str(text))                                 # Removes all single characters\n",
        "    text = re.sub(r'(.)\\1+', r'\\1\\1', text)                                       # Convert more than 2 letter repetitions to 2 letter\n",
        "    text = re.sub(r\"\\t+\", \" \", text)                                              # Replaces tab spaces with single space\n",
        "    text = re.sub(r\"\\s+\", \" \", text)                                              # Replaces double spaces with single space\n",
        "    text = re.sub(r'\\b(\\w+)( \\1\\b)+', r'\\1', text)                                # remove duplicate of consecutives words\n",
        "    return text\n"
      ],
      "metadata": {
        "execution": {
          "iopub.status.busy": "2023-10-26T01:07:22.368683Z",
          "iopub.execute_input": "2023-10-26T01:07:22.369054Z",
          "iopub.status.idle": "2023-10-26T01:07:22.376459Z",
          "shell.execute_reply.started": "2023-10-26T01:07:22.369024Z",
          "shell.execute_reply": "2023-10-26T01:07:22.375565Z"
        },
        "trusted": true,
        "id": "DZijCBSLuNNG"
      },
      "execution_count": null,
      "outputs": []
    },
    {
      "cell_type": "code",
      "source": [
        "# data-train with balancing\n",
        "# column name = \"cleantweet\" --> standard text cleaning\n",
        "\n",
        "shuffled_train['cleantweet'] = shuffled_train['tweet'].apply(preprocess_tweet)\n",
        "shuffled_train"
      ],
      "metadata": {
        "execution": {
          "iopub.status.busy": "2023-10-26T01:07:27.527577Z",
          "iopub.execute_input": "2023-10-26T01:07:27.528303Z",
          "iopub.status.idle": "2023-10-26T01:07:28.097449Z",
          "shell.execute_reply.started": "2023-10-26T01:07:27.528266Z",
          "shell.execute_reply": "2023-10-26T01:07:28.096338Z"
        },
        "trusted": true,
        "id": "siFecCXhuNNG",
        "outputId": "ee4596d8-9152-4cf7-c3ab-7f55b99fff35"
      },
      "execution_count": null,
      "outputs": [
        {
          "execution_count": 31,
          "output_type": "execute_result",
          "data": {
            "text/plain": "     index      tweet_id                                              tweet  \\\n3030  7099  1.145568e+18           @USER ,  @USER  @USER ටහුක්  තෝ ඉන්නවා ද   \n3642  1331  6.756934e+17  ඉස්සර උබ වලියක් නම් ලොවෙත් කියනො ගිහාන් අයියා ...   \n539   4881  1.396944e+18                 නින්ද යන්නේ නැති එක නම් කරුම ලෙඩක්   \n1089  8589           NaN  10  අළු වලින් ගොයම් ගස් පෝෂණය වෙලා හැදීල එන පි...   \n196   1169  1.161323e+18  @USER රිචඩ් ද සොයිසා ප්‍රේමකීර්ති ද අල්විස් රෝ...   \n...    ...           ...                                                ...   \n1237  2408  1.185154e+18  @USER නරකද වී නිෂ්පාදන වියදම් අඩුකරලා ගොවියායි...   \n5752   668  1.053322e+18    කහපාට රෙද්දකින් තඩි පීප්පයක් ඔතා තිබූ ඒ අවස්තාව   \n3387   634  1.166635e+18  ගත මදක් පේන ලෙස උස්සලා අන්දා සිටි බැවින් සරාගි...   \n1145  8645           NaN  අහසේ දෙයියෝ හුත්තෝ දෙයියෝ ඉන්නේ මෙහෙ මෙහෙ උට්ට...   \n1911   995  1.478016e+18                   @USER හිනාවෙන්න තැන් නෑ මේවාට :3   \n\n     label                                         cleantweet  \n3030   HOF  MENTIONED_NAME , MENTIONED_NAME ටහුක් තෝ ඉන්නවා ද  \n3642   HOF  ඉස්සර උබ වලියක් නම් ලොවෙත් කියනො ගිහාන් අයියා ...  \n539    NOT                 නින්ද යන්නේ නැති එක නම් කරුම ලෙඩක්  \n1089   HOF   අළු වලින් ගොයම් ගස් පෝෂණය වෙලා හැදීල එන පිදුර...  \n196    NOT  MENTIONED_NAME රිචඩ් ද සොයිසා ප්‍රේමකීර්ති ද අ...  \n...    ...                                                ...  \n1237   NOT  MENTIONED_NAME නරකද වී නිෂ්පාදන වියදම් අඩුකරලා...  \n5752   NOT    කහපාට රෙද්දකින් තඩි පීප්පයක් ඔතා තිබූ ඒ අවස්තාව  \n3387   NOT  ගත මදක් පේන ලෙස උස්සලා අන්දා සිටි බැවින් සරාගි...  \n1145   HOF  අහසේ දෙයියෝ හුත්තෝ දෙයියෝ ඉන්නේ මෙහෙ මෙහෙ උට්ට...  \n1911   NOT           MENTIONED_NAME හිනාවෙන්න තැන් නෑ මේවාට :  \n\n[7786 rows x 5 columns]",
            "text/html": "<div>\n<style scoped>\n    .dataframe tbody tr th:only-of-type {\n        vertical-align: middle;\n    }\n\n    .dataframe tbody tr th {\n        vertical-align: top;\n    }\n\n    .dataframe thead th {\n        text-align: right;\n    }\n</style>\n<table border=\"1\" class=\"dataframe\">\n  <thead>\n    <tr style=\"text-align: right;\">\n      <th></th>\n      <th>index</th>\n      <th>tweet_id</th>\n      <th>tweet</th>\n      <th>label</th>\n      <th>cleantweet</th>\n    </tr>\n  </thead>\n  <tbody>\n    <tr>\n      <th>3030</th>\n      <td>7099</td>\n      <td>1.145568e+18</td>\n      <td>@USER ,  @USER  @USER ටහුක්  තෝ ඉන්නවා ද</td>\n      <td>HOF</td>\n      <td>MENTIONED_NAME , MENTIONED_NAME ටහුක් තෝ ඉන්නවා ද</td>\n    </tr>\n    <tr>\n      <th>3642</th>\n      <td>1331</td>\n      <td>6.756934e+17</td>\n      <td>ඉස්සර උබ වලියක් නම් ලොවෙත් කියනො ගිහාන් අයියා ...</td>\n      <td>HOF</td>\n      <td>ඉස්සර උබ වලියක් නම් ලොවෙත් කියනො ගිහාන් අයියා ...</td>\n    </tr>\n    <tr>\n      <th>539</th>\n      <td>4881</td>\n      <td>1.396944e+18</td>\n      <td>නින්ද යන්නේ නැති එක නම් කරුම ලෙඩක්</td>\n      <td>NOT</td>\n      <td>නින්ද යන්නේ නැති එක නම් කරුම ලෙඩක්</td>\n    </tr>\n    <tr>\n      <th>1089</th>\n      <td>8589</td>\n      <td>NaN</td>\n      <td>10  අළු වලින් ගොයම් ගස් පෝෂණය වෙලා හැදීල එන පි...</td>\n      <td>HOF</td>\n      <td>අළු වලින් ගොයම් ගස් පෝෂණය වෙලා හැදීල එන පිදුර...</td>\n    </tr>\n    <tr>\n      <th>196</th>\n      <td>1169</td>\n      <td>1.161323e+18</td>\n      <td>@USER රිචඩ් ද සොයිසා ප්‍රේමකීර්ති ද අල්විස් රෝ...</td>\n      <td>NOT</td>\n      <td>MENTIONED_NAME රිචඩ් ද සොයිසා ප්‍රේමකීර්ති ද අ...</td>\n    </tr>\n    <tr>\n      <th>...</th>\n      <td>...</td>\n      <td>...</td>\n      <td>...</td>\n      <td>...</td>\n      <td>...</td>\n    </tr>\n    <tr>\n      <th>1237</th>\n      <td>2408</td>\n      <td>1.185154e+18</td>\n      <td>@USER නරකද වී නිෂ්පාදන වියදම් අඩුකරලා ගොවියායි...</td>\n      <td>NOT</td>\n      <td>MENTIONED_NAME නරකද වී නිෂ්පාදන වියදම් අඩුකරලා...</td>\n    </tr>\n    <tr>\n      <th>5752</th>\n      <td>668</td>\n      <td>1.053322e+18</td>\n      <td>කහපාට රෙද්දකින් තඩි පීප්පයක් ඔතා තිබූ ඒ අවස්තාව</td>\n      <td>NOT</td>\n      <td>කහපාට රෙද්දකින් තඩි පීප්පයක් ඔතා තිබූ ඒ අවස්තාව</td>\n    </tr>\n    <tr>\n      <th>3387</th>\n      <td>634</td>\n      <td>1.166635e+18</td>\n      <td>ගත මදක් පේන ලෙස උස්සලා අන්දා සිටි බැවින් සරාගි...</td>\n      <td>NOT</td>\n      <td>ගත මදක් පේන ලෙස උස්සලා අන්දා සිටි බැවින් සරාගි...</td>\n    </tr>\n    <tr>\n      <th>1145</th>\n      <td>8645</td>\n      <td>NaN</td>\n      <td>අහසේ දෙයියෝ හුත්තෝ දෙයියෝ ඉන්නේ මෙහෙ මෙහෙ උට්ට...</td>\n      <td>HOF</td>\n      <td>අහසේ දෙයියෝ හුත්තෝ දෙයියෝ ඉන්නේ මෙහෙ මෙහෙ උට්ට...</td>\n    </tr>\n    <tr>\n      <th>1911</th>\n      <td>995</td>\n      <td>1.478016e+18</td>\n      <td>@USER හිනාවෙන්න තැන් නෑ මේවාට :3</td>\n      <td>NOT</td>\n      <td>MENTIONED_NAME හිනාවෙන්න තැන් නෑ මේවාට :</td>\n    </tr>\n  </tbody>\n</table>\n<p>7786 rows × 5 columns</p>\n</div>"
          },
          "metadata": {}
        }
      ]
    },
    {
      "cell_type": "code",
      "source": [
        "df_test['cleantweet'] = df_test['tweet'].apply(preprocess_tweet)\n",
        "df_test"
      ],
      "metadata": {
        "execution": {
          "iopub.status.busy": "2023-10-26T01:07:32.867504Z",
          "iopub.execute_input": "2023-10-26T01:07:32.868403Z",
          "iopub.status.idle": "2023-10-26T01:07:33.058883Z",
          "shell.execute_reply.started": "2023-10-26T01:07:32.868365Z",
          "shell.execute_reply": "2023-10-26T01:07:33.057652Z"
        },
        "trusted": true,
        "id": "8OKWeBK2uNNH",
        "outputId": "ff52bf2e-3f5e-4bfe-b52f-d86c3af1eae1"
      },
      "execution_count": null,
      "outputs": [
        {
          "execution_count": 32,
          "output_type": "execute_result",
          "data": {
            "text/plain": "              tweet_id                                              tweet  \\\n0        task1a_test_1  ඔව් ඔව්.. තොපි ආදරේට කලොත් කරන්නෙ ඔහොම වැඩක් ත...   \n1        task1a_test_2               ඇයි උඹ අලි පු*න්ද? #SriLankanThreats   \n2        task1a_test_3                     @USER  @USER පක ටෝක් දෙන්න එපා   \n3        task1a_test_4  මම නවය වසරේදී,පංති නායකයා කාලේ පංතියේ කොස්ස නැ...   \n4        task1a_test_5  මේ ආන්ඩුවටනම් හෙන 7ම ගහන්න ඔනේ මුන්ට පේන්නෙ නැ...   \n...                ...                                                ...   \n2495  task1a_test_2496  රටක ආර්ථිකය කෙලෙසපු මොළකරු පට්ට හොරෙක් ! #SriL...   \n2496  task1a_test_2497               @USER හරකා මොකා උනත් අවසානෙ මසට යාලු   \n2497  task1a_test_2498  @USER තොපි වගේ කාළකන්නි මාධ්‍ය ආයතන තහනම් කරන ...   \n2498  task1a_test_2499  රියැදුරු බලපත්‍ර නිකුත් කිරීම ඇතුළු සියලු කටයු...   \n2499  task1a_test_2500  නොදකින් අම්මගෙන් බැනුම් අහගෙන පාඩම් නොකර මැච් ...   \n\n                                             cleantweet  \n0     ඔව් ඔව්.. තොපි ආදරේට කලොත් කරන්නෙ ඔහොම වැඩක් ත...  \n1                  ඇයි උඹ අලි පු*න්ද? #SriLankanThreats  \n2                      MENTIONED_NAME පක ටෝක් දෙන්න එපා  \n3     මම නවය වසරේදී,පංති නායකයා කාලේ පංතියේ කොස්ස නැ...  \n4     මේ ආන්ඩුවටනම් හෙන ම ගහන්න ඔනේ මුන්ට පේන්නෙ නැද...  \n...                                                 ...  \n2495  රටක ආර්ථිකය කෙලෙසපු මොළකරු පට්ට හොරෙක් ! #SriL...  \n2496      MENTIONED_NAME හරකා මොකා උනත් අවසානෙ මසට යාලු  \n2497  MENTIONED_NAME තොපි වගේ කාළකන්නි මාධ්‍ය ආයතන ත...  \n2498  රියැදුරු බලපත්‍ර නිකුත් කිරීම ඇතුළු සියලු කටයු...  \n2499  නොදකින් අම්මගෙන් බැනුම් අහගෙන පාඩම් නොකර මැච් ...  \n\n[2500 rows x 3 columns]",
            "text/html": "<div>\n<style scoped>\n    .dataframe tbody tr th:only-of-type {\n        vertical-align: middle;\n    }\n\n    .dataframe tbody tr th {\n        vertical-align: top;\n    }\n\n    .dataframe thead th {\n        text-align: right;\n    }\n</style>\n<table border=\"1\" class=\"dataframe\">\n  <thead>\n    <tr style=\"text-align: right;\">\n      <th></th>\n      <th>tweet_id</th>\n      <th>tweet</th>\n      <th>cleantweet</th>\n    </tr>\n  </thead>\n  <tbody>\n    <tr>\n      <th>0</th>\n      <td>task1a_test_1</td>\n      <td>ඔව් ඔව්.. තොපි ආදරේට කලොත් කරන්නෙ ඔහොම වැඩක් ත...</td>\n      <td>ඔව් ඔව්.. තොපි ආදරේට කලොත් කරන්නෙ ඔහොම වැඩක් ත...</td>\n    </tr>\n    <tr>\n      <th>1</th>\n      <td>task1a_test_2</td>\n      <td>ඇයි උඹ අලි පු*න්ද? #SriLankanThreats</td>\n      <td>ඇයි උඹ අලි පු*න්ද? #SriLankanThreats</td>\n    </tr>\n    <tr>\n      <th>2</th>\n      <td>task1a_test_3</td>\n      <td>@USER  @USER පක ටෝක් දෙන්න එපා</td>\n      <td>MENTIONED_NAME පක ටෝක් දෙන්න එපා</td>\n    </tr>\n    <tr>\n      <th>3</th>\n      <td>task1a_test_4</td>\n      <td>මම නවය වසරේදී,පංති නායකයා කාලේ පංතියේ කොස්ස නැ...</td>\n      <td>මම නවය වසරේදී,පංති නායකයා කාලේ පංතියේ කොස්ස නැ...</td>\n    </tr>\n    <tr>\n      <th>4</th>\n      <td>task1a_test_5</td>\n      <td>මේ ආන්ඩුවටනම් හෙන 7ම ගහන්න ඔනේ මුන්ට පේන්නෙ නැ...</td>\n      <td>මේ ආන්ඩුවටනම් හෙන ම ගහන්න ඔනේ මුන්ට පේන්නෙ නැද...</td>\n    </tr>\n    <tr>\n      <th>...</th>\n      <td>...</td>\n      <td>...</td>\n      <td>...</td>\n    </tr>\n    <tr>\n      <th>2495</th>\n      <td>task1a_test_2496</td>\n      <td>රටක ආර්ථිකය කෙලෙසපු මොළකරු පට්ට හොරෙක් ! #SriL...</td>\n      <td>රටක ආර්ථිකය කෙලෙසපු මොළකරු පට්ට හොරෙක් ! #SriL...</td>\n    </tr>\n    <tr>\n      <th>2496</th>\n      <td>task1a_test_2497</td>\n      <td>@USER හරකා මොකා උනත් අවසානෙ මසට යාලු</td>\n      <td>MENTIONED_NAME හරකා මොකා උනත් අවසානෙ මසට යාලු</td>\n    </tr>\n    <tr>\n      <th>2497</th>\n      <td>task1a_test_2498</td>\n      <td>@USER තොපි වගේ කාළකන්නි මාධ්‍ය ආයතන තහනම් කරන ...</td>\n      <td>MENTIONED_NAME තොපි වගේ කාළකන්නි මාධ්‍ය ආයතන ත...</td>\n    </tr>\n    <tr>\n      <th>2498</th>\n      <td>task1a_test_2499</td>\n      <td>රියැදුරු බලපත්‍ර නිකුත් කිරීම ඇතුළු සියලු කටයු...</td>\n      <td>රියැදුරු බලපත්‍ර නිකුත් කිරීම ඇතුළු සියලු කටයු...</td>\n    </tr>\n    <tr>\n      <th>2499</th>\n      <td>task1a_test_2500</td>\n      <td>නොදකින් අම්මගෙන් බැනුම් අහගෙන පාඩම් නොකර මැච් ...</td>\n      <td>නොදකින් අම්මගෙන් බැනුම් අහගෙන පාඩම් නොකර මැච් ...</td>\n    </tr>\n  </tbody>\n</table>\n<p>2500 rows × 3 columns</p>\n</div>"
          },
          "metadata": {}
        }
      ]
    },
    {
      "cell_type": "code",
      "source": [
        "# data_dev for validation\n",
        "\n",
        "df_dev1['cleantweet'] = df_dev1['tweet'].apply(preprocess_tweet)\n",
        "df_dev1"
      ],
      "metadata": {
        "execution": {
          "iopub.status.busy": "2023-10-26T01:07:52.349153Z",
          "iopub.execute_input": "2023-10-26T01:07:52.349708Z",
          "iopub.status.idle": "2023-10-26T01:07:52.426112Z",
          "shell.execute_reply.started": "2023-10-26T01:07:52.349657Z",
          "shell.execute_reply": "2023-10-26T01:07:52.424557Z"
        },
        "trusted": true,
        "id": "eLFfGAx6uNNH",
        "outputId": "a859a394-aaf2-45e0-a662-ac81878b1b1c"
      },
      "execution_count": null,
      "outputs": [
        {
          "execution_count": 33,
          "output_type": "execute_result",
          "data": {
            "text/plain": "      index             tweet_id  \\\n44     3083  1397911184448184329   \n3006   6994  1047403540291801088   \n2628   2355  1303906901072195584   \n641    5076   587902150593740801   \n3889   4129  1447787746072932352   \n...     ...                  ...   \n7096   1700  1059087806155223040   \n1603   5608   672964887463628800   \n4697   6993   696699202500481024   \n4077   1365  1088791528305176576   \n3306   5990   630927934723899392   \n\n                                                  tweet label  \\\n44    ලංකාව දැක්කත් ඇති නැව් පිටින් ගිනි ගන්නේ.   ලං...   NOT   \n3006  ඔපිස් එකේ ගෑනු එක්ක යන්න එපා බිජ්ජ කපනවා  NAYA...   HOF   \n2628  @USER මෙච්චර දේෂියව කවුපි මුන් ඇට පරිප්පු ලංකා...   HOF   \n641   @USER @USER අනේ බොල මෙච්චර වෙලා නොකා හිටියා වග...   NOT   \n3889                 @USER වේසි වේසි මය් ගවුමක් ඇ න්දාට   HOF   \n...                                                 ...   ...   \n7096  @USER ඒවා බොරැ..තේරෙන්නැද්ද කට හඩ සමාන කරන්න ග...   NOT   \n1603  @USER @USER  දැන්වත් හොඳට හිනාවෙලා ඉන්න අපේ මෝ...   NOT   \n4697  පුක සුදුදැයි කියලාවත් මම දන්නෙ නැති කෙල්ලෙක් ම...   HOF   \n4077  @USER එහෙම බැ. ගනින් හිතට. පැය තුනක් නිදාගෙන ය...   NOT   \n3306  vikalpavoices අධික තන්හාව,බලයට ඇති කෑදරකම මිනි...   NOT   \n\n                                             cleantweet  \n44    ලංකාව දැක්කත් ඇති නැව් පිටින් ගිනි ගන්නේ. ලංකා...  \n3006  ඔපිස් එකේ ගෑනු එක්ක යන්න එපා බිජ්ජ කපනවා NAYAN...  \n2628  MENTIONED_NAME මෙච්චර දේෂියව කවුපි මුන් ඇට පරි...  \n641   MENTIONED_NAME අනේ බොල මෙච්චර වෙලා නොකා හිටියා...  \n3889        MENTIONED_NAME වේසි වේසි මය් ගවුමක් ඇ න්දාට  \n...                                                 ...  \n7096  MENTIONED_NAME ඒවා බොරැ..තේරෙන්නැද්ද කට හඩ සමා...  \n1603  MENTIONED_NAME දැන්වත් හොඳට හිනාවෙලා ඉන්න අපේ ...  \n4697  පුක සුදුදැයි කියලාවත් මම දන්නෙ නැති කෙල්ලෙක් ම...  \n4077  MENTIONED_NAME එහෙම බැ. ගනින් හිතට. පැය තුනක් ...  \n3306  vikalpavoices අධික තන්හාව,බලයට ඇති කෑදරකම මිනි...  \n\n[750 rows x 5 columns]",
            "text/html": "<div>\n<style scoped>\n    .dataframe tbody tr th:only-of-type {\n        vertical-align: middle;\n    }\n\n    .dataframe tbody tr th {\n        vertical-align: top;\n    }\n\n    .dataframe thead th {\n        text-align: right;\n    }\n</style>\n<table border=\"1\" class=\"dataframe\">\n  <thead>\n    <tr style=\"text-align: right;\">\n      <th></th>\n      <th>index</th>\n      <th>tweet_id</th>\n      <th>tweet</th>\n      <th>label</th>\n      <th>cleantweet</th>\n    </tr>\n  </thead>\n  <tbody>\n    <tr>\n      <th>44</th>\n      <td>3083</td>\n      <td>1397911184448184329</td>\n      <td>ලංකාව දැක්කත් ඇති නැව් පිටින් ගිනි ගන්නේ.   ලං...</td>\n      <td>NOT</td>\n      <td>ලංකාව දැක්කත් ඇති නැව් පිටින් ගිනි ගන්නේ. ලංකා...</td>\n    </tr>\n    <tr>\n      <th>3006</th>\n      <td>6994</td>\n      <td>1047403540291801088</td>\n      <td>ඔපිස් එකේ ගෑනු එක්ක යන්න එපා බිජ්ජ කපනවා  NAYA...</td>\n      <td>HOF</td>\n      <td>ඔපිස් එකේ ගෑනු එක්ක යන්න එපා බිජ්ජ කපනවා NAYAN...</td>\n    </tr>\n    <tr>\n      <th>2628</th>\n      <td>2355</td>\n      <td>1303906901072195584</td>\n      <td>@USER මෙච්චර දේෂියව කවුපි මුන් ඇට පරිප්පු ලංකා...</td>\n      <td>HOF</td>\n      <td>MENTIONED_NAME මෙච්චර දේෂියව කවුපි මුන් ඇට පරි...</td>\n    </tr>\n    <tr>\n      <th>641</th>\n      <td>5076</td>\n      <td>587902150593740801</td>\n      <td>@USER @USER අනේ බොල මෙච්චර වෙලා නොකා හිටියා වග...</td>\n      <td>NOT</td>\n      <td>MENTIONED_NAME අනේ බොල මෙච්චර වෙලා නොකා හිටියා...</td>\n    </tr>\n    <tr>\n      <th>3889</th>\n      <td>4129</td>\n      <td>1447787746072932352</td>\n      <td>@USER වේසි වේසි මය් ගවුමක් ඇ න්දාට</td>\n      <td>HOF</td>\n      <td>MENTIONED_NAME වේසි වේසි මය් ගවුමක් ඇ න්දාට</td>\n    </tr>\n    <tr>\n      <th>...</th>\n      <td>...</td>\n      <td>...</td>\n      <td>...</td>\n      <td>...</td>\n      <td>...</td>\n    </tr>\n    <tr>\n      <th>7096</th>\n      <td>1700</td>\n      <td>1059087806155223040</td>\n      <td>@USER ඒවා බොරැ..තේරෙන්නැද්ද කට හඩ සමාන කරන්න ග...</td>\n      <td>NOT</td>\n      <td>MENTIONED_NAME ඒවා බොරැ..තේරෙන්නැද්ද කට හඩ සමා...</td>\n    </tr>\n    <tr>\n      <th>1603</th>\n      <td>5608</td>\n      <td>672964887463628800</td>\n      <td>@USER @USER  දැන්වත් හොඳට හිනාවෙලා ඉන්න අපේ මෝ...</td>\n      <td>NOT</td>\n      <td>MENTIONED_NAME දැන්වත් හොඳට හිනාවෙලා ඉන්න අපේ ...</td>\n    </tr>\n    <tr>\n      <th>4697</th>\n      <td>6993</td>\n      <td>696699202500481024</td>\n      <td>පුක සුදුදැයි කියලාවත් මම දන්නෙ නැති කෙල්ලෙක් ම...</td>\n      <td>HOF</td>\n      <td>පුක සුදුදැයි කියලාවත් මම දන්නෙ නැති කෙල්ලෙක් ම...</td>\n    </tr>\n    <tr>\n      <th>4077</th>\n      <td>1365</td>\n      <td>1088791528305176576</td>\n      <td>@USER එහෙම බැ. ගනින් හිතට. පැය තුනක් නිදාගෙන ය...</td>\n      <td>NOT</td>\n      <td>MENTIONED_NAME එහෙම බැ. ගනින් හිතට. පැය තුනක් ...</td>\n    </tr>\n    <tr>\n      <th>3306</th>\n      <td>5990</td>\n      <td>630927934723899392</td>\n      <td>vikalpavoices අධික තන්හාව,බලයට ඇති කෑදරකම මිනි...</td>\n      <td>NOT</td>\n      <td>vikalpavoices අධික තන්හාව,බලයට ඇති කෑදරකම මිනි...</td>\n    </tr>\n  </tbody>\n</table>\n<p>750 rows × 5 columns</p>\n</div>"
          },
          "metadata": {}
        }
      ]
    },
    {
      "cell_type": "code",
      "source": [
        "# data-train without balancing\n",
        "\n",
        "df_train1['cleantweet'] = df_train1['tweet'].apply(preprocess_tweet)\n",
        "df_train1"
      ],
      "metadata": {
        "execution": {
          "iopub.status.busy": "2023-10-26T01:08:01.520848Z",
          "iopub.execute_input": "2023-10-26T01:08:01.522107Z",
          "iopub.status.idle": "2023-10-26T01:08:02.005292Z",
          "shell.execute_reply.started": "2023-10-26T01:08:01.522051Z",
          "shell.execute_reply": "2023-10-26T01:08:02.004141Z"
        },
        "trusted": true,
        "id": "YrF_ZuRguNNH",
        "outputId": "f927218e-a716-4537-c040-acb7307f2766"
      },
      "execution_count": null,
      "outputs": [
        {
          "execution_count": 34,
          "output_type": "execute_result",
          "data": {
            "text/plain": "      index             tweet_id  \\\n6626   7327  1276189330923335681   \n1357   1790   778300947567026176   \n819    6050  1481279802829320198   \n6217    502   618419188156137472   \n1105   2974  1186283920842584064   \n...     ...                  ...   \n5958   1477   627511530980966400   \n3271   5403  1383455672403054594   \n6305   4779   693998649282576384   \n2344    275   798790313066102784   \n5919   4285   717334380784533504   \n\n                                                  tweet label  \\\n6626  අපි පොඩි කාලෙ අහපු \"ඇම්ඩගෙ කතා\" ඇත්තද එතකොට.? ...   NOT   \n1357  @USER  @USER ටහුඩු, හැපි බර්ත්ඩේ ටෝකා පුතේ. සො...   NOT   \n819                         @USER ඩ්‍රාමා එච්චර අමාරු ද   NOT   \n6217  හැමෝම තමුන්ගේ පාසලේ හිටපු පට්ට ඩෑල් ගැන වර්ණා ...   NOT   \n1105               @USER පහුගිය අවුරැදු හතර හමාරේ වගේ ,   NOT   \n...                                                 ...   ...   \n5958  මේ Max Dura මගුලක් නිසා හෙන වදේ බන්. ඇයි අර මු...   NOT   \n3271  අමුතුවෙන් හිතන්නත් දෙයක් මෙතන නැහැ... මේක තමයි...   HOF   \n6305  තම දියණියට ලිපියක් දුන් සිසුවා පැහැරගත් පියා ස...   NOT   \n2344  @USER හම්බන්තොටයි, මත්තලයි ගැන කතා කරන්න පුලුව...   NOT   \n5919  Wrestlemania එක කොච්චර චාටර් උනත් මේක ආයෙත් බල...   NOT   \n\n                                             cleantweet  \n6626  අපි පොඩි කාලෙ අහපු \"ඇම්ඩගෙ කතා\" ඇත්තද එතකොට.? ...  \n1357  MENTIONED_NAME ටහුඩු, හැපි බර්ත්ඩේ ටෝකා පුතේ. ...  \n819                MENTIONED_NAME ඩ්‍රාමා එච්චර අමාරු ද  \n6217  හැමෝම තමුන්ගේ පාසලේ හිටපු පට්ට ඩෑල් ගැන වර්ණා ...  \n1105      MENTIONED_NAME පහුගිය අවුරැදු හතර හමාරේ වගේ ,  \n...                                                 ...  \n5958  මේ Max Dura මගුලක් නිසා හෙන වදේ බන්. ඇයි අර මු...  \n3271  අමුතුවෙන් හිතන්නත් දෙයක් මෙතන නැහැ.. මේක තමයි ...  \n6305  තම දියණියට ලිපියක් දුන් සිසුවා පැහැරගත් පියා ස...  \n2344  MENTIONED_NAME හම්බන්තොටයි, මත්තලයි ගැන කතා කර...  \n5919  Wrestlemania එක කොච්චර චාටර් උනත් මේක ආයෙත් බල...  \n\n[6750 rows x 5 columns]",
            "text/html": "<div>\n<style scoped>\n    .dataframe tbody tr th:only-of-type {\n        vertical-align: middle;\n    }\n\n    .dataframe tbody tr th {\n        vertical-align: top;\n    }\n\n    .dataframe thead th {\n        text-align: right;\n    }\n</style>\n<table border=\"1\" class=\"dataframe\">\n  <thead>\n    <tr style=\"text-align: right;\">\n      <th></th>\n      <th>index</th>\n      <th>tweet_id</th>\n      <th>tweet</th>\n      <th>label</th>\n      <th>cleantweet</th>\n    </tr>\n  </thead>\n  <tbody>\n    <tr>\n      <th>6626</th>\n      <td>7327</td>\n      <td>1276189330923335681</td>\n      <td>අපි පොඩි කාලෙ අහපු \"ඇම්ඩගෙ කතා\" ඇත්තද එතකොට.? ...</td>\n      <td>NOT</td>\n      <td>අපි පොඩි කාලෙ අහපු \"ඇම්ඩගෙ කතා\" ඇත්තද එතකොට.? ...</td>\n    </tr>\n    <tr>\n      <th>1357</th>\n      <td>1790</td>\n      <td>778300947567026176</td>\n      <td>@USER  @USER ටහුඩු, හැපි බර්ත්ඩේ ටෝකා පුතේ. සො...</td>\n      <td>NOT</td>\n      <td>MENTIONED_NAME ටහුඩු, හැපි බර්ත්ඩේ ටෝකා පුතේ. ...</td>\n    </tr>\n    <tr>\n      <th>819</th>\n      <td>6050</td>\n      <td>1481279802829320198</td>\n      <td>@USER ඩ්‍රාමා එච්චර අමාරු ද</td>\n      <td>NOT</td>\n      <td>MENTIONED_NAME ඩ්‍රාමා එච්චර අමාරු ද</td>\n    </tr>\n    <tr>\n      <th>6217</th>\n      <td>502</td>\n      <td>618419188156137472</td>\n      <td>හැමෝම තමුන්ගේ පාසලේ හිටපු පට්ට ඩෑල් ගැන වර්ණා ...</td>\n      <td>NOT</td>\n      <td>හැමෝම තමුන්ගේ පාසලේ හිටපු පට්ට ඩෑල් ගැන වර්ණා ...</td>\n    </tr>\n    <tr>\n      <th>1105</th>\n      <td>2974</td>\n      <td>1186283920842584064</td>\n      <td>@USER පහුගිය අවුරැදු හතර හමාරේ වගේ ,</td>\n      <td>NOT</td>\n      <td>MENTIONED_NAME පහුගිය අවුරැදු හතර හමාරේ වගේ ,</td>\n    </tr>\n    <tr>\n      <th>...</th>\n      <td>...</td>\n      <td>...</td>\n      <td>...</td>\n      <td>...</td>\n      <td>...</td>\n    </tr>\n    <tr>\n      <th>5958</th>\n      <td>1477</td>\n      <td>627511530980966400</td>\n      <td>මේ Max Dura මගුලක් නිසා හෙන වදේ බන්. ඇයි අර මු...</td>\n      <td>NOT</td>\n      <td>මේ Max Dura මගුලක් නිසා හෙන වදේ බන්. ඇයි අර මු...</td>\n    </tr>\n    <tr>\n      <th>3271</th>\n      <td>5403</td>\n      <td>1383455672403054594</td>\n      <td>අමුතුවෙන් හිතන්නත් දෙයක් මෙතන නැහැ... මේක තමයි...</td>\n      <td>HOF</td>\n      <td>අමුතුවෙන් හිතන්නත් දෙයක් මෙතන නැහැ.. මේක තමයි ...</td>\n    </tr>\n    <tr>\n      <th>6305</th>\n      <td>4779</td>\n      <td>693998649282576384</td>\n      <td>තම දියණියට ලිපියක් දුන් සිසුවා පැහැරගත් පියා ස...</td>\n      <td>NOT</td>\n      <td>තම දියණියට ලිපියක් දුන් සිසුවා පැහැරගත් පියා ස...</td>\n    </tr>\n    <tr>\n      <th>2344</th>\n      <td>275</td>\n      <td>798790313066102784</td>\n      <td>@USER හම්බන්තොටයි, මත්තලයි ගැන කතා කරන්න පුලුව...</td>\n      <td>NOT</td>\n      <td>MENTIONED_NAME හම්බන්තොටයි, මත්තලයි ගැන කතා කර...</td>\n    </tr>\n    <tr>\n      <th>5919</th>\n      <td>4285</td>\n      <td>717334380784533504</td>\n      <td>Wrestlemania එක කොච්චර චාටර් උනත් මේක ආයෙත් බල...</td>\n      <td>NOT</td>\n      <td>Wrestlemania එක කොච්චර චාටර් උනත් මේක ආයෙත් බල...</td>\n    </tr>\n  </tbody>\n</table>\n<p>6750 rows × 5 columns</p>\n</div>"
          },
          "metadata": {}
        }
      ]
    },
    {
      "cell_type": "code",
      "source": [
        "# function for dealing with emoji (see the paper)\n",
        "\n",
        "def detect_emoji(a):\n",
        "    emoji_pattern = re.compile(\"[\\U0001F600-\\U0001F9FF\\U0001F300-\\U0001F5FF\\U0001F680-\\U0001F6FF\\U0001F700-\\U0001F77F\\U0001F780-\\U0001F7FF\\U0001F800-\\U0001F8FF\\U0001F900-\\U0001F9FF\\U0001FA00-\\U0001FA6F\\U0001FA70-\\U0001FAFF]+\")\n",
        "\n",
        "# Find all emojis in the text\n",
        "    emojis = emoji_pattern.findall(a)\n",
        "    emo=[]\n",
        "# Remove spaces from extracted emojis\n",
        "    emojis_cleaned = [emoji.replace(\" \", \"\") for emoji in emojis]\n",
        "    count_emoji = [0]\n",
        "    #print(emojis_cleaned)\n",
        "    new_text = a.split(' ')\n",
        "    for emoji in emojis_cleaned:\n",
        "        new = (re.split(r'', emoji))\n",
        "        for x in new:\n",
        "            #print((x))\n",
        "            new_text.append(x)\n",
        "    new_text1 = ' '.join(new_text)\n",
        "    new_text1 = re.sub(r\"\\s+\", \" \", new_text1)\n",
        "    return new_text1\n",
        "\n"
      ],
      "metadata": {
        "execution": {
          "iopub.status.busy": "2023-10-26T01:08:52.171421Z",
          "iopub.execute_input": "2023-10-26T01:08:52.171951Z",
          "iopub.status.idle": "2023-10-26T01:08:52.184350Z",
          "shell.execute_reply.started": "2023-10-26T01:08:52.171912Z",
          "shell.execute_reply": "2023-10-26T01:08:52.182610Z"
        },
        "trusted": true,
        "id": "K7Cqr9hnuNNH"
      },
      "execution_count": null,
      "outputs": []
    },
    {
      "cell_type": "code",
      "source": [
        "# column name = \"ok\" --> emojis are treated as special tokens\n",
        "\n",
        "shuffled_train['ok'] = shuffled_train['cleantweet'].apply(detect_emoji)\n",
        "shuffled_train\n"
      ],
      "metadata": {
        "execution": {
          "iopub.status.busy": "2023-10-26T01:12:57.957007Z",
          "iopub.execute_input": "2023-10-26T01:12:57.957671Z",
          "iopub.status.idle": "2023-10-26T01:12:58.171221Z",
          "shell.execute_reply.started": "2023-10-26T01:12:57.957627Z",
          "shell.execute_reply": "2023-10-26T01:12:58.169693Z"
        },
        "trusted": true,
        "id": "lVDgtnoauNNI",
        "outputId": "786cee69-7c1f-4f18-a6f5-9e1f68d2f49a"
      },
      "execution_count": null,
      "outputs": [
        {
          "execution_count": 50,
          "output_type": "execute_result",
          "data": {
            "text/plain": "     index      tweet_id                                              tweet  \\\n3030  7099  1.145568e+18           @USER ,  @USER  @USER ටහුක්  තෝ ඉන්නවා ද   \n3642  1331  6.756934e+17  ඉස්සර උබ වලියක් නම් ලොවෙත් කියනො ගිහාන් අයියා ...   \n539   4881  1.396944e+18                 නින්ද යන්නේ නැති එක නම් කරුම ලෙඩක්   \n1089  8589           NaN  10  අළු වලින් ගොයම් ගස් පෝෂණය වෙලා හැදීල එන පි...   \n196   1169  1.161323e+18  @USER රිචඩ් ද සොයිසා ප්‍රේමකීර්ති ද අල්විස් රෝ...   \n...    ...           ...                                                ...   \n1237  2408  1.185154e+18  @USER නරකද වී නිෂ්පාදන වියදම් අඩුකරලා ගොවියායි...   \n5752   668  1.053322e+18    කහපාට රෙද්දකින් තඩි පීප්පයක් ඔතා තිබූ ඒ අවස්තාව   \n3387   634  1.166635e+18  ගත මදක් පේන ලෙස උස්සලා අන්දා සිටි බැවින් සරාගි...   \n1145  8645           NaN  අහසේ දෙයියෝ හුත්තෝ දෙයියෝ ඉන්නේ මෙහෙ මෙහෙ උට්ට...   \n1911   995  1.478016e+18                   @USER හිනාවෙන්න තැන් නෑ මේවාට :3   \n\n     label                                         cleantweet  \\\n3030   HOF  MENTIONED_NAME , MENTIONED_NAME ටහුක් තෝ ඉන්නවා ද   \n3642   HOF  ඉස්සර උබ වලියක් නම් ලොවෙත් කියනො ගිහාන් අයියා ...   \n539    NOT                 නින්ද යන්නේ නැති එක නම් කරුම ලෙඩක්   \n1089   HOF   අළු වලින් ගොයම් ගස් පෝෂණය වෙලා හැදීල එන පිදුර...   \n196    NOT  MENTIONED_NAME රිචඩ් ද සොයිසා ප්‍රේමකීර්ති ද අ...   \n...    ...                                                ...   \n1237   NOT  MENTIONED_NAME නරකද වී නිෂ්පාදන වියදම් අඩුකරලා...   \n5752   NOT    කහපාට රෙද්දකින් තඩි පීප්පයක් ඔතා තිබූ ඒ අවස්තාව   \n3387   NOT  ගත මදක් පේන ලෙස උස්සලා අන්දා සිටි බැවින් සරාගි...   \n1145   HOF  අහසේ දෙයියෝ හුත්තෝ දෙයියෝ ඉන්නේ මෙහෙ මෙහෙ උට්ට...   \n1911   NOT           MENTIONED_NAME හිනාවෙන්න තැන් නෑ මේවාට :   \n\n                                                     ok  \n3030  MENTIONED_NAME , MENTIONED_NAME ටහුක් තෝ ඉන්නවා ද  \n3642  ඉස්සර උබ වලියක් නම් ලොවෙත් කියනො ගිහාන් අයියා ...  \n539                  නින්ද යන්නේ නැති එක නම් කරුම ලෙඩක්  \n1089   අළු වලින් ගොයම් ගස් පෝෂණය වෙලා හැදීල එන පිදුර...  \n196   MENTIONED_NAME රිචඩ් ද සොයිසා ප්‍රේමකීර්ති ද අ...  \n...                                                 ...  \n1237  MENTIONED_NAME නරකද වී නිෂ්පාදන වියදම් අඩුකරලා...  \n5752    කහපාට රෙද්දකින් තඩි පීප්පයක් ඔතා තිබූ ඒ අවස්තාව  \n3387  ගත මදක් පේන ලෙස උස්සලා අන්දා සිටි බැවින් සරාගි...  \n1145  අහසේ දෙයියෝ හුත්තෝ දෙයියෝ ඉන්නේ මෙහෙ මෙහෙ උට්ට...  \n1911           MENTIONED_NAME හිනාවෙන්න තැන් නෑ මේවාට :  \n\n[7786 rows x 6 columns]",
            "text/html": "<div>\n<style scoped>\n    .dataframe tbody tr th:only-of-type {\n        vertical-align: middle;\n    }\n\n    .dataframe tbody tr th {\n        vertical-align: top;\n    }\n\n    .dataframe thead th {\n        text-align: right;\n    }\n</style>\n<table border=\"1\" class=\"dataframe\">\n  <thead>\n    <tr style=\"text-align: right;\">\n      <th></th>\n      <th>index</th>\n      <th>tweet_id</th>\n      <th>tweet</th>\n      <th>label</th>\n      <th>cleantweet</th>\n      <th>ok</th>\n    </tr>\n  </thead>\n  <tbody>\n    <tr>\n      <th>3030</th>\n      <td>7099</td>\n      <td>1.145568e+18</td>\n      <td>@USER ,  @USER  @USER ටහුක්  තෝ ඉන්නවා ද</td>\n      <td>HOF</td>\n      <td>MENTIONED_NAME , MENTIONED_NAME ටහුක් තෝ ඉන්නවා ද</td>\n      <td>MENTIONED_NAME , MENTIONED_NAME ටහුක් තෝ ඉන්නවා ද</td>\n    </tr>\n    <tr>\n      <th>3642</th>\n      <td>1331</td>\n      <td>6.756934e+17</td>\n      <td>ඉස්සර උබ වලියක් නම් ලොවෙත් කියනො ගිහාන් අයියා ...</td>\n      <td>HOF</td>\n      <td>ඉස්සර උබ වලියක් නම් ලොවෙත් කියනො ගිහාන් අයියා ...</td>\n      <td>ඉස්සර උබ වලියක් නම් ලොවෙත් කියනො ගිහාන් අයියා ...</td>\n    </tr>\n    <tr>\n      <th>539</th>\n      <td>4881</td>\n      <td>1.396944e+18</td>\n      <td>නින්ද යන්නේ නැති එක නම් කරුම ලෙඩක්</td>\n      <td>NOT</td>\n      <td>නින්ද යන්නේ නැති එක නම් කරුම ලෙඩක්</td>\n      <td>නින්ද යන්නේ නැති එක නම් කරුම ලෙඩක්</td>\n    </tr>\n    <tr>\n      <th>1089</th>\n      <td>8589</td>\n      <td>NaN</td>\n      <td>10  අළු වලින් ගොයම් ගස් පෝෂණය වෙලා හැදීල එන පි...</td>\n      <td>HOF</td>\n      <td>අළු වලින් ගොයම් ගස් පෝෂණය වෙලා හැදීල එන පිදුර...</td>\n      <td>අළු වලින් ගොයම් ගස් පෝෂණය වෙලා හැදීල එන පිදුර...</td>\n    </tr>\n    <tr>\n      <th>196</th>\n      <td>1169</td>\n      <td>1.161323e+18</td>\n      <td>@USER රිචඩ් ද සොයිසා ප්‍රේමකීර්ති ද අල්විස් රෝ...</td>\n      <td>NOT</td>\n      <td>MENTIONED_NAME රිචඩ් ද සොයිසා ප්‍රේමකීර්ති ද අ...</td>\n      <td>MENTIONED_NAME රිචඩ් ද සොයිසා ප්‍රේමකීර්ති ද අ...</td>\n    </tr>\n    <tr>\n      <th>...</th>\n      <td>...</td>\n      <td>...</td>\n      <td>...</td>\n      <td>...</td>\n      <td>...</td>\n      <td>...</td>\n    </tr>\n    <tr>\n      <th>1237</th>\n      <td>2408</td>\n      <td>1.185154e+18</td>\n      <td>@USER නරකද වී නිෂ්පාදන වියදම් අඩුකරලා ගොවියායි...</td>\n      <td>NOT</td>\n      <td>MENTIONED_NAME නරකද වී නිෂ්පාදන වියදම් අඩුකරලා...</td>\n      <td>MENTIONED_NAME නරකද වී නිෂ්පාදන වියදම් අඩුකරලා...</td>\n    </tr>\n    <tr>\n      <th>5752</th>\n      <td>668</td>\n      <td>1.053322e+18</td>\n      <td>කහපාට රෙද්දකින් තඩි පීප්පයක් ඔතා තිබූ ඒ අවස්තාව</td>\n      <td>NOT</td>\n      <td>කහපාට රෙද්දකින් තඩි පීප්පයක් ඔතා තිබූ ඒ අවස්තාව</td>\n      <td>කහපාට රෙද්දකින් තඩි පීප්පයක් ඔතා තිබූ ඒ අවස්තාව</td>\n    </tr>\n    <tr>\n      <th>3387</th>\n      <td>634</td>\n      <td>1.166635e+18</td>\n      <td>ගත මදක් පේන ලෙස උස්සලා අන්දා සිටි බැවින් සරාගි...</td>\n      <td>NOT</td>\n      <td>ගත මදක් පේන ලෙස උස්සලා අන්දා සිටි බැවින් සරාගි...</td>\n      <td>ගත මදක් පේන ලෙස උස්සලා අන්දා සිටි බැවින් සරාගි...</td>\n    </tr>\n    <tr>\n      <th>1145</th>\n      <td>8645</td>\n      <td>NaN</td>\n      <td>අහසේ දෙයියෝ හුත්තෝ දෙයියෝ ඉන්නේ මෙහෙ මෙහෙ උට්ට...</td>\n      <td>HOF</td>\n      <td>අහසේ දෙයියෝ හුත්තෝ දෙයියෝ ඉන්නේ මෙහෙ මෙහෙ උට්ට...</td>\n      <td>අහසේ දෙයියෝ හුත්තෝ දෙයියෝ ඉන්නේ මෙහෙ මෙහෙ උට්ට...</td>\n    </tr>\n    <tr>\n      <th>1911</th>\n      <td>995</td>\n      <td>1.478016e+18</td>\n      <td>@USER හිනාවෙන්න තැන් නෑ මේවාට :3</td>\n      <td>NOT</td>\n      <td>MENTIONED_NAME හිනාවෙන්න තැන් නෑ මේවාට :</td>\n      <td>MENTIONED_NAME හිනාවෙන්න තැන් නෑ මේවාට :</td>\n    </tr>\n  </tbody>\n</table>\n<p>7786 rows × 6 columns</p>\n</div>"
          },
          "metadata": {}
        }
      ]
    },
    {
      "cell_type": "code",
      "source": [
        "# data_test (for HASOC submission)\n",
        "\n",
        "df_test['ok'] = df_test['cleantweet'].apply(detect_emoji)\n",
        "df_test"
      ],
      "metadata": {
        "execution": {
          "iopub.status.busy": "2023-10-26T01:09:05.849770Z",
          "iopub.execute_input": "2023-10-26T01:09:05.850637Z",
          "iopub.status.idle": "2023-10-26T01:09:05.926606Z",
          "shell.execute_reply.started": "2023-10-26T01:09:05.850589Z",
          "shell.execute_reply": "2023-10-26T01:09:05.925641Z"
        },
        "trusted": true,
        "id": "fzxZsgpEuNNI",
        "outputId": "6540991e-ef1e-4220-fc04-3e8eb3431d45"
      },
      "execution_count": null,
      "outputs": [
        {
          "execution_count": 36,
          "output_type": "execute_result",
          "data": {
            "text/plain": "              tweet_id                                              tweet  \\\n0        task1a_test_1  ඔව් ඔව්.. තොපි ආදරේට කලොත් කරන්නෙ ඔහොම වැඩක් ත...   \n1        task1a_test_2               ඇයි උඹ අලි පු*න්ද? #SriLankanThreats   \n2        task1a_test_3                     @USER  @USER පක ටෝක් දෙන්න එපා   \n3        task1a_test_4  මම නවය වසරේදී,පංති නායකයා කාලේ පංතියේ කොස්ස නැ...   \n4        task1a_test_5  මේ ආන්ඩුවටනම් හෙන 7ම ගහන්න ඔනේ මුන්ට පේන්නෙ නැ...   \n...                ...                                                ...   \n2495  task1a_test_2496  රටක ආර්ථිකය කෙලෙසපු මොළකරු පට්ට හොරෙක් ! #SriL...   \n2496  task1a_test_2497               @USER හරකා මොකා උනත් අවසානෙ මසට යාලු   \n2497  task1a_test_2498  @USER තොපි වගේ කාළකන්නි මාධ්‍ය ආයතන තහනම් කරන ...   \n2498  task1a_test_2499  රියැදුරු බලපත්‍ර නිකුත් කිරීම ඇතුළු සියලු කටයු...   \n2499  task1a_test_2500  නොදකින් අම්මගෙන් බැනුම් අහගෙන පාඩම් නොකර මැච් ...   \n\n                                             cleantweet  \\\n0     ඔව් ඔව්.. තොපි ආදරේට කලොත් කරන්නෙ ඔහොම වැඩක් ත...   \n1                  ඇයි උඹ අලි පු*න්ද? #SriLankanThreats   \n2                      MENTIONED_NAME පක ටෝක් දෙන්න එපා   \n3     මම නවය වසරේදී,පංති නායකයා කාලේ පංතියේ කොස්ස නැ...   \n4     මේ ආන්ඩුවටනම් හෙන ම ගහන්න ඔනේ මුන්ට පේන්නෙ නැද...   \n...                                                 ...   \n2495  රටක ආර්ථිකය කෙලෙසපු මොළකරු පට්ට හොරෙක් ! #SriL...   \n2496      MENTIONED_NAME හරකා මොකා උනත් අවසානෙ මසට යාලු   \n2497  MENTIONED_NAME තොපි වගේ කාළකන්නි මාධ්‍ය ආයතන ත...   \n2498  රියැදුරු බලපත්‍ර නිකුත් කිරීම ඇතුළු සියලු කටයු...   \n2499  නොදකින් අම්මගෙන් බැනුම් අහගෙන පාඩම් නොකර මැච් ...   \n\n                                                     ok  \n0     ඔව් ඔව්.. තොපි ආදරේට කලොත් කරන්නෙ ඔහොම වැඩක් ත...  \n1                  ඇයි උඹ අලි පු*න්ද? #SriLankanThreats  \n2                      MENTIONED_NAME පක ටෝක් දෙන්න එපා  \n3     මම නවය වසරේදී,පංති නායකයා කාලේ පංතියේ කොස්ස නැ...  \n4     මේ ආන්ඩුවටනම් හෙන ම ගහන්න ඔනේ මුන්ට පේන්නෙ නැද...  \n...                                                 ...  \n2495  රටක ආර්ථිකය කෙලෙසපු මොළකරු පට්ට හොරෙක් ! #SriL...  \n2496      MENTIONED_NAME හරකා මොකා උනත් අවසානෙ මසට යාලු  \n2497  MENTIONED_NAME තොපි වගේ කාළකන්නි මාධ්‍ය ආයතන ත...  \n2498  රියැදුරු බලපත්‍ර නිකුත් කිරීම ඇතුළු සියලු කටයු...  \n2499  නොදකින් අම්මගෙන් බැනුම් අහගෙන පාඩම් නොකර මැච් ...  \n\n[2500 rows x 4 columns]",
            "text/html": "<div>\n<style scoped>\n    .dataframe tbody tr th:only-of-type {\n        vertical-align: middle;\n    }\n\n    .dataframe tbody tr th {\n        vertical-align: top;\n    }\n\n    .dataframe thead th {\n        text-align: right;\n    }\n</style>\n<table border=\"1\" class=\"dataframe\">\n  <thead>\n    <tr style=\"text-align: right;\">\n      <th></th>\n      <th>tweet_id</th>\n      <th>tweet</th>\n      <th>cleantweet</th>\n      <th>ok</th>\n    </tr>\n  </thead>\n  <tbody>\n    <tr>\n      <th>0</th>\n      <td>task1a_test_1</td>\n      <td>ඔව් ඔව්.. තොපි ආදරේට කලොත් කරන්නෙ ඔහොම වැඩක් ත...</td>\n      <td>ඔව් ඔව්.. තොපි ආදරේට කලොත් කරන්නෙ ඔහොම වැඩක් ත...</td>\n      <td>ඔව් ඔව්.. තොපි ආදරේට කලොත් කරන්නෙ ඔහොම වැඩක් ත...</td>\n    </tr>\n    <tr>\n      <th>1</th>\n      <td>task1a_test_2</td>\n      <td>ඇයි උඹ අලි පු*න්ද? #SriLankanThreats</td>\n      <td>ඇයි උඹ අලි පු*න්ද? #SriLankanThreats</td>\n      <td>ඇයි උඹ අලි පු*න්ද? #SriLankanThreats</td>\n    </tr>\n    <tr>\n      <th>2</th>\n      <td>task1a_test_3</td>\n      <td>@USER  @USER පක ටෝක් දෙන්න එපා</td>\n      <td>MENTIONED_NAME පක ටෝක් දෙන්න එපා</td>\n      <td>MENTIONED_NAME පක ටෝක් දෙන්න එපා</td>\n    </tr>\n    <tr>\n      <th>3</th>\n      <td>task1a_test_4</td>\n      <td>මම නවය වසරේදී,පංති නායකයා කාලේ පංතියේ කොස්ස නැ...</td>\n      <td>මම නවය වසරේදී,පංති නායකයා කාලේ පංතියේ කොස්ස නැ...</td>\n      <td>මම නවය වසරේදී,පංති නායකයා කාලේ පංතියේ කොස්ස නැ...</td>\n    </tr>\n    <tr>\n      <th>4</th>\n      <td>task1a_test_5</td>\n      <td>මේ ආන්ඩුවටනම් හෙන 7ම ගහන්න ඔනේ මුන්ට පේන්නෙ නැ...</td>\n      <td>මේ ආන්ඩුවටනම් හෙන ම ගහන්න ඔනේ මුන්ට පේන්නෙ නැද...</td>\n      <td>මේ ආන්ඩුවටනම් හෙන ම ගහන්න ඔනේ මුන්ට පේන්නෙ නැද...</td>\n    </tr>\n    <tr>\n      <th>...</th>\n      <td>...</td>\n      <td>...</td>\n      <td>...</td>\n      <td>...</td>\n    </tr>\n    <tr>\n      <th>2495</th>\n      <td>task1a_test_2496</td>\n      <td>රටක ආර්ථිකය කෙලෙසපු මොළකරු පට්ට හොරෙක් ! #SriL...</td>\n      <td>රටක ආර්ථිකය කෙලෙසපු මොළකරු පට්ට හොරෙක් ! #SriL...</td>\n      <td>රටක ආර්ථිකය කෙලෙසපු මොළකරු පට්ට හොරෙක් ! #SriL...</td>\n    </tr>\n    <tr>\n      <th>2496</th>\n      <td>task1a_test_2497</td>\n      <td>@USER හරකා මොකා උනත් අවසානෙ මසට යාලු</td>\n      <td>MENTIONED_NAME හරකා මොකා උනත් අවසානෙ මසට යාලු</td>\n      <td>MENTIONED_NAME හරකා මොකා උනත් අවසානෙ මසට යාලු</td>\n    </tr>\n    <tr>\n      <th>2497</th>\n      <td>task1a_test_2498</td>\n      <td>@USER තොපි වගේ කාළකන්නි මාධ්‍ය ආයතන තහනම් කරන ...</td>\n      <td>MENTIONED_NAME තොපි වගේ කාළකන්නි මාධ්‍ය ආයතන ත...</td>\n      <td>MENTIONED_NAME තොපි වගේ කාළකන්නි මාධ්‍ය ආයතන ත...</td>\n    </tr>\n    <tr>\n      <th>2498</th>\n      <td>task1a_test_2499</td>\n      <td>රියැදුරු බලපත්‍ර නිකුත් කිරීම ඇතුළු සියලු කටයු...</td>\n      <td>රියැදුරු බලපත්‍ර නිකුත් කිරීම ඇතුළු සියලු කටයු...</td>\n      <td>රියැදුරු බලපත්‍ර නිකුත් කිරීම ඇතුළු සියලු කටයු...</td>\n    </tr>\n    <tr>\n      <th>2499</th>\n      <td>task1a_test_2500</td>\n      <td>නොදකින් අම්මගෙන් බැනුම් අහගෙන පාඩම් නොකර මැච් ...</td>\n      <td>නොදකින් අම්මගෙන් බැනුම් අහගෙන පාඩම් නොකර මැච් ...</td>\n      <td>නොදකින් අම්මගෙන් බැනුම් අහගෙන පාඩම් නොකර මැච් ...</td>\n    </tr>\n  </tbody>\n</table>\n<p>2500 rows × 4 columns</p>\n</div>"
          },
          "metadata": {}
        }
      ]
    },
    {
      "cell_type": "code",
      "source": [
        "df_dev1['ok'] = df_dev1['cleantweet'].apply(detect_emoji)\n",
        "df_dev1"
      ],
      "metadata": {
        "execution": {
          "iopub.status.busy": "2023-10-26T01:09:10.308017Z",
          "iopub.execute_input": "2023-10-26T01:09:10.308739Z",
          "iopub.status.idle": "2023-10-26T01:09:10.342343Z",
          "shell.execute_reply.started": "2023-10-26T01:09:10.308699Z",
          "shell.execute_reply": "2023-10-26T01:09:10.341140Z"
        },
        "trusted": true,
        "id": "rM8UnLPbuNNI",
        "outputId": "925ec81d-2e71-4af0-8dac-623792c78ee7"
      },
      "execution_count": null,
      "outputs": [
        {
          "execution_count": 37,
          "output_type": "execute_result",
          "data": {
            "text/plain": "      index             tweet_id  \\\n44     3083  1397911184448184329   \n3006   6994  1047403540291801088   \n2628   2355  1303906901072195584   \n641    5076   587902150593740801   \n3889   4129  1447787746072932352   \n...     ...                  ...   \n7096   1700  1059087806155223040   \n1603   5608   672964887463628800   \n4697   6993   696699202500481024   \n4077   1365  1088791528305176576   \n3306   5990   630927934723899392   \n\n                                                  tweet label  \\\n44    ලංකාව දැක්කත් ඇති නැව් පිටින් ගිනි ගන්නේ.   ලං...   NOT   \n3006  ඔපිස් එකේ ගෑනු එක්ක යන්න එපා බිජ්ජ කපනවා  NAYA...   HOF   \n2628  @USER මෙච්චර දේෂියව කවුපි මුන් ඇට පරිප්පු ලංකා...   HOF   \n641   @USER @USER අනේ බොල මෙච්චර වෙලා නොකා හිටියා වග...   NOT   \n3889                 @USER වේසි වේසි මය් ගවුමක් ඇ න්දාට   HOF   \n...                                                 ...   ...   \n7096  @USER ඒවා බොරැ..තේරෙන්නැද්ද කට හඩ සමාන කරන්න ග...   NOT   \n1603  @USER @USER  දැන්වත් හොඳට හිනාවෙලා ඉන්න අපේ මෝ...   NOT   \n4697  පුක සුදුදැයි කියලාවත් මම දන්නෙ නැති කෙල්ලෙක් ම...   HOF   \n4077  @USER එහෙම බැ. ගනින් හිතට. පැය තුනක් නිදාගෙන ය...   NOT   \n3306  vikalpavoices අධික තන්හාව,බලයට ඇති කෑදරකම මිනි...   NOT   \n\n                                             cleantweet  \\\n44    ලංකාව දැක්කත් ඇති නැව් පිටින් ගිනි ගන්නේ. ලංකා...   \n3006  ඔපිස් එකේ ගෑනු එක්ක යන්න එපා බිජ්ජ කපනවා NAYAN...   \n2628  MENTIONED_NAME මෙච්චර දේෂියව කවුපි මුන් ඇට පරි...   \n641   MENTIONED_NAME අනේ බොල මෙච්චර වෙලා නොකා හිටියා...   \n3889        MENTIONED_NAME වේසි වේසි මය් ගවුමක් ඇ න්දාට   \n...                                                 ...   \n7096  MENTIONED_NAME ඒවා බොරැ..තේරෙන්නැද්ද කට හඩ සමා...   \n1603  MENTIONED_NAME දැන්වත් හොඳට හිනාවෙලා ඉන්න අපේ ...   \n4697  පුක සුදුදැයි කියලාවත් මම දන්නෙ නැති කෙල්ලෙක් ම...   \n4077  MENTIONED_NAME එහෙම බැ. ගනින් හිතට. පැය තුනක් ...   \n3306  vikalpavoices අධික තන්හාව,බලයට ඇති කෑදරකම මිනි...   \n\n                                                     ok  \n44    ලංකාව දැක්කත් ඇති නැව් පිටින් ගිනි ගන්නේ. ලංකා...  \n3006  ඔපිස් එකේ ගෑනු එක්ක යන්න එපා බිජ්ජ කපනවා NAYAN...  \n2628  MENTIONED_NAME මෙච්චර දේෂියව කවුපි මුන් ඇට පරි...  \n641   MENTIONED_NAME අනේ බොල මෙච්චර වෙලා නොකා හිටියා...  \n3889        MENTIONED_NAME වේසි වේසි මය් ගවුමක් ඇ න්දාට  \n...                                                 ...  \n7096  MENTIONED_NAME ඒවා බොරැ..තේරෙන්නැද්ද කට හඩ සමා...  \n1603  MENTIONED_NAME දැන්වත් හොඳට හිනාවෙලා ඉන්න අපේ ...  \n4697  පුක සුදුදැයි කියලාවත් මම දන්නෙ නැති කෙල්ලෙක් ම...  \n4077  MENTIONED_NAME එහෙම බැ. ගනින් හිතට. පැය තුනක් ...  \n3306  vikalpavoices අධික තන්හාව,බලයට ඇති කෑදරකම මිනි...  \n\n[750 rows x 6 columns]",
            "text/html": "<div>\n<style scoped>\n    .dataframe tbody tr th:only-of-type {\n        vertical-align: middle;\n    }\n\n    .dataframe tbody tr th {\n        vertical-align: top;\n    }\n\n    .dataframe thead th {\n        text-align: right;\n    }\n</style>\n<table border=\"1\" class=\"dataframe\">\n  <thead>\n    <tr style=\"text-align: right;\">\n      <th></th>\n      <th>index</th>\n      <th>tweet_id</th>\n      <th>tweet</th>\n      <th>label</th>\n      <th>cleantweet</th>\n      <th>ok</th>\n    </tr>\n  </thead>\n  <tbody>\n    <tr>\n      <th>44</th>\n      <td>3083</td>\n      <td>1397911184448184329</td>\n      <td>ලංකාව දැක්කත් ඇති නැව් පිටින් ගිනි ගන්නේ.   ලං...</td>\n      <td>NOT</td>\n      <td>ලංකාව දැක්කත් ඇති නැව් පිටින් ගිනි ගන්නේ. ලංකා...</td>\n      <td>ලංකාව දැක්කත් ඇති නැව් පිටින් ගිනි ගන්නේ. ලංකා...</td>\n    </tr>\n    <tr>\n      <th>3006</th>\n      <td>6994</td>\n      <td>1047403540291801088</td>\n      <td>ඔපිස් එකේ ගෑනු එක්ක යන්න එපා බිජ්ජ කපනවා  NAYA...</td>\n      <td>HOF</td>\n      <td>ඔපිස් එකේ ගෑනු එක්ක යන්න එපා බිජ්ජ කපනවා NAYAN...</td>\n      <td>ඔපිස් එකේ ගෑනු එක්ක යන්න එපා බිජ්ජ කපනවා NAYAN...</td>\n    </tr>\n    <tr>\n      <th>2628</th>\n      <td>2355</td>\n      <td>1303906901072195584</td>\n      <td>@USER මෙච්චර දේෂියව කවුපි මුන් ඇට පරිප්පු ලංකා...</td>\n      <td>HOF</td>\n      <td>MENTIONED_NAME මෙච්චර දේෂියව කවුපි මුන් ඇට පරි...</td>\n      <td>MENTIONED_NAME මෙච්චර දේෂියව කවුපි මුන් ඇට පරි...</td>\n    </tr>\n    <tr>\n      <th>641</th>\n      <td>5076</td>\n      <td>587902150593740801</td>\n      <td>@USER @USER අනේ බොල මෙච්චර වෙලා නොකා හිටියා වග...</td>\n      <td>NOT</td>\n      <td>MENTIONED_NAME අනේ බොල මෙච්චර වෙලා නොකා හිටියා...</td>\n      <td>MENTIONED_NAME අනේ බොල මෙච්චර වෙලා නොකා හිටියා...</td>\n    </tr>\n    <tr>\n      <th>3889</th>\n      <td>4129</td>\n      <td>1447787746072932352</td>\n      <td>@USER වේසි වේසි මය් ගවුමක් ඇ න්දාට</td>\n      <td>HOF</td>\n      <td>MENTIONED_NAME වේසි වේසි මය් ගවුමක් ඇ න්දාට</td>\n      <td>MENTIONED_NAME වේසි වේසි මය් ගවුමක් ඇ න්දාට</td>\n    </tr>\n    <tr>\n      <th>...</th>\n      <td>...</td>\n      <td>...</td>\n      <td>...</td>\n      <td>...</td>\n      <td>...</td>\n      <td>...</td>\n    </tr>\n    <tr>\n      <th>7096</th>\n      <td>1700</td>\n      <td>1059087806155223040</td>\n      <td>@USER ඒවා බොරැ..තේරෙන්නැද්ද කට හඩ සමාන කරන්න ග...</td>\n      <td>NOT</td>\n      <td>MENTIONED_NAME ඒවා බොරැ..තේරෙන්නැද්ද කට හඩ සමා...</td>\n      <td>MENTIONED_NAME ඒවා බොරැ..තේරෙන්නැද්ද කට හඩ සමා...</td>\n    </tr>\n    <tr>\n      <th>1603</th>\n      <td>5608</td>\n      <td>672964887463628800</td>\n      <td>@USER @USER  දැන්වත් හොඳට හිනාවෙලා ඉන්න අපේ මෝ...</td>\n      <td>NOT</td>\n      <td>MENTIONED_NAME දැන්වත් හොඳට හිනාවෙලා ඉන්න අපේ ...</td>\n      <td>MENTIONED_NAME දැන්වත් හොඳට හිනාවෙලා ඉන්න අපේ ...</td>\n    </tr>\n    <tr>\n      <th>4697</th>\n      <td>6993</td>\n      <td>696699202500481024</td>\n      <td>පුක සුදුදැයි කියලාවත් මම දන්නෙ නැති කෙල්ලෙක් ම...</td>\n      <td>HOF</td>\n      <td>පුක සුදුදැයි කියලාවත් මම දන්නෙ නැති කෙල්ලෙක් ම...</td>\n      <td>පුක සුදුදැයි කියලාවත් මම දන්නෙ නැති කෙල්ලෙක් ම...</td>\n    </tr>\n    <tr>\n      <th>4077</th>\n      <td>1365</td>\n      <td>1088791528305176576</td>\n      <td>@USER එහෙම බැ. ගනින් හිතට. පැය තුනක් නිදාගෙන ය...</td>\n      <td>NOT</td>\n      <td>MENTIONED_NAME එහෙම බැ. ගනින් හිතට. පැය තුනක් ...</td>\n      <td>MENTIONED_NAME එහෙම බැ. ගනින් හිතට. පැය තුනක් ...</td>\n    </tr>\n    <tr>\n      <th>3306</th>\n      <td>5990</td>\n      <td>630927934723899392</td>\n      <td>vikalpavoices අධික තන්හාව,බලයට ඇති කෑදරකම මිනි...</td>\n      <td>NOT</td>\n      <td>vikalpavoices අධික තන්හාව,බලයට ඇති කෑදරකම මිනි...</td>\n      <td>vikalpavoices අධික තන්හාව,බලයට ඇති කෑදරකම මිනි...</td>\n    </tr>\n  </tbody>\n</table>\n<p>750 rows × 6 columns</p>\n</div>"
          },
          "metadata": {}
        }
      ]
    },
    {
      "cell_type": "code",
      "source": [
        "# data-train for word embeddings fasttext (use all/original data train)\n",
        "\n",
        "df_train['cleantweet'] = df_train['tweet'].apply(preprocess_tweet)\n",
        "df_train['ok'] = df_train['cleantweet'].apply(detect_emoji)\n",
        "df_train"
      ],
      "metadata": {
        "execution": {
          "iopub.status.busy": "2023-10-26T01:09:19.729143Z",
          "iopub.execute_input": "2023-10-26T01:09:19.729595Z",
          "iopub.status.idle": "2023-10-26T01:09:20.417858Z",
          "shell.execute_reply.started": "2023-10-26T01:09:19.729536Z",
          "shell.execute_reply": "2023-10-26T01:09:20.416340Z"
        },
        "trusted": true,
        "id": "1D5rBtNWuNNI",
        "outputId": "d2c41242-e135-49b4-e407-a8fdc7b97d14"
      },
      "execution_count": null,
      "outputs": [
        {
          "execution_count": 38,
          "output_type": "execute_result",
          "data": {
            "text/plain": "                 tweet_id                                              tweet  \\\n0      726758237668659201                         @USER @USER  පට්ට පට පට...   \n1      915618589855617026  පරණ කෑල්ල අද වෙනකම් හිටියනම් අදට අවුරුදු 4යි. ...   \n2      925001070430040065  යාළුවා කියලා හිතන් සර් ගේ ඔලුවට රෙද්ද දාලා නෙල...   \n3     1397219745707986955  හොඳ මිතුරියක් කතා කලා. විස්තර කතාකරමින් ඉදලා ම...   \n4      950376113150222336              ඔය බනින්නෙ.. හරකා, මී හරකා කිය කිය...   \n...                   ...                                                ...   \n7495   930270216612872193                    අද උදේ දැක්කා පට්ට ලස්සන හීනයක්   \n7496  1159471424613969921  @USER කසල වෙන් කරලා දෙන්න පුරුදු වුනොත්  වැඩේ ...   \n7497  1073271775583100928  ඒත් පබාගේ පස්ස නම්... ඉස්සෝ කොටුවක් උනත් දාන්න...   \n7498  1131018244733657088  සුදුවෑන්වලට මාරම මාර බයක් තියෙන ඈයෝ  අන්තවාදයට...   \n7499  1386977011198046209  1 වෙනි පෝස්ටුවෙන් පසු... මොකක්ද යකෝ ඔය දාල තිය...   \n\n     label                                         cleantweet  \\\n0      NOT                           MENTIONED_NAME පට්ට පට..   \n1      HOF  පරණ කෑල්ල අද වෙනකම් හිටියනම් අදට අවුරුදු යි. ය...   \n2      NOT  යාළුවා කියලා හිතන් සර් ගේ ඔලුවට රෙද්දාලා නෙලන ...   \n3      HOF  හොඳ මිතුරියක් කතා කලා. විස්තර කතාකරමින් ඉදලා ම...   \n4      HOF               ඔය බනින්නෙ.. හරකා, මී හරකා කිය කිය..   \n...    ...                                                ...   \n7495   NOT                    අද උදේ දැක්කා පට්ට ලස්සන හීනයක්   \n7496   NOT  MENTIONED_NAME කසල වෙන් කරලා දෙන්න පුරුදු වුනො...   \n7497   HOF  ඒත් පබාගේ පස්ස නම්.. ඉස්සෝ කොටුවක් උනත් දාන්න ...   \n7498   HOF  සුදුවෑන්වලට මාරම මාර බයක් තියෙන ඈයෝ අන්තවාදයට ...   \n7499   HOF   වෙනි පෝස්ටුවෙන් පසු.. මොකක්ද යකෝ ඔය දාල තියෙන...   \n\n                                                     ok  \n0                              MENTIONED_NAME පට්ට පට..  \n1     පරණ කෑල්ල අද වෙනකම් හිටියනම් අදට අවුරුදු යි. ය...  \n2     යාළුවා කියලා හිතන් සර් ගේ ඔලුවට රෙද්දාලා නෙලන ...  \n3     හොඳ මිතුරියක් කතා කලා. විස්තර කතාකරමින් ඉදලා ම...  \n4                  ඔය බනින්නෙ.. හරකා, මී හරකා කිය කිය..  \n...                                                 ...  \n7495                    අද උදේ දැක්කා පට්ට ලස්සන හීනයක්  \n7496  MENTIONED_NAME කසල වෙන් කරලා දෙන්න පුරුදු වුනො...  \n7497  ඒත් පබාගේ පස්ස නම්.. ඉස්සෝ කොටුවක් උනත් දාන්න ...  \n7498  සුදුවෑන්වලට මාරම මාර බයක් තියෙන ඈයෝ අන්තවාදයට ...  \n7499   වෙනි පෝස්ටුවෙන් පසු.. මොකක්ද යකෝ ඔය දාල තියෙන...  \n\n[7500 rows x 5 columns]",
            "text/html": "<div>\n<style scoped>\n    .dataframe tbody tr th:only-of-type {\n        vertical-align: middle;\n    }\n\n    .dataframe tbody tr th {\n        vertical-align: top;\n    }\n\n    .dataframe thead th {\n        text-align: right;\n    }\n</style>\n<table border=\"1\" class=\"dataframe\">\n  <thead>\n    <tr style=\"text-align: right;\">\n      <th></th>\n      <th>tweet_id</th>\n      <th>tweet</th>\n      <th>label</th>\n      <th>cleantweet</th>\n      <th>ok</th>\n    </tr>\n  </thead>\n  <tbody>\n    <tr>\n      <th>0</th>\n      <td>726758237668659201</td>\n      <td>@USER @USER  පට්ට පට පට...</td>\n      <td>NOT</td>\n      <td>MENTIONED_NAME පට්ට පට..</td>\n      <td>MENTIONED_NAME පට්ට පට..</td>\n    </tr>\n    <tr>\n      <th>1</th>\n      <td>915618589855617026</td>\n      <td>පරණ කෑල්ල අද වෙනකම් හිටියනම් අදට අවුරුදු 4යි. ...</td>\n      <td>HOF</td>\n      <td>පරණ කෑල්ල අද වෙනකම් හිටියනම් අදට අවුරුදු යි. ය...</td>\n      <td>පරණ කෑල්ල අද වෙනකම් හිටියනම් අදට අවුරුදු යි. ය...</td>\n    </tr>\n    <tr>\n      <th>2</th>\n      <td>925001070430040065</td>\n      <td>යාළුවා කියලා හිතන් සර් ගේ ඔලුවට රෙද්ද දාලා නෙල...</td>\n      <td>NOT</td>\n      <td>යාළුවා කියලා හිතන් සර් ගේ ඔලුවට රෙද්දාලා නෙලන ...</td>\n      <td>යාළුවා කියලා හිතන් සර් ගේ ඔලුවට රෙද්දාලා නෙලන ...</td>\n    </tr>\n    <tr>\n      <th>3</th>\n      <td>1397219745707986955</td>\n      <td>හොඳ මිතුරියක් කතා කලා. විස්තර කතාකරමින් ඉදලා ම...</td>\n      <td>HOF</td>\n      <td>හොඳ මිතුරියක් කතා කලා. විස්තර කතාකරමින් ඉදලා ම...</td>\n      <td>හොඳ මිතුරියක් කතා කලා. විස්තර කතාකරමින් ඉදලා ම...</td>\n    </tr>\n    <tr>\n      <th>4</th>\n      <td>950376113150222336</td>\n      <td>ඔය බනින්නෙ.. හරකා, මී හරකා කිය කිය...</td>\n      <td>HOF</td>\n      <td>ඔය බනින්නෙ.. හරකා, මී හරකා කිය කිය..</td>\n      <td>ඔය බනින්නෙ.. හරකා, මී හරකා කිය කිය..</td>\n    </tr>\n    <tr>\n      <th>...</th>\n      <td>...</td>\n      <td>...</td>\n      <td>...</td>\n      <td>...</td>\n      <td>...</td>\n    </tr>\n    <tr>\n      <th>7495</th>\n      <td>930270216612872193</td>\n      <td>අද උදේ දැක්කා පට්ට ලස්සන හීනයක්</td>\n      <td>NOT</td>\n      <td>අද උදේ දැක්කා පට්ට ලස්සන හීනයක්</td>\n      <td>අද උදේ දැක්කා පට්ට ලස්සන හීනයක්</td>\n    </tr>\n    <tr>\n      <th>7496</th>\n      <td>1159471424613969921</td>\n      <td>@USER කසල වෙන් කරලා දෙන්න පුරුදු වුනොත්  වැඩේ ...</td>\n      <td>NOT</td>\n      <td>MENTIONED_NAME කසල වෙන් කරලා දෙන්න පුරුදු වුනො...</td>\n      <td>MENTIONED_NAME කසල වෙන් කරලා දෙන්න පුරුදු වුනො...</td>\n    </tr>\n    <tr>\n      <th>7497</th>\n      <td>1073271775583100928</td>\n      <td>ඒත් පබාගේ පස්ස නම්... ඉස්සෝ කොටුවක් උනත් දාන්න...</td>\n      <td>HOF</td>\n      <td>ඒත් පබාගේ පස්ස නම්.. ඉස්සෝ කොටුවක් උනත් දාන්න ...</td>\n      <td>ඒත් පබාගේ පස්ස නම්.. ඉස්සෝ කොටුවක් උනත් දාන්න ...</td>\n    </tr>\n    <tr>\n      <th>7498</th>\n      <td>1131018244733657088</td>\n      <td>සුදුවෑන්වලට මාරම මාර බයක් තියෙන ඈයෝ  අන්තවාදයට...</td>\n      <td>HOF</td>\n      <td>සුදුවෑන්වලට මාරම මාර බයක් තියෙන ඈයෝ අන්තවාදයට ...</td>\n      <td>සුදුවෑන්වලට මාරම මාර බයක් තියෙන ඈයෝ අන්තවාදයට ...</td>\n    </tr>\n    <tr>\n      <th>7499</th>\n      <td>1386977011198046209</td>\n      <td>1 වෙනි පෝස්ටුවෙන් පසු... මොකක්ද යකෝ ඔය දාල තිය...</td>\n      <td>HOF</td>\n      <td>වෙනි පෝස්ටුවෙන් පසු.. මොකක්ද යකෝ ඔය දාල තියෙන...</td>\n      <td>වෙනි පෝස්ටුවෙන් පසු.. මොකක්ද යකෝ ඔය දාල තියෙන...</td>\n    </tr>\n  </tbody>\n</table>\n<p>7500 rows × 5 columns</p>\n</div>"
          },
          "metadata": {}
        }
      ]
    },
    {
      "cell_type": "code",
      "source": [
        "# PROCESSING FASTTEXT EMBEDDING\n",
        "# if concerning emoji, use column ['ok']\n",
        "# if use normal text processing without tokenizing emoji, use column ['cleantweet']\n",
        "#"
      ],
      "metadata": {
        "id": "pzFkRdsiuNNJ"
      },
      "execution_count": null,
      "outputs": []
    },
    {
      "cell_type": "code",
      "source": [
        "sentences = [word_tokenize(Tweet) for Tweet in tqdm(df_train['ok'])]\n",
        "model = FastText(sentences, vector_size=100, window=3, min_count=2, workers=4, epochs=50)"
      ],
      "metadata": {
        "execution": {
          "iopub.status.busy": "2023-10-26T01:09:33.629232Z",
          "iopub.execute_input": "2023-10-26T01:09:33.629657Z",
          "iopub.status.idle": "2023-10-26T01:09:36.077245Z",
          "shell.execute_reply.started": "2023-10-26T01:09:33.629628Z",
          "shell.execute_reply": "2023-10-26T01:09:36.074041Z"
        },
        "jupyter": {
          "outputs_hidden": true
        },
        "trusted": true,
        "id": "TXuQgIluuNNJ"
      },
      "execution_count": null,
      "outputs": []
    },
    {
      "cell_type": "code",
      "source": [
        "# Saving model (adjust the file name and path location)\n",
        "# will be needed to alter the FastText language model"
      ],
      "metadata": {
        "execution": {
          "iopub.status.busy": "2023-10-26T01:10:28.671828Z",
          "iopub.execute_input": "2023-10-26T01:10:28.672259Z",
          "iopub.status.idle": "2023-10-26T01:10:46.317519Z",
          "shell.execute_reply.started": "2023-10-26T01:10:28.672229Z",
          "shell.execute_reply": "2023-10-26T01:10:46.316318Z"
        },
        "trusted": true,
        "id": "EyOn5jvruNNJ"
      },
      "execution_count": null,
      "outputs": []
    },
    {
      "cell_type": "code",
      "source": [
        "model.save(\"sinhala_w3c2v100.fasttext\")"
      ],
      "metadata": {
        "execution": {
          "iopub.status.busy": "2023-10-26T01:10:54.959776Z",
          "iopub.execute_input": "2023-10-26T01:10:54.960266Z",
          "iopub.status.idle": "2023-10-26T01:10:55.869517Z",
          "shell.execute_reply.started": "2023-10-26T01:10:54.960225Z",
          "shell.execute_reply": "2023-10-26T01:10:55.868542Z"
        },
        "trusted": true,
        "id": "A0WeoQTHuNNK"
      },
      "execution_count": null,
      "outputs": []
    },
    {
      "cell_type": "code",
      "source": [
        "# Load the model\n",
        "\n",
        "model = FastText.load(\"sinhala_w3c2v100.fasttext\")\n"
      ],
      "metadata": {
        "execution": {
          "iopub.status.busy": "2023-08-29T04:06:08.889004Z",
          "iopub.execute_input": "2023-08-29T04:06:08.889432Z",
          "iopub.status.idle": "2023-08-29T04:06:09.408245Z",
          "shell.execute_reply.started": "2023-08-29T04:06:08.8894Z",
          "shell.execute_reply": "2023-08-29T04:06:09.407125Z"
        },
        "trusted": true,
        "id": "CoBAJAk2uNNK"
      },
      "execution_count": null,
      "outputs": []
    },
    {
      "cell_type": "code",
      "source": [
        "#model['නායකයා']\n",
        "feat = model.wv\n",
        "feat.vectors"
      ],
      "metadata": {
        "execution": {
          "iopub.status.busy": "2023-10-26T01:11:21.744743Z",
          "iopub.execute_input": "2023-10-26T01:11:21.745192Z",
          "iopub.status.idle": "2023-10-26T01:11:21.754145Z",
          "shell.execute_reply.started": "2023-10-26T01:11:21.745157Z",
          "shell.execute_reply": "2023-10-26T01:11:21.752989Z"
        },
        "trusted": true,
        "id": "2_s39Bw7uNNK",
        "outputId": "3d363a05-b3b5-4c40-df62-4fbf36104390"
      },
      "execution_count": null,
      "outputs": [
        {
          "execution_count": 45,
          "output_type": "execute_result",
          "data": {
            "text/plain": "array([[ 0.97264344,  1.6746178 , -0.60855234, ..., -0.8042483 ,\n         0.0317202 , -1.8558266 ],\n       [-1.1072656 , -0.02114715,  0.27994686, ...,  0.02670208,\n        -0.14506628, -0.5748068 ],\n       [-0.6520812 , -0.5092365 , -0.92342335, ..., -1.11259   ,\n        -2.0876205 , -1.1688185 ],\n       ...,\n       [ 0.15132174,  0.16063455, -0.29774922, ..., -0.3321485 ,\n         0.40962633,  0.01574446],\n       [ 0.17246105, -0.05711215, -0.06304511, ..., -0.16367948,\n         0.30322745, -0.14108016],\n       [-0.5698629 , -0.41618374, -0.3823981 , ..., -0.8953286 ,\n        -0.19512701,  0.8728621 ]], dtype=float32)"
          },
          "metadata": {}
        }
      ]
    },
    {
      "cell_type": "code",
      "source": [
        "# Function for creating sentence vector\n",
        "\n",
        "def norm_vector(sentence, model):\n",
        "    vecs = [model[word] for word in word_tokenize(sentence)]\n",
        "    norm_vecs = [vec / np.linalg.norm(vec) for vec in vecs if np.linalg.norm(vec) > 0]\n",
        "    sent_vecs = np.mean(norm_vecs, axis=0)\n",
        "    return sent_vecs"
      ],
      "metadata": {
        "execution": {
          "iopub.status.busy": "2023-10-26T01:11:54.282498Z",
          "iopub.execute_input": "2023-10-26T01:11:54.282909Z",
          "iopub.status.idle": "2023-10-26T01:11:54.291902Z",
          "shell.execute_reply.started": "2023-10-26T01:11:54.282877Z",
          "shell.execute_reply": "2023-10-26T01:11:54.290364Z"
        },
        "trusted": true,
        "id": "ohDXfCLLuNNK"
      },
      "execution_count": null,
      "outputs": []
    },
    {
      "cell_type": "code",
      "source": [
        "df_dev1"
      ],
      "metadata": {
        "execution": {
          "iopub.status.busy": "2023-10-25T23:04:44.957803Z",
          "iopub.execute_input": "2023-10-25T23:04:44.958220Z",
          "iopub.status.idle": "2023-10-25T23:04:44.975311Z",
          "shell.execute_reply.started": "2023-10-25T23:04:44.958189Z",
          "shell.execute_reply": "2023-10-25T23:04:44.974177Z"
        },
        "trusted": true,
        "id": "n154ybieuNNL",
        "outputId": "475f4939-5444-45ca-b09f-2d0c4938e42b"
      },
      "execution_count": null,
      "outputs": [
        {
          "execution_count": 136,
          "output_type": "execute_result",
          "data": {
            "text/plain": "      index             tweet_id  \\\n5174   3302  1177809938577420288   \n7341   5376  1427926012218679297   \n7466   2235   988623925918625792   \n1389   6676  1398304382320484354   \n1188   1524   997566060093198337   \n...     ...                  ...   \n2763     13  1233270904244899840   \n1537   6990   717721035945062400   \n4685   6495  1325815593950351366   \n6920   1810   960152608165060608   \n4109    127  1381982357993914370   \n\n                                                  tweet label  \\\n5174  Follow කරන අය විතරක් reply කරන්න ඕනනං බුකියට ව...   HOF   \n7341  කොරෝනා මිනිස්සුන්ගෙ ජීවිත කොච්චර වෙනස් කරනවද ක...   NOT   \n7466  ඉන්දියාවේ ජම්මු කාෂ්මීර් වල නරේන්ද්‍ර මෝදිට වඩ...   NOT   \n1389  @USER  @USER    @USER  තව්සෙ බඩුවක් වගේ හැම ෆැ...   HOF   \n1188                 පොඩි කෙල්ලගේ කිම්බෙ පයිය අතුල්ලනවා   HOF   \n...                                                 ...   ...   \n2763                @USER  @USER අනෙ බොල මං කියන්නැ තොට   NOT   \n1537  96.1 FM or 96.3 FM Island wide.... -----------...   NOT   \n4685         මතකද පොඩි කාලෙ ගණිතයට , ලබ්බ සමච්චේදනය කලා   NOT   \n6920  රටෙනුත් ආතල් ගන්න ජනාධිපති කෙනෙක් ඉන්න ලෝකෙක බ...   HOF   \n4109  ඔය 'මම නං නෑ ඔය අලුරුදු නැකැත් ෆලෝ කරන්නේ, මං ...   NOT   \n\n                                             cleantweet  \\\n5174  Follow කරන අය විතරක් reply කරන්න ඕනනං බුකියට ව...   \n7341  කොරෝනා මිනිස්සුන්ගෙ ජීවිත කොච්චර වෙනස් කරනවද ක...   \n7466  ඉන්දියාවේ ජම්මු කාෂ්මීර් වල නරේන්ද්‍ර මෝදිට වඩ...   \n1389  MENTIONED_NAME තව්සෙ බඩුවක් වගේ හැම ෆැමිලි එකක...   \n1188                 පොඩි කෙල්ලගේ කිම්බෙ පයිය අතුල්ලනවා   \n...                                                 ...   \n2763              MENTIONED_NAME අනෙ බොල මං කියන්නැ තොට   \n1537  . FM or . FM Island wide.. -- ගවයින් එක කටට ගි...   \n4685         මතකද පොඩි කාලෙ ගණිතයට , ලබ්බ සමච්චේදනය කලා   \n6920  රටෙනුත් ආතල් ගන්න ජනාධිපති කෙනෙක් ඉන්න ලෝකෙක බ...   \n4109  ඔය 'මම නං නෑ ඔය අලුරුදු නැකැත් ෆලෝ කරන්නේ, මං ...   \n\n                                                     ok  \n5174  Follow කරන අය විතරක් reply කරන්න ඕනනං බුකියට ව...  \n7341  කොරෝනා මිනිස්සුන්ගෙ ජීවිත කොච්චර වෙනස් කරනවද ක...  \n7466  ඉන්දියාවේ ජම්මු කාෂ්මීර් වල නරේන්ද්‍ර මෝදිට වඩ...  \n1389  MENTIONED_NAME තව්සෙ බඩුවක් වගේ හැම ෆැමිලි එකක...  \n1188                 පොඩි කෙල්ලගේ කිම්බෙ පයිය අතුල්ලනවා  \n...                                                 ...  \n2763              MENTIONED_NAME අනෙ බොල මං කියන්නැ තොට  \n1537  . FM or . FM Island wide.. -- ගවයින් එක කටට ගි...  \n4685         මතකද පොඩි කාලෙ ගණිතයට , ලබ්බ සමච්චේදනය කලා  \n6920  රටෙනුත් ආතල් ගන්න ජනාධිපති කෙනෙක් ඉන්න ලෝකෙක බ...  \n4109  ඔය 'මම නං නෑ ඔය අලුරුදු නැකැත් ෆලෝ කරන්නේ, මං ...  \n\n[750 rows x 6 columns]",
            "text/html": "<div>\n<style scoped>\n    .dataframe tbody tr th:only-of-type {\n        vertical-align: middle;\n    }\n\n    .dataframe tbody tr th {\n        vertical-align: top;\n    }\n\n    .dataframe thead th {\n        text-align: right;\n    }\n</style>\n<table border=\"1\" class=\"dataframe\">\n  <thead>\n    <tr style=\"text-align: right;\">\n      <th></th>\n      <th>index</th>\n      <th>tweet_id</th>\n      <th>tweet</th>\n      <th>label</th>\n      <th>cleantweet</th>\n      <th>ok</th>\n    </tr>\n  </thead>\n  <tbody>\n    <tr>\n      <th>5174</th>\n      <td>3302</td>\n      <td>1177809938577420288</td>\n      <td>Follow කරන අය විතරක් reply කරන්න ඕනනං බුකියට ව...</td>\n      <td>HOF</td>\n      <td>Follow කරන අය විතරක් reply කරන්න ඕනනං බුකියට ව...</td>\n      <td>Follow කරන අය විතරක් reply කරන්න ඕනනං බුකියට ව...</td>\n    </tr>\n    <tr>\n      <th>7341</th>\n      <td>5376</td>\n      <td>1427926012218679297</td>\n      <td>කොරෝනා මිනිස්සුන්ගෙ ජීවිත කොච්චර වෙනස් කරනවද ක...</td>\n      <td>NOT</td>\n      <td>කොරෝනා මිනිස්සුන්ගෙ ජීවිත කොච්චර වෙනස් කරනවද ක...</td>\n      <td>කොරෝනා මිනිස්සුන්ගෙ ජීවිත කොච්චර වෙනස් කරනවද ක...</td>\n    </tr>\n    <tr>\n      <th>7466</th>\n      <td>2235</td>\n      <td>988623925918625792</td>\n      <td>ඉන්දියාවේ ජම්මු කාෂ්මීර් වල නරේන්ද්‍ර මෝදිට වඩ...</td>\n      <td>NOT</td>\n      <td>ඉන්දියාවේ ජම්මු කාෂ්මීර් වල නරේන්ද්‍ර මෝදිට වඩ...</td>\n      <td>ඉන්දියාවේ ජම්මු කාෂ්මීර් වල නරේන්ද්‍ර මෝදිට වඩ...</td>\n    </tr>\n    <tr>\n      <th>1389</th>\n      <td>6676</td>\n      <td>1398304382320484354</td>\n      <td>@USER  @USER    @USER  තව්සෙ බඩුවක් වගේ හැම ෆැ...</td>\n      <td>HOF</td>\n      <td>MENTIONED_NAME තව්සෙ බඩුවක් වගේ හැම ෆැමිලි එකක...</td>\n      <td>MENTIONED_NAME තව්සෙ බඩුවක් වගේ හැම ෆැමිලි එකක...</td>\n    </tr>\n    <tr>\n      <th>1188</th>\n      <td>1524</td>\n      <td>997566060093198337</td>\n      <td>පොඩි කෙල්ලගේ කිම්බෙ පයිය අතුල්ලනවා</td>\n      <td>HOF</td>\n      <td>පොඩි කෙල්ලගේ කිම්බෙ පයිය අතුල්ලනවා</td>\n      <td>පොඩි කෙල්ලගේ කිම්බෙ පයිය අතුල්ලනවා</td>\n    </tr>\n    <tr>\n      <th>...</th>\n      <td>...</td>\n      <td>...</td>\n      <td>...</td>\n      <td>...</td>\n      <td>...</td>\n      <td>...</td>\n    </tr>\n    <tr>\n      <th>2763</th>\n      <td>13</td>\n      <td>1233270904244899840</td>\n      <td>@USER  @USER අනෙ බොල මං කියන්නැ තොට</td>\n      <td>NOT</td>\n      <td>MENTIONED_NAME අනෙ බොල මං කියන්නැ තොට</td>\n      <td>MENTIONED_NAME අනෙ බොල මං කියන්නැ තොට</td>\n    </tr>\n    <tr>\n      <th>1537</th>\n      <td>6990</td>\n      <td>717721035945062400</td>\n      <td>96.1 FM or 96.3 FM Island wide.... -----------...</td>\n      <td>NOT</td>\n      <td>. FM or . FM Island wide.. -- ගවයින් එක කටට ගි...</td>\n      <td>. FM or . FM Island wide.. -- ගවයින් එක කටට ගි...</td>\n    </tr>\n    <tr>\n      <th>4685</th>\n      <td>6495</td>\n      <td>1325815593950351366</td>\n      <td>මතකද පොඩි කාලෙ ගණිතයට , ලබ්බ සමච්චේදනය කලා</td>\n      <td>NOT</td>\n      <td>මතකද පොඩි කාලෙ ගණිතයට , ලබ්බ සමච්චේදනය කලා</td>\n      <td>මතකද පොඩි කාලෙ ගණිතයට , ලබ්බ සමච්චේදනය කලා</td>\n    </tr>\n    <tr>\n      <th>6920</th>\n      <td>1810</td>\n      <td>960152608165060608</td>\n      <td>රටෙනුත් ආතල් ගන්න ජනාධිපති කෙනෙක් ඉන්න ලෝකෙක බ...</td>\n      <td>HOF</td>\n      <td>රටෙනුත් ආතල් ගන්න ජනාධිපති කෙනෙක් ඉන්න ලෝකෙක බ...</td>\n      <td>රටෙනුත් ආතල් ගන්න ජනාධිපති කෙනෙක් ඉන්න ලෝකෙක බ...</td>\n    </tr>\n    <tr>\n      <th>4109</th>\n      <td>127</td>\n      <td>1381982357993914370</td>\n      <td>ඔය 'මම නං නෑ ඔය අලුරුදු නැකැත් ෆලෝ කරන්නේ, මං ...</td>\n      <td>NOT</td>\n      <td>ඔය 'මම නං නෑ ඔය අලුරුදු නැකැත් ෆලෝ කරන්නේ, මං ...</td>\n      <td>ඔය 'මම නං නෑ ඔය අලුරුදු නැකැත් ෆලෝ කරන්නේ, මං ...</td>\n    </tr>\n  </tbody>\n</table>\n<p>750 rows × 6 columns</p>\n</div>"
          },
          "metadata": {}
        }
      ]
    },
    {
      "cell_type": "code",
      "source": [
        "shuffled_train"
      ],
      "metadata": {
        "execution": {
          "iopub.status.busy": "2023-10-26T01:12:46.011106Z",
          "iopub.execute_input": "2023-10-26T01:12:46.011579Z",
          "iopub.status.idle": "2023-10-26T01:12:46.032025Z",
          "shell.execute_reply.started": "2023-10-26T01:12:46.011541Z",
          "shell.execute_reply": "2023-10-26T01:12:46.030762Z"
        },
        "trusted": true,
        "id": "utvZGWcQuNNL",
        "outputId": "90d91f6f-b731-4b88-c8c5-487349131a71"
      },
      "execution_count": null,
      "outputs": [
        {
          "execution_count": 49,
          "output_type": "execute_result",
          "data": {
            "text/plain": "     index      tweet_id                                              tweet  \\\n3030  7099  1.145568e+18           @USER ,  @USER  @USER ටහුක්  තෝ ඉන්නවා ද   \n3642  1331  6.756934e+17  ඉස්සර උබ වලියක් නම් ලොවෙත් කියනො ගිහාන් අයියා ...   \n539   4881  1.396944e+18                 නින්ද යන්නේ නැති එක නම් කරුම ලෙඩක්   \n1089  8589           NaN  10  අළු වලින් ගොයම් ගස් පෝෂණය වෙලා හැදීල එන පි...   \n196   1169  1.161323e+18  @USER රිචඩ් ද සොයිසා ප්‍රේමකීර්ති ද අල්විස් රෝ...   \n...    ...           ...                                                ...   \n1237  2408  1.185154e+18  @USER නරකද වී නිෂ්පාදන වියදම් අඩුකරලා ගොවියායි...   \n5752   668  1.053322e+18    කහපාට රෙද්දකින් තඩි පීප්පයක් ඔතා තිබූ ඒ අවස්තාව   \n3387   634  1.166635e+18  ගත මදක් පේන ලෙස උස්සලා අන්දා සිටි බැවින් සරාගි...   \n1145  8645           NaN  අහසේ දෙයියෝ හුත්තෝ දෙයියෝ ඉන්නේ මෙහෙ මෙහෙ උට්ට...   \n1911   995  1.478016e+18                   @USER හිනාවෙන්න තැන් නෑ මේවාට :3   \n\n     label                                         cleantweet  \n3030   HOF  MENTIONED_NAME , MENTIONED_NAME ටහුක් තෝ ඉන්නවා ද  \n3642   HOF  ඉස්සර උබ වලියක් නම් ලොවෙත් කියනො ගිහාන් අයියා ...  \n539    NOT                 නින්ද යන්නේ නැති එක නම් කරුම ලෙඩක්  \n1089   HOF   අළු වලින් ගොයම් ගස් පෝෂණය වෙලා හැදීල එන පිදුර...  \n196    NOT  MENTIONED_NAME රිචඩ් ද සොයිසා ප්‍රේමකීර්ති ද අ...  \n...    ...                                                ...  \n1237   NOT  MENTIONED_NAME නරකද වී නිෂ්පාදන වියදම් අඩුකරලා...  \n5752   NOT    කහපාට රෙද්දකින් තඩි පීප්පයක් ඔතා තිබූ ඒ අවස්තාව  \n3387   NOT  ගත මදක් පේන ලෙස උස්සලා අන්දා සිටි බැවින් සරාගි...  \n1145   HOF  අහසේ දෙයියෝ හුත්තෝ දෙයියෝ ඉන්නේ මෙහෙ මෙහෙ උට්ට...  \n1911   NOT           MENTIONED_NAME හිනාවෙන්න තැන් නෑ මේවාට :  \n\n[7786 rows x 5 columns]",
            "text/html": "<div>\n<style scoped>\n    .dataframe tbody tr th:only-of-type {\n        vertical-align: middle;\n    }\n\n    .dataframe tbody tr th {\n        vertical-align: top;\n    }\n\n    .dataframe thead th {\n        text-align: right;\n    }\n</style>\n<table border=\"1\" class=\"dataframe\">\n  <thead>\n    <tr style=\"text-align: right;\">\n      <th></th>\n      <th>index</th>\n      <th>tweet_id</th>\n      <th>tweet</th>\n      <th>label</th>\n      <th>cleantweet</th>\n    </tr>\n  </thead>\n  <tbody>\n    <tr>\n      <th>3030</th>\n      <td>7099</td>\n      <td>1.145568e+18</td>\n      <td>@USER ,  @USER  @USER ටහුක්  තෝ ඉන්නවා ද</td>\n      <td>HOF</td>\n      <td>MENTIONED_NAME , MENTIONED_NAME ටහුක් තෝ ඉන්නවා ද</td>\n    </tr>\n    <tr>\n      <th>3642</th>\n      <td>1331</td>\n      <td>6.756934e+17</td>\n      <td>ඉස්සර උබ වලියක් නම් ලොවෙත් කියනො ගිහාන් අයියා ...</td>\n      <td>HOF</td>\n      <td>ඉස්සර උබ වලියක් නම් ලොවෙත් කියනො ගිහාන් අයියා ...</td>\n    </tr>\n    <tr>\n      <th>539</th>\n      <td>4881</td>\n      <td>1.396944e+18</td>\n      <td>නින්ද යන්නේ නැති එක නම් කරුම ලෙඩක්</td>\n      <td>NOT</td>\n      <td>නින්ද යන්නේ නැති එක නම් කරුම ලෙඩක්</td>\n    </tr>\n    <tr>\n      <th>1089</th>\n      <td>8589</td>\n      <td>NaN</td>\n      <td>10  අළු වලින් ගොයම් ගස් පෝෂණය වෙලා හැදීල එන පි...</td>\n      <td>HOF</td>\n      <td>අළු වලින් ගොයම් ගස් පෝෂණය වෙලා හැදීල එන පිදුර...</td>\n    </tr>\n    <tr>\n      <th>196</th>\n      <td>1169</td>\n      <td>1.161323e+18</td>\n      <td>@USER රිචඩ් ද සොයිසා ප්‍රේමකීර්ති ද අල්විස් රෝ...</td>\n      <td>NOT</td>\n      <td>MENTIONED_NAME රිචඩ් ද සොයිසා ප්‍රේමකීර්ති ද අ...</td>\n    </tr>\n    <tr>\n      <th>...</th>\n      <td>...</td>\n      <td>...</td>\n      <td>...</td>\n      <td>...</td>\n      <td>...</td>\n    </tr>\n    <tr>\n      <th>1237</th>\n      <td>2408</td>\n      <td>1.185154e+18</td>\n      <td>@USER නරකද වී නිෂ්පාදන වියදම් අඩුකරලා ගොවියායි...</td>\n      <td>NOT</td>\n      <td>MENTIONED_NAME නරකද වී නිෂ්පාදන වියදම් අඩුකරලා...</td>\n    </tr>\n    <tr>\n      <th>5752</th>\n      <td>668</td>\n      <td>1.053322e+18</td>\n      <td>කහපාට රෙද්දකින් තඩි පීප්පයක් ඔතා තිබූ ඒ අවස්තාව</td>\n      <td>NOT</td>\n      <td>කහපාට රෙද්දකින් තඩි පීප්පයක් ඔතා තිබූ ඒ අවස්තාව</td>\n    </tr>\n    <tr>\n      <th>3387</th>\n      <td>634</td>\n      <td>1.166635e+18</td>\n      <td>ගත මදක් පේන ලෙස උස්සලා අන්දා සිටි බැවින් සරාගි...</td>\n      <td>NOT</td>\n      <td>ගත මදක් පේන ලෙස උස්සලා අන්දා සිටි බැවින් සරාගි...</td>\n    </tr>\n    <tr>\n      <th>1145</th>\n      <td>8645</td>\n      <td>NaN</td>\n      <td>අහසේ දෙයියෝ හුත්තෝ දෙයියෝ ඉන්නේ මෙහෙ මෙහෙ උට්ට...</td>\n      <td>HOF</td>\n      <td>අහසේ දෙයියෝ හුත්තෝ දෙයියෝ ඉන්නේ මෙහෙ මෙහෙ උට්ට...</td>\n    </tr>\n    <tr>\n      <th>1911</th>\n      <td>995</td>\n      <td>1.478016e+18</td>\n      <td>@USER හිනාවෙන්න තැන් නෑ මේවාට :3</td>\n      <td>NOT</td>\n      <td>MENTIONED_NAME හිනාවෙන්න තැන් නෑ මේවාට :</td>\n    </tr>\n  </tbody>\n</table>\n<p>7786 rows × 5 columns</p>\n</div>"
          },
          "metadata": {}
        }
      ]
    },
    {
      "cell_type": "code",
      "source": [
        "# TRANSFORM SENTENCES INTO VECTOR"
      ],
      "metadata": {
        "execution": {
          "iopub.status.busy": "2023-08-28T18:04:19.411594Z",
          "iopub.execute_input": "2023-08-28T18:04:19.412254Z",
          "iopub.status.idle": "2023-08-28T18:04:19.429152Z",
          "shell.execute_reply.started": "2023-08-28T18:04:19.412218Z",
          "shell.execute_reply": "2023-08-28T18:04:19.42769Z"
        },
        "trusted": true,
        "id": "F-p_pHj6uNNL"
      },
      "execution_count": null,
      "outputs": []
    },
    {
      "cell_type": "code",
      "source": [
        "vecs_train = [norm_vector(sentence, feat) for sentence in shuffled_train.ok]\n",
        "vecs_train = np.array(vecs_train)\n",
        "vecs_train"
      ],
      "metadata": {
        "execution": {
          "iopub.status.busy": "2023-10-26T01:13:27.266597Z",
          "iopub.execute_input": "2023-10-26T01:13:27.267054Z",
          "iopub.status.idle": "2023-10-26T01:13:33.551436Z",
          "shell.execute_reply.started": "2023-10-26T01:13:27.267019Z",
          "shell.execute_reply": "2023-10-26T01:13:33.550267Z"
        },
        "trusted": true,
        "id": "a7NqoyojuNNR",
        "outputId": "7a0e22dd-2697-45ed-ea51-3908dad5adf0"
      },
      "execution_count": null,
      "outputs": [
        {
          "execution_count": 52,
          "output_type": "execute_result",
          "data": {
            "text/plain": "array([[-5.6887668e-02, -6.8822759e-03, -7.6828472e-04, ...,\n         3.2185442e-05, -5.7128023e-02, -1.5850360e-02],\n       [ 3.3731952e-02, -2.4035878e-02, -1.2270814e-02, ...,\n        -3.4085557e-02,  1.5071415e-02, -6.4492261e-04],\n       [ 2.7488681e-02, -1.1688858e-02,  1.7720545e-02, ...,\n        -3.7581824e-02, -2.8778730e-02,  3.1723484e-02],\n       ...,\n       [ 3.4136720e-02, -1.6505117e-02, -3.2315586e-02, ...,\n        -2.9686270e-02, -8.7184804e-03, -1.4336245e-02],\n       [ 2.6732562e-02, -3.2145746e-02, -3.5472650e-02, ...,\n        -1.9729570e-02,  1.7658006e-02,  2.1268060e-02],\n       [ 1.0084289e-02,  2.4283404e-02, -5.6376085e-03, ...,\n         2.8706591e-03,  3.0506453e-02, -2.7896937e-03]], dtype=float32)"
          },
          "metadata": {}
        }
      ]
    },
    {
      "cell_type": "code",
      "source": [
        "vecs_dev = [norm_vector(sentence, feat) for sentence in df_dev1.ok]\n",
        "vecs_dev = np.array(vecs_dev)\n",
        "vecs_dev"
      ],
      "metadata": {
        "execution": {
          "iopub.status.busy": "2023-10-26T01:13:37.547002Z",
          "iopub.execute_input": "2023-10-26T01:13:37.547511Z",
          "iopub.status.idle": "2023-10-26T01:13:38.170569Z",
          "shell.execute_reply.started": "2023-10-26T01:13:37.547461Z",
          "shell.execute_reply": "2023-10-26T01:13:38.169558Z"
        },
        "trusted": true,
        "id": "xFyna36euNNR",
        "outputId": "26bc63c8-5ffb-4be7-ff2d-ab6887ef678a"
      },
      "execution_count": null,
      "outputs": [
        {
          "execution_count": 53,
          "output_type": "execute_result",
          "data": {
            "text/plain": "array([[ 0.02841851,  0.00067929, -0.04173805, ..., -0.04154312,\n         0.00134731, -0.0218883 ],\n       [-0.01198898, -0.02833401,  0.01888742, ..., -0.03112266,\n        -0.00941231, -0.01677913],\n       [ 0.00467574, -0.02278483, -0.03343655, ..., -0.0515876 ,\n         0.01947294, -0.01766241],\n       ...,\n       [ 0.0391865 ,  0.01585085,  0.00012952, ..., -0.07477746,\n        -0.02469535, -0.03000988],\n       [ 0.04795717, -0.00293585,  0.00259417, ..., -0.02006187,\n         0.01258126,  0.00648162],\n       [-0.01300191, -0.01335822, -0.039092  , ...,  0.01249252,\n         0.0257376 , -0.03880717]], dtype=float32)"
          },
          "metadata": {}
        }
      ]
    },
    {
      "cell_type": "code",
      "source": [
        "vecs_test = [norm_vector(sentence, feat) for sentence in df_test.ok]\n",
        "vecs_test = np.array(vecs_test)\n",
        "vecs_test"
      ],
      "metadata": {
        "execution": {
          "iopub.status.busy": "2023-10-26T01:13:50.294911Z",
          "iopub.execute_input": "2023-10-26T01:13:50.295401Z",
          "iopub.status.idle": "2023-10-26T01:13:52.302062Z",
          "shell.execute_reply.started": "2023-10-26T01:13:50.295362Z",
          "shell.execute_reply": "2023-10-26T01:13:52.300465Z"
        },
        "trusted": true,
        "id": "okKlPq4FuNNS",
        "outputId": "a5064ab4-fc2d-42d8-efd0-688d9aba9fcd"
      },
      "execution_count": null,
      "outputs": [
        {
          "execution_count": 54,
          "output_type": "execute_result",
          "data": {
            "text/plain": "array([[ 0.02036053,  0.0416871 , -0.03889521, ..., -0.00613656,\n        -0.03478594,  0.03410538],\n       [ 0.05254064,  0.0084663 , -0.06094459, ..., -0.02086362,\n         0.00846146, -0.00919613],\n       [-0.03986843, -0.04553909,  0.06200192, ...,  0.0010208 ,\n         0.08350173, -0.00852834],\n       ...,\n       [ 0.00242339, -0.01687736,  0.01765568, ...,  0.02207897,\n         0.03728187, -0.01602666],\n       [ 0.02332435, -0.0407596 , -0.03102377, ...,  0.00578075,\n         0.07404105, -0.06994012],\n       [ 0.0073469 , -0.00954356, -0.01056082, ...,  0.03843581,\n         0.06405949,  0.02256356]], dtype=float32)"
          },
          "metadata": {}
        }
      ]
    },
    {
      "cell_type": "code",
      "source": [
        "vecs_dev.shape"
      ],
      "metadata": {
        "execution": {
          "iopub.status.busy": "2023-10-26T01:15:30.102696Z",
          "iopub.execute_input": "2023-10-26T01:15:30.103685Z",
          "iopub.status.idle": "2023-10-26T01:15:30.112115Z",
          "shell.execute_reply.started": "2023-10-26T01:15:30.103634Z",
          "shell.execute_reply": "2023-10-26T01:15:30.110343Z"
        },
        "trusted": true,
        "id": "gYJmQzpkuNNS",
        "outputId": "f364d98d-f3cd-4e7d-8ebb-48354f620e1a"
      },
      "execution_count": null,
      "outputs": [
        {
          "execution_count": 55,
          "output_type": "execute_result",
          "data": {
            "text/plain": "(750, 100)"
          },
          "metadata": {}
        }
      ]
    },
    {
      "cell_type": "markdown",
      "source": [
        "**CLASSIFICATION PHASE**"
      ],
      "metadata": {
        "id": "bAoV1iPG0HNj"
      }
    },
    {
      "cell_type": "code",
      "source": [
        "\n",
        "from sklearn.metrics import accuracy_score\n",
        "from sklearn.svm import SVC\n"
      ],
      "metadata": {
        "execution": {
          "iopub.status.busy": "2023-10-26T01:15:37.782403Z",
          "iopub.execute_input": "2023-10-26T01:15:37.782871Z",
          "iopub.status.idle": "2023-10-26T01:15:37.788440Z",
          "shell.execute_reply.started": "2023-10-26T01:15:37.782837Z",
          "shell.execute_reply": "2023-10-26T01:15:37.787045Z"
        },
        "trusted": true,
        "id": "BxyyAbaNuNNS"
      },
      "execution_count": null,
      "outputs": []
    },
    {
      "cell_type": "code",
      "source": [
        "# Train SVM and validation (Predict data-dev)\n",
        "\n",
        "svc_HS = SVC()\n",
        "svc_HS = svc_HS.fit(vecs_train, shuffled_train.label)\n",
        "result_svc_noscaling = svc_HS.predict(vecs_dev)\n",
        "print(accuracy_score(df_dev1.label, result_svc_noscaling)*100)\n",
        "\n",
        "# jump to cell code evaluation scoring"
      ],
      "metadata": {
        "execution": {
          "iopub.status.busy": "2023-10-26T01:15:56.862285Z",
          "iopub.execute_input": "2023-10-26T01:15:56.862742Z",
          "iopub.status.idle": "2023-10-26T01:16:01.137671Z",
          "shell.execute_reply.started": "2023-10-26T01:15:56.862709Z",
          "shell.execute_reply": "2023-10-26T01:16:01.136434Z"
        },
        "trusted": true,
        "id": "Ts_drZ2QuNNS",
        "outputId": "26b8a84e-a022-46ce-947c-7afc50d19338"
      },
      "execution_count": null,
      "outputs": [
        {
          "name": "stdout",
          "text": "78.53333333333333\n",
          "output_type": "stream"
        }
      ]
    },
    {
      "cell_type": "code",
      "source": [
        "# Evaluation\n",
        "\n",
        "from sklearn.metrics import accuracy_score, recall_score, precision_score, confusion_matrix, classification_report\n",
        "print(classification_report(df_dev1.label, result_svc_noscaling))\n",
        "\n",
        "#Scoring Report"
      ],
      "metadata": {
        "execution": {
          "iopub.status.busy": "2023-10-26T01:18:18.309972Z",
          "iopub.execute_input": "2023-10-26T01:18:18.310451Z",
          "iopub.status.idle": "2023-10-26T01:18:18.351365Z",
          "shell.execute_reply.started": "2023-10-26T01:18:18.310413Z",
          "shell.execute_reply": "2023-10-26T01:18:18.350164Z"
        },
        "trusted": true,
        "id": "uhbUxYt8uNNS",
        "outputId": "1496c003-1706-4bd5-d7c5-294472455462"
      },
      "execution_count": null,
      "outputs": [
        {
          "name": "stdout",
          "text": "              precision    recall  f1-score   support\n\n         HOF       0.74      0.76      0.75       319\n         NOT       0.82      0.80      0.81       431\n\n    accuracy                           0.79       750\n   macro avg       0.78      0.78      0.78       750\nweighted avg       0.79      0.79      0.79       750\n\n",
          "output_type": "stream"
        }
      ]
    },
    {
      "cell_type": "code",
      "source": [
        "# Use minmax scaler for sentence vector\n",
        "\n",
        "from sklearn.preprocessing import MinMaxScaler\n",
        "scaler = MinMaxScaler()\n",
        "scaler.fit(vecs_train)\n",
        "\n",
        "X_train_scaled = scaler.transform(vecs_train)\n",
        "X_test_scaled = scaler.transform(vecs_dev)"
      ],
      "metadata": {
        "execution": {
          "iopub.status.busy": "2023-10-26T01:18:31.774563Z",
          "iopub.execute_input": "2023-10-26T01:18:31.774922Z",
          "iopub.status.idle": "2023-10-26T01:18:31.805924Z",
          "shell.execute_reply.started": "2023-10-26T01:18:31.774895Z",
          "shell.execute_reply": "2023-10-26T01:18:31.804556Z"
        },
        "trusted": true,
        "id": "kRaw8IyquNNT"
      },
      "execution_count": null,
      "outputs": []
    },
    {
      "cell_type": "code",
      "source": [
        "# Train SVM and validation (Predict data-dev)\n",
        "\n",
        "svc_HS = svc_HS.fit(X_train_scaled, shuffled_train.label)\n",
        "result_svc_minmax = svc_HS.predict(X_test_scaled)\n",
        "print(accuracy_score(df_dev1.label, result_svc_minmax)*100)\n",
        "\n",
        "# Accuracy"
      ],
      "metadata": {
        "execution": {
          "iopub.status.busy": "2023-10-26T01:26:52.362787Z",
          "iopub.execute_input": "2023-10-26T01:26:52.363177Z",
          "iopub.status.idle": "2023-10-26T01:26:52.373826Z",
          "shell.execute_reply.started": "2023-10-26T01:26:52.363148Z",
          "shell.execute_reply": "2023-10-26T01:26:52.372146Z"
        },
        "trusted": true,
        "id": "mPlO9DMcuNNT",
        "outputId": "88b7ef21-8ffb-43ff-b3f6-b559f31f8d52"
      },
      "execution_count": null,
      "outputs": [
        {
          "name": "stdout",
          "text": "77.60000000000001\n",
          "output_type": "stream"
        }
      ]
    },
    {
      "cell_type": "code",
      "source": [
        "# Evaluation\n",
        "\n",
        "print(classification_report(df_dev1.label, result_svc_minmax))\n",
        "\n",
        "#Scoring Report"
      ],
      "metadata": {
        "execution": {
          "iopub.status.busy": "2023-10-26T01:27:05.633580Z",
          "iopub.execute_input": "2023-10-26T01:27:05.634018Z",
          "iopub.status.idle": "2023-10-26T01:27:05.673204Z",
          "shell.execute_reply.started": "2023-10-26T01:27:05.633986Z",
          "shell.execute_reply": "2023-10-26T01:27:05.671752Z"
        },
        "trusted": true,
        "id": "hQIJTgOeuNNT",
        "outputId": "5a622cf0-bfe1-46c1-accd-430bd0c0c26b"
      },
      "execution_count": null,
      "outputs": [
        {
          "name": "stdout",
          "text": "              precision    recall  f1-score   support\n\n         HOF       0.73      0.74      0.74       319\n         NOT       0.81      0.80      0.80       431\n\n    accuracy                           0.78       750\n   macro avg       0.77      0.77      0.77       750\nweighted avg       0.78      0.78      0.78       750\n\n",
          "output_type": "stream"
        }
      ]
    },
    {
      "cell_type": "code",
      "source": [
        "# Use robust scaler for sentence vector\n",
        "\n",
        "from sklearn.preprocessing import RobustScaler\n",
        "scaler = RobustScaler()\n",
        "scaler.fit(vecs_train)\n",
        "\n",
        "X_train_scaled = scaler.transform(vecs_train)\n",
        "X_test_scaled = scaler.transform(vecs_dev)"
      ],
      "metadata": {
        "execution": {
          "iopub.status.busy": "2023-10-26T01:27:10.789716Z",
          "iopub.execute_input": "2023-10-26T01:27:10.790195Z",
          "iopub.status.idle": "2023-10-26T01:27:10.865203Z",
          "shell.execute_reply.started": "2023-10-26T01:27:10.790160Z",
          "shell.execute_reply": "2023-10-26T01:27:10.863351Z"
        },
        "trusted": true,
        "id": "_D78PtymuNNT"
      },
      "execution_count": null,
      "outputs": []
    },
    {
      "cell_type": "code",
      "source": [
        "# Train SVM and validation (Predict data-dev)\n",
        "\n",
        "svc_HS = svc_HS.fit(X_train_scaled, shuffled_train.label)\n",
        "results_svc_robust = svc_HS.predict(X_test_scaled)\n",
        "print(accuracy_score(df_dev1.label, results_svc_robust)*100)\n",
        "\n",
        "# Accuracy"
      ],
      "metadata": {
        "execution": {
          "iopub.status.busy": "2023-10-26T01:27:17.862895Z",
          "iopub.execute_input": "2023-10-26T01:27:17.863905Z",
          "iopub.status.idle": "2023-10-26T01:27:22.397942Z",
          "shell.execute_reply.started": "2023-10-26T01:27:17.863858Z",
          "shell.execute_reply": "2023-10-26T01:27:22.396837Z"
        },
        "trusted": true,
        "id": "mkMmSHJQuNNU",
        "outputId": "0c5a9305-c32d-47e1-b8bd-e8705d181bb2"
      },
      "execution_count": null,
      "outputs": [
        {
          "name": "stdout",
          "text": "77.60000000000001\n",
          "output_type": "stream"
        }
      ]
    },
    {
      "cell_type": "code",
      "source": [
        "# Evaluation\n",
        "\n",
        "print(classification_report(df_dev1.label, results_svc_robust))"
      ],
      "metadata": {
        "execution": {
          "iopub.status.busy": "2023-10-26T01:27:25.731138Z",
          "iopub.execute_input": "2023-10-26T01:27:25.731629Z",
          "iopub.status.idle": "2023-10-26T01:27:25.774340Z",
          "shell.execute_reply.started": "2023-10-26T01:27:25.731594Z",
          "shell.execute_reply": "2023-10-26T01:27:25.773101Z"
        },
        "trusted": true,
        "id": "XpdeaRB6uNNU",
        "outputId": "89e073e0-0054-4333-a79a-fdd352327397"
      },
      "execution_count": null,
      "outputs": [
        {
          "name": "stdout",
          "text": "              precision    recall  f1-score   support\n\n         HOF       0.73      0.74      0.74       319\n         NOT       0.81      0.80      0.80       431\n\n    accuracy                           0.78       750\n   macro avg       0.77      0.77      0.77       750\nweighted avg       0.78      0.78      0.78       750\n\n",
          "output_type": "stream"
        }
      ]
    },
    {
      "cell_type": "code",
      "source": [
        "# Parameter Tuning"
      ],
      "metadata": {
        "id": "dBO9IyKPuNNU"
      },
      "execution_count": null,
      "outputs": []
    },
    {
      "cell_type": "code",
      "source": [
        "# grid search on parameters using default 5-fold cross validation\n",
        "\n",
        "#default SVC param\n",
        "# C=1.0, kernel='rbf', degree=3, gamma='scale', coef0=0.0, shrinking=True,\n",
        "#probability=False, tol=0.001, cache_size=200, class_weight=None, verbose=False,\n",
        "#max_iter=-1, decision_function_shape='ovr', break_ties=False, random_state=None)\n",
        "\n",
        "from sklearn.model_selection import GridSearchCV\n",
        "parameters = {\n",
        "     #'kernel': ['sigmoid','rbf', 'linear'],\n",
        "     'C': [ 1, 10],\n",
        "    }\n",
        "\n",
        "clf = GridSearchCV(SVC(random_state=42), param_grid=parameters, verbose=1, scoring='accuracy')\n",
        "\n",
        "clf.fit(X_train_scaled, shuffled_train.label)"
      ],
      "metadata": {
        "execution": {
          "iopub.status.busy": "2023-10-26T01:28:26.070924Z",
          "iopub.execute_input": "2023-10-26T01:28:26.071317Z",
          "iopub.status.idle": "2023-10-26T01:29:11.225355Z",
          "shell.execute_reply.started": "2023-10-26T01:28:26.071286Z",
          "shell.execute_reply": "2023-10-26T01:29:11.224230Z"
        },
        "trusted": true,
        "id": "m2lUGssvuNNU",
        "outputId": "09639953-d4be-4084-9b74-7721dc2070b2"
      },
      "execution_count": null,
      "outputs": [
        {
          "name": "stdout",
          "text": "Fitting 5 folds for each of 2 candidates, totalling 10 fits\n",
          "output_type": "stream"
        },
        {
          "execution_count": 77,
          "output_type": "execute_result",
          "data": {
            "text/plain": "GridSearchCV(estimator=SVC(random_state=42), param_grid={'C': [1, 10]},\n             scoring='accuracy', verbose=1)",
            "text/html": "<style>#sk-container-id-1 {color: black;background-color: white;}#sk-container-id-1 pre{padding: 0;}#sk-container-id-1 div.sk-toggleable {background-color: white;}#sk-container-id-1 label.sk-toggleable__label {cursor: pointer;display: block;width: 100%;margin-bottom: 0;padding: 0.3em;box-sizing: border-box;text-align: center;}#sk-container-id-1 label.sk-toggleable__label-arrow:before {content: \"▸\";float: left;margin-right: 0.25em;color: #696969;}#sk-container-id-1 label.sk-toggleable__label-arrow:hover:before {color: black;}#sk-container-id-1 div.sk-estimator:hover label.sk-toggleable__label-arrow:before {color: black;}#sk-container-id-1 div.sk-toggleable__content {max-height: 0;max-width: 0;overflow: hidden;text-align: left;background-color: #f0f8ff;}#sk-container-id-1 div.sk-toggleable__content pre {margin: 0.2em;color: black;border-radius: 0.25em;background-color: #f0f8ff;}#sk-container-id-1 input.sk-toggleable__control:checked~div.sk-toggleable__content {max-height: 200px;max-width: 100%;overflow: auto;}#sk-container-id-1 input.sk-toggleable__control:checked~label.sk-toggleable__label-arrow:before {content: \"▾\";}#sk-container-id-1 div.sk-estimator input.sk-toggleable__control:checked~label.sk-toggleable__label {background-color: #d4ebff;}#sk-container-id-1 div.sk-label input.sk-toggleable__control:checked~label.sk-toggleable__label {background-color: #d4ebff;}#sk-container-id-1 input.sk-hidden--visually {border: 0;clip: rect(1px 1px 1px 1px);clip: rect(1px, 1px, 1px, 1px);height: 1px;margin: -1px;overflow: hidden;padding: 0;position: absolute;width: 1px;}#sk-container-id-1 div.sk-estimator {font-family: monospace;background-color: #f0f8ff;border: 1px dotted black;border-radius: 0.25em;box-sizing: border-box;margin-bottom: 0.5em;}#sk-container-id-1 div.sk-estimator:hover {background-color: #d4ebff;}#sk-container-id-1 div.sk-parallel-item::after {content: \"\";width: 100%;border-bottom: 1px solid gray;flex-grow: 1;}#sk-container-id-1 div.sk-label:hover label.sk-toggleable__label {background-color: #d4ebff;}#sk-container-id-1 div.sk-serial::before {content: \"\";position: absolute;border-left: 1px solid gray;box-sizing: border-box;top: 0;bottom: 0;left: 50%;z-index: 0;}#sk-container-id-1 div.sk-serial {display: flex;flex-direction: column;align-items: center;background-color: white;padding-right: 0.2em;padding-left: 0.2em;position: relative;}#sk-container-id-1 div.sk-item {position: relative;z-index: 1;}#sk-container-id-1 div.sk-parallel {display: flex;align-items: stretch;justify-content: center;background-color: white;position: relative;}#sk-container-id-1 div.sk-item::before, #sk-container-id-1 div.sk-parallel-item::before {content: \"\";position: absolute;border-left: 1px solid gray;box-sizing: border-box;top: 0;bottom: 0;left: 50%;z-index: -1;}#sk-container-id-1 div.sk-parallel-item {display: flex;flex-direction: column;z-index: 1;position: relative;background-color: white;}#sk-container-id-1 div.sk-parallel-item:first-child::after {align-self: flex-end;width: 50%;}#sk-container-id-1 div.sk-parallel-item:last-child::after {align-self: flex-start;width: 50%;}#sk-container-id-1 div.sk-parallel-item:only-child::after {width: 0;}#sk-container-id-1 div.sk-dashed-wrapped {border: 1px dashed gray;margin: 0 0.4em 0.5em 0.4em;box-sizing: border-box;padding-bottom: 0.4em;background-color: white;}#sk-container-id-1 div.sk-label label {font-family: monospace;font-weight: bold;display: inline-block;line-height: 1.2em;}#sk-container-id-1 div.sk-label-container {text-align: center;}#sk-container-id-1 div.sk-container {/* jupyter's `normalize.less` sets `[hidden] { display: none; }` but bootstrap.min.css set `[hidden] { display: none !important; }` so we also need the `!important` here to be able to override the default hidden behavior on the sphinx rendered scikit-learn.org. See: https://github.com/scikit-learn/scikit-learn/issues/21755 */display: inline-block !important;position: relative;}#sk-container-id-1 div.sk-text-repr-fallback {display: none;}</style><div id=\"sk-container-id-1\" class=\"sk-top-container\"><div class=\"sk-text-repr-fallback\"><pre>GridSearchCV(estimator=SVC(random_state=42), param_grid={&#x27;C&#x27;: [1, 10]},\n             scoring=&#x27;accuracy&#x27;, verbose=1)</pre><b>In a Jupyter environment, please rerun this cell to show the HTML representation or trust the notebook. <br />On GitHub, the HTML representation is unable to render, please try loading this page with nbviewer.org.</b></div><div class=\"sk-container\" hidden><div class=\"sk-item sk-dashed-wrapped\"><div class=\"sk-label-container\"><div class=\"sk-label sk-toggleable\"><input class=\"sk-toggleable__control sk-hidden--visually\" id=\"sk-estimator-id-1\" type=\"checkbox\" ><label for=\"sk-estimator-id-1\" class=\"sk-toggleable__label sk-toggleable__label-arrow\">GridSearchCV</label><div class=\"sk-toggleable__content\"><pre>GridSearchCV(estimator=SVC(random_state=42), param_grid={&#x27;C&#x27;: [1, 10]},\n             scoring=&#x27;accuracy&#x27;, verbose=1)</pre></div></div></div><div class=\"sk-parallel\"><div class=\"sk-parallel-item\"><div class=\"sk-item\"><div class=\"sk-label-container\"><div class=\"sk-label sk-toggleable\"><input class=\"sk-toggleable__control sk-hidden--visually\" id=\"sk-estimator-id-2\" type=\"checkbox\" ><label for=\"sk-estimator-id-2\" class=\"sk-toggleable__label sk-toggleable__label-arrow\">estimator: SVC</label><div class=\"sk-toggleable__content\"><pre>SVC(random_state=42)</pre></div></div></div><div class=\"sk-serial\"><div class=\"sk-item\"><div class=\"sk-estimator sk-toggleable\"><input class=\"sk-toggleable__control sk-hidden--visually\" id=\"sk-estimator-id-3\" type=\"checkbox\" ><label for=\"sk-estimator-id-3\" class=\"sk-toggleable__label sk-toggleable__label-arrow\">SVC</label><div class=\"sk-toggleable__content\"><pre>SVC(random_state=42)</pre></div></div></div></div></div></div></div></div></div></div>"
          },
          "metadata": {}
        }
      ]
    },
    {
      "cell_type": "code",
      "source": [
        "\n"
      ],
      "metadata": {
        "execution": {
          "iopub.status.busy": "2023-10-26T01:43:21.726285Z",
          "iopub.execute_input": "2023-10-26T01:43:21.727140Z",
          "iopub.status.idle": "2023-10-26T01:43:21.733822Z",
          "shell.execute_reply.started": "2023-10-26T01:43:21.727093Z",
          "shell.execute_reply": "2023-10-26T01:43:21.732092Z"
        },
        "trusted": true,
        "id": "WXIvcMS8uNNV"
      },
      "execution_count": null,
      "outputs": []
    },
    {
      "cell_type": "code",
      "source": [
        "clf.best_params_"
      ],
      "metadata": {
        "execution": {
          "iopub.status.busy": "2023-10-26T01:30:29.310374Z",
          "iopub.execute_input": "2023-10-26T01:30:29.310774Z",
          "iopub.status.idle": "2023-10-26T01:30:29.317984Z",
          "shell.execute_reply.started": "2023-10-26T01:30:29.310745Z",
          "shell.execute_reply": "2023-10-26T01:30:29.316745Z"
        },
        "trusted": true,
        "id": "5Zk5X8PouNNV",
        "outputId": "2301c31c-3a30-4c17-ea20-614723230055"
      },
      "execution_count": null,
      "outputs": [
        {
          "execution_count": 78,
          "output_type": "execute_result",
          "data": {
            "text/plain": "{'C': 10}"
          },
          "metadata": {}
        }
      ]
    },
    {
      "cell_type": "code",
      "source": [
        "#  Enable the line with the optimal results for assigning which vector to be used as SVC input\n",
        "\n",
        "optimal_vectors_train = vecs_train         # no scaling\n",
        "#optimal_vectors = X_train_scaled          # with scaling\n",
        "\n",
        "optimal_vectors_val = vecs_dev             # no scaling\n",
        "#optimal_vectors_val = X_test_scaled       # with scaling\n",
        "\n",
        "\n",
        "best_model = SVC (kernel='rbf', C=10)\n",
        "best_model.fit(optimal_vectors_train, shuffled_train.label)\n",
        "print('acc for data-train\\n', best_model.score(optimal_vectors_train, shuffled_train.label))\n",
        "\n",
        "final_result = best_model.predict(optimal_vectors_val)\n",
        "print('\\nevaluation reports for data-dev (validation)\\n')\n",
        "print(classification_report(df_dev1.label, final_result))"
      ],
      "metadata": {
        "execution": {
          "iopub.status.busy": "2023-10-26T01:42:10.574045Z",
          "iopub.execute_input": "2023-10-26T01:42:10.575062Z",
          "iopub.status.idle": "2023-10-26T01:42:19.518144Z",
          "shell.execute_reply.started": "2023-10-26T01:42:10.575015Z",
          "shell.execute_reply": "2023-10-26T01:42:19.516961Z"
        },
        "trusted": true,
        "id": "dM-g274SuNNV",
        "outputId": "b0e4d4ec-12a7-47e1-e40c-131d85a0a6ef"
      },
      "execution_count": null,
      "outputs": [
        {
          "name": "stdout",
          "text": "acc for data-train\n 0.9202414590290264\n\nevaluation reports for data-dev (validation)\n\n              precision    recall  f1-score   support\n\n         HOF       0.70      0.75      0.72       319\n         NOT       0.80      0.76      0.78       431\n\n    accuracy                           0.75       750\n   macro avg       0.75      0.75      0.75       750\nweighted avg       0.76      0.75      0.76       750\n\n",
          "output_type": "stream"
        }
      ]
    },
    {
      "cell_type": "code",
      "source": [
        "# SUBMISSION"
      ],
      "metadata": {
        "id": "o3RhvV4guNNV"
      },
      "execution_count": null,
      "outputs": []
    },
    {
      "cell_type": "code",
      "source": [
        "# select vectors depend on which scaling is the best\n",
        "\n",
        "X_test_real = vecs_test  #no scaling\n",
        "#X_test_real = scaler.transform(vecs_test)\n",
        "\n",
        "result = svc_HS.predict(X_test_real)\n",
        "result"
      ],
      "metadata": {
        "execution": {
          "iopub.status.busy": "2023-10-26T01:44:33.713393Z",
          "iopub.execute_input": "2023-10-26T01:44:33.713831Z",
          "iopub.status.idle": "2023-10-26T01:44:34.934153Z",
          "shell.execute_reply.started": "2023-10-26T01:44:33.713799Z",
          "shell.execute_reply": "2023-10-26T01:44:34.933053Z"
        },
        "trusted": true,
        "id": "M05buAaQuNNW",
        "outputId": "3ade61ed-e9e8-44d4-b891-fb9a52aaaa6a"
      },
      "execution_count": null,
      "outputs": [
        {
          "execution_count": 86,
          "output_type": "execute_result",
          "data": {
            "text/plain": "array(['HOF', 'HOF', 'HOF', ..., 'HOF', 'HOF', 'HOF'], dtype=object)"
          },
          "metadata": {}
        }
      ]
    },
    {
      "cell_type": "code",
      "source": [],
      "metadata": {
        "id": "lA7zAGJBuNNc"
      },
      "execution_count": null,
      "outputs": []
    }
  ]
}